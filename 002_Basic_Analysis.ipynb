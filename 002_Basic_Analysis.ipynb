{
 "cells": [
  {
   "cell_type": "code",
   "execution_count": 2,
   "id": "21bee0a3-79a7-43b2-9ac2-15cad5630e22",
   "metadata": {},
   "outputs": [],
   "source": [
    "import pandas as pd"
   ]
  },
  {
   "cell_type": "markdown",
   "id": "aa9aa751-fd2f-4850-9b55-f9ccb446aa5d",
   "metadata": {},
   "source": [
    "# Analisis básico\n",
    "\n",
    "En esta notebook se hace un análisis muy básico de la data\n",
    "\n",
    "No tiene que hacer nada más que entenderla"
   ]
  },
  {
   "cell_type": "code",
   "execution_count": 3,
   "id": "353a2d75-f0f4-4563-9842-c68d77118161",
   "metadata": {},
   "outputs": [],
   "source": [
    "df = pd.read_csv('data/acetylcholinesterase_02_bioactivity_data_preprocessed.csv')"
   ]
  },
  {
   "cell_type": "code",
   "execution_count": 4,
   "id": "d1554fa5-d9ee-456c-be20-80571e319fc6",
   "metadata": {},
   "outputs": [
    {
     "data": {
      "text/html": [
       "<div>\n",
       "<style scoped>\n",
       "    .dataframe tbody tr th:only-of-type {\n",
       "        vertical-align: middle;\n",
       "    }\n",
       "\n",
       "    .dataframe tbody tr th {\n",
       "        vertical-align: top;\n",
       "    }\n",
       "\n",
       "    .dataframe thead th {\n",
       "        text-align: right;\n",
       "    }\n",
       "</style>\n",
       "<table border=\"1\" class=\"dataframe\">\n",
       "  <thead>\n",
       "    <tr style=\"text-align: right;\">\n",
       "      <th></th>\n",
       "      <th>molecule_chembl_id</th>\n",
       "      <th>canonical_smiles</th>\n",
       "      <th>standard_value</th>\n",
       "      <th>standard_value_norm</th>\n",
       "      <th>pIC50</th>\n",
       "    </tr>\n",
       "  </thead>\n",
       "  <tbody>\n",
       "    <tr>\n",
       "      <th>0</th>\n",
       "      <td>CHEMBL133897</td>\n",
       "      <td>CCOc1nn(-c2cccc(OCc3ccccc3)c2)c(=O)o1</td>\n",
       "      <td>750.0</td>\n",
       "      <td>750.0</td>\n",
       "      <td>6.124939</td>\n",
       "    </tr>\n",
       "    <tr>\n",
       "      <th>1</th>\n",
       "      <td>CHEMBL336398</td>\n",
       "      <td>O=C(N1CCCCC1)n1nc(-c2ccc(Cl)cc2)nc1SCC1CC1</td>\n",
       "      <td>100.0</td>\n",
       "      <td>100.0</td>\n",
       "      <td>7.000000</td>\n",
       "    </tr>\n",
       "    <tr>\n",
       "      <th>2</th>\n",
       "      <td>CHEMBL131588</td>\n",
       "      <td>CN(C(=O)n1nc(-c2ccc(Cl)cc2)nc1SCC(F)(F)F)c1ccccc1</td>\n",
       "      <td>50000.0</td>\n",
       "      <td>50000.0</td>\n",
       "      <td>4.301030</td>\n",
       "    </tr>\n",
       "    <tr>\n",
       "      <th>3</th>\n",
       "      <td>CHEMBL130628</td>\n",
       "      <td>O=C(N1CCCCC1)n1nc(-c2ccc(Cl)cc2)nc1SCC(F)(F)F</td>\n",
       "      <td>300.0</td>\n",
       "      <td>300.0</td>\n",
       "      <td>6.522879</td>\n",
       "    </tr>\n",
       "    <tr>\n",
       "      <th>4</th>\n",
       "      <td>CHEMBL130478</td>\n",
       "      <td>CSc1nc(-c2ccc(OC(F)(F)F)cc2)nn1C(=O)N(C)C</td>\n",
       "      <td>800.0</td>\n",
       "      <td>800.0</td>\n",
       "      <td>6.096910</td>\n",
       "    </tr>\n",
       "    <tr>\n",
       "      <th>...</th>\n",
       "      <td>...</td>\n",
       "      <td>...</td>\n",
       "      <td>...</td>\n",
       "      <td>...</td>\n",
       "      <td>...</td>\n",
       "    </tr>\n",
       "    <tr>\n",
       "      <th>5098</th>\n",
       "      <td>CHEMBL4645476</td>\n",
       "      <td>CN(C)C(=O)Oc1ccc(C(O)CNC2CCCCC2)cc1.Cl</td>\n",
       "      <td>266000.0</td>\n",
       "      <td>266000.0</td>\n",
       "      <td>3.575118</td>\n",
       "    </tr>\n",
       "    <tr>\n",
       "      <th>5099</th>\n",
       "      <td>CHEMBL4645659</td>\n",
       "      <td>COc1ccc(CCC(=O)Nc2nc(-c3cc4ccccc4oc3=O)cs2)cc1OC</td>\n",
       "      <td>740.0</td>\n",
       "      <td>740.0</td>\n",
       "      <td>6.130768</td>\n",
       "    </tr>\n",
       "    <tr>\n",
       "      <th>5100</th>\n",
       "      <td>CHEMBL513063</td>\n",
       "      <td>COc1ccc(-c2csc(NC(=O)CCN3CCCC3)n2)cc1</td>\n",
       "      <td>510.0</td>\n",
       "      <td>510.0</td>\n",
       "      <td>6.292430</td>\n",
       "    </tr>\n",
       "    <tr>\n",
       "      <th>5101</th>\n",
       "      <td>CHEMBL4640608</td>\n",
       "      <td>COc1cc(C2C3=C(CCCC3=O)NC3=C2C(=O)CCC3)ccc1OCc1...</td>\n",
       "      <td>125000.0</td>\n",
       "      <td>125000.0</td>\n",
       "      <td>3.903090</td>\n",
       "    </tr>\n",
       "    <tr>\n",
       "      <th>5102</th>\n",
       "      <td>CHEMBL4173961</td>\n",
       "      <td>O=C1CCCC2=C1C(c1ccc(OCc3cccc(F)c3)c(Br)c1)C1=C...</td>\n",
       "      <td>100000.0</td>\n",
       "      <td>100000.0</td>\n",
       "      <td>4.000000</td>\n",
       "    </tr>\n",
       "  </tbody>\n",
       "</table>\n",
       "<p>5103 rows × 5 columns</p>\n",
       "</div>"
      ],
      "text/plain": [
       "     molecule_chembl_id                                   canonical_smiles  \\\n",
       "0          CHEMBL133897              CCOc1nn(-c2cccc(OCc3ccccc3)c2)c(=O)o1   \n",
       "1          CHEMBL336398         O=C(N1CCCCC1)n1nc(-c2ccc(Cl)cc2)nc1SCC1CC1   \n",
       "2          CHEMBL131588  CN(C(=O)n1nc(-c2ccc(Cl)cc2)nc1SCC(F)(F)F)c1ccccc1   \n",
       "3          CHEMBL130628      O=C(N1CCCCC1)n1nc(-c2ccc(Cl)cc2)nc1SCC(F)(F)F   \n",
       "4          CHEMBL130478          CSc1nc(-c2ccc(OC(F)(F)F)cc2)nn1C(=O)N(C)C   \n",
       "...                 ...                                                ...   \n",
       "5098      CHEMBL4645476             CN(C)C(=O)Oc1ccc(C(O)CNC2CCCCC2)cc1.Cl   \n",
       "5099      CHEMBL4645659   COc1ccc(CCC(=O)Nc2nc(-c3cc4ccccc4oc3=O)cs2)cc1OC   \n",
       "5100       CHEMBL513063              COc1ccc(-c2csc(NC(=O)CCN3CCCC3)n2)cc1   \n",
       "5101      CHEMBL4640608  COc1cc(C2C3=C(CCCC3=O)NC3=C2C(=O)CCC3)ccc1OCc1...   \n",
       "5102      CHEMBL4173961  O=C1CCCC2=C1C(c1ccc(OCc3cccc(F)c3)c(Br)c1)C1=C...   \n",
       "\n",
       "      standard_value  standard_value_norm     pIC50  \n",
       "0              750.0                750.0  6.124939  \n",
       "1              100.0                100.0  7.000000  \n",
       "2            50000.0              50000.0  4.301030  \n",
       "3              300.0                300.0  6.522879  \n",
       "4              800.0                800.0  6.096910  \n",
       "...              ...                  ...       ...  \n",
       "5098        266000.0             266000.0  3.575118  \n",
       "5099           740.0                740.0  6.130768  \n",
       "5100           510.0                510.0  6.292430  \n",
       "5101        125000.0             125000.0  3.903090  \n",
       "5102        100000.0             100000.0  4.000000  \n",
       "\n",
       "[5103 rows x 5 columns]"
      ]
     },
     "execution_count": 4,
     "metadata": {},
     "output_type": "execute_result"
    }
   ],
   "source": [
    "df"
   ]
  },
  {
   "cell_type": "code",
   "execution_count": 5,
   "id": "e515bba8-44bd-4282-8ca7-22fb0f85512a",
   "metadata": {},
   "outputs": [
    {
     "data": {
      "text/plain": [
       "(5103,)"
      ]
     },
     "execution_count": 5,
     "metadata": {},
     "output_type": "execute_result"
    }
   ],
   "source": [
    "df['molecule_chembl_id'].unique().shape"
   ]
  },
  {
   "cell_type": "code",
   "execution_count": null,
   "id": "c94cd8cd-15c3-4a77-ae90-8c395a5c9484",
   "metadata": {},
   "outputs": [],
   "source": []
  },
  {
   "cell_type": "code",
   "execution_count": 9,
   "id": "13d99f40-3ff5-4dbe-82d7-7a79887b94ee",
   "metadata": {},
   "outputs": [
    {
     "data": {
      "text/plain": [
       "(5888436553555884.0, 5e-06)"
      ]
     },
     "execution_count": 9,
     "metadata": {},
     "output_type": "execute_result"
    }
   ],
   "source": [
    "# Rango dinámico del standar value\n",
    "df['standard_value'].max(), df['standard_value'].min()"
   ]
  },
  {
   "cell_type": "markdown",
   "id": "4b6307bc-a988-4567-be8b-6db9c00f02b0",
   "metadata": {},
   "source": [
    "# Histograma de longitudes de los smiles"
   ]
  },
  {
   "cell_type": "code",
   "execution_count": 10,
   "id": "dec11d6a-d013-4dfa-92d8-67fd946930d1",
   "metadata": {},
   "outputs": [],
   "source": [
    "df['canonical_len'] = df['canonical_smiles'].apply(lambda x: len(x))"
   ]
  },
  {
   "cell_type": "code",
   "execution_count": 11,
   "id": "d186855f-d637-4974-a556-3821f3d8b6ce",
   "metadata": {},
   "outputs": [
    {
     "data": {
      "text/plain": [
       "<AxesSubplot:>"
      ]
     },
     "execution_count": 11,
     "metadata": {},
     "output_type": "execute_result"
    },
    {
     "data": {
      "image/png": "[encoded data removed]",
      "text/plain": [
       "<Figure size 432x288 with 1 Axes>"
      ]
     },
     "metadata": {
      "needs_background": "light"
     },
     "output_type": "display_data"
    }
   ],
   "source": [
    "df['canonical_len'].hist(bins=100)"
   ]
  },
  {
   "cell_type": "code",
   "execution_count": 16,
   "id": "2848e41c-9885-4acc-9f3d-04b8da128b26",
   "metadata": {},
   "outputs": [
    {
     "data": {
      "text/plain": [
       "(207, 7)"
      ]
     },
     "execution_count": 16,
     "metadata": {},
     "output_type": "execute_result"
    }
   ],
   "source": [
    "# Max y min \n",
    "max_sequence_len = df['canonical_len'].max()\n",
    "max_sequence_len, df['canonical_len'].min()"
   ]
  },
  {
   "cell_type": "code",
   "execution_count": 13,
   "id": "f1c7c02a-e270-4f5c-9d94-aacbd69cf83f",
   "metadata": {},
   "outputs": [],
   "source": [
    "max_len_idx = df['canonical_len'].argmax()\n",
    "min_len_idx = df['canonical_len'].argmin()"
   ]
  },
  {
   "cell_type": "code",
   "execution_count": 17,
   "id": "9ee6dd0f-0747-45d7-8db1-4e54432c4194",
   "metadata": {},
   "outputs": [
    {
     "data": {
      "text/plain": [
       "'C[C@@]12CC[C@H]3[C@]4(C)CCC[C@@]5(C)C(=O)OCC[N+](C)(C)CCCCCCCCC[N+](C)(C)CCOC(=O)[C@]6(C)CCC[C@]7(C)[C@@H]6CC[C@@]68C[C@@H](OC(=O)CCCCCCCCC(=O)O[C@@H]1C[C@@]3(CC[C@@H]45)C2)[C@@](C)(CC[C@@H]76)C8.[Br-].[Br-]'"
      ]
     },
     "execution_count": 17,
     "metadata": {},
     "output_type": "execute_result"
    }
   ],
   "source": [
    "# Ejemplo de molécula más larga\n",
    "df.iloc[max_len_idx].canonical_smiles"
   ]
  },
  {
   "cell_type": "code",
   "execution_count": 18,
   "id": "caae7cd4-f577-4c69-a0a4-303a5128ad9f",
   "metadata": {},
   "outputs": [
    {
     "data": {
      "text/plain": [
       "'NC(=O)O'"
      ]
     },
     "execution_count": 18,
     "metadata": {},
     "output_type": "execute_result"
    }
   ],
   "source": [
    "# Ejemplo de molécula más corta\n",
    "df.iloc[min_len_idx].canonical_smiles"
   ]
  },
  {
   "cell_type": "markdown",
   "id": "f46ed6b3-3f45-40e3-8bf9-da06e4bc2e9c",
   "metadata": {},
   "source": [
    "# Histograma de caracteres"
   ]
  },
  {
   "cell_type": "code",
   "execution_count": 20,
   "id": "951529f1-3cda-40e9-9b1c-be315f2ae08e",
   "metadata": {},
   "outputs": [],
   "source": [
    "from collections import Counter"
   ]
  },
  {
   "cell_type": "code",
   "execution_count": 21,
   "id": "95aad541-2462-406d-b7c6-d0595bcecda7",
   "metadata": {},
   "outputs": [],
   "source": [
    "text = ''\n",
    "for cs in df['canonical_smiles']:\n",
    "    text = text + cs"
   ]
  },
  {
   "cell_type": "code",
   "execution_count": 22,
   "id": "f691c7b7-aa73-4371-9b57-cca97faeedfd",
   "metadata": {},
   "outputs": [],
   "source": [
    "vocab_hist = dict(Counter(text))"
   ]
  },
  {
   "cell_type": "code",
   "execution_count": 23,
   "id": "549c46bb-a16f-4449-a215-048bc64eb3a9",
   "metadata": {},
   "outputs": [
    {
     "data": {
      "text/plain": [
       "{'C': 56810,\n",
       " 'O': 12408,\n",
       " 'c': 64888,\n",
       " '1': 14962,\n",
       " 'n': 3981,\n",
       " '(': 21169,\n",
       " '-': 1846,\n",
       " '2': 11888,\n",
       " '3': 7243,\n",
       " ')': 21169,\n",
       " '=': 7771,\n",
       " 'o': 726,\n",
       " 'N': 9243,\n",
       " 'l': 1448,\n",
       " 'S': 536,\n",
       " 'F': 1025,\n",
       " '[': 5569,\n",
       " '@': 4292,\n",
       " 'H': 2317,\n",
       " ']': 5569,\n",
       " '/': 1558,\n",
       " '\\\\': 338,\n",
       " '+': 1175,\n",
       " '.': 1209,\n",
       " 'B': 566,\n",
       " 'r': 542,\n",
       " '4': 3094,\n",
       " '#': 334,\n",
       " 'I': 101,\n",
       " 's': 213,\n",
       " '5': 874,\n",
       " '6': 224,\n",
       " 'P': 34,\n",
       " 'a': 1,\n",
       " '7': 18,\n",
       " '8': 6,\n",
       " 'e': 35,\n",
       " 'i': 2}"
      ]
     },
     "execution_count": 23,
     "metadata": {},
     "output_type": "execute_result"
    }
   ],
   "source": [
    "vocab_hist"
   ]
  },
  {
   "cell_type": "code",
   "execution_count": null,
   "id": "3f9f2cc6-8687-4676-b1aa-437914379f12",
   "metadata": {},
   "outputs": [],
   "source": []
  }
 ],
 "metadata": {
  "kernelspec": {
   "display_name": "Python 3",
   "language": "python",
   "name": "python3"
  },
  "language_info": {
   "codemirror_mode": {
    "name": "ipython",
    "version": 3
   },
   "file_extension": ".py",
   "mimetype": "text/x-python",
   "name": "python",
   "nbconvert_exporter": "python",
   "pygments_lexer": "ipython3",
   "version": "3.7.3"
  }
 },
 "nbformat": 4,
 "nbformat_minor": 5
}
