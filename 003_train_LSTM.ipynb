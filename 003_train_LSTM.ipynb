{
  "cells": [
    {
      "cell_type": "code",
      "execution_count": 1,
      "id": "21bee0a3-79a7-43b2-9ac2-15cad5630e22",
      "metadata": {
        "id": "21bee0a3-79a7-43b2-9ac2-15cad5630e22"
      },
      "outputs": [],
      "source": [
        "import pandas as pd\n",
        "import numpy as np"
      ]
    },
    {
      "cell_type": "markdown",
      "id": "08544474-e883-4105-bcc3-9f3f9f014079",
      "metadata": {
        "id": "08544474-e883-4105-bcc3-9f3f9f014079"
      },
      "source": [
        "# Modelo Recurrentes con Embeddings a nivel de caracter"
      ]
    },
    {
      "cell_type": "code",
      "execution_count": 3,
      "id": "353a2d75-f0f4-4563-9842-c68d77118161",
      "metadata": {
        "id": "353a2d75-f0f4-4563-9842-c68d77118161"
      },
      "outputs": [],
      "source": [
        "df = pd.read_csv('acetylcholinesterase_02_bioactivity_data_preprocessed.csv')"
      ]
    },
    {
      "cell_type": "code",
      "execution_count": 4,
      "id": "d1554fa5-d9ee-456c-be20-80571e319fc6",
      "metadata": {
        "colab": {
          "base_uri": "https://localhost:8080/",
          "height": 206
        },
        "id": "d1554fa5-d9ee-456c-be20-80571e319fc6",
        "outputId": "90a772aa-ba04-4e0d-af6c-22a8492abd29"
      },
      "outputs": [
        {
          "output_type": "execute_result",
          "data": {
            "text/html": [
              "\n",
              "  <div id=\"df-c7fb9374-4ccc-44f5-a7da-7f4302406166\">\n",
              "    <div class=\"colab-df-container\">\n",
              "      <div>\n",
              "<style scoped>\n",
              "    .dataframe tbody tr th:only-of-type {\n",
              "        vertical-align: middle;\n",
              "    }\n",
              "\n",
              "    .dataframe tbody tr th {\n",
              "        vertical-align: top;\n",
              "    }\n",
              "\n",
              "    .dataframe thead th {\n",
              "        text-align: right;\n",
              "    }\n",
              "</style>\n",
              "<table border=\"1\" class=\"dataframe\">\n",
              "  <thead>\n",
              "    <tr style=\"text-align: right;\">\n",
              "      <th></th>\n",
              "      <th>molecule_chembl_id</th>\n",
              "      <th>canonical_smiles</th>\n",
              "      <th>standard_value</th>\n",
              "      <th>standard_value_norm</th>\n",
              "      <th>pIC50</th>\n",
              "    </tr>\n",
              "  </thead>\n",
              "  <tbody>\n",
              "    <tr>\n",
              "      <th>0</th>\n",
              "      <td>CHEMBL133897</td>\n",
              "      <td>CCOc1nn(-c2cccc(OCc3ccccc3)c2)c(=O)o1</td>\n",
              "      <td>750.0</td>\n",
              "      <td>750.0</td>\n",
              "      <td>6.124939</td>\n",
              "    </tr>\n",
              "    <tr>\n",
              "      <th>1</th>\n",
              "      <td>CHEMBL336398</td>\n",
              "      <td>O=C(N1CCCCC1)n1nc(-c2ccc(Cl)cc2)nc1SCC1CC1</td>\n",
              "      <td>100.0</td>\n",
              "      <td>100.0</td>\n",
              "      <td>7.000000</td>\n",
              "    </tr>\n",
              "    <tr>\n",
              "      <th>2</th>\n",
              "      <td>CHEMBL131588</td>\n",
              "      <td>CN(C(=O)n1nc(-c2ccc(Cl)cc2)nc1SCC(F)(F)F)c1ccccc1</td>\n",
              "      <td>50000.0</td>\n",
              "      <td>50000.0</td>\n",
              "      <td>4.301030</td>\n",
              "    </tr>\n",
              "    <tr>\n",
              "      <th>3</th>\n",
              "      <td>CHEMBL130628</td>\n",
              "      <td>O=C(N1CCCCC1)n1nc(-c2ccc(Cl)cc2)nc1SCC(F)(F)F</td>\n",
              "      <td>300.0</td>\n",
              "      <td>300.0</td>\n",
              "      <td>6.522879</td>\n",
              "    </tr>\n",
              "    <tr>\n",
              "      <th>4</th>\n",
              "      <td>CHEMBL130478</td>\n",
              "      <td>CSc1nc(-c2ccc(OC(F)(F)F)cc2)nn1C(=O)N(C)C</td>\n",
              "      <td>800.0</td>\n",
              "      <td>800.0</td>\n",
              "      <td>6.096910</td>\n",
              "    </tr>\n",
              "  </tbody>\n",
              "</table>\n",
              "</div>\n",
              "      <button class=\"colab-df-convert\" onclick=\"convertToInteractive('df-c7fb9374-4ccc-44f5-a7da-7f4302406166')\"\n",
              "              title=\"Convert this dataframe to an interactive table.\"\n",
              "              style=\"display:none;\">\n",
              "        \n",
              "  <svg xmlns=\"http://www.w3.org/2000/svg\" height=\"24px\"viewBox=\"0 0 24 24\"\n",
              "       width=\"24px\">\n",
              "    <path d=\"M0 0h24v24H0V0z\" fill=\"none\"/>\n",
              "    <path d=\"M18.56 5.44l.94 2.06.94-2.06 2.06-.94-2.06-.94-.94-2.06-.94 2.06-2.06.94zm-11 1L8.5 8.5l.94-2.06 2.06-.94-2.06-.94L8.5 2.5l-.94 2.06-2.06.94zm10 10l.94 2.06.94-2.06 2.06-.94-2.06-.94-.94-2.06-.94 2.06-2.06.94z\"/><path d=\"M17.41 7.96l-1.37-1.37c-.4-.4-.92-.59-1.43-.59-.52 0-1.04.2-1.43.59L10.3 9.45l-7.72 7.72c-.78.78-.78 2.05 0 2.83L4 21.41c.39.39.9.59 1.41.59.51 0 1.02-.2 1.41-.59l7.78-7.78 2.81-2.81c.8-.78.8-2.07 0-2.86zM5.41 20L4 18.59l7.72-7.72 1.47 1.35L5.41 20z\"/>\n",
              "  </svg>\n",
              "      </button>\n",
              "      \n",
              "  <style>\n",
              "    .colab-df-container {\n",
              "      display:flex;\n",
              "      flex-wrap:wrap;\n",
              "      gap: 12px;\n",
              "    }\n",
              "\n",
              "    .colab-df-convert {\n",
              "      background-color: #E8F0FE;\n",
              "      border: none;\n",
              "      border-radius: 50%;\n",
              "      cursor: pointer;\n",
              "      display: none;\n",
              "      fill: #1967D2;\n",
              "      height: 32px;\n",
              "      padding: 0 0 0 0;\n",
              "      width: 32px;\n",
              "    }\n",
              "\n",
              "    .colab-df-convert:hover {\n",
              "      background-color: #E2EBFA;\n",
              "      box-shadow: 0px 1px 2px rgba(60, 64, 67, 0.3), 0px 1px 3px 1px rgba(60, 64, 67, 0.15);\n",
              "      fill: #174EA6;\n",
              "    }\n",
              "\n",
              "    [theme=dark] .colab-df-convert {\n",
              "      background-color: #3B4455;\n",
              "      fill: #D2E3FC;\n",
              "    }\n",
              "\n",
              "    [theme=dark] .colab-df-convert:hover {\n",
              "      background-color: #434B5C;\n",
              "      box-shadow: 0px 1px 3px 1px rgba(0, 0, 0, 0.15);\n",
              "      filter: drop-shadow(0px 1px 2px rgba(0, 0, 0, 0.3));\n",
              "      fill: #FFFFFF;\n",
              "    }\n",
              "  </style>\n",
              "\n",
              "      <script>\n",
              "        const buttonEl =\n",
              "          document.querySelector('#df-c7fb9374-4ccc-44f5-a7da-7f4302406166 button.colab-df-convert');\n",
              "        buttonEl.style.display =\n",
              "          google.colab.kernel.accessAllowed ? 'block' : 'none';\n",
              "\n",
              "        async function convertToInteractive(key) {\n",
              "          const element = document.querySelector('#df-c7fb9374-4ccc-44f5-a7da-7f4302406166');\n",
              "          const dataTable =\n",
              "            await google.colab.kernel.invokeFunction('convertToInteractive',\n",
              "                                                     [key], {});\n",
              "          if (!dataTable) return;\n",
              "\n",
              "          const docLinkHtml = 'Like what you see? Visit the ' +\n",
              "            '<a target=\"_blank\" href=https://colab.research.google.com/notebooks/data_table.ipynb>data table notebook</a>'\n",
              "            + ' to learn more about interactive tables.';\n",
              "          element.innerHTML = '';\n",
              "          dataTable['output_type'] = 'display_data';\n",
              "          await google.colab.output.renderOutput(dataTable, element);\n",
              "          const docLink = document.createElement('div');\n",
              "          docLink.innerHTML = docLinkHtml;\n",
              "          element.appendChild(docLink);\n",
              "        }\n",
              "      </script>\n",
              "    </div>\n",
              "  </div>\n",
              "  "
            ],
            "text/plain": [
              "  molecule_chembl_id  ...     pIC50\n",
              "0       CHEMBL133897  ...  6.124939\n",
              "1       CHEMBL336398  ...  7.000000\n",
              "2       CHEMBL131588  ...  4.301030\n",
              "3       CHEMBL130628  ...  6.522879\n",
              "4       CHEMBL130478  ...  6.096910\n",
              "\n",
              "[5 rows x 5 columns]"
            ]
          },
          "metadata": {},
          "execution_count": 4
        }
      ],
      "source": [
        "df.head()"
      ]
    },
    {
      "cell_type": "markdown",
      "id": "2985df76-23b9-45a8-83ed-ce8ae510219f",
      "metadata": {
        "id": "2985df76-23b9-45a8-83ed-ce8ae510219f"
      },
      "source": [
        "# Canonical_smiles To secuence"
      ]
    },
    {
      "cell_type": "code",
      "execution_count": 5,
      "id": "87e524d2-e7e9-4d3b-b1f1-b62254a0bc66",
      "metadata": {
        "id": "87e524d2-e7e9-4d3b-b1f1-b62254a0bc66"
      },
      "outputs": [],
      "source": [
        "from tensorflow.keras.preprocessing.text import Tokenizer\n",
        "from tensorflow.keras.preprocessing.sequence import pad_sequences"
      ]
    },
    {
      "cell_type": "code",
      "execution_count": 6,
      "id": "07f8fff5-c1f6-48d6-9e19-ee5defde20b1",
      "metadata": {
        "id": "07f8fff5-c1f6-48d6-9e19-ee5defde20b1"
      },
      "outputs": [],
      "source": [
        "max_len_idx = df['canonical_smiles'].apply(len).argmax()\n",
        "min_len_idx = df['canonical_smiles'].apply(len).argmin()"
      ]
    },
    {
      "cell_type": "code",
      "execution_count": 7,
      "id": "703325ab-0193-4bf5-9b66-a880d7bc346b",
      "metadata": {
        "id": "703325ab-0193-4bf5-9b66-a880d7bc346b"
      },
      "outputs": [],
      "source": [
        "X = df['canonical_smiles']\n",
        "y = df['pIC50']"
      ]
    },
    {
      "cell_type": "code",
      "source": [
        "tokenizer = Tokenizer(num_words = None, oov_token='UNK', filters = '', char_level = True, lower = False)"
      ],
      "metadata": {
        "id": "MvaBq-_qCpI6"
      },
      "id": "MvaBq-_qCpI6",
      "execution_count": 8,
      "outputs": []
    },
    {
      "cell_type": "code",
      "source": [
        "tokenizer.fit_on_texts(X)"
      ],
      "metadata": {
        "id": "7kbcMq0_CpTP"
      },
      "id": "7kbcMq0_CpTP",
      "execution_count": 9,
      "outputs": []
    },
    {
      "cell_type": "code",
      "source": [
        "sequences = tokenizer.texts_to_sequences(X)"
      ],
      "metadata": {
        "id": "EgdfJTpIFk0s"
      },
      "id": "EgdfJTpIFk0s",
      "execution_count": 10,
      "outputs": []
    },
    {
      "cell_type": "code",
      "source": [
        "print(X[0])\n",
        "print(sequences[0])"
      ],
      "metadata": {
        "colab": {
          "base_uri": "https://localhost:8080/"
        },
        "id": "ZLMcl1w0GU5g",
        "outputId": "cf09b6df-0953-4516-f2da-e2e0d7a797d6"
      },
      "id": "ZLMcl1w0GU5g",
      "execution_count": 11,
      "outputs": [
        {
          "output_type": "stream",
          "name": "stdout",
          "text": [
            "CCOc1nn(-c2cccc(OCc3ccccc3)c2)c(=O)o1\n",
            "[3, 3, 7, 2, 6, 15, 15, 4, 18, 2, 8, 2, 2, 2, 2, 4, 7, 3, 2, 11, 2, 2, 2, 2, 2, 11, 5, 2, 8, 5, 2, 4, 10, 7, 5, 25, 6]\n"
          ]
        }
      ]
    },
    {
      "cell_type": "code",
      "source": [
        "print(len(X[0]))\n",
        "print(len(sequences[0]))"
      ],
      "metadata": {
        "colab": {
          "base_uri": "https://localhost:8080/"
        },
        "id": "kNUMv9mQGj8C",
        "outputId": "1e87d3c4-0e14-4970-854c-bb3a78ce9e36"
      },
      "id": "kNUMv9mQGj8C",
      "execution_count": 12,
      "outputs": [
        {
          "output_type": "stream",
          "name": "stdout",
          "text": [
            "37\n",
            "37\n"
          ]
        }
      ]
    },
    {
      "cell_type": "code",
      "source": [
        "X_seq_pad = pad_sequences(sequences, maxlen = len(X[max_len_idx]), padding = 'pre' )"
      ],
      "metadata": {
        "id": "VLKhBTsvGu_G"
      },
      "id": "VLKhBTsvGu_G",
      "execution_count": 13,
      "outputs": []
    },
    {
      "cell_type": "code",
      "source": [
        "X_seq_pad[0]"
      ],
      "metadata": {
        "colab": {
          "base_uri": "https://localhost:8080/"
        },
        "id": "Iz7UAmgOH_lN",
        "outputId": "60bcc8ac-46d8-4d57-8cff-5e4c91bf3eac"
      },
      "id": "Iz7UAmgOH_lN",
      "execution_count": 14,
      "outputs": [
        {
          "output_type": "execute_result",
          "data": {
            "text/plain": [
              "array([ 0,  0,  0,  0,  0,  0,  0,  0,  0,  0,  0,  0,  0,  0,  0,  0,  0,\n",
              "        0,  0,  0,  0,  0,  0,  0,  0,  0,  0,  0,  0,  0,  0,  0,  0,  0,\n",
              "        0,  0,  0,  0,  0,  0,  0,  0,  0,  0,  0,  0,  0,  0,  0,  0,  0,\n",
              "        0,  0,  0,  0,  0,  0,  0,  0,  0,  0,  0,  0,  0,  0,  0,  0,  0,\n",
              "        0,  0,  0,  0,  0,  0,  0,  0,  0,  0,  0,  0,  0,  0,  0,  0,  0,\n",
              "        0,  0,  0,  0,  0,  0,  0,  0,  0,  0,  0,  0,  0,  0,  0,  0,  0,\n",
              "        0,  0,  0,  0,  0,  0,  0,  0,  0,  0,  0,  0,  0,  0,  0,  0,  0,\n",
              "        0,  0,  0,  0,  0,  0,  0,  0,  0,  0,  0,  0,  0,  0,  0,  0,  0,\n",
              "        0,  0,  0,  0,  0,  0,  0,  0,  0,  0,  0,  0,  0,  0,  0,  0,  0,\n",
              "        0,  0,  0,  0,  0,  0,  0,  0,  0,  0,  0,  0,  0,  0,  0,  0,  0,\n",
              "        3,  3,  7,  2,  6, 15, 15,  4, 18,  2,  8,  2,  2,  2,  2,  4,  7,\n",
              "        3,  2, 11,  2,  2,  2,  2,  2, 11,  5,  2,  8,  5,  2,  4, 10,  7,\n",
              "        5, 25,  6], dtype=int32)"
            ]
          },
          "metadata": {},
          "execution_count": 14
        }
      ]
    },
    {
      "cell_type": "code",
      "execution_count": null,
      "id": "09894d86-4408-469c-b1f9-60f6d7218b5c",
      "metadata": {
        "id": "09894d86-4408-469c-b1f9-60f6d7218b5c"
      },
      "outputs": [],
      "source": [
        "# Implementar tokenización y guardar en X_seq_pad el dataset tokenizado"
      ]
    },
    {
      "cell_type": "markdown",
      "id": "4233710d-9274-4dae-b22d-cf42b57ad862",
      "metadata": {
        "id": "4233710d-9274-4dae-b22d-cf42b57ad862"
      },
      "source": [
        "# Split"
      ]
    },
    {
      "cell_type": "code",
      "execution_count": 38,
      "id": "ce7a95e6-2486-42fb-97fb-865e3fd6a561",
      "metadata": {
        "id": "ce7a95e6-2486-42fb-97fb-865e3fd6a561"
      },
      "outputs": [],
      "source": [
        "from sklearn.model_selection import train_test_split"
      ]
    },
    {
      "cell_type": "code",
      "execution_count": 39,
      "id": "fcb9840f-2f41-45be-99a5-f05f3ab73ed8",
      "metadata": {
        "id": "fcb9840f-2f41-45be-99a5-f05f3ab73ed8"
      },
      "outputs": [],
      "source": [
        "X_train, X_test, y_train, y_test = train_test_split(X_seq_pad, y, test_size=0.2, random_state=42)"
      ]
    },
    {
      "cell_type": "code",
      "execution_count": 40,
      "id": "4ad17134-3e15-42d1-b8c9-0c793169e145",
      "metadata": {
        "colab": {
          "base_uri": "https://localhost:8080/"
        },
        "id": "4ad17134-3e15-42d1-b8c9-0c793169e145",
        "outputId": "ab54f8b6-0a5e-4a31-bdc9-1024631df0fb"
      },
      "outputs": [
        {
          "output_type": "execute_result",
          "data": {
            "text/plain": [
              "(4082, 4082, 1021)"
            ]
          },
          "metadata": {},
          "execution_count": 40
        }
      ],
      "source": [
        "len(X_train), len(y_train), len(X_test)"
      ]
    },
    {
      "cell_type": "code",
      "source": [
        "X_train.shape"
      ],
      "metadata": {
        "colab": {
          "base_uri": "https://localhost:8080/"
        },
        "id": "4LMZ07pALPFX",
        "outputId": "cc65274c-1d7b-493c-ff45-81bed6ca9a6f"
      },
      "id": "4LMZ07pALPFX",
      "execution_count": 41,
      "outputs": [
        {
          "output_type": "execute_result",
          "data": {
            "text/plain": [
              "(4082, 207)"
            ]
          },
          "metadata": {},
          "execution_count": 41
        }
      ]
    },
    {
      "cell_type": "code",
      "source": [
        "y"
      ],
      "metadata": {
        "colab": {
          "base_uri": "https://localhost:8080/"
        },
        "id": "2xr-LXIELj8D",
        "outputId": "7fe4163b-8052-48c0-d9a6-3d6633b81981"
      },
      "id": "2xr-LXIELj8D",
      "execution_count": 42,
      "outputs": [
        {
          "output_type": "execute_result",
          "data": {
            "text/plain": [
              "0       6.124939\n",
              "1       7.000000\n",
              "2       4.301030\n",
              "3       6.522879\n",
              "4       6.096910\n",
              "          ...   \n",
              "5098    3.575118\n",
              "5099    6.130768\n",
              "5100    6.292430\n",
              "5101    3.903090\n",
              "5102    4.000000\n",
              "Name: pIC50, Length: 5103, dtype: float64"
            ]
          },
          "metadata": {},
          "execution_count": 42
        }
      ]
    },
    {
      "cell_type": "markdown",
      "id": "85941430-2534-4d7d-ba52-d934a31c1bf6",
      "metadata": {
        "id": "85941430-2534-4d7d-ba52-d934a31c1bf6"
      },
      "source": [
        "# Network Model"
      ]
    },
    {
      "cell_type": "code",
      "execution_count": 43,
      "id": "6bd5d1bf-4640-4cbc-acd3-72881ddcc07e",
      "metadata": {
        "id": "6bd5d1bf-4640-4cbc-acd3-72881ddcc07e"
      },
      "outputs": [],
      "source": [
        "from tensorflow.keras import Sequential\n",
        "from tensorflow.keras.layers import LSTM, Dense, Embedding, Bidirectional, Dropout, Activation, BatchNormalization\n",
        "from tensorflow.keras.callbacks import ModelCheckpoint\n",
        "from tensorflow.keras.optimizers import Adam, RMSprop\n",
        "from tensorflow.keras import backend as K"
      ]
    },
    {
      "cell_type": "code",
      "execution_count": 44,
      "id": "4bf115a2-9f1b-42b8-9b62-59728f1da977",
      "metadata": {
        "id": "4bf115a2-9f1b-42b8-9b62-59728f1da977"
      },
      "outputs": [],
      "source": [
        "# Métrica\n",
        "\n",
        "def R2(y_true, y_pred):\n",
        "    SS_res =  K.sum(K.square( y_true-y_pred ))\n",
        "    SS_tot = K.sum(K.square( y_true - K.mean(y_true) ) )\n",
        "    return ( 1 - SS_res/(SS_tot + K.epsilon()) )"
      ]
    },
    {
      "cell_type": "code",
      "execution_count": 45,
      "id": "92d30b68-3110-459c-887d-a06f056d067b",
      "metadata": {
        "id": "92d30b68-3110-459c-887d-a06f056d067b"
      },
      "outputs": [],
      "source": [
        "# vocab_size = # Completar largo del vocabulario\n",
        "vocab_size = len(tokenizer.word_index)"
      ]
    },
    {
      "cell_type": "code",
      "source": [
        "vocab_size"
      ],
      "metadata": {
        "colab": {
          "base_uri": "https://localhost:8080/"
        },
        "id": "R-ebVyhP8CO6",
        "outputId": "1c0fd7d3-7270-4497-f6a2-4b1af4108602"
      },
      "id": "R-ebVyhP8CO6",
      "execution_count": 46,
      "outputs": [
        {
          "output_type": "execute_result",
          "data": {
            "text/plain": [
              "39"
            ]
          },
          "metadata": {},
          "execution_count": 46
        }
      ]
    },
    {
      "cell_type": "code",
      "execution_count": 47,
      "id": "6166a72b-ccd1-459c-a3a1-fa43bf31a369",
      "metadata": {
        "id": "6166a72b-ccd1-459c-a3a1-fa43bf31a369"
      },
      "outputs": [],
      "source": [
        "max_sequence_len = len(X[max_len_idx])"
      ]
    },
    {
      "cell_type": "markdown",
      "id": "cc91cd42-b885-4ab5-b348-57296b0c0d10",
      "metadata": {
        "id": "cc91cd42-b885-4ab5-b348-57296b0c0d10"
      },
      "source": [
        "# Modelo en keras de LSTM\n"
      ]
    },
    {
      "cell_type": "code",
      "source": [
        "rnn_neurons_1 = 100\n",
        "rnn_neurons_2 = 50\n",
        "input_shape = (max_sequence_len, 1)\n",
        "dropout_p = 0.2"
      ],
      "metadata": {
        "id": "M_rYHmKxKhwj"
      },
      "id": "M_rYHmKxKhwj",
      "execution_count": 54,
      "outputs": []
    },
    {
      "cell_type": "code",
      "execution_count": 60,
      "id": "d05209e0-5358-40c0-b806-2e98367e9f1c",
      "metadata": {
        "id": "d05209e0-5358-40c0-b806-2e98367e9f1c"
      },
      "outputs": [],
      "source": [
        "model = Sequential()\n",
        "model.add(Embedding(input_dim = vocab_size+1, output_dim = 64, input_length=max_sequence_len))\n",
        "model.add(LSTM(rnn_neurons_1, return_sequences = True, dropout=dropout_p, recurrent_dropout=dropout_p))\n",
        "model.add(LSTM(rnn_neurons_2,  dropout=dropout_p, recurrent_dropout=dropout_p))\n",
        "\n",
        "model.add(Dense(1))\n"
      ]
    },
    {
      "cell_type": "code",
      "execution_count": 61,
      "id": "237c1327-028f-4f70-bd29-ea94cd999686",
      "metadata": {
        "colab": {
          "base_uri": "https://localhost:8080/"
        },
        "id": "237c1327-028f-4f70-bd29-ea94cd999686",
        "outputId": "05a0878b-0c97-4061-fb61-7edfae3618ed"
      },
      "outputs": [
        {
          "output_type": "stream",
          "name": "stdout",
          "text": [
            "Model: \"sequential_4\"\n",
            "_________________________________________________________________\n",
            " Layer (type)                Output Shape              Param #   \n",
            "=================================================================\n",
            " embedding_4 (Embedding)     (None, 207, 64)           2560      \n",
            "                                                                 \n",
            " lstm_8 (LSTM)               (None, 207, 100)          66000     \n",
            "                                                                 \n",
            " lstm_9 (LSTM)               (None, 50)                30200     \n",
            "                                                                 \n",
            " dense_4 (Dense)             (None, 1)                 51        \n",
            "                                                                 \n",
            "=================================================================\n",
            "Total params: 98,811\n",
            "Trainable params: 98,811\n",
            "Non-trainable params: 0\n",
            "_________________________________________________________________\n"
          ]
        }
      ],
      "source": [
        "model.summary()"
      ]
    },
    {
      "cell_type": "code",
      "execution_count": 63,
      "id": "62c3f792-f413-4150-8ebf-1f59c5fb986d",
      "metadata": {
        "id": "62c3f792-f413-4150-8ebf-1f59c5fb986d"
      },
      "outputs": [],
      "source": [
        "mcp = ModelCheckpoint('models_4/best_model_{epoch}', save_best_only=True, save_format=\"h5\")"
      ]
    },
    {
      "cell_type": "code",
      "execution_count": 64,
      "id": "9138b411-fc5d-41bd-8c8e-c12580cc5b14",
      "metadata": {
        "id": "9138b411-fc5d-41bd-8c8e-c12580cc5b14"
      },
      "outputs": [],
      "source": [
        "model.compile(optimizer=Adam(learning_rate=0.001), loss='mse', metrics=[R2])"
      ]
    },
    {
      "cell_type": "code",
      "source": [
        "history = model.fit(X_train, y_train, epochs=150, batch_size=128, validation_data=(X_test, y_test), callbacks=[mcp])"
      ],
      "metadata": {
        "colab": {
          "base_uri": "https://localhost:8080/"
        },
        "id": "pFlaY92778K4",
        "outputId": "3c991621-64aa-4b6c-db27-f949f58686b2"
      },
      "id": "pFlaY92778K4",
      "execution_count": 65,
      "outputs": [
        {
          "output_type": "stream",
          "name": "stdout",
          "text": [
            "Epoch 1/150\n",
            "32/32 [==============================] - ETA: 0s - loss: 13.0609 - R2: -3.7646INFO:tensorflow:Assets written to: models_4/best_model_1/assets\n"
          ]
        },
        {
          "output_type": "stream",
          "name": "stderr",
          "text": [
            "INFO:tensorflow:Assets written to: models_4/best_model_1/assets\n",
            "WARNING:absl:<keras.layers.recurrent.LSTMCell object at 0x7ffa53d35110> has the same name 'LSTMCell' as a built-in Keras object. Consider renaming <class 'keras.layers.recurrent.LSTMCell'> to avoid naming conflicts when loading with `tf.keras.models.load_model`. If renaming is not possible, pass the object in the `custom_objects` parameter of the load function.\n",
            "WARNING:absl:<keras.layers.recurrent.LSTMCell object at 0x7ffa567fd8d0> has the same name 'LSTMCell' as a built-in Keras object. Consider renaming <class 'keras.layers.recurrent.LSTMCell'> to avoid naming conflicts when loading with `tf.keras.models.load_model`. If renaming is not possible, pass the object in the `custom_objects` parameter of the load function.\n"
          ]
        },
        {
          "output_type": "stream",
          "name": "stdout",
          "text": [
            "\b\b\b\b\b\b\b\b\b\b\b\b\b\b\b\b\b\b\b\b\b\b\b\b\b\b\b\b\b\b\b\b\b\b\b\b\b\b\b\b\b\b\b\b\b\b\b\b\b\b\b\b\b\b\b\b\b\b\b\b\b\b\b\b\b\b\b\b\b\b\b\b\b\b\b\b\b\b\r32/32 [==============================] - 58s 1s/step - loss: 13.0609 - R2: -3.7646 - val_loss: 3.0602 - val_R2: -0.0734\n",
            "Epoch 2/150\n",
            "32/32 [==============================] - ETA: 0s - loss: 2.8141 - R2: -0.0238INFO:tensorflow:Assets written to: models_4/best_model_2/assets\n"
          ]
        },
        {
          "output_type": "stream",
          "name": "stderr",
          "text": [
            "INFO:tensorflow:Assets written to: models_4/best_model_2/assets\n",
            "WARNING:absl:<keras.layers.recurrent.LSTMCell object at 0x7ffa53d35110> has the same name 'LSTMCell' as a built-in Keras object. Consider renaming <class 'keras.layers.recurrent.LSTMCell'> to avoid naming conflicts when loading with `tf.keras.models.load_model`. If renaming is not possible, pass the object in the `custom_objects` parameter of the load function.\n",
            "WARNING:absl:<keras.layers.recurrent.LSTMCell object at 0x7ffa567fd8d0> has the same name 'LSTMCell' as a built-in Keras object. Consider renaming <class 'keras.layers.recurrent.LSTMCell'> to avoid naming conflicts when loading with `tf.keras.models.load_model`. If renaming is not possible, pass the object in the `custom_objects` parameter of the load function.\n"
          ]
        },
        {
          "output_type": "stream",
          "name": "stdout",
          "text": [
            "\b\b\b\b\b\b\b\b\b\b\b\b\b\b\b\b\b\b\b\b\b\b\b\b\b\b\b\b\b\b\b\b\b\b\b\b\b\b\b\b\b\b\b\b\b\b\b\b\b\b\b\b\b\b\b\b\b\b\b\b\b\b\b\b\b\b\b\b\b\b\b\b\b\b\b\b\b\r32/32 [==============================] - 34s 1s/step - loss: 2.8141 - R2: -0.0238 - val_loss: 2.9031 - val_R2: -0.0137\n",
            "Epoch 3/150\n",
            "32/32 [==============================] - ETA: 0s - loss: 2.8037 - R2: -0.0150INFO:tensorflow:Assets written to: models_4/best_model_3/assets\n"
          ]
        },
        {
          "output_type": "stream",
          "name": "stderr",
          "text": [
            "INFO:tensorflow:Assets written to: models_4/best_model_3/assets\n",
            "WARNING:absl:<keras.layers.recurrent.LSTMCell object at 0x7ffa53d35110> has the same name 'LSTMCell' as a built-in Keras object. Consider renaming <class 'keras.layers.recurrent.LSTMCell'> to avoid naming conflicts when loading with `tf.keras.models.load_model`. If renaming is not possible, pass the object in the `custom_objects` parameter of the load function.\n",
            "WARNING:absl:<keras.layers.recurrent.LSTMCell object at 0x7ffa567fd8d0> has the same name 'LSTMCell' as a built-in Keras object. Consider renaming <class 'keras.layers.recurrent.LSTMCell'> to avoid naming conflicts when loading with `tf.keras.models.load_model`. If renaming is not possible, pass the object in the `custom_objects` parameter of the load function.\n"
          ]
        },
        {
          "output_type": "stream",
          "name": "stdout",
          "text": [
            "\b\b\b\b\b\b\b\b\b\b\b\b\b\b\b\b\b\b\b\b\b\b\b\b\b\b\b\b\b\b\b\b\b\b\b\b\b\b\b\b\b\b\b\b\b\b\b\b\b\b\b\b\b\b\b\b\b\b\b\b\b\b\b\b\b\b\b\b\b\b\b\b\b\b\b\b\b\r32/32 [==============================] - 35s 1s/step - loss: 2.8037 - R2: -0.0150 - val_loss: 2.8913 - val_R2: -0.0090\n",
            "Epoch 4/150\n",
            "32/32 [==============================] - ETA: 0s - loss: 2.7905 - R2: -0.0103INFO:tensorflow:Assets written to: models_4/best_model_4/assets\n"
          ]
        },
        {
          "output_type": "stream",
          "name": "stderr",
          "text": [
            "INFO:tensorflow:Assets written to: models_4/best_model_4/assets\n",
            "WARNING:absl:<keras.layers.recurrent.LSTMCell object at 0x7ffa53d35110> has the same name 'LSTMCell' as a built-in Keras object. Consider renaming <class 'keras.layers.recurrent.LSTMCell'> to avoid naming conflicts when loading with `tf.keras.models.load_model`. If renaming is not possible, pass the object in the `custom_objects` parameter of the load function.\n",
            "WARNING:absl:<keras.layers.recurrent.LSTMCell object at 0x7ffa567fd8d0> has the same name 'LSTMCell' as a built-in Keras object. Consider renaming <class 'keras.layers.recurrent.LSTMCell'> to avoid naming conflicts when loading with `tf.keras.models.load_model`. If renaming is not possible, pass the object in the `custom_objects` parameter of the load function.\n"
          ]
        },
        {
          "output_type": "stream",
          "name": "stdout",
          "text": [
            "\b\b\b\b\b\b\b\b\b\b\b\b\b\b\b\b\b\b\b\b\b\b\b\b\b\b\b\b\b\b\b\b\b\b\b\b\b\b\b\b\b\b\b\b\b\b\b\b\b\b\b\b\b\b\b\b\b\b\b\b\b\b\b\b\b\b\b\b\b\b\b\b\b\b\b\b\b\r32/32 [==============================] - 35s 1s/step - loss: 2.7905 - R2: -0.0103 - val_loss: 2.8844 - val_R2: -0.0059\n",
            "Epoch 5/150\n",
            "32/32 [==============================] - ETA: 0s - loss: 2.7984 - R2: -0.0118INFO:tensorflow:Assets written to: models_4/best_model_5/assets\n"
          ]
        },
        {
          "output_type": "stream",
          "name": "stderr",
          "text": [
            "INFO:tensorflow:Assets written to: models_4/best_model_5/assets\n",
            "WARNING:absl:<keras.layers.recurrent.LSTMCell object at 0x7ffa53d35110> has the same name 'LSTMCell' as a built-in Keras object. Consider renaming <class 'keras.layers.recurrent.LSTMCell'> to avoid naming conflicts when loading with `tf.keras.models.load_model`. If renaming is not possible, pass the object in the `custom_objects` parameter of the load function.\n",
            "WARNING:absl:<keras.layers.recurrent.LSTMCell object at 0x7ffa567fd8d0> has the same name 'LSTMCell' as a built-in Keras object. Consider renaming <class 'keras.layers.recurrent.LSTMCell'> to avoid naming conflicts when loading with `tf.keras.models.load_model`. If renaming is not possible, pass the object in the `custom_objects` parameter of the load function.\n"
          ]
        },
        {
          "output_type": "stream",
          "name": "stdout",
          "text": [
            "\b\b\b\b\b\b\b\b\b\b\b\b\b\b\b\b\b\b\b\b\b\b\b\b\b\b\b\b\b\b\b\b\b\b\b\b\b\b\b\b\b\b\b\b\b\b\b\b\b\b\b\b\b\b\b\b\b\b\b\b\b\b\b\b\b\b\b\b\b\b\b\b\b\b\b\b\b\r32/32 [==============================] - 35s 1s/step - loss: 2.7984 - R2: -0.0118 - val_loss: 2.8836 - val_R2: -0.0057\n",
            "Epoch 6/150\n",
            "32/32 [==============================] - ETA: 0s - loss: 2.7937 - R2: -0.0109INFO:tensorflow:Assets written to: models_4/best_model_6/assets\n"
          ]
        },
        {
          "output_type": "stream",
          "name": "stderr",
          "text": [
            "INFO:tensorflow:Assets written to: models_4/best_model_6/assets\n",
            "WARNING:absl:<keras.layers.recurrent.LSTMCell object at 0x7ffa53d35110> has the same name 'LSTMCell' as a built-in Keras object. Consider renaming <class 'keras.layers.recurrent.LSTMCell'> to avoid naming conflicts when loading with `tf.keras.models.load_model`. If renaming is not possible, pass the object in the `custom_objects` parameter of the load function.\n",
            "WARNING:absl:<keras.layers.recurrent.LSTMCell object at 0x7ffa567fd8d0> has the same name 'LSTMCell' as a built-in Keras object. Consider renaming <class 'keras.layers.recurrent.LSTMCell'> to avoid naming conflicts when loading with `tf.keras.models.load_model`. If renaming is not possible, pass the object in the `custom_objects` parameter of the load function.\n"
          ]
        },
        {
          "output_type": "stream",
          "name": "stdout",
          "text": [
            "\b\b\b\b\b\b\b\b\b\b\b\b\b\b\b\b\b\b\b\b\b\b\b\b\b\b\b\b\b\b\b\b\b\b\b\b\b\b\b\b\b\b\b\b\b\b\b\b\b\b\b\b\b\b\b\b\b\b\b\b\b\b\b\b\b\b\b\b\b\b\b\b\b\b\b\b\b\r32/32 [==============================] - 34s 1s/step - loss: 2.7937 - R2: -0.0109 - val_loss: 2.8828 - val_R2: -0.0054\n",
            "Epoch 7/150\n",
            "32/32 [==============================] - 29s 922ms/step - loss: 2.7964 - R2: -0.0100 - val_loss: 2.8835 - val_R2: -0.0059\n",
            "Epoch 8/150\n",
            "32/32 [==============================] - ETA: 0s - loss: 2.7843 - R2: -0.0050INFO:tensorflow:Assets written to: models_4/best_model_8/assets\n"
          ]
        },
        {
          "output_type": "stream",
          "name": "stderr",
          "text": [
            "INFO:tensorflow:Assets written to: models_4/best_model_8/assets\n",
            "WARNING:absl:<keras.layers.recurrent.LSTMCell object at 0x7ffa53d35110> has the same name 'LSTMCell' as a built-in Keras object. Consider renaming <class 'keras.layers.recurrent.LSTMCell'> to avoid naming conflicts when loading with `tf.keras.models.load_model`. If renaming is not possible, pass the object in the `custom_objects` parameter of the load function.\n",
            "WARNING:absl:<keras.layers.recurrent.LSTMCell object at 0x7ffa567fd8d0> has the same name 'LSTMCell' as a built-in Keras object. Consider renaming <class 'keras.layers.recurrent.LSTMCell'> to avoid naming conflicts when loading with `tf.keras.models.load_model`. If renaming is not possible, pass the object in the `custom_objects` parameter of the load function.\n"
          ]
        },
        {
          "output_type": "stream",
          "name": "stdout",
          "text": [
            "\b\b\b\b\b\b\b\b\b\b\b\b\b\b\b\b\b\b\b\b\b\b\b\b\b\b\b\b\b\b\b\b\b\b\b\b\b\b\b\b\b\b\b\b\b\b\b\b\b\b\b\b\b\b\b\b\b\b\b\b\b\b\b\b\b\b\b\b\b\b\b\b\b\b\b\b\b\r32/32 [==============================] - 35s 1s/step - loss: 2.7843 - R2: -0.0050 - val_loss: 2.8804 - val_R2: -0.0047\n",
            "Epoch 9/150\n",
            "32/32 [==============================] - ETA: 0s - loss: 2.7911 - R2: -0.0092INFO:tensorflow:Assets written to: models_4/best_model_9/assets\n"
          ]
        },
        {
          "output_type": "stream",
          "name": "stderr",
          "text": [
            "INFO:tensorflow:Assets written to: models_4/best_model_9/assets\n",
            "WARNING:absl:<keras.layers.recurrent.LSTMCell object at 0x7ffa53d35110> has the same name 'LSTMCell' as a built-in Keras object. Consider renaming <class 'keras.layers.recurrent.LSTMCell'> to avoid naming conflicts when loading with `tf.keras.models.load_model`. If renaming is not possible, pass the object in the `custom_objects` parameter of the load function.\n",
            "WARNING:absl:<keras.layers.recurrent.LSTMCell object at 0x7ffa567fd8d0> has the same name 'LSTMCell' as a built-in Keras object. Consider renaming <class 'keras.layers.recurrent.LSTMCell'> to avoid naming conflicts when loading with `tf.keras.models.load_model`. If renaming is not possible, pass the object in the `custom_objects` parameter of the load function.\n"
          ]
        },
        {
          "output_type": "stream",
          "name": "stdout",
          "text": [
            "\b\b\b\b\b\b\b\b\b\b\b\b\b\b\b\b\b\b\b\b\b\b\b\b\b\b\b\b\b\b\b\b\b\b\b\b\b\b\b\b\b\b\b\b\b\b\b\b\b\b\b\b\b\b\b\b\b\b\b\b\b\b\b\b\b\b\b\b\b\b\b\b\b\b\b\b\b\r32/32 [==============================] - 35s 1s/step - loss: 2.7911 - R2: -0.0092 - val_loss: 2.8769 - val_R2: -0.0033\n",
            "Epoch 10/150\n",
            "32/32 [==============================] - 30s 923ms/step - loss: 2.7947 - R2: -0.0105 - val_loss: 2.8892 - val_R2: -0.0087\n",
            "Epoch 11/150\n",
            "32/32 [==============================] - 29s 922ms/step - loss: 2.7772 - R2: -0.0056 - val_loss: 2.8811 - val_R2: -0.0056\n",
            "Epoch 12/150\n",
            "32/32 [==============================] - ETA: 0s - loss: 2.7802 - R2: -0.0052INFO:tensorflow:Assets written to: models_4/best_model_12/assets\n"
          ]
        },
        {
          "output_type": "stream",
          "name": "stderr",
          "text": [
            "INFO:tensorflow:Assets written to: models_4/best_model_12/assets\n",
            "WARNING:absl:<keras.layers.recurrent.LSTMCell object at 0x7ffa53d35110> has the same name 'LSTMCell' as a built-in Keras object. Consider renaming <class 'keras.layers.recurrent.LSTMCell'> to avoid naming conflicts when loading with `tf.keras.models.load_model`. If renaming is not possible, pass the object in the `custom_objects` parameter of the load function.\n",
            "WARNING:absl:<keras.layers.recurrent.LSTMCell object at 0x7ffa567fd8d0> has the same name 'LSTMCell' as a built-in Keras object. Consider renaming <class 'keras.layers.recurrent.LSTMCell'> to avoid naming conflicts when loading with `tf.keras.models.load_model`. If renaming is not possible, pass the object in the `custom_objects` parameter of the load function.\n"
          ]
        },
        {
          "output_type": "stream",
          "name": "stdout",
          "text": [
            "\b\b\b\b\b\b\b\b\b\b\b\b\b\b\b\b\b\b\b\b\b\b\b\b\b\b\b\b\b\b\b\b\b\b\b\b\b\b\b\b\b\b\b\b\b\b\b\b\b\b\b\b\b\b\b\b\b\b\b\b\b\b\b\b\b\b\b\b\b\b\b\b\b\b\b\b\b\r32/32 [==============================] - 34s 1s/step - loss: 2.7802 - R2: -0.0052 - val_loss: 2.8577 - val_R2: 0.0036\n",
            "Epoch 13/150\n",
            "32/32 [==============================] - ETA: 0s - loss: 2.7729 - R2: -5.0201e-04INFO:tensorflow:Assets written to: models_4/best_model_13/assets\n"
          ]
        },
        {
          "output_type": "stream",
          "name": "stderr",
          "text": [
            "INFO:tensorflow:Assets written to: models_4/best_model_13/assets\n",
            "WARNING:absl:<keras.layers.recurrent.LSTMCell object at 0x7ffa53d35110> has the same name 'LSTMCell' as a built-in Keras object. Consider renaming <class 'keras.layers.recurrent.LSTMCell'> to avoid naming conflicts when loading with `tf.keras.models.load_model`. If renaming is not possible, pass the object in the `custom_objects` parameter of the load function.\n",
            "WARNING:absl:<keras.layers.recurrent.LSTMCell object at 0x7ffa567fd8d0> has the same name 'LSTMCell' as a built-in Keras object. Consider renaming <class 'keras.layers.recurrent.LSTMCell'> to avoid naming conflicts when loading with `tf.keras.models.load_model`. If renaming is not possible, pass the object in the `custom_objects` parameter of the load function.\n"
          ]
        },
        {
          "output_type": "stream",
          "name": "stdout",
          "text": [
            "\b\b\b\b\b\b\b\b\b\b\b\b\b\b\b\b\b\b\b\b\b\b\b\b\b\b\b\b\b\b\b\b\b\b\b\b\b\b\b\b\b\b\b\b\b\b\b\b\b\b\b\b\b\b\b\b\b\b\b\b\b\b\b\b\b\b\b\b\b\b\b\b\b\b\b\b\b\b\b\b\b\r32/32 [==============================] - 35s 1s/step - loss: 2.7729 - R2: -5.0201e-04 - val_loss: 2.8439 - val_R2: 0.0091\n",
            "Epoch 14/150\n",
            "32/32 [==============================] - ETA: 0s - loss: 2.7478 - R2: 0.0077INFO:tensorflow:Assets written to: models_4/best_model_14/assets\n"
          ]
        },
        {
          "output_type": "stream",
          "name": "stderr",
          "text": [
            "INFO:tensorflow:Assets written to: models_4/best_model_14/assets\n",
            "WARNING:absl:<keras.layers.recurrent.LSTMCell object at 0x7ffa53d35110> has the same name 'LSTMCell' as a built-in Keras object. Consider renaming <class 'keras.layers.recurrent.LSTMCell'> to avoid naming conflicts when loading with `tf.keras.models.load_model`. If renaming is not possible, pass the object in the `custom_objects` parameter of the load function.\n",
            "WARNING:absl:<keras.layers.recurrent.LSTMCell object at 0x7ffa567fd8d0> has the same name 'LSTMCell' as a built-in Keras object. Consider renaming <class 'keras.layers.recurrent.LSTMCell'> to avoid naming conflicts when loading with `tf.keras.models.load_model`. If renaming is not possible, pass the object in the `custom_objects` parameter of the load function.\n"
          ]
        },
        {
          "output_type": "stream",
          "name": "stdout",
          "text": [
            "\b\b\b\b\b\b\b\b\b\b\b\b\b\b\b\b\b\b\b\b\b\b\b\b\b\b\b\b\b\b\b\b\b\b\b\b\b\b\b\b\b\b\b\b\b\b\b\b\b\b\b\b\b\b\b\b\b\b\b\b\b\b\b\b\b\b\b\b\b\b\b\b\b\b\b\b\r32/32 [==============================] - 35s 1s/step - loss: 2.7478 - R2: 0.0077 - val_loss: 2.8246 - val_R2: 0.0160\n",
            "Epoch 15/150\n",
            "32/32 [==============================] - ETA: 0s - loss: 2.7399 - R2: 0.0096INFO:tensorflow:Assets written to: models_4/best_model_15/assets\n"
          ]
        },
        {
          "output_type": "stream",
          "name": "stderr",
          "text": [
            "INFO:tensorflow:Assets written to: models_4/best_model_15/assets\n",
            "WARNING:absl:<keras.layers.recurrent.LSTMCell object at 0x7ffa53d35110> has the same name 'LSTMCell' as a built-in Keras object. Consider renaming <class 'keras.layers.recurrent.LSTMCell'> to avoid naming conflicts when loading with `tf.keras.models.load_model`. If renaming is not possible, pass the object in the `custom_objects` parameter of the load function.\n",
            "WARNING:absl:<keras.layers.recurrent.LSTMCell object at 0x7ffa567fd8d0> has the same name 'LSTMCell' as a built-in Keras object. Consider renaming <class 'keras.layers.recurrent.LSTMCell'> to avoid naming conflicts when loading with `tf.keras.models.load_model`. If renaming is not possible, pass the object in the `custom_objects` parameter of the load function.\n"
          ]
        },
        {
          "output_type": "stream",
          "name": "stdout",
          "text": [
            "\b\b\b\b\b\b\b\b\b\b\b\b\b\b\b\b\b\b\b\b\b\b\b\b\b\b\b\b\b\b\b\b\b\b\b\b\b\b\b\b\b\b\b\b\b\b\b\b\b\b\b\b\b\b\b\b\b\b\b\b\b\b\b\b\b\b\b\b\b\b\b\b\b\b\b\b\r32/32 [==============================] - 35s 1s/step - loss: 2.7399 - R2: 0.0096 - val_loss: 2.8033 - val_R2: 0.0237\n",
            "Epoch 16/150\n",
            "32/32 [==============================] - ETA: 0s - loss: 2.7322 - R2: 0.0098INFO:tensorflow:Assets written to: models_4/best_model_16/assets\n"
          ]
        },
        {
          "output_type": "stream",
          "name": "stderr",
          "text": [
            "INFO:tensorflow:Assets written to: models_4/best_model_16/assets\n",
            "WARNING:absl:<keras.layers.recurrent.LSTMCell object at 0x7ffa53d35110> has the same name 'LSTMCell' as a built-in Keras object. Consider renaming <class 'keras.layers.recurrent.LSTMCell'> to avoid naming conflicts when loading with `tf.keras.models.load_model`. If renaming is not possible, pass the object in the `custom_objects` parameter of the load function.\n",
            "WARNING:absl:<keras.layers.recurrent.LSTMCell object at 0x7ffa567fd8d0> has the same name 'LSTMCell' as a built-in Keras object. Consider renaming <class 'keras.layers.recurrent.LSTMCell'> to avoid naming conflicts when loading with `tf.keras.models.load_model`. If renaming is not possible, pass the object in the `custom_objects` parameter of the load function.\n"
          ]
        },
        {
          "output_type": "stream",
          "name": "stdout",
          "text": [
            "\b\b\b\b\b\b\b\b\b\b\b\b\b\b\b\b\b\b\b\b\b\b\b\b\b\b\b\b\b\b\b\b\b\b\b\b\b\b\b\b\b\b\b\b\b\b\b\b\b\b\b\b\b\b\b\b\b\b\b\b\b\b\b\b\b\b\b\b\b\b\b\b\b\b\b\b\r32/32 [==============================] - 34s 1s/step - loss: 2.7322 - R2: 0.0098 - val_loss: 2.7864 - val_R2: 0.0295\n",
            "Epoch 17/150\n",
            "32/32 [==============================] - ETA: 0s - loss: 2.7161 - R2: 0.0171INFO:tensorflow:Assets written to: models_4/best_model_17/assets\n"
          ]
        },
        {
          "output_type": "stream",
          "name": "stderr",
          "text": [
            "INFO:tensorflow:Assets written to: models_4/best_model_17/assets\n",
            "WARNING:absl:<keras.layers.recurrent.LSTMCell object at 0x7ffa53d35110> has the same name 'LSTMCell' as a built-in Keras object. Consider renaming <class 'keras.layers.recurrent.LSTMCell'> to avoid naming conflicts when loading with `tf.keras.models.load_model`. If renaming is not possible, pass the object in the `custom_objects` parameter of the load function.\n",
            "WARNING:absl:<keras.layers.recurrent.LSTMCell object at 0x7ffa567fd8d0> has the same name 'LSTMCell' as a built-in Keras object. Consider renaming <class 'keras.layers.recurrent.LSTMCell'> to avoid naming conflicts when loading with `tf.keras.models.load_model`. If renaming is not possible, pass the object in the `custom_objects` parameter of the load function.\n"
          ]
        },
        {
          "output_type": "stream",
          "name": "stdout",
          "text": [
            "\b\b\b\b\b\b\b\b\b\b\b\b\b\b\b\b\b\b\b\b\b\b\b\b\b\b\b\b\b\b\b\b\b\b\b\b\b\b\b\b\b\b\b\b\b\b\b\b\b\b\b\b\b\b\b\b\b\b\b\b\b\b\b\b\b\b\b\b\b\b\b\b\b\b\b\b\r32/32 [==============================] - 35s 1s/step - loss: 2.7161 - R2: 0.0171 - val_loss: 2.7704 - val_R2: 0.0353\n",
            "Epoch 18/150\n",
            "32/32 [==============================] - 29s 923ms/step - loss: 2.7207 - R2: 0.0130 - val_loss: 2.8005 - val_R2: 0.0255\n",
            "Epoch 19/150\n",
            "32/32 [==============================] - 30s 929ms/step - loss: 2.7321 - R2: 0.0116 - val_loss: 2.7907 - val_R2: 0.0267\n",
            "Epoch 20/150\n",
            "32/32 [==============================] - 29s 921ms/step - loss: 2.7039 - R2: 0.0192 - val_loss: 2.7782 - val_R2: 0.0312\n",
            "Epoch 21/150\n",
            "32/32 [==============================] - ETA: 0s - loss: 2.7110 - R2: 0.0131INFO:tensorflow:Assets written to: models_4/best_model_21/assets\n"
          ]
        },
        {
          "output_type": "stream",
          "name": "stderr",
          "text": [
            "INFO:tensorflow:Assets written to: models_4/best_model_21/assets\n",
            "WARNING:absl:<keras.layers.recurrent.LSTMCell object at 0x7ffa53d35110> has the same name 'LSTMCell' as a built-in Keras object. Consider renaming <class 'keras.layers.recurrent.LSTMCell'> to avoid naming conflicts when loading with `tf.keras.models.load_model`. If renaming is not possible, pass the object in the `custom_objects` parameter of the load function.\n",
            "WARNING:absl:<keras.layers.recurrent.LSTMCell object at 0x7ffa567fd8d0> has the same name 'LSTMCell' as a built-in Keras object. Consider renaming <class 'keras.layers.recurrent.LSTMCell'> to avoid naming conflicts when loading with `tf.keras.models.load_model`. If renaming is not possible, pass the object in the `custom_objects` parameter of the load function.\n"
          ]
        },
        {
          "output_type": "stream",
          "name": "stdout",
          "text": [
            "\b\b\b\b\b\b\b\b\b\b\b\b\b\b\b\b\b\b\b\b\b\b\b\b\b\b\b\b\b\b\b\b\b\b\b\b\b\b\b\b\b\b\b\b\b\b\b\b\b\b\b\b\b\b\b\b\b\b\b\b\b\b\b\b\b\b\b\b\b\b\b\b\b\b\b\b\r32/32 [==============================] - 35s 1s/step - loss: 2.7110 - R2: 0.0131 - val_loss: 2.7519 - val_R2: 0.0414\n",
            "Epoch 22/150\n",
            "32/32 [==============================] - ETA: 0s - loss: 2.6989 - R2: 0.0242INFO:tensorflow:Assets written to: models_4/best_model_22/assets\n"
          ]
        },
        {
          "output_type": "stream",
          "name": "stderr",
          "text": [
            "INFO:tensorflow:Assets written to: models_4/best_model_22/assets\n",
            "WARNING:absl:<keras.layers.recurrent.LSTMCell object at 0x7ffa53d35110> has the same name 'LSTMCell' as a built-in Keras object. Consider renaming <class 'keras.layers.recurrent.LSTMCell'> to avoid naming conflicts when loading with `tf.keras.models.load_model`. If renaming is not possible, pass the object in the `custom_objects` parameter of the load function.\n",
            "WARNING:absl:<keras.layers.recurrent.LSTMCell object at 0x7ffa567fd8d0> has the same name 'LSTMCell' as a built-in Keras object. Consider renaming <class 'keras.layers.recurrent.LSTMCell'> to avoid naming conflicts when loading with `tf.keras.models.load_model`. If renaming is not possible, pass the object in the `custom_objects` parameter of the load function.\n"
          ]
        },
        {
          "output_type": "stream",
          "name": "stdout",
          "text": [
            "\b\b\b\b\b\b\b\b\b\b\b\b\b\b\b\b\b\b\b\b\b\b\b\b\b\b\b\b\b\b\b\b\b\b\b\b\b\b\b\b\b\b\b\b\b\b\b\b\b\b\b\b\b\b\b\b\b\b\b\b\b\b\b\b\b\b\b\b\b\b\b\b\b\b\b\b\r32/32 [==============================] - 34s 1s/step - loss: 2.6989 - R2: 0.0242 - val_loss: 2.7482 - val_R2: 0.0434\n",
            "Epoch 23/150\n",
            "32/32 [==============================] - 30s 924ms/step - loss: 2.6889 - R2: 0.0275 - val_loss: 2.7890 - val_R2: 0.0295\n",
            "Epoch 24/150\n",
            "32/32 [==============================] - 29s 920ms/step - loss: 2.7087 - R2: 0.0172 - val_loss: 2.8011 - val_R2: 0.0215\n",
            "Epoch 25/150\n",
            "32/32 [==============================] - ETA: 0s - loss: 2.6987 - R2: 0.0259INFO:tensorflow:Assets written to: models_4/best_model_25/assets\n"
          ]
        },
        {
          "output_type": "stream",
          "name": "stderr",
          "text": [
            "INFO:tensorflow:Assets written to: models_4/best_model_25/assets\n",
            "WARNING:absl:<keras.layers.recurrent.LSTMCell object at 0x7ffa53d35110> has the same name 'LSTMCell' as a built-in Keras object. Consider renaming <class 'keras.layers.recurrent.LSTMCell'> to avoid naming conflicts when loading with `tf.keras.models.load_model`. If renaming is not possible, pass the object in the `custom_objects` parameter of the load function.\n",
            "WARNING:absl:<keras.layers.recurrent.LSTMCell object at 0x7ffa567fd8d0> has the same name 'LSTMCell' as a built-in Keras object. Consider renaming <class 'keras.layers.recurrent.LSTMCell'> to avoid naming conflicts when loading with `tf.keras.models.load_model`. If renaming is not possible, pass the object in the `custom_objects` parameter of the load function.\n"
          ]
        },
        {
          "output_type": "stream",
          "name": "stdout",
          "text": [
            "\b\b\b\b\b\b\b\b\b\b\b\b\b\b\b\b\b\b\b\b\b\b\b\b\b\b\b\b\b\b\b\b\b\b\b\b\b\b\b\b\b\b\b\b\b\b\b\b\b\b\b\b\b\b\b\b\b\b\b\b\b\b\b\b\b\b\b\b\b\b\b\b\b\b\b\b\r32/32 [==============================] - 35s 1s/step - loss: 2.6987 - R2: 0.0259 - val_loss: 2.7282 - val_R2: 0.0507\n",
            "Epoch 26/150\n",
            "32/32 [==============================] - ETA: 0s - loss: 2.6801 - R2: 0.0301INFO:tensorflow:Assets written to: models_4/best_model_26/assets\n"
          ]
        },
        {
          "output_type": "stream",
          "name": "stderr",
          "text": [
            "INFO:tensorflow:Assets written to: models_4/best_model_26/assets\n",
            "WARNING:absl:<keras.layers.recurrent.LSTMCell object at 0x7ffa53d35110> has the same name 'LSTMCell' as a built-in Keras object. Consider renaming <class 'keras.layers.recurrent.LSTMCell'> to avoid naming conflicts when loading with `tf.keras.models.load_model`. If renaming is not possible, pass the object in the `custom_objects` parameter of the load function.\n",
            "WARNING:absl:<keras.layers.recurrent.LSTMCell object at 0x7ffa567fd8d0> has the same name 'LSTMCell' as a built-in Keras object. Consider renaming <class 'keras.layers.recurrent.LSTMCell'> to avoid naming conflicts when loading with `tf.keras.models.load_model`. If renaming is not possible, pass the object in the `custom_objects` parameter of the load function.\n"
          ]
        },
        {
          "output_type": "stream",
          "name": "stdout",
          "text": [
            "\b\b\b\b\b\b\b\b\b\b\b\b\b\b\b\b\b\b\b\b\b\b\b\b\b\b\b\b\b\b\b\b\b\b\b\b\b\b\b\b\b\b\b\b\b\b\b\b\b\b\b\b\b\b\b\b\b\b\b\b\b\b\b\b\b\b\b\b\b\b\b\b\b\b\b\b\r32/32 [==============================] - 35s 1s/step - loss: 2.6801 - R2: 0.0301 - val_loss: 2.7018 - val_R2: 0.0586\n",
            "Epoch 27/150\n",
            "32/32 [==============================] - 29s 922ms/step - loss: 2.6668 - R2: 0.0342 - val_loss: 2.7472 - val_R2: 0.0447\n",
            "Epoch 28/150\n",
            "32/32 [==============================] - ETA: 0s - loss: 2.6702 - R2: 0.0295INFO:tensorflow:Assets written to: models_4/best_model_28/assets\n"
          ]
        },
        {
          "output_type": "stream",
          "name": "stderr",
          "text": [
            "INFO:tensorflow:Assets written to: models_4/best_model_28/assets\n",
            "WARNING:absl:<keras.layers.recurrent.LSTMCell object at 0x7ffa53d35110> has the same name 'LSTMCell' as a built-in Keras object. Consider renaming <class 'keras.layers.recurrent.LSTMCell'> to avoid naming conflicts when loading with `tf.keras.models.load_model`. If renaming is not possible, pass the object in the `custom_objects` parameter of the load function.\n",
            "WARNING:absl:<keras.layers.recurrent.LSTMCell object at 0x7ffa567fd8d0> has the same name 'LSTMCell' as a built-in Keras object. Consider renaming <class 'keras.layers.recurrent.LSTMCell'> to avoid naming conflicts when loading with `tf.keras.models.load_model`. If renaming is not possible, pass the object in the `custom_objects` parameter of the load function.\n"
          ]
        },
        {
          "output_type": "stream",
          "name": "stdout",
          "text": [
            "\b\b\b\b\b\b\b\b\b\b\b\b\b\b\b\b\b\b\b\b\b\b\b\b\b\b\b\b\b\b\b\b\b\b\b\b\b\b\b\b\b\b\b\b\b\b\b\b\b\b\b\b\b\b\b\b\b\b\b\b\b\b\b\b\b\b\b\b\b\b\b\b\b\b\b\b\r32/32 [==============================] - 34s 1s/step - loss: 2.6702 - R2: 0.0295 - val_loss: 2.6816 - val_R2: 0.0659\n",
            "Epoch 29/150\n",
            "32/32 [==============================] - 30s 924ms/step - loss: 2.6079 - R2: 0.0579 - val_loss: 2.7001 - val_R2: 0.0568\n",
            "Epoch 30/150\n",
            "32/32 [==============================] - ETA: 0s - loss: 2.5895 - R2: 0.0641INFO:tensorflow:Assets written to: models_4/best_model_30/assets\n"
          ]
        },
        {
          "output_type": "stream",
          "name": "stderr",
          "text": [
            "INFO:tensorflow:Assets written to: models_4/best_model_30/assets\n",
            "WARNING:absl:<keras.layers.recurrent.LSTMCell object at 0x7ffa53d35110> has the same name 'LSTMCell' as a built-in Keras object. Consider renaming <class 'keras.layers.recurrent.LSTMCell'> to avoid naming conflicts when loading with `tf.keras.models.load_model`. If renaming is not possible, pass the object in the `custom_objects` parameter of the load function.\n",
            "WARNING:absl:<keras.layers.recurrent.LSTMCell object at 0x7ffa567fd8d0> has the same name 'LSTMCell' as a built-in Keras object. Consider renaming <class 'keras.layers.recurrent.LSTMCell'> to avoid naming conflicts when loading with `tf.keras.models.load_model`. If renaming is not possible, pass the object in the `custom_objects` parameter of the load function.\n"
          ]
        },
        {
          "output_type": "stream",
          "name": "stdout",
          "text": [
            "\b\b\b\b\b\b\b\b\b\b\b\b\b\b\b\b\b\b\b\b\b\b\b\b\b\b\b\b\b\b\b\b\b\b\b\b\b\b\b\b\b\b\b\b\b\b\b\b\b\b\b\b\b\b\b\b\b\b\b\b\b\b\b\b\b\b\b\b\b\b\b\b\b\b\b\b\r32/32 [==============================] - 35s 1s/step - loss: 2.5895 - R2: 0.0641 - val_loss: 2.6315 - val_R2: 0.0829\n",
            "Epoch 31/150\n",
            "32/32 [==============================] - ETA: 0s - loss: 2.5491 - R2: 0.0752INFO:tensorflow:Assets written to: models_4/best_model_31/assets\n"
          ]
        },
        {
          "output_type": "stream",
          "name": "stderr",
          "text": [
            "INFO:tensorflow:Assets written to: models_4/best_model_31/assets\n",
            "WARNING:absl:<keras.layers.recurrent.LSTMCell object at 0x7ffa53d35110> has the same name 'LSTMCell' as a built-in Keras object. Consider renaming <class 'keras.layers.recurrent.LSTMCell'> to avoid naming conflicts when loading with `tf.keras.models.load_model`. If renaming is not possible, pass the object in the `custom_objects` parameter of the load function.\n",
            "WARNING:absl:<keras.layers.recurrent.LSTMCell object at 0x7ffa567fd8d0> has the same name 'LSTMCell' as a built-in Keras object. Consider renaming <class 'keras.layers.recurrent.LSTMCell'> to avoid naming conflicts when loading with `tf.keras.models.load_model`. If renaming is not possible, pass the object in the `custom_objects` parameter of the load function.\n"
          ]
        },
        {
          "output_type": "stream",
          "name": "stdout",
          "text": [
            "\b\b\b\b\b\b\b\b\b\b\b\b\b\b\b\b\b\b\b\b\b\b\b\b\b\b\b\b\b\b\b\b\b\b\b\b\b\b\b\b\b\b\b\b\b\b\b\b\b\b\b\b\b\b\b\b\b\b\b\b\b\b\b\b\b\b\b\b\b\b\b\b\b\b\b\b\r32/32 [==============================] - 35s 1s/step - loss: 2.5491 - R2: 0.0752 - val_loss: 2.5383 - val_R2: 0.1171\n",
            "Epoch 32/150\n",
            "32/32 [==============================] - ETA: 0s - loss: 2.4852 - R2: 0.1016INFO:tensorflow:Assets written to: models_4/best_model_32/assets\n"
          ]
        },
        {
          "output_type": "stream",
          "name": "stderr",
          "text": [
            "INFO:tensorflow:Assets written to: models_4/best_model_32/assets\n",
            "WARNING:absl:<keras.layers.recurrent.LSTMCell object at 0x7ffa53d35110> has the same name 'LSTMCell' as a built-in Keras object. Consider renaming <class 'keras.layers.recurrent.LSTMCell'> to avoid naming conflicts when loading with `tf.keras.models.load_model`. If renaming is not possible, pass the object in the `custom_objects` parameter of the load function.\n",
            "WARNING:absl:<keras.layers.recurrent.LSTMCell object at 0x7ffa567fd8d0> has the same name 'LSTMCell' as a built-in Keras object. Consider renaming <class 'keras.layers.recurrent.LSTMCell'> to avoid naming conflicts when loading with `tf.keras.models.load_model`. If renaming is not possible, pass the object in the `custom_objects` parameter of the load function.\n"
          ]
        },
        {
          "output_type": "stream",
          "name": "stdout",
          "text": [
            "\b\b\b\b\b\b\b\b\b\b\b\b\b\b\b\b\b\b\b\b\b\b\b\b\b\b\b\b\b\b\b\b\b\b\b\b\b\b\b\b\b\b\b\b\b\b\b\b\b\b\b\b\b\b\b\b\b\b\b\b\b\b\b\b\b\b\b\b\b\b\b\b\b\b\b\b\r32/32 [==============================] - 35s 1s/step - loss: 2.4852 - R2: 0.1016 - val_loss: 2.4949 - val_R2: 0.1318\n",
            "Epoch 33/150\n",
            "32/32 [==============================] - ETA: 0s - loss: 2.4785 - R2: 0.1062INFO:tensorflow:Assets written to: models_4/best_model_33/assets\n"
          ]
        },
        {
          "output_type": "stream",
          "name": "stderr",
          "text": [
            "INFO:tensorflow:Assets written to: models_4/best_model_33/assets\n",
            "WARNING:absl:<keras.layers.recurrent.LSTMCell object at 0x7ffa53d35110> has the same name 'LSTMCell' as a built-in Keras object. Consider renaming <class 'keras.layers.recurrent.LSTMCell'> to avoid naming conflicts when loading with `tf.keras.models.load_model`. If renaming is not possible, pass the object in the `custom_objects` parameter of the load function.\n",
            "WARNING:absl:<keras.layers.recurrent.LSTMCell object at 0x7ffa567fd8d0> has the same name 'LSTMCell' as a built-in Keras object. Consider renaming <class 'keras.layers.recurrent.LSTMCell'> to avoid naming conflicts when loading with `tf.keras.models.load_model`. If renaming is not possible, pass the object in the `custom_objects` parameter of the load function.\n"
          ]
        },
        {
          "output_type": "stream",
          "name": "stdout",
          "text": [
            "\b\b\b\b\b\b\b\b\b\b\b\b\b\b\b\b\b\b\b\b\b\b\b\b\b\b\b\b\b\b\b\b\b\b\b\b\b\b\b\b\b\b\b\b\b\b\b\b\b\b\b\b\b\b\b\b\b\b\b\b\b\b\b\b\b\b\b\b\b\b\b\b\b\b\b\b\r32/32 [==============================] - 34s 1s/step - loss: 2.4785 - R2: 0.1062 - val_loss: 2.4839 - val_R2: 0.1362\n",
            "Epoch 34/150\n",
            "32/32 [==============================] - ETA: 0s - loss: 2.3684 - R2: 0.1403INFO:tensorflow:Assets written to: models_4/best_model_34/assets\n"
          ]
        },
        {
          "output_type": "stream",
          "name": "stderr",
          "text": [
            "INFO:tensorflow:Assets written to: models_4/best_model_34/assets\n",
            "WARNING:absl:<keras.layers.recurrent.LSTMCell object at 0x7ffa53d35110> has the same name 'LSTMCell' as a built-in Keras object. Consider renaming <class 'keras.layers.recurrent.LSTMCell'> to avoid naming conflicts when loading with `tf.keras.models.load_model`. If renaming is not possible, pass the object in the `custom_objects` parameter of the load function.\n",
            "WARNING:absl:<keras.layers.recurrent.LSTMCell object at 0x7ffa567fd8d0> has the same name 'LSTMCell' as a built-in Keras object. Consider renaming <class 'keras.layers.recurrent.LSTMCell'> to avoid naming conflicts when loading with `tf.keras.models.load_model`. If renaming is not possible, pass the object in the `custom_objects` parameter of the load function.\n"
          ]
        },
        {
          "output_type": "stream",
          "name": "stdout",
          "text": [
            "\b\b\b\b\b\b\b\b\b\b\b\b\b\b\b\b\b\b\b\b\b\b\b\b\b\b\b\b\b\b\b\b\b\b\b\b\b\b\b\b\b\b\b\b\b\b\b\b\b\b\b\b\b\b\b\b\b\b\b\b\b\b\b\b\b\b\b\b\b\b\b\b\b\b\b\b\r32/32 [==============================] - 35s 1s/step - loss: 2.3684 - R2: 0.1403 - val_loss: 2.4262 - val_R2: 0.1563\n",
            "Epoch 35/150\n",
            "32/32 [==============================] - ETA: 0s - loss: 2.2794 - R2: 0.1768INFO:tensorflow:Assets written to: models_4/best_model_35/assets\n"
          ]
        },
        {
          "output_type": "stream",
          "name": "stderr",
          "text": [
            "INFO:tensorflow:Assets written to: models_4/best_model_35/assets\n",
            "WARNING:absl:<keras.layers.recurrent.LSTMCell object at 0x7ffa53d35110> has the same name 'LSTMCell' as a built-in Keras object. Consider renaming <class 'keras.layers.recurrent.LSTMCell'> to avoid naming conflicts when loading with `tf.keras.models.load_model`. If renaming is not possible, pass the object in the `custom_objects` parameter of the load function.\n",
            "WARNING:absl:<keras.layers.recurrent.LSTMCell object at 0x7ffa567fd8d0> has the same name 'LSTMCell' as a built-in Keras object. Consider renaming <class 'keras.layers.recurrent.LSTMCell'> to avoid naming conflicts when loading with `tf.keras.models.load_model`. If renaming is not possible, pass the object in the `custom_objects` parameter of the load function.\n"
          ]
        },
        {
          "output_type": "stream",
          "name": "stdout",
          "text": [
            "\b\b\b\b\b\b\b\b\b\b\b\b\b\b\b\b\b\b\b\b\b\b\b\b\b\b\b\b\b\b\b\b\b\b\b\b\b\b\b\b\b\b\b\b\b\b\b\b\b\b\b\b\b\b\b\b\b\b\b\b\b\b\b\b\b\b\b\b\b\b\b\b\b\b\b\b\r32/32 [==============================] - 35s 1s/step - loss: 2.2794 - R2: 0.1768 - val_loss: 2.3447 - val_R2: 0.1855\n",
            "Epoch 36/150\n",
            "32/32 [==============================] - 29s 921ms/step - loss: 2.2426 - R2: 0.1857 - val_loss: 2.4536 - val_R2: 0.1452\n",
            "Epoch 37/150\n",
            "32/32 [==============================] - ETA: 0s - loss: 2.2389 - R2: 0.1880INFO:tensorflow:Assets written to: models_4/best_model_37/assets\n"
          ]
        },
        {
          "output_type": "stream",
          "name": "stderr",
          "text": [
            "INFO:tensorflow:Assets written to: models_4/best_model_37/assets\n",
            "WARNING:absl:<keras.layers.recurrent.LSTMCell object at 0x7ffa53d35110> has the same name 'LSTMCell' as a built-in Keras object. Consider renaming <class 'keras.layers.recurrent.LSTMCell'> to avoid naming conflicts when loading with `tf.keras.models.load_model`. If renaming is not possible, pass the object in the `custom_objects` parameter of the load function.\n",
            "WARNING:absl:<keras.layers.recurrent.LSTMCell object at 0x7ffa567fd8d0> has the same name 'LSTMCell' as a built-in Keras object. Consider renaming <class 'keras.layers.recurrent.LSTMCell'> to avoid naming conflicts when loading with `tf.keras.models.load_model`. If renaming is not possible, pass the object in the `custom_objects` parameter of the load function.\n"
          ]
        },
        {
          "output_type": "stream",
          "name": "stdout",
          "text": [
            "\b\b\b\b\b\b\b\b\b\b\b\b\b\b\b\b\b\b\b\b\b\b\b\b\b\b\b\b\b\b\b\b\b\b\b\b\b\b\b\b\b\b\b\b\b\b\b\b\b\b\b\b\b\b\b\b\b\b\b\b\b\b\b\b\b\b\b\b\b\b\b\b\b\b\b\b\r32/32 [==============================] - 35s 1s/step - loss: 2.2389 - R2: 0.1880 - val_loss: 2.2888 - val_R2: 0.2056\n",
            "Epoch 38/150\n",
            "32/32 [==============================] - ETA: 0s - loss: 2.1835 - R2: 0.2108INFO:tensorflow:Assets written to: models_4/best_model_38/assets\n"
          ]
        },
        {
          "output_type": "stream",
          "name": "stderr",
          "text": [
            "INFO:tensorflow:Assets written to: models_4/best_model_38/assets\n",
            "WARNING:absl:<keras.layers.recurrent.LSTMCell object at 0x7ffa53d35110> has the same name 'LSTMCell' as a built-in Keras object. Consider renaming <class 'keras.layers.recurrent.LSTMCell'> to avoid naming conflicts when loading with `tf.keras.models.load_model`. If renaming is not possible, pass the object in the `custom_objects` parameter of the load function.\n",
            "WARNING:absl:<keras.layers.recurrent.LSTMCell object at 0x7ffa567fd8d0> has the same name 'LSTMCell' as a built-in Keras object. Consider renaming <class 'keras.layers.recurrent.LSTMCell'> to avoid naming conflicts when loading with `tf.keras.models.load_model`. If renaming is not possible, pass the object in the `custom_objects` parameter of the load function.\n"
          ]
        },
        {
          "output_type": "stream",
          "name": "stdout",
          "text": [
            "\b\b\b\b\b\b\b\b\b\b\b\b\b\b\b\b\b\b\b\b\b\b\b\b\b\b\b\b\b\b\b\b\b\b\b\b\b\b\b\b\b\b\b\b\b\b\b\b\b\b\b\b\b\b\b\b\b\b\b\b\b\b\b\b\b\b\b\b\b\b\b\b\b\b\b\b\r32/32 [==============================] - 34s 1s/step - loss: 2.1835 - R2: 0.2108 - val_loss: 2.2457 - val_R2: 0.2202\n",
            "Epoch 39/150\n",
            "32/32 [==============================] - ETA: 0s - loss: 2.0979 - R2: 0.2434INFO:tensorflow:Assets written to: models_4/best_model_39/assets\n"
          ]
        },
        {
          "output_type": "stream",
          "name": "stderr",
          "text": [
            "INFO:tensorflow:Assets written to: models_4/best_model_39/assets\n",
            "WARNING:absl:<keras.layers.recurrent.LSTMCell object at 0x7ffa53d35110> has the same name 'LSTMCell' as a built-in Keras object. Consider renaming <class 'keras.layers.recurrent.LSTMCell'> to avoid naming conflicts when loading with `tf.keras.models.load_model`. If renaming is not possible, pass the object in the `custom_objects` parameter of the load function.\n",
            "WARNING:absl:<keras.layers.recurrent.LSTMCell object at 0x7ffa567fd8d0> has the same name 'LSTMCell' as a built-in Keras object. Consider renaming <class 'keras.layers.recurrent.LSTMCell'> to avoid naming conflicts when loading with `tf.keras.models.load_model`. If renaming is not possible, pass the object in the `custom_objects` parameter of the load function.\n"
          ]
        },
        {
          "output_type": "stream",
          "name": "stdout",
          "text": [
            "\b\b\b\b\b\b\b\b\b\b\b\b\b\b\b\b\b\b\b\b\b\b\b\b\b\b\b\b\b\b\b\b\b\b\b\b\b\b\b\b\b\b\b\b\b\b\b\b\b\b\b\b\b\b\b\b\b\b\b\b\b\b\b\b\b\b\b\b\b\b\b\b\b\b\b\b\r32/32 [==============================] - 35s 1s/step - loss: 2.0979 - R2: 0.2434 - val_loss: 2.1607 - val_R2: 0.2367\n",
            "Epoch 40/150\n",
            "32/32 [==============================] - 29s 920ms/step - loss: 2.1158 - R2: 0.2370 - val_loss: 2.1756 - val_R2: 0.2438\n",
            "Epoch 41/150\n",
            "32/32 [==============================] - 29s 922ms/step - loss: 2.0902 - R2: 0.2447 - val_loss: 2.2417 - val_R2: 0.2221\n",
            "Epoch 42/150\n",
            "32/32 [==============================] - ETA: 0s - loss: 2.0510 - R2: 0.2566INFO:tensorflow:Assets written to: models_4/best_model_42/assets\n"
          ]
        },
        {
          "output_type": "stream",
          "name": "stderr",
          "text": [
            "INFO:tensorflow:Assets written to: models_4/best_model_42/assets\n",
            "WARNING:absl:<keras.layers.recurrent.LSTMCell object at 0x7ffa53d35110> has the same name 'LSTMCell' as a built-in Keras object. Consider renaming <class 'keras.layers.recurrent.LSTMCell'> to avoid naming conflicts when loading with `tf.keras.models.load_model`. If renaming is not possible, pass the object in the `custom_objects` parameter of the load function.\n",
            "WARNING:absl:<keras.layers.recurrent.LSTMCell object at 0x7ffa567fd8d0> has the same name 'LSTMCell' as a built-in Keras object. Consider renaming <class 'keras.layers.recurrent.LSTMCell'> to avoid naming conflicts when loading with `tf.keras.models.load_model`. If renaming is not possible, pass the object in the `custom_objects` parameter of the load function.\n"
          ]
        },
        {
          "output_type": "stream",
          "name": "stdout",
          "text": [
            "\b\b\b\b\b\b\b\b\b\b\b\b\b\b\b\b\b\b\b\b\b\b\b\b\b\b\b\b\b\b\b\b\b\b\b\b\b\b\b\b\b\b\b\b\b\b\b\b\b\b\b\b\b\b\b\b\b\b\b\b\b\b\b\b\b\b\b\b\b\b\b\b\b\b\b\b\r32/32 [==============================] - 35s 1s/step - loss: 2.0510 - R2: 0.2566 - val_loss: 2.1110 - val_R2: 0.2683\n",
            "Epoch 43/150\n",
            "32/32 [==============================] - ETA: 0s - loss: 1.9842 - R2: 0.2845INFO:tensorflow:Assets written to: models_4/best_model_43/assets\n"
          ]
        },
        {
          "output_type": "stream",
          "name": "stderr",
          "text": [
            "INFO:tensorflow:Assets written to: models_4/best_model_43/assets\n",
            "WARNING:absl:<keras.layers.recurrent.LSTMCell object at 0x7ffa53d35110> has the same name 'LSTMCell' as a built-in Keras object. Consider renaming <class 'keras.layers.recurrent.LSTMCell'> to avoid naming conflicts when loading with `tf.keras.models.load_model`. If renaming is not possible, pass the object in the `custom_objects` parameter of the load function.\n",
            "WARNING:absl:<keras.layers.recurrent.LSTMCell object at 0x7ffa567fd8d0> has the same name 'LSTMCell' as a built-in Keras object. Consider renaming <class 'keras.layers.recurrent.LSTMCell'> to avoid naming conflicts when loading with `tf.keras.models.load_model`. If renaming is not possible, pass the object in the `custom_objects` parameter of the load function.\n"
          ]
        },
        {
          "output_type": "stream",
          "name": "stdout",
          "text": [
            "\b\b\b\b\b\b\b\b\b\b\b\b\b\b\b\b\b\b\b\b\b\b\b\b\b\b\b\b\b\b\b\b\b\b\b\b\b\b\b\b\b\b\b\b\b\b\b\b\b\b\b\b\b\b\b\b\b\b\b\b\b\b\b\b\b\b\b\b\b\b\b\b\b\b\b\b\r32/32 [==============================] - 35s 1s/step - loss: 1.9842 - R2: 0.2845 - val_loss: 2.1033 - val_R2: 0.2698\n",
            "Epoch 44/150\n",
            "32/32 [==============================] - 30s 924ms/step - loss: 1.9335 - R2: 0.3033 - val_loss: 2.1522 - val_R2: 0.2550\n",
            "Epoch 45/150\n",
            "32/32 [==============================] - ETA: 0s - loss: 1.9379 - R2: 0.2987INFO:tensorflow:Assets written to: models_4/best_model_45/assets\n"
          ]
        },
        {
          "output_type": "stream",
          "name": "stderr",
          "text": [
            "INFO:tensorflow:Assets written to: models_4/best_model_45/assets\n",
            "WARNING:absl:<keras.layers.recurrent.LSTMCell object at 0x7ffa53d35110> has the same name 'LSTMCell' as a built-in Keras object. Consider renaming <class 'keras.layers.recurrent.LSTMCell'> to avoid naming conflicts when loading with `tf.keras.models.load_model`. If renaming is not possible, pass the object in the `custom_objects` parameter of the load function.\n",
            "WARNING:absl:<keras.layers.recurrent.LSTMCell object at 0x7ffa567fd8d0> has the same name 'LSTMCell' as a built-in Keras object. Consider renaming <class 'keras.layers.recurrent.LSTMCell'> to avoid naming conflicts when loading with `tf.keras.models.load_model`. If renaming is not possible, pass the object in the `custom_objects` parameter of the load function.\n"
          ]
        },
        {
          "output_type": "stream",
          "name": "stdout",
          "text": [
            "\b\b\b\b\b\b\b\b\b\b\b\b\b\b\b\b\b\b\b\b\b\b\b\b\b\b\b\b\b\b\b\b\b\b\b\b\b\b\b\b\b\b\b\b\b\b\b\b\b\b\b\b\b\b\b\b\b\b\b\b\b\b\b\b\b\b\b\b\b\b\b\b\b\b\b\b\r32/32 [==============================] - 34s 1s/step - loss: 1.9379 - R2: 0.2987 - val_loss: 2.0028 - val_R2: 0.3045\n",
            "Epoch 46/150\n",
            "32/32 [==============================] - 30s 928ms/step - loss: 1.9014 - R2: 0.3134 - val_loss: 2.1235 - val_R2: 0.2594\n",
            "Epoch 47/150\n",
            "32/32 [==============================] - ETA: 0s - loss: 1.8905 - R2: 0.3142INFO:tensorflow:Assets written to: models_4/best_model_47/assets\n"
          ]
        },
        {
          "output_type": "stream",
          "name": "stderr",
          "text": [
            "INFO:tensorflow:Assets written to: models_4/best_model_47/assets\n",
            "WARNING:absl:<keras.layers.recurrent.LSTMCell object at 0x7ffa53d35110> has the same name 'LSTMCell' as a built-in Keras object. Consider renaming <class 'keras.layers.recurrent.LSTMCell'> to avoid naming conflicts when loading with `tf.keras.models.load_model`. If renaming is not possible, pass the object in the `custom_objects` parameter of the load function.\n",
            "WARNING:absl:<keras.layers.recurrent.LSTMCell object at 0x7ffa567fd8d0> has the same name 'LSTMCell' as a built-in Keras object. Consider renaming <class 'keras.layers.recurrent.LSTMCell'> to avoid naming conflicts when loading with `tf.keras.models.load_model`. If renaming is not possible, pass the object in the `custom_objects` parameter of the load function.\n"
          ]
        },
        {
          "output_type": "stream",
          "name": "stdout",
          "text": [
            "\b\b\b\b\b\b\b\b\b\b\b\b\b\b\b\b\b\b\b\b\b\b\b\b\b\b\b\b\b\b\b\b\b\b\b\b\b\b\b\b\b\b\b\b\b\b\b\b\b\b\b\b\b\b\b\b\b\b\b\b\b\b\b\b\b\b\b\b\b\b\b\b\b\b\b\b\r32/32 [==============================] - 35s 1s/step - loss: 1.8905 - R2: 0.3142 - val_loss: 1.9562 - val_R2: 0.3202\n",
            "Epoch 48/150\n",
            "32/32 [==============================] - 30s 925ms/step - loss: 1.8282 - R2: 0.3404 - val_loss: 1.9576 - val_R2: 0.3177\n",
            "Epoch 49/150\n",
            "32/32 [==============================] - ETA: 0s - loss: 1.8850 - R2: 0.3173INFO:tensorflow:Assets written to: models_4/best_model_49/assets\n"
          ]
        },
        {
          "output_type": "stream",
          "name": "stderr",
          "text": [
            "INFO:tensorflow:Assets written to: models_4/best_model_49/assets\n",
            "WARNING:absl:<keras.layers.recurrent.LSTMCell object at 0x7ffa53d35110> has the same name 'LSTMCell' as a built-in Keras object. Consider renaming <class 'keras.layers.recurrent.LSTMCell'> to avoid naming conflicts when loading with `tf.keras.models.load_model`. If renaming is not possible, pass the object in the `custom_objects` parameter of the load function.\n",
            "WARNING:absl:<keras.layers.recurrent.LSTMCell object at 0x7ffa567fd8d0> has the same name 'LSTMCell' as a built-in Keras object. Consider renaming <class 'keras.layers.recurrent.LSTMCell'> to avoid naming conflicts when loading with `tf.keras.models.load_model`. If renaming is not possible, pass the object in the `custom_objects` parameter of the load function.\n"
          ]
        },
        {
          "output_type": "stream",
          "name": "stdout",
          "text": [
            "\b\b\b\b\b\b\b\b\b\b\b\b\b\b\b\b\b\b\b\b\b\b\b\b\b\b\b\b\b\b\b\b\b\b\b\b\b\b\b\b\b\b\b\b\b\b\b\b\b\b\b\b\b\b\b\b\b\b\b\b\b\b\b\b\b\b\b\b\b\b\b\b\b\b\b\b\r32/32 [==============================] - 35s 1s/step - loss: 1.8850 - R2: 0.3173 - val_loss: 1.9293 - val_R2: 0.3221\n",
            "Epoch 50/150\n",
            "32/32 [==============================] - 30s 923ms/step - loss: 1.8015 - R2: 0.3475 - val_loss: 1.9429 - val_R2: 0.3120\n",
            "Epoch 51/150\n",
            "32/32 [==============================] - ETA: 0s - loss: 1.7996 - R2: 0.3474INFO:tensorflow:Assets written to: models_4/best_model_51/assets\n"
          ]
        },
        {
          "output_type": "stream",
          "name": "stderr",
          "text": [
            "INFO:tensorflow:Assets written to: models_4/best_model_51/assets\n",
            "WARNING:absl:<keras.layers.recurrent.LSTMCell object at 0x7ffa53d35110> has the same name 'LSTMCell' as a built-in Keras object. Consider renaming <class 'keras.layers.recurrent.LSTMCell'> to avoid naming conflicts when loading with `tf.keras.models.load_model`. If renaming is not possible, pass the object in the `custom_objects` parameter of the load function.\n",
            "WARNING:absl:<keras.layers.recurrent.LSTMCell object at 0x7ffa567fd8d0> has the same name 'LSTMCell' as a built-in Keras object. Consider renaming <class 'keras.layers.recurrent.LSTMCell'> to avoid naming conflicts when loading with `tf.keras.models.load_model`. If renaming is not possible, pass the object in the `custom_objects` parameter of the load function.\n"
          ]
        },
        {
          "output_type": "stream",
          "name": "stdout",
          "text": [
            "\b\b\b\b\b\b\b\b\b\b\b\b\b\b\b\b\b\b\b\b\b\b\b\b\b\b\b\b\b\b\b\b\b\b\b\b\b\b\b\b\b\b\b\b\b\b\b\b\b\b\b\b\b\b\b\b\b\b\b\b\b\b\b\b\b\b\b\b\b\b\b\b\b\b\b\b\r32/32 [==============================] - 35s 1s/step - loss: 1.7996 - R2: 0.3474 - val_loss: 1.8142 - val_R2: 0.3596\n",
            "Epoch 52/150\n",
            "32/32 [==============================] - ETA: 0s - loss: 1.7321 - R2: 0.3686INFO:tensorflow:Assets written to: models_4/best_model_52/assets\n"
          ]
        },
        {
          "output_type": "stream",
          "name": "stderr",
          "text": [
            "INFO:tensorflow:Assets written to: models_4/best_model_52/assets\n",
            "WARNING:absl:<keras.layers.recurrent.LSTMCell object at 0x7ffa53d35110> has the same name 'LSTMCell' as a built-in Keras object. Consider renaming <class 'keras.layers.recurrent.LSTMCell'> to avoid naming conflicts when loading with `tf.keras.models.load_model`. If renaming is not possible, pass the object in the `custom_objects` parameter of the load function.\n",
            "WARNING:absl:<keras.layers.recurrent.LSTMCell object at 0x7ffa567fd8d0> has the same name 'LSTMCell' as a built-in Keras object. Consider renaming <class 'keras.layers.recurrent.LSTMCell'> to avoid naming conflicts when loading with `tf.keras.models.load_model`. If renaming is not possible, pass the object in the `custom_objects` parameter of the load function.\n"
          ]
        },
        {
          "output_type": "stream",
          "name": "stdout",
          "text": [
            "\b\b\b\b\b\b\b\b\b\b\b\b\b\b\b\b\b\b\b\b\b\b\b\b\b\b\b\b\b\b\b\b\b\b\b\b\b\b\b\b\b\b\b\b\b\b\b\b\b\b\b\b\b\b\b\b\b\b\b\b\b\b\b\b\b\b\b\b\b\b\b\b\b\b\b\b\r32/32 [==============================] - 34s 1s/step - loss: 1.7321 - R2: 0.3686 - val_loss: 1.7756 - val_R2: 0.3727\n",
            "Epoch 53/150\n",
            "32/32 [==============================] - 29s 923ms/step - loss: 1.7222 - R2: 0.3646 - val_loss: 2.0283 - val_R2: 0.2894\n",
            "Epoch 54/150\n",
            "32/32 [==============================] - 30s 925ms/step - loss: 1.7337 - R2: 0.3709 - val_loss: 1.8261 - val_R2: 0.3538\n",
            "Epoch 55/150\n",
            "32/32 [==============================] - 30s 926ms/step - loss: 1.7471 - R2: 0.3644 - val_loss: 1.7892 - val_R2: 0.3631\n",
            "Epoch 56/150\n",
            "32/32 [==============================] - 30s 929ms/step - loss: 1.7074 - R2: 0.3745 - val_loss: 1.7768 - val_R2: 0.3714\n",
            "Epoch 57/150\n",
            "32/32 [==============================] - ETA: 0s - loss: 1.6728 - R2: 0.3884INFO:tensorflow:Assets written to: models_4/best_model_57/assets\n"
          ]
        },
        {
          "output_type": "stream",
          "name": "stderr",
          "text": [
            "INFO:tensorflow:Assets written to: models_4/best_model_57/assets\n",
            "WARNING:absl:<keras.layers.recurrent.LSTMCell object at 0x7ffa53d35110> has the same name 'LSTMCell' as a built-in Keras object. Consider renaming <class 'keras.layers.recurrent.LSTMCell'> to avoid naming conflicts when loading with `tf.keras.models.load_model`. If renaming is not possible, pass the object in the `custom_objects` parameter of the load function.\n",
            "WARNING:absl:<keras.layers.recurrent.LSTMCell object at 0x7ffa567fd8d0> has the same name 'LSTMCell' as a built-in Keras object. Consider renaming <class 'keras.layers.recurrent.LSTMCell'> to avoid naming conflicts when loading with `tf.keras.models.load_model`. If renaming is not possible, pass the object in the `custom_objects` parameter of the load function.\n"
          ]
        },
        {
          "output_type": "stream",
          "name": "stdout",
          "text": [
            "\b\b\b\b\b\b\b\b\b\b\b\b\b\b\b\b\b\b\b\b\b\b\b\b\b\b\b\b\b\b\b\b\b\b\b\b\b\b\b\b\b\b\b\b\b\b\b\b\b\b\b\b\b\b\b\b\b\b\b\b\b\b\b\b\b\b\b\b\b\b\b\b\b\b\b\b\r32/32 [==============================] - 35s 1s/step - loss: 1.6728 - R2: 0.3884 - val_loss: 1.7437 - val_R2: 0.3805\n",
            "Epoch 58/150\n",
            "32/32 [==============================] - ETA: 0s - loss: 1.6209 - R2: 0.4073INFO:tensorflow:Assets written to: models_4/best_model_58/assets\n"
          ]
        },
        {
          "output_type": "stream",
          "name": "stderr",
          "text": [
            "INFO:tensorflow:Assets written to: models_4/best_model_58/assets\n",
            "WARNING:absl:<keras.layers.recurrent.LSTMCell object at 0x7ffa53d35110> has the same name 'LSTMCell' as a built-in Keras object. Consider renaming <class 'keras.layers.recurrent.LSTMCell'> to avoid naming conflicts when loading with `tf.keras.models.load_model`. If renaming is not possible, pass the object in the `custom_objects` parameter of the load function.\n",
            "WARNING:absl:<keras.layers.recurrent.LSTMCell object at 0x7ffa567fd8d0> has the same name 'LSTMCell' as a built-in Keras object. Consider renaming <class 'keras.layers.recurrent.LSTMCell'> to avoid naming conflicts when loading with `tf.keras.models.load_model`. If renaming is not possible, pass the object in the `custom_objects` parameter of the load function.\n"
          ]
        },
        {
          "output_type": "stream",
          "name": "stdout",
          "text": [
            "\b\b\b\b\b\b\b\b\b\b\b\b\b\b\b\b\b\b\b\b\b\b\b\b\b\b\b\b\b\b\b\b\b\b\b\b\b\b\b\b\b\b\b\b\b\b\b\b\b\b\b\b\b\b\b\b\b\b\b\b\b\b\b\b\b\b\b\b\b\b\b\b\b\b\b\b\r32/32 [==============================] - 35s 1s/step - loss: 1.6209 - R2: 0.4073 - val_loss: 1.7261 - val_R2: 0.3863\n",
            "Epoch 59/150\n",
            "32/32 [==============================] - 29s 922ms/step - loss: 1.6526 - R2: 0.3957 - val_loss: 1.8246 - val_R2: 0.3544\n",
            "Epoch 60/150\n",
            "32/32 [==============================] - ETA: 0s - loss: 1.6589 - R2: 0.4017INFO:tensorflow:Assets written to: models_4/best_model_60/assets\n"
          ]
        },
        {
          "output_type": "stream",
          "name": "stderr",
          "text": [
            "INFO:tensorflow:Assets written to: models_4/best_model_60/assets\n",
            "WARNING:absl:<keras.layers.recurrent.LSTMCell object at 0x7ffa53d35110> has the same name 'LSTMCell' as a built-in Keras object. Consider renaming <class 'keras.layers.recurrent.LSTMCell'> to avoid naming conflicts when loading with `tf.keras.models.load_model`. If renaming is not possible, pass the object in the `custom_objects` parameter of the load function.\n",
            "WARNING:absl:<keras.layers.recurrent.LSTMCell object at 0x7ffa567fd8d0> has the same name 'LSTMCell' as a built-in Keras object. Consider renaming <class 'keras.layers.recurrent.LSTMCell'> to avoid naming conflicts when loading with `tf.keras.models.load_model`. If renaming is not possible, pass the object in the `custom_objects` parameter of the load function.\n"
          ]
        },
        {
          "output_type": "stream",
          "name": "stdout",
          "text": [
            "\b\b\b\b\b\b\b\b\b\b\b\b\b\b\b\b\b\b\b\b\b\b\b\b\b\b\b\b\b\b\b\b\b\b\b\b\b\b\b\b\b\b\b\b\b\b\b\b\b\b\b\b\b\b\b\b\b\b\b\b\b\b\b\b\b\b\b\b\b\b\b\b\b\b\b\b\r32/32 [==============================] - 35s 1s/step - loss: 1.6589 - R2: 0.4017 - val_loss: 1.6913 - val_R2: 0.3986\n",
            "Epoch 61/150\n",
            "32/32 [==============================] - 30s 923ms/step - loss: 1.6460 - R2: 0.3968 - val_loss: 1.7653 - val_R2: 0.3719\n",
            "Epoch 62/150\n",
            "32/32 [==============================] - 30s 924ms/step - loss: 1.6107 - R2: 0.4132 - val_loss: 1.7300 - val_R2: 0.3849\n",
            "Epoch 63/150\n",
            "32/32 [==============================] - 30s 925ms/step - loss: 1.5570 - R2: 0.4296 - val_loss: 1.7022 - val_R2: 0.3929\n",
            "Epoch 64/150\n",
            "32/32 [==============================] - ETA: 0s - loss: 1.5786 - R2: 0.4194INFO:tensorflow:Assets written to: models_4/best_model_64/assets\n"
          ]
        },
        {
          "output_type": "stream",
          "name": "stderr",
          "text": [
            "INFO:tensorflow:Assets written to: models_4/best_model_64/assets\n",
            "WARNING:absl:<keras.layers.recurrent.LSTMCell object at 0x7ffa53d35110> has the same name 'LSTMCell' as a built-in Keras object. Consider renaming <class 'keras.layers.recurrent.LSTMCell'> to avoid naming conflicts when loading with `tf.keras.models.load_model`. If renaming is not possible, pass the object in the `custom_objects` parameter of the load function.\n",
            "WARNING:absl:<keras.layers.recurrent.LSTMCell object at 0x7ffa567fd8d0> has the same name 'LSTMCell' as a built-in Keras object. Consider renaming <class 'keras.layers.recurrent.LSTMCell'> to avoid naming conflicts when loading with `tf.keras.models.load_model`. If renaming is not possible, pass the object in the `custom_objects` parameter of the load function.\n"
          ]
        },
        {
          "output_type": "stream",
          "name": "stdout",
          "text": [
            "\b\b\b\b\b\b\b\b\b\b\b\b\b\b\b\b\b\b\b\b\b\b\b\b\b\b\b\b\b\b\b\b\b\b\b\b\b\b\b\b\b\b\b\b\b\b\b\b\b\b\b\b\b\b\b\b\b\b\b\b\b\b\b\b\b\b\b\b\b\b\b\b\b\b\b\b\r32/32 [==============================] - 34s 1s/step - loss: 1.5786 - R2: 0.4194 - val_loss: 1.6654 - val_R2: 0.4070\n",
            "Epoch 65/150\n",
            "32/32 [==============================] - ETA: 0s - loss: 1.5842 - R2: 0.4223INFO:tensorflow:Assets written to: models_4/best_model_65/assets\n"
          ]
        },
        {
          "output_type": "stream",
          "name": "stderr",
          "text": [
            "INFO:tensorflow:Assets written to: models_4/best_model_65/assets\n",
            "WARNING:absl:<keras.layers.recurrent.LSTMCell object at 0x7ffa53d35110> has the same name 'LSTMCell' as a built-in Keras object. Consider renaming <class 'keras.layers.recurrent.LSTMCell'> to avoid naming conflicts when loading with `tf.keras.models.load_model`. If renaming is not possible, pass the object in the `custom_objects` parameter of the load function.\n",
            "WARNING:absl:<keras.layers.recurrent.LSTMCell object at 0x7ffa567fd8d0> has the same name 'LSTMCell' as a built-in Keras object. Consider renaming <class 'keras.layers.recurrent.LSTMCell'> to avoid naming conflicts when loading with `tf.keras.models.load_model`. If renaming is not possible, pass the object in the `custom_objects` parameter of the load function.\n"
          ]
        },
        {
          "output_type": "stream",
          "name": "stdout",
          "text": [
            "\b\b\b\b\b\b\b\b\b\b\b\b\b\b\b\b\b\b\b\b\b\b\b\b\b\b\b\b\b\b\b\b\b\b\b\b\b\b\b\b\b\b\b\b\b\b\b\b\b\b\b\b\b\b\b\b\b\b\b\b\b\b\b\b\b\b\b\b\b\b\b\b\b\b\b\b\r32/32 [==============================] - 35s 1s/step - loss: 1.5842 - R2: 0.4223 - val_loss: 1.6521 - val_R2: 0.4119\n",
            "Epoch 66/150\n",
            "32/32 [==============================] - ETA: 0s - loss: 1.5008 - R2: 0.4467INFO:tensorflow:Assets written to: models_4/best_model_66/assets\n"
          ]
        },
        {
          "output_type": "stream",
          "name": "stderr",
          "text": [
            "INFO:tensorflow:Assets written to: models_4/best_model_66/assets\n",
            "WARNING:absl:<keras.layers.recurrent.LSTMCell object at 0x7ffa53d35110> has the same name 'LSTMCell' as a built-in Keras object. Consider renaming <class 'keras.layers.recurrent.LSTMCell'> to avoid naming conflicts when loading with `tf.keras.models.load_model`. If renaming is not possible, pass the object in the `custom_objects` parameter of the load function.\n",
            "WARNING:absl:<keras.layers.recurrent.LSTMCell object at 0x7ffa567fd8d0> has the same name 'LSTMCell' as a built-in Keras object. Consider renaming <class 'keras.layers.recurrent.LSTMCell'> to avoid naming conflicts when loading with `tf.keras.models.load_model`. If renaming is not possible, pass the object in the `custom_objects` parameter of the load function.\n"
          ]
        },
        {
          "output_type": "stream",
          "name": "stdout",
          "text": [
            "\b\b\b\b\b\b\b\b\b\b\b\b\b\b\b\b\b\b\b\b\b\b\b\b\b\b\b\b\b\b\b\b\b\b\b\b\b\b\b\b\b\b\b\b\b\b\b\b\b\b\b\b\b\b\b\b\b\b\b\b\b\b\b\b\b\b\b\b\b\b\b\b\b\b\b\b\r32/32 [==============================] - 35s 1s/step - loss: 1.5008 - R2: 0.4467 - val_loss: 1.5649 - val_R2: 0.4372\n",
            "Epoch 67/150\n",
            "32/32 [==============================] - 30s 926ms/step - loss: 1.5101 - R2: 0.4489 - val_loss: 1.6361 - val_R2: 0.4177\n",
            "Epoch 68/150\n",
            "32/32 [==============================] - ETA: 0s - loss: 1.4941 - R2: 0.4485INFO:tensorflow:Assets written to: models_4/best_model_68/assets\n"
          ]
        },
        {
          "output_type": "stream",
          "name": "stderr",
          "text": [
            "INFO:tensorflow:Assets written to: models_4/best_model_68/assets\n",
            "WARNING:absl:<keras.layers.recurrent.LSTMCell object at 0x7ffa53d35110> has the same name 'LSTMCell' as a built-in Keras object. Consider renaming <class 'keras.layers.recurrent.LSTMCell'> to avoid naming conflicts when loading with `tf.keras.models.load_model`. If renaming is not possible, pass the object in the `custom_objects` parameter of the load function.\n",
            "WARNING:absl:<keras.layers.recurrent.LSTMCell object at 0x7ffa567fd8d0> has the same name 'LSTMCell' as a built-in Keras object. Consider renaming <class 'keras.layers.recurrent.LSTMCell'> to avoid naming conflicts when loading with `tf.keras.models.load_model`. If renaming is not possible, pass the object in the `custom_objects` parameter of the load function.\n"
          ]
        },
        {
          "output_type": "stream",
          "name": "stdout",
          "text": [
            "\b\b\b\b\b\b\b\b\b\b\b\b\b\b\b\b\b\b\b\b\b\b\b\b\b\b\b\b\b\b\b\b\b\b\b\b\b\b\b\b\b\b\b\b\b\b\b\b\b\b\b\b\b\b\b\b\b\b\b\b\b\b\b\b\b\b\b\b\b\b\b\b\b\b\b\b\r32/32 [==============================] - 40s 1s/step - loss: 1.4941 - R2: 0.4485 - val_loss: 1.5573 - val_R2: 0.4391\n",
            "Epoch 69/150\n",
            "32/32 [==============================] - 30s 924ms/step - loss: 1.4784 - R2: 0.4563 - val_loss: 1.5897 - val_R2: 0.4301\n",
            "Epoch 70/150\n",
            "32/32 [==============================] - ETA: 0s - loss: 1.4517 - R2: 0.4690INFO:tensorflow:Assets written to: models_4/best_model_70/assets\n"
          ]
        },
        {
          "output_type": "stream",
          "name": "stderr",
          "text": [
            "INFO:tensorflow:Assets written to: models_4/best_model_70/assets\n",
            "WARNING:absl:<keras.layers.recurrent.LSTMCell object at 0x7ffa53d35110> has the same name 'LSTMCell' as a built-in Keras object. Consider renaming <class 'keras.layers.recurrent.LSTMCell'> to avoid naming conflicts when loading with `tf.keras.models.load_model`. If renaming is not possible, pass the object in the `custom_objects` parameter of the load function.\n",
            "WARNING:absl:<keras.layers.recurrent.LSTMCell object at 0x7ffa567fd8d0> has the same name 'LSTMCell' as a built-in Keras object. Consider renaming <class 'keras.layers.recurrent.LSTMCell'> to avoid naming conflicts when loading with `tf.keras.models.load_model`. If renaming is not possible, pass the object in the `custom_objects` parameter of the load function.\n"
          ]
        },
        {
          "output_type": "stream",
          "name": "stdout",
          "text": [
            "\b\b\b\b\b\b\b\b\b\b\b\b\b\b\b\b\b\b\b\b\b\b\b\b\b\b\b\b\b\b\b\b\b\b\b\b\b\b\b\b\b\b\b\b\b\b\b\b\b\b\b\b\b\b\b\b\b\b\b\b\b\b\b\b\b\b\b\b\b\b\b\b\b\b\b\b\r32/32 [==============================] - 35s 1s/step - loss: 1.4517 - R2: 0.4690 - val_loss: 1.5287 - val_R2: 0.4471\n",
            "Epoch 71/150\n",
            "32/32 [==============================] - ETA: 0s - loss: 1.4125 - R2: 0.4795INFO:tensorflow:Assets written to: models_4/best_model_71/assets\n"
          ]
        },
        {
          "output_type": "stream",
          "name": "stderr",
          "text": [
            "INFO:tensorflow:Assets written to: models_4/best_model_71/assets\n",
            "WARNING:absl:<keras.layers.recurrent.LSTMCell object at 0x7ffa53d35110> has the same name 'LSTMCell' as a built-in Keras object. Consider renaming <class 'keras.layers.recurrent.LSTMCell'> to avoid naming conflicts when loading with `tf.keras.models.load_model`. If renaming is not possible, pass the object in the `custom_objects` parameter of the load function.\n",
            "WARNING:absl:<keras.layers.recurrent.LSTMCell object at 0x7ffa567fd8d0> has the same name 'LSTMCell' as a built-in Keras object. Consider renaming <class 'keras.layers.recurrent.LSTMCell'> to avoid naming conflicts when loading with `tf.keras.models.load_model`. If renaming is not possible, pass the object in the `custom_objects` parameter of the load function.\n"
          ]
        },
        {
          "output_type": "stream",
          "name": "stdout",
          "text": [
            "\b\b\b\b\b\b\b\b\b\b\b\b\b\b\b\b\b\b\b\b\b\b\b\b\b\b\b\b\b\b\b\b\b\b\b\b\b\b\b\b\b\b\b\b\b\b\b\b\b\b\b\b\b\b\b\b\b\b\b\b\b\b\b\b\b\b\b\b\b\b\b\b\b\b\b\b\r32/32 [==============================] - 36s 1s/step - loss: 1.4125 - R2: 0.4795 - val_loss: 1.4911 - val_R2: 0.4641\n",
            "Epoch 72/150\n",
            "32/32 [==============================] - ETA: 0s - loss: 1.4100 - R2: 0.4814INFO:tensorflow:Assets written to: models_4/best_model_72/assets\n"
          ]
        },
        {
          "output_type": "stream",
          "name": "stderr",
          "text": [
            "INFO:tensorflow:Assets written to: models_4/best_model_72/assets\n",
            "WARNING:absl:<keras.layers.recurrent.LSTMCell object at 0x7ffa53d35110> has the same name 'LSTMCell' as a built-in Keras object. Consider renaming <class 'keras.layers.recurrent.LSTMCell'> to avoid naming conflicts when loading with `tf.keras.models.load_model`. If renaming is not possible, pass the object in the `custom_objects` parameter of the load function.\n",
            "WARNING:absl:<keras.layers.recurrent.LSTMCell object at 0x7ffa567fd8d0> has the same name 'LSTMCell' as a built-in Keras object. Consider renaming <class 'keras.layers.recurrent.LSTMCell'> to avoid naming conflicts when loading with `tf.keras.models.load_model`. If renaming is not possible, pass the object in the `custom_objects` parameter of the load function.\n"
          ]
        },
        {
          "output_type": "stream",
          "name": "stdout",
          "text": [
            "\b\b\b\b\b\b\b\b\b\b\b\b\b\b\b\b\b\b\b\b\b\b\b\b\b\b\b\b\b\b\b\b\b\b\b\b\b\b\b\b\b\b\b\b\b\b\b\b\b\b\b\b\b\b\b\b\b\b\b\b\b\b\b\b\b\b\b\b\b\b\b\b\b\b\b\b\r32/32 [==============================] - 35s 1s/step - loss: 1.4100 - R2: 0.4814 - val_loss: 1.4851 - val_R2: 0.4647\n",
            "Epoch 73/150\n",
            "32/32 [==============================] - 30s 926ms/step - loss: 1.4255 - R2: 0.4706 - val_loss: 1.4967 - val_R2: 0.4595\n",
            "Epoch 74/150\n",
            "32/32 [==============================] - 30s 924ms/step - loss: 1.4279 - R2: 0.4760 - val_loss: 1.5028 - val_R2: 0.4587\n",
            "Epoch 75/150\n",
            "32/32 [==============================] - ETA: 0s - loss: 1.3509 - R2: 0.5051INFO:tensorflow:Assets written to: models_4/best_model_75/assets\n"
          ]
        },
        {
          "output_type": "stream",
          "name": "stderr",
          "text": [
            "INFO:tensorflow:Assets written to: models_4/best_model_75/assets\n",
            "WARNING:absl:<keras.layers.recurrent.LSTMCell object at 0x7ffa53d35110> has the same name 'LSTMCell' as a built-in Keras object. Consider renaming <class 'keras.layers.recurrent.LSTMCell'> to avoid naming conflicts when loading with `tf.keras.models.load_model`. If renaming is not possible, pass the object in the `custom_objects` parameter of the load function.\n",
            "WARNING:absl:<keras.layers.recurrent.LSTMCell object at 0x7ffa567fd8d0> has the same name 'LSTMCell' as a built-in Keras object. Consider renaming <class 'keras.layers.recurrent.LSTMCell'> to avoid naming conflicts when loading with `tf.keras.models.load_model`. If renaming is not possible, pass the object in the `custom_objects` parameter of the load function.\n"
          ]
        },
        {
          "output_type": "stream",
          "name": "stdout",
          "text": [
            "\b\b\b\b\b\b\b\b\b\b\b\b\b\b\b\b\b\b\b\b\b\b\b\b\b\b\b\b\b\b\b\b\b\b\b\b\b\b\b\b\b\b\b\b\b\b\b\b\b\b\b\b\b\b\b\b\b\b\b\b\b\b\b\b\b\b\b\b\b\b\b\b\b\b\b\b\r32/32 [==============================] - 34s 1s/step - loss: 1.3509 - R2: 0.5051 - val_loss: 1.4421 - val_R2: 0.4799\n",
            "Epoch 76/150\n",
            "32/32 [==============================] - ETA: 0s - loss: 1.3712 - R2: 0.4996INFO:tensorflow:Assets written to: models_4/best_model_76/assets\n"
          ]
        },
        {
          "output_type": "stream",
          "name": "stderr",
          "text": [
            "INFO:tensorflow:Assets written to: models_4/best_model_76/assets\n",
            "WARNING:absl:<keras.layers.recurrent.LSTMCell object at 0x7ffa53d35110> has the same name 'LSTMCell' as a built-in Keras object. Consider renaming <class 'keras.layers.recurrent.LSTMCell'> to avoid naming conflicts when loading with `tf.keras.models.load_model`. If renaming is not possible, pass the object in the `custom_objects` parameter of the load function.\n",
            "WARNING:absl:<keras.layers.recurrent.LSTMCell object at 0x7ffa567fd8d0> has the same name 'LSTMCell' as a built-in Keras object. Consider renaming <class 'keras.layers.recurrent.LSTMCell'> to avoid naming conflicts when loading with `tf.keras.models.load_model`. If renaming is not possible, pass the object in the `custom_objects` parameter of the load function.\n"
          ]
        },
        {
          "output_type": "stream",
          "name": "stdout",
          "text": [
            "\b\b\b\b\b\b\b\b\b\b\b\b\b\b\b\b\b\b\b\b\b\b\b\b\b\b\b\b\b\b\b\b\b\b\b\b\b\b\b\b\b\b\b\b\b\b\b\b\b\b\b\b\b\b\b\b\b\b\b\b\b\b\b\b\b\b\b\b\b\b\b\b\b\b\b\b\r32/32 [==============================] - 35s 1s/step - loss: 1.3712 - R2: 0.4996 - val_loss: 1.4405 - val_R2: 0.4807\n",
            "Epoch 77/150\n",
            "32/32 [==============================] - 30s 928ms/step - loss: 1.3478 - R2: 0.5071 - val_loss: 1.4824 - val_R2: 0.4703\n",
            "Epoch 78/150\n",
            "32/32 [==============================] - 30s 928ms/step - loss: 1.3270 - R2: 0.5163 - val_loss: 1.4752 - val_R2: 0.4706\n",
            "Epoch 79/150\n",
            "32/32 [==============================] - ETA: 0s - loss: 1.3396 - R2: 0.5051INFO:tensorflow:Assets written to: models_4/best_model_79/assets\n"
          ]
        },
        {
          "output_type": "stream",
          "name": "stderr",
          "text": [
            "INFO:tensorflow:Assets written to: models_4/best_model_79/assets\n",
            "WARNING:absl:<keras.layers.recurrent.LSTMCell object at 0x7ffa53d35110> has the same name 'LSTMCell' as a built-in Keras object. Consider renaming <class 'keras.layers.recurrent.LSTMCell'> to avoid naming conflicts when loading with `tf.keras.models.load_model`. If renaming is not possible, pass the object in the `custom_objects` parameter of the load function.\n",
            "WARNING:absl:<keras.layers.recurrent.LSTMCell object at 0x7ffa567fd8d0> has the same name 'LSTMCell' as a built-in Keras object. Consider renaming <class 'keras.layers.recurrent.LSTMCell'> to avoid naming conflicts when loading with `tf.keras.models.load_model`. If renaming is not possible, pass the object in the `custom_objects` parameter of the load function.\n"
          ]
        },
        {
          "output_type": "stream",
          "name": "stdout",
          "text": [
            "\b\b\b\b\b\b\b\b\b\b\b\b\b\b\b\b\b\b\b\b\b\b\b\b\b\b\b\b\b\b\b\b\b\b\b\b\b\b\b\b\b\b\b\b\b\b\b\b\b\b\b\b\b\b\b\b\b\b\b\b\b\b\b\b\b\b\b\b\b\b\b\b\b\b\b\b\r32/32 [==============================] - 35s 1s/step - loss: 1.3396 - R2: 0.5051 - val_loss: 1.4215 - val_R2: 0.4865\n",
            "Epoch 80/150\n",
            "32/32 [==============================] - 29s 920ms/step - loss: 1.4239 - R2: 0.4849 - val_loss: 1.5203 - val_R2: 0.4610\n",
            "Epoch 81/150\n",
            "32/32 [==============================] - 30s 926ms/step - loss: 1.3300 - R2: 0.5090 - val_loss: 1.4861 - val_R2: 0.4654\n",
            "Epoch 82/150\n",
            "32/32 [==============================] - 30s 927ms/step - loss: 1.2970 - R2: 0.5232 - val_loss: 1.4286 - val_R2: 0.4865\n",
            "Epoch 83/150\n",
            "32/32 [==============================] - 30s 923ms/step - loss: 1.2457 - R2: 0.5402 - val_loss: 1.4545 - val_R2: 0.4797\n",
            "Epoch 84/150\n",
            "32/32 [==============================] - ETA: 0s - loss: 1.2456 - R2: 0.5395INFO:tensorflow:Assets written to: models_4/best_model_84/assets\n"
          ]
        },
        {
          "output_type": "stream",
          "name": "stderr",
          "text": [
            "INFO:tensorflow:Assets written to: models_4/best_model_84/assets\n",
            "WARNING:absl:<keras.layers.recurrent.LSTMCell object at 0x7ffa53d35110> has the same name 'LSTMCell' as a built-in Keras object. Consider renaming <class 'keras.layers.recurrent.LSTMCell'> to avoid naming conflicts when loading with `tf.keras.models.load_model`. If renaming is not possible, pass the object in the `custom_objects` parameter of the load function.\n",
            "WARNING:absl:<keras.layers.recurrent.LSTMCell object at 0x7ffa567fd8d0> has the same name 'LSTMCell' as a built-in Keras object. Consider renaming <class 'keras.layers.recurrent.LSTMCell'> to avoid naming conflicts when loading with `tf.keras.models.load_model`. If renaming is not possible, pass the object in the `custom_objects` parameter of the load function.\n"
          ]
        },
        {
          "output_type": "stream",
          "name": "stdout",
          "text": [
            "\b\b\b\b\b\b\b\b\b\b\b\b\b\b\b\b\b\b\b\b\b\b\b\b\b\b\b\b\b\b\b\b\b\b\b\b\b\b\b\b\b\b\b\b\b\b\b\b\b\b\b\b\b\b\b\b\b\b\b\b\b\b\b\b\b\b\b\b\b\b\b\b\b\b\b\b\r32/32 [==============================] - 34s 1s/step - loss: 1.2456 - R2: 0.5395 - val_loss: 1.4134 - val_R2: 0.4871\n",
            "Epoch 85/150\n",
            "32/32 [==============================] - ETA: 0s - loss: 1.2038 - R2: 0.5624INFO:tensorflow:Assets written to: models_4/best_model_85/assets\n"
          ]
        },
        {
          "output_type": "stream",
          "name": "stderr",
          "text": [
            "INFO:tensorflow:Assets written to: models_4/best_model_85/assets\n",
            "WARNING:absl:<keras.layers.recurrent.LSTMCell object at 0x7ffa53d35110> has the same name 'LSTMCell' as a built-in Keras object. Consider renaming <class 'keras.layers.recurrent.LSTMCell'> to avoid naming conflicts when loading with `tf.keras.models.load_model`. If renaming is not possible, pass the object in the `custom_objects` parameter of the load function.\n",
            "WARNING:absl:<keras.layers.recurrent.LSTMCell object at 0x7ffa567fd8d0> has the same name 'LSTMCell' as a built-in Keras object. Consider renaming <class 'keras.layers.recurrent.LSTMCell'> to avoid naming conflicts when loading with `tf.keras.models.load_model`. If renaming is not possible, pass the object in the `custom_objects` parameter of the load function.\n"
          ]
        },
        {
          "output_type": "stream",
          "name": "stdout",
          "text": [
            "\b\b\b\b\b\b\b\b\b\b\b\b\b\b\b\b\b\b\b\b\b\b\b\b\b\b\b\b\b\b\b\b\b\b\b\b\b\b\b\b\b\b\b\b\b\b\b\b\b\b\b\b\b\b\b\b\b\b\b\b\b\b\b\b\b\b\b\b\b\b\b\b\b\b\b\b\r32/32 [==============================] - 35s 1s/step - loss: 1.2038 - R2: 0.5624 - val_loss: 1.3830 - val_R2: 0.5004\n",
            "Epoch 86/150\n",
            "32/32 [==============================] - 29s 921ms/step - loss: 1.2631 - R2: 0.5429 - val_loss: 1.4121 - val_R2: 0.4873\n",
            "Epoch 87/150\n",
            "32/32 [==============================] - ETA: 0s - loss: 1.1868 - R2: 0.5633INFO:tensorflow:Assets written to: models_4/best_model_87/assets\n"
          ]
        },
        {
          "output_type": "stream",
          "name": "stderr",
          "text": [
            "INFO:tensorflow:Assets written to: models_4/best_model_87/assets\n",
            "WARNING:absl:<keras.layers.recurrent.LSTMCell object at 0x7ffa53d35110> has the same name 'LSTMCell' as a built-in Keras object. Consider renaming <class 'keras.layers.recurrent.LSTMCell'> to avoid naming conflicts when loading with `tf.keras.models.load_model`. If renaming is not possible, pass the object in the `custom_objects` parameter of the load function.\n",
            "WARNING:absl:<keras.layers.recurrent.LSTMCell object at 0x7ffa567fd8d0> has the same name 'LSTMCell' as a built-in Keras object. Consider renaming <class 'keras.layers.recurrent.LSTMCell'> to avoid naming conflicts when loading with `tf.keras.models.load_model`. If renaming is not possible, pass the object in the `custom_objects` parameter of the load function.\n"
          ]
        },
        {
          "output_type": "stream",
          "name": "stdout",
          "text": [
            "\b\b\b\b\b\b\b\b\b\b\b\b\b\b\b\b\b\b\b\b\b\b\b\b\b\b\b\b\b\b\b\b\b\b\b\b\b\b\b\b\b\b\b\b\b\b\b\b\b\b\b\b\b\b\b\b\b\b\b\b\b\b\b\b\b\b\b\b\b\b\b\b\b\b\b\b\r32/32 [==============================] - 35s 1s/step - loss: 1.1868 - R2: 0.5633 - val_loss: 1.3616 - val_R2: 0.5140\n",
            "Epoch 88/150\n",
            "32/32 [==============================] - ETA: 0s - loss: 1.1767 - R2: 0.5672INFO:tensorflow:Assets written to: models_4/best_model_88/assets\n"
          ]
        },
        {
          "output_type": "stream",
          "name": "stderr",
          "text": [
            "INFO:tensorflow:Assets written to: models_4/best_model_88/assets\n",
            "WARNING:absl:<keras.layers.recurrent.LSTMCell object at 0x7ffa53d35110> has the same name 'LSTMCell' as a built-in Keras object. Consider renaming <class 'keras.layers.recurrent.LSTMCell'> to avoid naming conflicts when loading with `tf.keras.models.load_model`. If renaming is not possible, pass the object in the `custom_objects` parameter of the load function.\n",
            "WARNING:absl:<keras.layers.recurrent.LSTMCell object at 0x7ffa567fd8d0> has the same name 'LSTMCell' as a built-in Keras object. Consider renaming <class 'keras.layers.recurrent.LSTMCell'> to avoid naming conflicts when loading with `tf.keras.models.load_model`. If renaming is not possible, pass the object in the `custom_objects` parameter of the load function.\n"
          ]
        },
        {
          "output_type": "stream",
          "name": "stdout",
          "text": [
            "\b\b\b\b\b\b\b\b\b\b\b\b\b\b\b\b\b\b\b\b\b\b\b\b\b\b\b\b\b\b\b\b\b\b\b\b\b\b\b\b\b\b\b\b\b\b\b\b\b\b\b\b\b\b\b\b\b\b\b\b\b\b\b\b\b\b\b\b\b\b\b\b\b\b\b\b\r32/32 [==============================] - 35s 1s/step - loss: 1.1767 - R2: 0.5672 - val_loss: 1.3602 - val_R2: 0.5119\n",
            "Epoch 89/150\n",
            "32/32 [==============================] - ETA: 0s - loss: 1.1286 - R2: 0.5781INFO:tensorflow:Assets written to: models_4/best_model_89/assets\n"
          ]
        },
        {
          "output_type": "stream",
          "name": "stderr",
          "text": [
            "INFO:tensorflow:Assets written to: models_4/best_model_89/assets\n",
            "WARNING:absl:<keras.layers.recurrent.LSTMCell object at 0x7ffa53d35110> has the same name 'LSTMCell' as a built-in Keras object. Consider renaming <class 'keras.layers.recurrent.LSTMCell'> to avoid naming conflicts when loading with `tf.keras.models.load_model`. If renaming is not possible, pass the object in the `custom_objects` parameter of the load function.\n",
            "WARNING:absl:<keras.layers.recurrent.LSTMCell object at 0x7ffa567fd8d0> has the same name 'LSTMCell' as a built-in Keras object. Consider renaming <class 'keras.layers.recurrent.LSTMCell'> to avoid naming conflicts when loading with `tf.keras.models.load_model`. If renaming is not possible, pass the object in the `custom_objects` parameter of the load function.\n"
          ]
        },
        {
          "output_type": "stream",
          "name": "stdout",
          "text": [
            "\b\b\b\b\b\b\b\b\b\b\b\b\b\b\b\b\b\b\b\b\b\b\b\b\b\b\b\b\b\b\b\b\b\b\b\b\b\b\b\b\b\b\b\b\b\b\b\b\b\b\b\b\b\b\b\b\b\b\b\b\b\b\b\b\b\b\b\b\b\b\b\b\b\b\b\b\r32/32 [==============================] - 34s 1s/step - loss: 1.1286 - R2: 0.5781 - val_loss: 1.3537 - val_R2: 0.5169\n",
            "Epoch 90/150\n",
            "32/32 [==============================] - ETA: 0s - loss: 1.1112 - R2: 0.5896INFO:tensorflow:Assets written to: models_4/best_model_90/assets\n"
          ]
        },
        {
          "output_type": "stream",
          "name": "stderr",
          "text": [
            "INFO:tensorflow:Assets written to: models_4/best_model_90/assets\n",
            "WARNING:absl:<keras.layers.recurrent.LSTMCell object at 0x7ffa53d35110> has the same name 'LSTMCell' as a built-in Keras object. Consider renaming <class 'keras.layers.recurrent.LSTMCell'> to avoid naming conflicts when loading with `tf.keras.models.load_model`. If renaming is not possible, pass the object in the `custom_objects` parameter of the load function.\n",
            "WARNING:absl:<keras.layers.recurrent.LSTMCell object at 0x7ffa567fd8d0> has the same name 'LSTMCell' as a built-in Keras object. Consider renaming <class 'keras.layers.recurrent.LSTMCell'> to avoid naming conflicts when loading with `tf.keras.models.load_model`. If renaming is not possible, pass the object in the `custom_objects` parameter of the load function.\n"
          ]
        },
        {
          "output_type": "stream",
          "name": "stdout",
          "text": [
            "\b\b\b\b\b\b\b\b\b\b\b\b\b\b\b\b\b\b\b\b\b\b\b\b\b\b\b\b\b\b\b\b\b\b\b\b\b\b\b\b\b\b\b\b\b\b\b\b\b\b\b\b\b\b\b\b\b\b\b\b\b\b\b\b\b\b\b\b\b\b\b\b\b\b\b\b\r32/32 [==============================] - 35s 1s/step - loss: 1.1112 - R2: 0.5896 - val_loss: 1.3322 - val_R2: 0.5265\n",
            "Epoch 91/150\n",
            "32/32 [==============================] - ETA: 0s - loss: 1.1287 - R2: 0.5828INFO:tensorflow:Assets written to: models_4/best_model_91/assets\n"
          ]
        },
        {
          "output_type": "stream",
          "name": "stderr",
          "text": [
            "INFO:tensorflow:Assets written to: models_4/best_model_91/assets\n",
            "WARNING:absl:<keras.layers.recurrent.LSTMCell object at 0x7ffa53d35110> has the same name 'LSTMCell' as a built-in Keras object. Consider renaming <class 'keras.layers.recurrent.LSTMCell'> to avoid naming conflicts when loading with `tf.keras.models.load_model`. If renaming is not possible, pass the object in the `custom_objects` parameter of the load function.\n",
            "WARNING:absl:<keras.layers.recurrent.LSTMCell object at 0x7ffa567fd8d0> has the same name 'LSTMCell' as a built-in Keras object. Consider renaming <class 'keras.layers.recurrent.LSTMCell'> to avoid naming conflicts when loading with `tf.keras.models.load_model`. If renaming is not possible, pass the object in the `custom_objects` parameter of the load function.\n"
          ]
        },
        {
          "output_type": "stream",
          "name": "stdout",
          "text": [
            "\b\b\b\b\b\b\b\b\b\b\b\b\b\b\b\b\b\b\b\b\b\b\b\b\b\b\b\b\b\b\b\b\b\b\b\b\b\b\b\b\b\b\b\b\b\b\b\b\b\b\b\b\b\b\b\b\b\b\b\b\b\b\b\b\b\b\b\b\b\b\b\b\b\b\b\b\r32/32 [==============================] - 35s 1s/step - loss: 1.1287 - R2: 0.5828 - val_loss: 1.2858 - val_R2: 0.5405\n",
            "Epoch 92/150\n",
            "32/32 [==============================] - 29s 919ms/step - loss: 1.1297 - R2: 0.5858 - val_loss: 1.3390 - val_R2: 0.5193\n",
            "Epoch 93/150\n",
            "32/32 [==============================] - 30s 923ms/step - loss: 1.1096 - R2: 0.5903 - val_loss: 1.2909 - val_R2: 0.5368\n",
            "Epoch 94/150\n",
            "32/32 [==============================] - 30s 924ms/step - loss: 1.0710 - R2: 0.6059 - val_loss: 1.3124 - val_R2: 0.5290\n",
            "Epoch 95/150\n",
            "32/32 [==============================] - ETA: 0s - loss: 1.0216 - R2: 0.6209INFO:tensorflow:Assets written to: models_4/best_model_95/assets\n"
          ]
        },
        {
          "output_type": "stream",
          "name": "stderr",
          "text": [
            "INFO:tensorflow:Assets written to: models_4/best_model_95/assets\n",
            "WARNING:absl:<keras.layers.recurrent.LSTMCell object at 0x7ffa53d35110> has the same name 'LSTMCell' as a built-in Keras object. Consider renaming <class 'keras.layers.recurrent.LSTMCell'> to avoid naming conflicts when loading with `tf.keras.models.load_model`. If renaming is not possible, pass the object in the `custom_objects` parameter of the load function.\n",
            "WARNING:absl:<keras.layers.recurrent.LSTMCell object at 0x7ffa567fd8d0> has the same name 'LSTMCell' as a built-in Keras object. Consider renaming <class 'keras.layers.recurrent.LSTMCell'> to avoid naming conflicts when loading with `tf.keras.models.load_model`. If renaming is not possible, pass the object in the `custom_objects` parameter of the load function.\n"
          ]
        },
        {
          "output_type": "stream",
          "name": "stdout",
          "text": [
            "\b\b\b\b\b\b\b\b\b\b\b\b\b\b\b\b\b\b\b\b\b\b\b\b\b\b\b\b\b\b\b\b\b\b\b\b\b\b\b\b\b\b\b\b\b\b\b\b\b\b\b\b\b\b\b\b\b\b\b\b\b\b\b\b\b\b\b\b\b\b\b\b\b\b\b\b\r32/32 [==============================] - 35s 1s/step - loss: 1.0216 - R2: 0.6209 - val_loss: 1.2593 - val_R2: 0.5480\n",
            "Epoch 96/150\n",
            "32/32 [==============================] - 30s 931ms/step - loss: 1.0528 - R2: 0.6142 - val_loss: 1.3090 - val_R2: 0.5331\n",
            "Epoch 97/150\n",
            "32/32 [==============================] - 29s 922ms/step - loss: 1.0293 - R2: 0.6239 - val_loss: 1.3356 - val_R2: 0.5196\n",
            "Epoch 98/150\n",
            "32/32 [==============================] - 29s 920ms/step - loss: 0.9984 - R2: 0.6289 - val_loss: 1.2598 - val_R2: 0.5495\n",
            "Epoch 99/150\n",
            "32/32 [==============================] - ETA: 0s - loss: 0.9966 - R2: 0.6318INFO:tensorflow:Assets written to: models_4/best_model_99/assets\n"
          ]
        },
        {
          "output_type": "stream",
          "name": "stderr",
          "text": [
            "INFO:tensorflow:Assets written to: models_4/best_model_99/assets\n",
            "WARNING:absl:<keras.layers.recurrent.LSTMCell object at 0x7ffa53d35110> has the same name 'LSTMCell' as a built-in Keras object. Consider renaming <class 'keras.layers.recurrent.LSTMCell'> to avoid naming conflicts when loading with `tf.keras.models.load_model`. If renaming is not possible, pass the object in the `custom_objects` parameter of the load function.\n",
            "WARNING:absl:<keras.layers.recurrent.LSTMCell object at 0x7ffa567fd8d0> has the same name 'LSTMCell' as a built-in Keras object. Consider renaming <class 'keras.layers.recurrent.LSTMCell'> to avoid naming conflicts when loading with `tf.keras.models.load_model`. If renaming is not possible, pass the object in the `custom_objects` parameter of the load function.\n"
          ]
        },
        {
          "output_type": "stream",
          "name": "stdout",
          "text": [
            "\b\b\b\b\b\b\b\b\b\b\b\b\b\b\b\b\b\b\b\b\b\b\b\b\b\b\b\b\b\b\b\b\b\b\b\b\b\b\b\b\b\b\b\b\b\b\b\b\b\b\b\b\b\b\b\b\b\b\b\b\b\b\b\b\b\b\b\b\b\b\b\b\b\b\b\b\r32/32 [==============================] - 34s 1s/step - loss: 0.9966 - R2: 0.6318 - val_loss: 1.2516 - val_R2: 0.5514\n",
            "Epoch 100/150\n",
            "32/32 [==============================] - 30s 925ms/step - loss: 0.9898 - R2: 0.6365 - val_loss: 1.2842 - val_R2: 0.5419\n",
            "Epoch 101/150\n",
            "32/32 [==============================] - ETA: 0s - loss: 0.9568 - R2: 0.6481INFO:tensorflow:Assets written to: models_4/best_model_101/assets\n"
          ]
        },
        {
          "output_type": "stream",
          "name": "stderr",
          "text": [
            "INFO:tensorflow:Assets written to: models_4/best_model_101/assets\n",
            "WARNING:absl:<keras.layers.recurrent.LSTMCell object at 0x7ffa53d35110> has the same name 'LSTMCell' as a built-in Keras object. Consider renaming <class 'keras.layers.recurrent.LSTMCell'> to avoid naming conflicts when loading with `tf.keras.models.load_model`. If renaming is not possible, pass the object in the `custom_objects` parameter of the load function.\n",
            "WARNING:absl:<keras.layers.recurrent.LSTMCell object at 0x7ffa567fd8d0> has the same name 'LSTMCell' as a built-in Keras object. Consider renaming <class 'keras.layers.recurrent.LSTMCell'> to avoid naming conflicts when loading with `tf.keras.models.load_model`. If renaming is not possible, pass the object in the `custom_objects` parameter of the load function.\n"
          ]
        },
        {
          "output_type": "stream",
          "name": "stdout",
          "text": [
            "\b\b\b\b\b\b\b\b\b\b\b\b\b\b\b\b\b\b\b\b\b\b\b\b\b\b\b\b\b\b\b\b\b\b\b\b\b\b\b\b\b\b\b\b\b\b\b\b\b\b\b\b\b\b\b\b\b\b\b\b\b\b\b\b\b\b\b\b\b\b\b\b\b\b\b\b\r32/32 [==============================] - 35s 1s/step - loss: 0.9568 - R2: 0.6481 - val_loss: 1.1946 - val_R2: 0.5691\n",
            "Epoch 102/150\n",
            "32/32 [==============================] - ETA: 0s - loss: 0.9395 - R2: 0.6558INFO:tensorflow:Assets written to: models_4/best_model_102/assets\n"
          ]
        },
        {
          "output_type": "stream",
          "name": "stderr",
          "text": [
            "INFO:tensorflow:Assets written to: models_4/best_model_102/assets\n",
            "WARNING:absl:<keras.layers.recurrent.LSTMCell object at 0x7ffa53d35110> has the same name 'LSTMCell' as a built-in Keras object. Consider renaming <class 'keras.layers.recurrent.LSTMCell'> to avoid naming conflicts when loading with `tf.keras.models.load_model`. If renaming is not possible, pass the object in the `custom_objects` parameter of the load function.\n",
            "WARNING:absl:<keras.layers.recurrent.LSTMCell object at 0x7ffa567fd8d0> has the same name 'LSTMCell' as a built-in Keras object. Consider renaming <class 'keras.layers.recurrent.LSTMCell'> to avoid naming conflicts when loading with `tf.keras.models.load_model`. If renaming is not possible, pass the object in the `custom_objects` parameter of the load function.\n"
          ]
        },
        {
          "output_type": "stream",
          "name": "stdout",
          "text": [
            "\b\b\b\b\b\b\b\b\b\b\b\b\b\b\b\b\b\b\b\b\b\b\b\b\b\b\b\b\b\b\b\b\b\b\b\b\b\b\b\b\b\b\b\b\b\b\b\b\b\b\b\b\b\b\b\b\b\b\b\b\b\b\b\b\b\b\b\b\b\b\b\b\b\b\b\b\r32/32 [==============================] - 35s 1s/step - loss: 0.9395 - R2: 0.6558 - val_loss: 1.1917 - val_R2: 0.5742\n",
            "Epoch 103/150\n",
            "32/32 [==============================] - 29s 921ms/step - loss: 0.9240 - R2: 0.6599 - val_loss: 1.2106 - val_R2: 0.5675\n",
            "Epoch 104/150\n",
            "32/32 [==============================] - 29s 921ms/step - loss: 0.9126 - R2: 0.6578 - val_loss: 1.2457 - val_R2: 0.5563\n",
            "Epoch 105/150\n",
            "32/32 [==============================] - 29s 923ms/step - loss: 0.9233 - R2: 0.6639 - val_loss: 1.3145 - val_R2: 0.5316\n",
            "Epoch 106/150\n",
            "32/32 [==============================] - 30s 925ms/step - loss: 0.9638 - R2: 0.6494 - val_loss: 1.2292 - val_R2: 0.5578\n",
            "Epoch 107/150\n",
            "32/32 [==============================] - 29s 917ms/step - loss: 0.9067 - R2: 0.6616 - val_loss: 1.2158 - val_R2: 0.5627\n",
            "Epoch 108/150\n",
            "32/32 [==============================] - 29s 922ms/step - loss: 0.8898 - R2: 0.6761 - val_loss: 1.2122 - val_R2: 0.5631\n",
            "Epoch 109/150\n",
            "32/32 [==============================] - 29s 919ms/step - loss: 0.8686 - R2: 0.6768 - val_loss: 1.2321 - val_R2: 0.5599\n",
            "Epoch 110/150\n",
            "32/32 [==============================] - ETA: 0s - loss: 0.8226 - R2: 0.6946INFO:tensorflow:Assets written to: models_4/best_model_110/assets\n"
          ]
        },
        {
          "output_type": "stream",
          "name": "stderr",
          "text": [
            "INFO:tensorflow:Assets written to: models_4/best_model_110/assets\n",
            "WARNING:absl:<keras.layers.recurrent.LSTMCell object at 0x7ffa53d35110> has the same name 'LSTMCell' as a built-in Keras object. Consider renaming <class 'keras.layers.recurrent.LSTMCell'> to avoid naming conflicts when loading with `tf.keras.models.load_model`. If renaming is not possible, pass the object in the `custom_objects` parameter of the load function.\n",
            "WARNING:absl:<keras.layers.recurrent.LSTMCell object at 0x7ffa567fd8d0> has the same name 'LSTMCell' as a built-in Keras object. Consider renaming <class 'keras.layers.recurrent.LSTMCell'> to avoid naming conflicts when loading with `tf.keras.models.load_model`. If renaming is not possible, pass the object in the `custom_objects` parameter of the load function.\n"
          ]
        },
        {
          "output_type": "stream",
          "name": "stdout",
          "text": [
            "\b\b\b\b\b\b\b\b\b\b\b\b\b\b\b\b\b\b\b\b\b\b\b\b\b\b\b\b\b\b\b\b\b\b\b\b\b\b\b\b\b\b\b\b\b\b\b\b\b\b\b\b\b\b\b\b\b\b\b\b\b\b\b\b\b\b\b\b\b\b\b\b\b\b\b\b\r32/32 [==============================] - 34s 1s/step - loss: 0.8226 - R2: 0.6946 - val_loss: 1.1864 - val_R2: 0.5769\n",
            "Epoch 111/150\n",
            "32/32 [==============================] - 29s 920ms/step - loss: 0.8126 - R2: 0.6974 - val_loss: 1.2542 - val_R2: 0.5511\n",
            "Epoch 112/150\n",
            "32/32 [==============================] - 29s 920ms/step - loss: 0.8140 - R2: 0.6962 - val_loss: 1.2006 - val_R2: 0.5703\n",
            "Epoch 113/150\n",
            "32/32 [==============================] - 30s 923ms/step - loss: 0.7741 - R2: 0.7162 - val_loss: 1.2330 - val_R2: 0.5574\n",
            "Epoch 114/150\n",
            "32/32 [==============================] - 29s 919ms/step - loss: 0.7927 - R2: 0.7086 - val_loss: 1.2247 - val_R2: 0.5626\n",
            "Epoch 115/150\n",
            "32/32 [==============================] - 29s 923ms/step - loss: 0.7947 - R2: 0.7077 - val_loss: 1.2044 - val_R2: 0.5722\n",
            "Epoch 116/150\n",
            "32/32 [==============================] - 29s 921ms/step - loss: 0.8169 - R2: 0.6999 - val_loss: 1.2517 - val_R2: 0.5539\n",
            "Epoch 117/150\n",
            "32/32 [==============================] - 30s 926ms/step - loss: 0.8607 - R2: 0.6848 - val_loss: 1.2452 - val_R2: 0.5524\n",
            "Epoch 118/150\n",
            "32/32 [==============================] - ETA: 0s - loss: 0.7964 - R2: 0.7084INFO:tensorflow:Assets written to: models_4/best_model_118/assets\n"
          ]
        },
        {
          "output_type": "stream",
          "name": "stderr",
          "text": [
            "INFO:tensorflow:Assets written to: models_4/best_model_118/assets\n",
            "WARNING:absl:<keras.layers.recurrent.LSTMCell object at 0x7ffa53d35110> has the same name 'LSTMCell' as a built-in Keras object. Consider renaming <class 'keras.layers.recurrent.LSTMCell'> to avoid naming conflicts when loading with `tf.keras.models.load_model`. If renaming is not possible, pass the object in the `custom_objects` parameter of the load function.\n",
            "WARNING:absl:<keras.layers.recurrent.LSTMCell object at 0x7ffa567fd8d0> has the same name 'LSTMCell' as a built-in Keras object. Consider renaming <class 'keras.layers.recurrent.LSTMCell'> to avoid naming conflicts when loading with `tf.keras.models.load_model`. If renaming is not possible, pass the object in the `custom_objects` parameter of the load function.\n"
          ]
        },
        {
          "output_type": "stream",
          "name": "stdout",
          "text": [
            "\b\b\b\b\b\b\b\b\b\b\b\b\b\b\b\b\b\b\b\b\b\b\b\b\b\b\b\b\b\b\b\b\b\b\b\b\b\b\b\b\b\b\b\b\b\b\b\b\b\b\b\b\b\b\b\b\b\b\b\b\b\b\b\b\b\b\b\b\b\b\b\b\b\b\b\b\r32/32 [==============================] - 35s 1s/step - loss: 0.7964 - R2: 0.7084 - val_loss: 1.1374 - val_R2: 0.5877\n",
            "Epoch 119/150\n",
            "32/32 [==============================] - 30s 922ms/step - loss: 0.7452 - R2: 0.7252 - val_loss: 1.1894 - val_R2: 0.5714\n",
            "Epoch 120/150\n",
            "32/32 [==============================] - 30s 926ms/step - loss: 0.7480 - R2: 0.7248 - val_loss: 1.2407 - val_R2: 0.5536\n",
            "Epoch 121/150\n",
            "32/32 [==============================] - ETA: 0s - loss: 0.7299 - R2: 0.7277INFO:tensorflow:Assets written to: models_4/best_model_121/assets\n"
          ]
        },
        {
          "output_type": "stream",
          "name": "stderr",
          "text": [
            "INFO:tensorflow:Assets written to: models_4/best_model_121/assets\n",
            "WARNING:absl:<keras.layers.recurrent.LSTMCell object at 0x7ffa53d35110> has the same name 'LSTMCell' as a built-in Keras object. Consider renaming <class 'keras.layers.recurrent.LSTMCell'> to avoid naming conflicts when loading with `tf.keras.models.load_model`. If renaming is not possible, pass the object in the `custom_objects` parameter of the load function.\n",
            "WARNING:absl:<keras.layers.recurrent.LSTMCell object at 0x7ffa567fd8d0> has the same name 'LSTMCell' as a built-in Keras object. Consider renaming <class 'keras.layers.recurrent.LSTMCell'> to avoid naming conflicts when loading with `tf.keras.models.load_model`. If renaming is not possible, pass the object in the `custom_objects` parameter of the load function.\n"
          ]
        },
        {
          "output_type": "stream",
          "name": "stdout",
          "text": [
            "\b\b\b\b\b\b\b\b\b\b\b\b\b\b\b\b\b\b\b\b\b\b\b\b\b\b\b\b\b\b\b\b\b\b\b\b\b\b\b\b\b\b\b\b\b\b\b\b\b\b\b\b\b\b\b\b\b\b\b\b\b\b\b\b\b\b\b\b\b\b\b\b\b\b\b\b\r32/32 [==============================] - 35s 1s/step - loss: 0.7299 - R2: 0.7277 - val_loss: 1.1257 - val_R2: 0.5980\n",
            "Epoch 122/150\n",
            "32/32 [==============================] - 29s 923ms/step - loss: 0.7317 - R2: 0.7328 - val_loss: 1.1793 - val_R2: 0.5753\n",
            "Epoch 123/150\n",
            "32/32 [==============================] - 30s 924ms/step - loss: 0.7271 - R2: 0.7344 - val_loss: 1.1828 - val_R2: 0.5738\n",
            "Epoch 124/150\n",
            "32/32 [==============================] - ETA: 0s - loss: 0.7098 - R2: 0.7357INFO:tensorflow:Assets written to: models_4/best_model_124/assets\n"
          ]
        },
        {
          "output_type": "stream",
          "name": "stderr",
          "text": [
            "INFO:tensorflow:Assets written to: models_4/best_model_124/assets\n",
            "WARNING:absl:<keras.layers.recurrent.LSTMCell object at 0x7ffa53d35110> has the same name 'LSTMCell' as a built-in Keras object. Consider renaming <class 'keras.layers.recurrent.LSTMCell'> to avoid naming conflicts when loading with `tf.keras.models.load_model`. If renaming is not possible, pass the object in the `custom_objects` parameter of the load function.\n",
            "WARNING:absl:<keras.layers.recurrent.LSTMCell object at 0x7ffa567fd8d0> has the same name 'LSTMCell' as a built-in Keras object. Consider renaming <class 'keras.layers.recurrent.LSTMCell'> to avoid naming conflicts when loading with `tf.keras.models.load_model`. If renaming is not possible, pass the object in the `custom_objects` parameter of the load function.\n"
          ]
        },
        {
          "output_type": "stream",
          "name": "stdout",
          "text": [
            "\b\b\b\b\b\b\b\b\b\b\b\b\b\b\b\b\b\b\b\b\b\b\b\b\b\b\b\b\b\b\b\b\b\b\b\b\b\b\b\b\b\b\b\b\b\b\b\b\b\b\b\b\b\b\b\b\b\b\b\b\b\b\b\b\b\b\b\b\b\b\b\b\b\b\b\b\r32/32 [==============================] - 35s 1s/step - loss: 0.7098 - R2: 0.7357 - val_loss: 1.1009 - val_R2: 0.6022\n",
            "Epoch 125/150\n",
            "32/32 [==============================] - 29s 921ms/step - loss: 0.6959 - R2: 0.7419 - val_loss: 1.1254 - val_R2: 0.5934\n",
            "Epoch 126/150\n",
            "32/32 [==============================] - 30s 925ms/step - loss: 0.6872 - R2: 0.7455 - val_loss: 1.1742 - val_R2: 0.5768\n",
            "Epoch 127/150\n",
            "32/32 [==============================] - 30s 926ms/step - loss: 0.6672 - R2: 0.7489 - val_loss: 1.1992 - val_R2: 0.5693\n",
            "Epoch 128/150\n",
            "32/32 [==============================] - 29s 922ms/step - loss: 0.6605 - R2: 0.7545 - val_loss: 1.1674 - val_R2: 0.5831\n",
            "Epoch 129/150\n",
            "32/32 [==============================] - 30s 924ms/step - loss: 0.6559 - R2: 0.7535 - val_loss: 1.2052 - val_R2: 0.5693\n",
            "Epoch 130/150\n",
            "32/32 [==============================] - 29s 920ms/step - loss: 0.6523 - R2: 0.7608 - val_loss: 1.1242 - val_R2: 0.5965\n",
            "Epoch 131/150\n",
            "32/32 [==============================] - 30s 924ms/step - loss: 0.6375 - R2: 0.7674 - val_loss: 1.1119 - val_R2: 0.6011\n",
            "Epoch 132/150\n",
            "32/32 [==============================] - 29s 922ms/step - loss: 0.6239 - R2: 0.7672 - val_loss: 1.2017 - val_R2: 0.5716\n",
            "Epoch 133/150\n",
            "32/32 [==============================] - 30s 923ms/step - loss: 0.6225 - R2: 0.7713 - val_loss: 1.1921 - val_R2: 0.5706\n",
            "Epoch 134/150\n",
            "32/32 [==============================] - 30s 926ms/step - loss: 0.6152 - R2: 0.7727 - val_loss: 1.1367 - val_R2: 0.5930\n",
            "Epoch 135/150\n",
            "32/32 [==============================] - 30s 930ms/step - loss: 0.6118 - R2: 0.7715 - val_loss: 1.1398 - val_R2: 0.5933\n",
            "Epoch 136/150\n",
            "32/32 [==============================] - ETA: 0s - loss: 0.5790 - R2: 0.7831INFO:tensorflow:Assets written to: models_4/best_model_136/assets\n"
          ]
        },
        {
          "output_type": "stream",
          "name": "stderr",
          "text": [
            "INFO:tensorflow:Assets written to: models_4/best_model_136/assets\n",
            "WARNING:absl:<keras.layers.recurrent.LSTMCell object at 0x7ffa53d35110> has the same name 'LSTMCell' as a built-in Keras object. Consider renaming <class 'keras.layers.recurrent.LSTMCell'> to avoid naming conflicts when loading with `tf.keras.models.load_model`. If renaming is not possible, pass the object in the `custom_objects` parameter of the load function.\n",
            "WARNING:absl:<keras.layers.recurrent.LSTMCell object at 0x7ffa567fd8d0> has the same name 'LSTMCell' as a built-in Keras object. Consider renaming <class 'keras.layers.recurrent.LSTMCell'> to avoid naming conflicts when loading with `tf.keras.models.load_model`. If renaming is not possible, pass the object in the `custom_objects` parameter of the load function.\n"
          ]
        },
        {
          "output_type": "stream",
          "name": "stdout",
          "text": [
            "\b\b\b\b\b\b\b\b\b\b\b\b\b\b\b\b\b\b\b\b\b\b\b\b\b\b\b\b\b\b\b\b\b\b\b\b\b\b\b\b\b\b\b\b\b\b\b\b\b\b\b\b\b\b\b\b\b\b\b\b\b\b\b\b\b\b\b\b\b\b\b\b\b\b\b\b\r32/32 [==============================] - 35s 1s/step - loss: 0.5790 - R2: 0.7831 - val_loss: 1.1002 - val_R2: 0.6045\n",
            "Epoch 137/150\n",
            "32/32 [==============================] - 30s 926ms/step - loss: 0.6041 - R2: 0.7792 - val_loss: 1.1375 - val_R2: 0.5928\n",
            "Epoch 138/150\n",
            "32/32 [==============================] - 30s 925ms/step - loss: 0.6036 - R2: 0.7774 - val_loss: 1.1157 - val_R2: 0.6011\n",
            "Epoch 139/150\n",
            "32/32 [==============================] - 30s 926ms/step - loss: 0.5895 - R2: 0.7862 - val_loss: 1.1826 - val_R2: 0.5776\n",
            "Epoch 140/150\n",
            "32/32 [==============================] - 30s 927ms/step - loss: 0.5854 - R2: 0.7827 - val_loss: 1.1326 - val_R2: 0.5941\n",
            "Epoch 141/150\n",
            "32/32 [==============================] - 29s 922ms/step - loss: 0.5617 - R2: 0.7921 - val_loss: 1.1146 - val_R2: 0.6015\n",
            "Epoch 142/150\n",
            "32/32 [==============================] - 30s 924ms/step - loss: 0.5710 - R2: 0.7881 - val_loss: 1.1298 - val_R2: 0.5955\n",
            "Epoch 143/150\n",
            "32/32 [==============================] - 30s 925ms/step - loss: 0.5512 - R2: 0.7961 - val_loss: 1.1047 - val_R2: 0.6049\n",
            "Epoch 144/150\n",
            "32/32 [==============================] - 30s 925ms/step - loss: 0.5665 - R2: 0.7853 - val_loss: 1.1446 - val_R2: 0.5923\n",
            "Epoch 145/150\n",
            "32/32 [==============================] - 29s 922ms/step - loss: 0.5876 - R2: 0.7808 - val_loss: 1.1492 - val_R2: 0.5878\n",
            "Epoch 146/150\n",
            "32/32 [==============================] - 29s 920ms/step - loss: 0.5640 - R2: 0.7912 - val_loss: 1.1426 - val_R2: 0.5941\n",
            "Epoch 147/150\n",
            "32/32 [==============================] - 30s 924ms/step - loss: 0.5481 - R2: 0.7967 - val_loss: 1.1428 - val_R2: 0.5911\n",
            "Epoch 148/150\n",
            "32/32 [==============================] - 30s 925ms/step - loss: 0.7115 - R2: 0.7336 - val_loss: 1.1437 - val_R2: 0.5824\n",
            "Epoch 149/150\n",
            "32/32 [==============================] - 30s 923ms/step - loss: 0.6718 - R2: 0.7529 - val_loss: 1.1422 - val_R2: 0.5900\n",
            "Epoch 150/150\n",
            "32/32 [==============================] - ETA: 0s - loss: 0.5755 - R2: 0.7888INFO:tensorflow:Assets written to: models_4/best_model_150/assets\n"
          ]
        },
        {
          "output_type": "stream",
          "name": "stderr",
          "text": [
            "INFO:tensorflow:Assets written to: models_4/best_model_150/assets\n",
            "WARNING:absl:<keras.layers.recurrent.LSTMCell object at 0x7ffa53d35110> has the same name 'LSTMCell' as a built-in Keras object. Consider renaming <class 'keras.layers.recurrent.LSTMCell'> to avoid naming conflicts when loading with `tf.keras.models.load_model`. If renaming is not possible, pass the object in the `custom_objects` parameter of the load function.\n",
            "WARNING:absl:<keras.layers.recurrent.LSTMCell object at 0x7ffa567fd8d0> has the same name 'LSTMCell' as a built-in Keras object. Consider renaming <class 'keras.layers.recurrent.LSTMCell'> to avoid naming conflicts when loading with `tf.keras.models.load_model`. If renaming is not possible, pass the object in the `custom_objects` parameter of the load function.\n"
          ]
        },
        {
          "output_type": "stream",
          "name": "stdout",
          "text": [
            "\b\b\b\b\b\b\b\b\b\b\b\b\b\b\b\b\b\b\b\b\b\b\b\b\b\b\b\b\b\b\b\b\b\b\b\b\b\b\b\b\b\b\b\b\b\b\b\b\b\b\b\b\b\b\b\b\b\b\b\b\b\b\b\b\b\b\b\b\b\b\b\b\b\b\b\b\r32/32 [==============================] - 35s 1s/step - loss: 0.5755 - R2: 0.7888 - val_loss: 1.0825 - val_R2: 0.6128\n"
          ]
        }
      ]
    },
    {
      "cell_type": "code",
      "execution_count": 66,
      "id": "0084fbb1-e83e-4808-99bf-1458f3ea3076",
      "metadata": {
        "id": "0084fbb1-e83e-4808-99bf-1458f3ea3076"
      },
      "outputs": [],
      "source": [
        "y_pred = model.predict(X_test)"
      ]
    },
    {
      "cell_type": "markdown",
      "id": "382979a3-f299-4762-8b6d-10a6ea4d3c70",
      "metadata": {
        "id": "382979a3-f299-4762-8b6d-10a6ea4d3c70"
      },
      "source": [
        "# Score"
      ]
    },
    {
      "cell_type": "code",
      "execution_count": 67,
      "id": "f9fd5d60-841f-46c3-94b6-5755b4d548cd",
      "metadata": {
        "id": "f9fd5d60-841f-46c3-94b6-5755b4d548cd"
      },
      "outputs": [],
      "source": [
        "r2 = 1 - ((y_test.values - y_pred.reshape(-1)) ** 2).sum() / ((y_test - y_test.mean()) ** 2).sum()"
      ]
    },
    {
      "cell_type": "code",
      "source": [
        "r2\n",
        "#Dos capas lstm, una de 100 y otra de 50, 150 epochs con lr de 0.001, con una entrada de capa de embeddings, 0.2 de dropout\n"
      ],
      "metadata": {
        "id": "458G2sPHJQQq",
        "colab": {
          "base_uri": "https://localhost:8080/"
        },
        "outputId": "45c9d4f0-e574-4510-986d-448e73ca93b7"
      },
      "id": "458G2sPHJQQq",
      "execution_count": 68,
      "outputs": [
        {
          "output_type": "execute_result",
          "data": {
            "text/plain": [
              "0.6249663339733644"
            ]
          },
          "metadata": {},
          "execution_count": 68
        }
      ]
    },
    {
      "cell_type": "code",
      "source": [
        "r2\n",
        "#Dos bidirectional + dropout, entrada capa de embeddings"
      ],
      "metadata": {
        "colab": {
          "base_uri": "https://localhost:8080/"
        },
        "id": "XI2s-hYqTCXJ",
        "outputId": "31e68e01-248b-40a1-fcec-4287fe868346"
      },
      "id": "XI2s-hYqTCXJ",
      "execution_count": null,
      "outputs": [
        {
          "output_type": "execute_result",
          "data": {
            "text/plain": [
              "0.574037072443409"
            ]
          },
          "metadata": {},
          "execution_count": 67
        }
      ]
    },
    {
      "cell_type": "code",
      "source": [
        "r2\n",
        "#Dos capas lstm, una de 100 y otra de 50, 180 epochs con lr de 0.001, con una entrada de capa de embeddings"
      ],
      "metadata": {
        "colab": {
          "base_uri": "https://localhost:8080/"
        },
        "id": "b7uX2JU20tJ9",
        "outputId": "df40b1a8-bacd-42d1-edb7-dc06d5d7ffce"
      },
      "id": "b7uX2JU20tJ9",
      "execution_count": null,
      "outputs": [
        {
          "output_type": "execute_result",
          "data": {
            "text/plain": [
              "0.6168082150145935"
            ]
          },
          "metadata": {},
          "execution_count": 45
        }
      ]
    },
    {
      "cell_type": "code",
      "source": [
        "r2\n",
        "#Dos capas lstm, una de 200 y otra de 100, 180 epochs con lr de 0.0001"
      ],
      "metadata": {
        "colab": {
          "base_uri": "https://localhost:8080/"
        },
        "id": "XJEEk0nwuh2G",
        "outputId": "ac670896-dc76-46f2-c61d-9a26f0e612b2"
      },
      "id": "XJEEk0nwuh2G",
      "execution_count": null,
      "outputs": [
        {
          "output_type": "execute_result",
          "data": {
            "text/plain": [
              "0.49641044754767494"
            ]
          },
          "metadata": {},
          "execution_count": 49
        }
      ]
    },
    {
      "cell_type": "code",
      "source": [
        "r2\n",
        "#Una capa lstm de 200 con lr 0.0001, 200 epochs"
      ],
      "metadata": {
        "colab": {
          "base_uri": "https://localhost:8080/"
        },
        "id": "v7zlg7g3nOB2",
        "outputId": "e97869b3-7b38-42b7-b786-24222bf82928"
      },
      "id": "v7zlg7g3nOB2",
      "execution_count": null,
      "outputs": [
        {
          "output_type": "execute_result",
          "data": {
            "text/plain": [
              "0.4434163336044199"
            ]
          },
          "metadata": {},
          "execution_count": 41
        }
      ]
    },
    {
      "cell_type": "code",
      "source": [
        "r2\n",
        "#dos capas lstm, una de 200 y otra de 100 con lr 0.001"
      ],
      "metadata": {
        "colab": {
          "base_uri": "https://localhost:8080/"
        },
        "id": "TYTfB_NpVS0N",
        "outputId": "f5df0564-c62c-46ea-c84d-08840d8e2788"
      },
      "id": "TYTfB_NpVS0N",
      "execution_count": null,
      "outputs": [
        {
          "output_type": "execute_result",
          "data": {
            "text/plain": [
              "0.37273287021805723"
            ]
          },
          "metadata": {},
          "execution_count": 36
        }
      ]
    },
    {
      "cell_type": "code",
      "execution_count": null,
      "id": "4d2bfabe-2e3e-40cf-a1e8-2d458ee7f328",
      "metadata": {
        "colab": {
          "base_uri": "https://localhost:8080/"
        },
        "id": "4d2bfabe-2e3e-40cf-a1e8-2d458ee7f328",
        "outputId": "16b5bd46-12a7-4ee0-dd56-a02ffbdd2156"
      },
      "outputs": [
        {
          "output_type": "execute_result",
          "data": {
            "text/plain": [
              "0.34841912001640674"
            ]
          },
          "metadata": {},
          "execution_count": 59
        }
      ],
      "source": [
        "r2\n",
        "# 0.4984533246797399\n",
        "#una sola capa lstm de 200 con lr de 0.001"
      ]
    },
    {
      "cell_type": "code",
      "execution_count": 69,
      "id": "85262541-e04a-4ff2-b3e6-a47643db66f6",
      "metadata": {
        "id": "85262541-e04a-4ff2-b3e6-a47643db66f6"
      },
      "outputs": [],
      "source": [
        "model.save('models/embed_100_lstm_50_stacked_dropout_02.h5', )"
      ]
    },
    {
      "cell_type": "markdown",
      "id": "5f683e18-c876-4f7c-93ea-a33d495dcdaa",
      "metadata": {
        "id": "5f683e18-c876-4f7c-93ea-a33d495dcdaa"
      },
      "source": [
        "# Load model"
      ]
    },
    {
      "cell_type": "code",
      "execution_count": 72,
      "id": "285c8740-f0bb-4237-8593-ff9b815de0e3",
      "metadata": {
        "id": "285c8740-f0bb-4237-8593-ff9b815de0e3"
      },
      "outputs": [],
      "source": [
        "from tensorflow.keras.models import load_model"
      ]
    },
    {
      "cell_type": "code",
      "execution_count": 73,
      "id": "2168984f-770c-436e-92da-c1344b1d3abc",
      "metadata": {
        "id": "2168984f-770c-436e-92da-c1344b1d3abc"
      },
      "outputs": [],
      "source": [
        "model_loaded = load_model('/content/models/embed_100_lstm_50_stacked_dropout_02.h5', custom_objects={'R2': R2})"
      ]
    },
    {
      "cell_type": "code",
      "execution_count": 74,
      "id": "13a9d7d8-41e0-44a0-a8b9-02157a11f8f2",
      "metadata": {
        "id": "13a9d7d8-41e0-44a0-a8b9-02157a11f8f2"
      },
      "outputs": [],
      "source": [
        "y_pred = model_loaded.predict(X_test)"
      ]
    },
    {
      "cell_type": "code",
      "execution_count": 75,
      "id": "26c63493-3f25-4383-9654-58ee62aa3ae5",
      "metadata": {
        "id": "26c63493-3f25-4383-9654-58ee62aa3ae5",
        "colab": {
          "base_uri": "https://localhost:8080/"
        },
        "outputId": "40294f30-5775-4234-921d-144a3d19b6ea"
      },
      "outputs": [
        {
          "output_type": "execute_result",
          "data": {
            "text/plain": [
              "0.6249663339733644"
            ]
          },
          "metadata": {},
          "execution_count": 75
        }
      ],
      "source": [
        "r2 = 1 - ((y_test.values - y_pred.reshape(-1)) ** 2).sum() / ((y_test - y_test.mean()) ** 2).sum()\n",
        "r2"
      ]
    },
    {
      "cell_type": "markdown",
      "id": "c8ab60bf-7b98-4f46-b1dd-b08b5fbf8bed",
      "metadata": {
        "id": "c8ab60bf-7b98-4f46-b1dd-b08b5fbf8bed"
      },
      "source": [
        "¿Hasta que valores de r2 logró?"
      ]
    },
    {
      "cell_type": "markdown",
      "id": "cd252895-4430-4dd2-ae47-7f6a76cd2be6",
      "metadata": {
        "id": "cd252895-4430-4dd2-ae47-7f6a76cd2be6"
      },
      "source": [
        "0.6249663339733644\n",
        "```\n",
        "# Esto tiene formato de código\n",
        "```\n",
        "\n"
      ]
    },
    {
      "cell_type": "markdown",
      "id": "7f1a6260-e31f-4e5e-a923-ce67bf31152f",
      "metadata": {
        "id": "7f1a6260-e31f-4e5e-a923-ce67bf31152f"
      },
      "source": [
        "# Evaluación"
      ]
    },
    {
      "cell_type": "code",
      "execution_count": 70,
      "id": "7dd9d7e6-2789-459e-b9dd-593e10847fc4",
      "metadata": {
        "colab": {
          "base_uri": "https://localhost:8080/",
          "height": 362
        },
        "id": "7dd9d7e6-2789-459e-b9dd-593e10847fc4",
        "outputId": "a6404f7c-d9f2-4c76-b14a-ce76ad1dcde5"
      },
      "outputs": [
        {
          "output_type": "execute_result",
          "data": {
            "text/plain": [
              "<function matplotlib.pyplot.show>"
            ]
          },
          "metadata": {},
          "execution_count": 70
        },
        {
          "output_type": "display_data",
          "data": {
            "image/png": "[encoded data removed]",
            "text/plain": [
              "<Figure size 360x360 with 1 Axes>"
            ]
          },
          "metadata": {}
        }
      ],
      "source": [
        "import seaborn as sns\n",
        "import matplotlib.pyplot as plt\n",
        "\n",
        "sns.set(color_codes=True)\n",
        "sns.set_style(\"white\")\n",
        "\n",
        "ax = sns.regplot(x=y_test, y=y_pred, scatter_kws={'alpha':0.4})\n",
        "ax.set_xlabel('Experimental pIC50', fontsize='large', fontweight='bold')\n",
        "ax.set_ylabel('Predicted pIC50', fontsize='large', fontweight='bold')\n",
        "ax.set_xlim(0, 12)\n",
        "ax.set_ylim(0, 12)\n",
        "ax.figure.set_size_inches(5, 5)\n",
        "plt.show"
      ]
    },
    {
      "cell_type": "code",
      "source": [
        ""
      ],
      "metadata": {
        "id": "v-C2SBTcVYKJ"
      },
      "id": "v-C2SBTcVYKJ",
      "execution_count": null,
      "outputs": []
    }
  ],
  "metadata": {
    "kernelspec": {
      "display_name": "Python 3",
      "language": "python",
      "name": "python3"
    },
    "language_info": {
      "codemirror_mode": {
        "name": "ipython",
        "version": 3
      },
      "file_extension": ".py",
      "mimetype": "text/x-python",
      "name": "python",
      "nbconvert_exporter": "python",
      "pygments_lexer": "ipython3",
      "version": "3.7.3"
    },
    "colab": {
      "name": "003_train_LSTM.ipynb",
      "provenance": [],
      "collapsed_sections": []
    },
    "accelerator": "GPU"
  },
  "nbformat": 4,
  "nbformat_minor": 5
}