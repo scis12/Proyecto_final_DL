{
  "cells": [
    {
      "cell_type": "code",
      "execution_count": 1,
      "id": "21bee0a3-79a7-43b2-9ac2-15cad5630e22",
      "metadata": {
        "id": "21bee0a3-79a7-43b2-9ac2-15cad5630e22"
      },
      "outputs": [],
      "source": [
        "import pandas as pd\n",
        "import numpy as np"
      ]
    },
    {
      "cell_type": "markdown",
      "id": "08544474-e883-4105-bcc3-9f3f9f014079",
      "metadata": {
        "id": "08544474-e883-4105-bcc3-9f3f9f014079"
      },
      "source": [
        "# Modelo Recurrentes con Embeddings a nivel de caracter"
      ]
    },
    {
      "cell_type": "code",
      "execution_count": 2,
      "id": "353a2d75-f0f4-4563-9842-c68d77118161",
      "metadata": {
        "id": "353a2d75-f0f4-4563-9842-c68d77118161"
      },
      "outputs": [],
      "source": [
        "df = pd.read_csv('acetylcholinesterase_02_bioactivity_data_preprocessed.csv')"
      ]
    },
    {
      "cell_type": "code",
      "execution_count": 3,
      "id": "d1554fa5-d9ee-456c-be20-80571e319fc6",
      "metadata": {
        "colab": {
          "base_uri": "https://localhost:8080/",
          "height": 206
        },
        "id": "d1554fa5-d9ee-456c-be20-80571e319fc6",
        "outputId": "409fab50-1c9e-4d20-fe06-92c7d36e2935"
      },
      "outputs": [
        {
          "output_type": "execute_result",
          "data": {
            "text/html": [
              "\n",
              "  <div id=\"df-0245d692-7208-4014-92ba-d09ec35e5e89\">\n",
              "    <div class=\"colab-df-container\">\n",
              "      <div>\n",
              "<style scoped>\n",
              "    .dataframe tbody tr th:only-of-type {\n",
              "        vertical-align: middle;\n",
              "    }\n",
              "\n",
              "    .dataframe tbody tr th {\n",
              "        vertical-align: top;\n",
              "    }\n",
              "\n",
              "    .dataframe thead th {\n",
              "        text-align: right;\n",
              "    }\n",
              "</style>\n",
              "<table border=\"1\" class=\"dataframe\">\n",
              "  <thead>\n",
              "    <tr style=\"text-align: right;\">\n",
              "      <th></th>\n",
              "      <th>molecule_chembl_id</th>\n",
              "      <th>canonical_smiles</th>\n",
              "      <th>standard_value</th>\n",
              "      <th>standard_value_norm</th>\n",
              "      <th>pIC50</th>\n",
              "    </tr>\n",
              "  </thead>\n",
              "  <tbody>\n",
              "    <tr>\n",
              "      <th>0</th>\n",
              "      <td>CHEMBL133897</td>\n",
              "      <td>CCOc1nn(-c2cccc(OCc3ccccc3)c2)c(=O)o1</td>\n",
              "      <td>750.0</td>\n",
              "      <td>750.0</td>\n",
              "      <td>6.124939</td>\n",
              "    </tr>\n",
              "    <tr>\n",
              "      <th>1</th>\n",
              "      <td>CHEMBL336398</td>\n",
              "      <td>O=C(N1CCCCC1)n1nc(-c2ccc(Cl)cc2)nc1SCC1CC1</td>\n",
              "      <td>100.0</td>\n",
              "      <td>100.0</td>\n",
              "      <td>7.000000</td>\n",
              "    </tr>\n",
              "    <tr>\n",
              "      <th>2</th>\n",
              "      <td>CHEMBL131588</td>\n",
              "      <td>CN(C(=O)n1nc(-c2ccc(Cl)cc2)nc1SCC(F)(F)F)c1ccccc1</td>\n",
              "      <td>50000.0</td>\n",
              "      <td>50000.0</td>\n",
              "      <td>4.301030</td>\n",
              "    </tr>\n",
              "    <tr>\n",
              "      <th>3</th>\n",
              "      <td>CHEMBL130628</td>\n",
              "      <td>O=C(N1CCCCC1)n1nc(-c2ccc(Cl)cc2)nc1SCC(F)(F)F</td>\n",
              "      <td>300.0</td>\n",
              "      <td>300.0</td>\n",
              "      <td>6.522879</td>\n",
              "    </tr>\n",
              "    <tr>\n",
              "      <th>4</th>\n",
              "      <td>CHEMBL130478</td>\n",
              "      <td>CSc1nc(-c2ccc(OC(F)(F)F)cc2)nn1C(=O)N(C)C</td>\n",
              "      <td>800.0</td>\n",
              "      <td>800.0</td>\n",
              "      <td>6.096910</td>\n",
              "    </tr>\n",
              "  </tbody>\n",
              "</table>\n",
              "</div>\n",
              "      <button class=\"colab-df-convert\" onclick=\"convertToInteractive('df-0245d692-7208-4014-92ba-d09ec35e5e89')\"\n",
              "              title=\"Convert this dataframe to an interactive table.\"\n",
              "              style=\"display:none;\">\n",
              "        \n",
              "  <svg xmlns=\"http://www.w3.org/2000/svg\" height=\"24px\"viewBox=\"0 0 24 24\"\n",
              "       width=\"24px\">\n",
              "    <path d=\"M0 0h24v24H0V0z\" fill=\"none\"/>\n",
              "    <path d=\"M18.56 5.44l.94 2.06.94-2.06 2.06-.94-2.06-.94-.94-2.06-.94 2.06-2.06.94zm-11 1L8.5 8.5l.94-2.06 2.06-.94-2.06-.94L8.5 2.5l-.94 2.06-2.06.94zm10 10l.94 2.06.94-2.06 2.06-.94-2.06-.94-.94-2.06-.94 2.06-2.06.94z\"/><path d=\"M17.41 7.96l-1.37-1.37c-.4-.4-.92-.59-1.43-.59-.52 0-1.04.2-1.43.59L10.3 9.45l-7.72 7.72c-.78.78-.78 2.05 0 2.83L4 21.41c.39.39.9.59 1.41.59.51 0 1.02-.2 1.41-.59l7.78-7.78 2.81-2.81c.8-.78.8-2.07 0-2.86zM5.41 20L4 18.59l7.72-7.72 1.47 1.35L5.41 20z\"/>\n",
              "  </svg>\n",
              "      </button>\n",
              "      \n",
              "  <style>\n",
              "    .colab-df-container {\n",
              "      display:flex;\n",
              "      flex-wrap:wrap;\n",
              "      gap: 12px;\n",
              "    }\n",
              "\n",
              "    .colab-df-convert {\n",
              "      background-color: #E8F0FE;\n",
              "      border: none;\n",
              "      border-radius: 50%;\n",
              "      cursor: pointer;\n",
              "      display: none;\n",
              "      fill: #1967D2;\n",
              "      height: 32px;\n",
              "      padding: 0 0 0 0;\n",
              "      width: 32px;\n",
              "    }\n",
              "\n",
              "    .colab-df-convert:hover {\n",
              "      background-color: #E2EBFA;\n",
              "      box-shadow: 0px 1px 2px rgba(60, 64, 67, 0.3), 0px 1px 3px 1px rgba(60, 64, 67, 0.15);\n",
              "      fill: #174EA6;\n",
              "    }\n",
              "\n",
              "    [theme=dark] .colab-df-convert {\n",
              "      background-color: #3B4455;\n",
              "      fill: #D2E3FC;\n",
              "    }\n",
              "\n",
              "    [theme=dark] .colab-df-convert:hover {\n",
              "      background-color: #434B5C;\n",
              "      box-shadow: 0px 1px 3px 1px rgba(0, 0, 0, 0.15);\n",
              "      filter: drop-shadow(0px 1px 2px rgba(0, 0, 0, 0.3));\n",
              "      fill: #FFFFFF;\n",
              "    }\n",
              "  </style>\n",
              "\n",
              "      <script>\n",
              "        const buttonEl =\n",
              "          document.querySelector('#df-0245d692-7208-4014-92ba-d09ec35e5e89 button.colab-df-convert');\n",
              "        buttonEl.style.display =\n",
              "          google.colab.kernel.accessAllowed ? 'block' : 'none';\n",
              "\n",
              "        async function convertToInteractive(key) {\n",
              "          const element = document.querySelector('#df-0245d692-7208-4014-92ba-d09ec35e5e89');\n",
              "          const dataTable =\n",
              "            await google.colab.kernel.invokeFunction('convertToInteractive',\n",
              "                                                     [key], {});\n",
              "          if (!dataTable) return;\n",
              "\n",
              "          const docLinkHtml = 'Like what you see? Visit the ' +\n",
              "            '<a target=\"_blank\" href=https://colab.research.google.com/notebooks/data_table.ipynb>data table notebook</a>'\n",
              "            + ' to learn more about interactive tables.';\n",
              "          element.innerHTML = '';\n",
              "          dataTable['output_type'] = 'display_data';\n",
              "          await google.colab.output.renderOutput(dataTable, element);\n",
              "          const docLink = document.createElement('div');\n",
              "          docLink.innerHTML = docLinkHtml;\n",
              "          element.appendChild(docLink);\n",
              "        }\n",
              "      </script>\n",
              "    </div>\n",
              "  </div>\n",
              "  "
            ],
            "text/plain": [
              "  molecule_chembl_id  ...     pIC50\n",
              "0       CHEMBL133897  ...  6.124939\n",
              "1       CHEMBL336398  ...  7.000000\n",
              "2       CHEMBL131588  ...  4.301030\n",
              "3       CHEMBL130628  ...  6.522879\n",
              "4       CHEMBL130478  ...  6.096910\n",
              "\n",
              "[5 rows x 5 columns]"
            ]
          },
          "metadata": {},
          "execution_count": 3
        }
      ],
      "source": [
        "df.head()"
      ]
    },
    {
      "cell_type": "markdown",
      "id": "2985df76-23b9-45a8-83ed-ce8ae510219f",
      "metadata": {
        "id": "2985df76-23b9-45a8-83ed-ce8ae510219f"
      },
      "source": [
        "# Canonical_smiles To secuence"
      ]
    },
    {
      "cell_type": "code",
      "execution_count": 4,
      "id": "87e524d2-e7e9-4d3b-b1f1-b62254a0bc66",
      "metadata": {
        "id": "87e524d2-e7e9-4d3b-b1f1-b62254a0bc66"
      },
      "outputs": [],
      "source": [
        "from tensorflow.keras.preprocessing.text import Tokenizer\n",
        "from tensorflow.keras.preprocessing.sequence import pad_sequences"
      ]
    },
    {
      "cell_type": "markdown",
      "id": "b524afd5-79ed-433d-827b-ac04510ae8ad",
      "metadata": {
        "id": "b524afd5-79ed-433d-827b-ac04510ae8ad"
      },
      "source": [
        "Utilizando Tokenizer y pad_sequences de keras a nivel de caracter, obtener la entrada tokenizada. Por ejemplo:\n",
        "\n",
        "**El smiles**:\n",
        "\n",
        "'C[C@@]12CC[C@H]3[C@]4(C)CCC[C@@]5(C)C(=O)OCC[N+](C)(C)CCCCCCCCC[N+](C)(C)CCOC(=O)[C@]6(C)CCC[C@]7(C)[C@@H]6CC[C@@]68C[C@@H](OC(=O)CCCCCCCCC(=O)O[C@@H]1C[C@@]3(CC[C@@H]45)C2)[C@@](C)(CC[C@@H]76)C8.[Br-].[Br-]'\n",
        "\n",
        "**Tendría que quedar algo asi (puede que no sea exacto):**\n",
        "\n",
        "array([ 2, 11,  2, 13, 13, 12,  5,  7,  2,  2, 11,  2, 13, 16, 12, 10, 11,\n",
        "        2, 13, 12, 15,  3,  2,  4,  2,  2,  2, 11,  2, 13, 13, 12, 23,  3,\n",
        "        2,  4,  2,  3,  9,  6,  4,  6,  2,  2, 11,  8, 21, 12,  3,  2,  4,\n",
        "        3,  2,  4,  2,  2,  2,  2,  2,  2,  2,  2,  2, 11,  8, 21, 12,  3,\n",
        "        2,  4,  3,  2,  4,  2,  2,  6,  2,  3,  9,  6,  4, 11,  2, 13, 12,\n",
        "       30,  3,  2,  4,  2,  2,  2, 11,  2, 13, 12, 35,  3,  2,  4, 11,  2,\n",
        "       13, 13, 16, 12, 30,  2,  2, 11,  2, 13, 13, 12, 30, 36,  2, 11,  2,\n",
        "       13, 13, 16, 12,  3,  6,  2,  3,  9,  6,  4,  2,  2,  2,  2,  2,  2,\n",
        "        2,  2,  2,  3,  9,  6,  4,  6, 11,  2, 13, 13, 16, 12,  5,  2, 11,\n",
        "        2, 13, 13, 12, 10,  3,  2,  2, 11,  2, 13, 13, 16, 12, 15, 23,  4,\n",
        "        2,  7,  4, 11,  2, 13, 13, 12,  3,  2,  4,  3,  2,  2, 11,  2, 13,\n",
        "       13, 16, 12, 35, 30,  4,  2, 36, 20, 11, 25, 26, 17, 12, 20, 11, 25,\n",
        "       26, 17, 12], dtype=int32)\n",
        "       \n",
        "\n",
        "**Otro ejemplo:**\n",
        "smiles: 'NC(=O)O'\n",
        "\n",
        "array([0, 0, 0, 0, 0, 0, 0, 0, 0, 0, 0, 0, 0, 0, 0, 0, 0, 0, 0, 0, 0, 0,\n",
        "       0, 0, 0, 0, 0, 0, 0, 0, 0, 0, 0, 0, 0, 0, 0, 0, 0, 0, 0, 0, 0, 0,\n",
        "       0, 0, 0, 0, 0, 0, 0, 0, 0, 0, 0, 0, 0, 0, 0, 0, 0, 0, 0, 0, 0, 0,\n",
        "       0, 0, 0, 0, 0, 0, 0, 0, 0, 0, 0, 0, 0, 0, 0, 0, 0, 0, 0, 0, 0, 0,\n",
        "       0, 0, 0, 0, 0, 0, 0, 0, 0, 0, 0, 0, 0, 0, 0, 0, 0, 0, 0, 0, 0, 0,\n",
        "       0, 0, 0, 0, 0, 0, 0, 0, 0, 0, 0, 0, 0, 0, 0, 0, 0, 0, 0, 0, 0, 0,\n",
        "       0, 0, 0, 0, 0, 0, 0, 0, 0, 0, 0, 0, 0, 0, 0, 0, 0, 0, 0, 0, 0, 0,\n",
        "       0, 0, 0, 0, 0, 0, 0, 0, 0, 0, 0, 0, 0, 0, 0, 0, 0, 0, 0, 0, 0, 0,\n",
        "       0, 0, 0, 0, 0, 0, 0, 0, 0, 0, 0, 0, 0, 0, 0, 0, 0, 0, 0, 0, 0, 0,\n",
        "       0, 0, 8, 2, 3, 9, 6, 4, 6], dtype=int32)\n",
        "\n",
        "**Tener en cuenta:**\n",
        "\n",
        "- Ver cuanta es la máxima longitud para agregar el padding correspondiente\n",
        "- En el ejemplo se agrego padding a la izquierda"
      ]
    },
    {
      "cell_type": "code",
      "execution_count": 5,
      "id": "07f8fff5-c1f6-48d6-9e19-ee5defde20b1",
      "metadata": {
        "id": "07f8fff5-c1f6-48d6-9e19-ee5defde20b1"
      },
      "outputs": [],
      "source": [
        "max_len_idx = df['canonical_smiles'].apply(len).argmax()\n",
        "min_len_idx = df['canonical_smiles'].apply(len).argmin()"
      ]
    },
    {
      "cell_type": "code",
      "execution_count": 6,
      "id": "703325ab-0193-4bf5-9b66-a880d7bc346b",
      "metadata": {
        "id": "703325ab-0193-4bf5-9b66-a880d7bc346b"
      },
      "outputs": [],
      "source": [
        "X = df['canonical_smiles']\n",
        "y = df['pIC50']"
      ]
    },
    {
      "cell_type": "code",
      "source": [
        "tokenizer = Tokenizer(num_words = None, oov_token='UNK', filters = '', char_level = True, lower = False)"
      ],
      "metadata": {
        "id": "MvaBq-_qCpI6"
      },
      "id": "MvaBq-_qCpI6",
      "execution_count": 7,
      "outputs": []
    },
    {
      "cell_type": "code",
      "source": [
        "tokenizer.fit_on_texts(X)"
      ],
      "metadata": {
        "id": "7kbcMq0_CpTP"
      },
      "id": "7kbcMq0_CpTP",
      "execution_count": 8,
      "outputs": []
    },
    {
      "cell_type": "code",
      "source": [
        "sequences = tokenizer.texts_to_sequences(X)"
      ],
      "metadata": {
        "id": "EgdfJTpIFk0s"
      },
      "id": "EgdfJTpIFk0s",
      "execution_count": 9,
      "outputs": []
    },
    {
      "cell_type": "code",
      "source": [
        "print(X[0])\n",
        "print(sequences[0])"
      ],
      "metadata": {
        "colab": {
          "base_uri": "https://localhost:8080/"
        },
        "id": "ZLMcl1w0GU5g",
        "outputId": "76166ba3-3b46-45fe-a218-9537963c2685"
      },
      "id": "ZLMcl1w0GU5g",
      "execution_count": 10,
      "outputs": [
        {
          "output_type": "stream",
          "name": "stdout",
          "text": [
            "CCOc1nn(-c2cccc(OCc3ccccc3)c2)c(=O)o1\n",
            "[3, 3, 7, 2, 6, 15, 15, 4, 18, 2, 8, 2, 2, 2, 2, 4, 7, 3, 2, 11, 2, 2, 2, 2, 2, 11, 5, 2, 8, 5, 2, 4, 10, 7, 5, 25, 6]\n"
          ]
        }
      ]
    },
    {
      "cell_type": "code",
      "source": [
        "print(len(X[0]))\n",
        "print(len(sequences[0]))"
      ],
      "metadata": {
        "colab": {
          "base_uri": "https://localhost:8080/"
        },
        "id": "kNUMv9mQGj8C",
        "outputId": "3d9a0ad8-9a0b-45ab-f55c-62c10eddc1e9"
      },
      "id": "kNUMv9mQGj8C",
      "execution_count": 11,
      "outputs": [
        {
          "output_type": "stream",
          "name": "stdout",
          "text": [
            "37\n",
            "37\n"
          ]
        }
      ]
    },
    {
      "cell_type": "code",
      "source": [
        "X_seq_pad = pad_sequences(sequences, maxlen = len(X[max_len_idx]), padding = 'pre' )"
      ],
      "metadata": {
        "id": "VLKhBTsvGu_G"
      },
      "id": "VLKhBTsvGu_G",
      "execution_count": 12,
      "outputs": []
    },
    {
      "cell_type": "code",
      "source": [
        "X_seq_pad[0]"
      ],
      "metadata": {
        "colab": {
          "base_uri": "https://localhost:8080/"
        },
        "id": "Iz7UAmgOH_lN",
        "outputId": "a879a058-6eca-4602-ee2c-f769317ed0b8"
      },
      "id": "Iz7UAmgOH_lN",
      "execution_count": 13,
      "outputs": [
        {
          "output_type": "execute_result",
          "data": {
            "text/plain": [
              "array([ 0,  0,  0,  0,  0,  0,  0,  0,  0,  0,  0,  0,  0,  0,  0,  0,  0,\n",
              "        0,  0,  0,  0,  0,  0,  0,  0,  0,  0,  0,  0,  0,  0,  0,  0,  0,\n",
              "        0,  0,  0,  0,  0,  0,  0,  0,  0,  0,  0,  0,  0,  0,  0,  0,  0,\n",
              "        0,  0,  0,  0,  0,  0,  0,  0,  0,  0,  0,  0,  0,  0,  0,  0,  0,\n",
              "        0,  0,  0,  0,  0,  0,  0,  0,  0,  0,  0,  0,  0,  0,  0,  0,  0,\n",
              "        0,  0,  0,  0,  0,  0,  0,  0,  0,  0,  0,  0,  0,  0,  0,  0,  0,\n",
              "        0,  0,  0,  0,  0,  0,  0,  0,  0,  0,  0,  0,  0,  0,  0,  0,  0,\n",
              "        0,  0,  0,  0,  0,  0,  0,  0,  0,  0,  0,  0,  0,  0,  0,  0,  0,\n",
              "        0,  0,  0,  0,  0,  0,  0,  0,  0,  0,  0,  0,  0,  0,  0,  0,  0,\n",
              "        0,  0,  0,  0,  0,  0,  0,  0,  0,  0,  0,  0,  0,  0,  0,  0,  0,\n",
              "        3,  3,  7,  2,  6, 15, 15,  4, 18,  2,  8,  2,  2,  2,  2,  4,  7,\n",
              "        3,  2, 11,  2,  2,  2,  2,  2, 11,  5,  2,  8,  5,  2,  4, 10,  7,\n",
              "        5, 25,  6], dtype=int32)"
            ]
          },
          "metadata": {},
          "execution_count": 13
        }
      ]
    },
    {
      "cell_type": "code",
      "execution_count": null,
      "id": "09894d86-4408-469c-b1f9-60f6d7218b5c",
      "metadata": {
        "id": "09894d86-4408-469c-b1f9-60f6d7218b5c"
      },
      "outputs": [],
      "source": [
        "# Implementar tokenización y guardar en X_seq_pad el dataset tokenizado"
      ]
    },
    {
      "cell_type": "markdown",
      "id": "4233710d-9274-4dae-b22d-cf42b57ad862",
      "metadata": {
        "id": "4233710d-9274-4dae-b22d-cf42b57ad862"
      },
      "source": [
        "# Split"
      ]
    },
    {
      "cell_type": "code",
      "execution_count": 14,
      "id": "ce7a95e6-2486-42fb-97fb-865e3fd6a561",
      "metadata": {
        "id": "ce7a95e6-2486-42fb-97fb-865e3fd6a561"
      },
      "outputs": [],
      "source": [
        "from sklearn.model_selection import train_test_split"
      ]
    },
    {
      "cell_type": "code",
      "execution_count": 15,
      "id": "fcb9840f-2f41-45be-99a5-f05f3ab73ed8",
      "metadata": {
        "id": "fcb9840f-2f41-45be-99a5-f05f3ab73ed8"
      },
      "outputs": [],
      "source": [
        "X_train, X_test, y_train, y_test = train_test_split(X_seq_pad, y, test_size=0.2, random_state=42)"
      ]
    },
    {
      "cell_type": "code",
      "execution_count": 16,
      "id": "4ad17134-3e15-42d1-b8c9-0c793169e145",
      "metadata": {
        "colab": {
          "base_uri": "https://localhost:8080/"
        },
        "id": "4ad17134-3e15-42d1-b8c9-0c793169e145",
        "outputId": "6f57547a-8835-467f-8fdb-e0863f771cc4"
      },
      "outputs": [
        {
          "output_type": "execute_result",
          "data": {
            "text/plain": [
              "(4082, 4082, 1021)"
            ]
          },
          "metadata": {},
          "execution_count": 16
        }
      ],
      "source": [
        "len(X_train), len(y_train), len(X_test)"
      ]
    },
    {
      "cell_type": "code",
      "source": [
        "X_train.shape"
      ],
      "metadata": {
        "colab": {
          "base_uri": "https://localhost:8080/"
        },
        "id": "4LMZ07pALPFX",
        "outputId": "571fd85c-9e51-4ae9-a222-341aa06c878d"
      },
      "id": "4LMZ07pALPFX",
      "execution_count": 17,
      "outputs": [
        {
          "output_type": "execute_result",
          "data": {
            "text/plain": [
              "(4082, 207)"
            ]
          },
          "metadata": {},
          "execution_count": 17
        }
      ]
    },
    {
      "cell_type": "code",
      "source": [
        "y"
      ],
      "metadata": {
        "colab": {
          "base_uri": "https://localhost:8080/"
        },
        "id": "2xr-LXIELj8D",
        "outputId": "135affa9-0e54-4c4d-8d6c-555487c14bb9"
      },
      "id": "2xr-LXIELj8D",
      "execution_count": 18,
      "outputs": [
        {
          "output_type": "execute_result",
          "data": {
            "text/plain": [
              "0       6.124939\n",
              "1       7.000000\n",
              "2       4.301030\n",
              "3       6.522879\n",
              "4       6.096910\n",
              "          ...   \n",
              "5098    3.575118\n",
              "5099    6.130768\n",
              "5100    6.292430\n",
              "5101    3.903090\n",
              "5102    4.000000\n",
              "Name: pIC50, Length: 5103, dtype: float64"
            ]
          },
          "metadata": {},
          "execution_count": 18
        }
      ]
    },
    {
      "cell_type": "markdown",
      "id": "85941430-2534-4d7d-ba52-d934a31c1bf6",
      "metadata": {
        "id": "85941430-2534-4d7d-ba52-d934a31c1bf6"
      },
      "source": [
        "# Network Model"
      ]
    },
    {
      "cell_type": "code",
      "execution_count": 19,
      "id": "6bd5d1bf-4640-4cbc-acd3-72881ddcc07e",
      "metadata": {
        "id": "6bd5d1bf-4640-4cbc-acd3-72881ddcc07e"
      },
      "outputs": [],
      "source": [
        "from tensorflow.keras import Sequential\n",
        "from tensorflow.keras.layers import LSTM, Dense, Embedding, Bidirectional, Dropout, Activation, BatchNormalization\n",
        "from tensorflow.keras.callbacks import ModelCheckpoint\n",
        "from tensorflow.keras.optimizers import Adam, RMSprop\n",
        "from tensorflow.keras import backend as K"
      ]
    },
    {
      "cell_type": "code",
      "execution_count": 20,
      "id": "4bf115a2-9f1b-42b8-9b62-59728f1da977",
      "metadata": {
        "id": "4bf115a2-9f1b-42b8-9b62-59728f1da977"
      },
      "outputs": [],
      "source": [
        "# Métrica\n",
        "\n",
        "def R2(y_true, y_pred):\n",
        "    SS_res =  K.sum(K.square( y_true-y_pred ))\n",
        "    SS_tot = K.sum(K.square( y_true - K.mean(y_true) ) )\n",
        "    return ( 1 - SS_res/(SS_tot + K.epsilon()) )"
      ]
    },
    {
      "cell_type": "code",
      "execution_count": 21,
      "id": "92d30b68-3110-459c-887d-a06f056d067b",
      "metadata": {
        "id": "92d30b68-3110-459c-887d-a06f056d067b"
      },
      "outputs": [],
      "source": [
        "# vocab_size = # Completar largo del vocabulario\n",
        "vocab_size = len(tokenizer.word_index)"
      ]
    },
    {
      "cell_type": "code",
      "source": [
        "vocab_size"
      ],
      "metadata": {
        "colab": {
          "base_uri": "https://localhost:8080/"
        },
        "id": "R-ebVyhP8CO6",
        "outputId": "64a3b785-682a-4946-8403-09d292dfe5ec"
      },
      "id": "R-ebVyhP8CO6",
      "execution_count": 22,
      "outputs": [
        {
          "output_type": "execute_result",
          "data": {
            "text/plain": [
              "39"
            ]
          },
          "metadata": {},
          "execution_count": 22
        }
      ]
    },
    {
      "cell_type": "code",
      "execution_count": 23,
      "id": "6166a72b-ccd1-459c-a3a1-fa43bf31a369",
      "metadata": {
        "id": "6166a72b-ccd1-459c-a3a1-fa43bf31a369"
      },
      "outputs": [],
      "source": [
        "max_sequence_len = len(X[max_len_idx])"
      ]
    },
    {
      "cell_type": "markdown",
      "id": "cc91cd42-b885-4ab5-b348-57296b0c0d10",
      "metadata": {
        "id": "cc91cd42-b885-4ab5-b348-57296b0c0d10"
      },
      "source": [
        "# Armar modelo en keras de LSTM\n",
        "El de abajo es un ejemplo propuesto pero puede armar otro similar (siempre con LSTM o GRU)"
      ]
    },
    {
      "cell_type": "raw",
      "id": "9883ed67-e2d9-412a-8f8b-1e463df69ed8",
      "metadata": {
        "id": "9883ed67-e2d9-412a-8f8b-1e463df69ed8"
      },
      "source": [
        "Model: \"sequential\"\n",
        "_________________________________________________________________\n",
        "Layer (type)                 Output Shape              Param #   \n",
        "=================================================================\n",
        "embedding (Embedding)        (None, 207, 64)           2496      \n",
        "_________________________________________________________________\n",
        "bidirectional (Bidirectional (None, 200)               132000    \n",
        "_________________________________________________________________\n",
        "dense (Dense)                (None, 50)                10050     \n",
        "_________________________________________________________________\n",
        "batch_normalization (BatchNo (None, 50)                200       \n",
        "_________________________________________________________________\n",
        "activation (Activation)      (None, 50)                0         \n",
        "_________________________________________________________________\n",
        "dense_1 (Dense)              (None, 1)                 51        \n",
        "=================================================================\n",
        "Total params: 144,797\n",
        "Trainable params: 144,697\n",
        "Non-trainable params: 100\n",
        "_________________________________________________________________"
      ]
    },
    {
      "cell_type": "code",
      "source": [
        "rnn_neurons_1 = 100\n",
        "rnn_neurons_2 = 50\n",
        "input_shape = (max_sequence_len, 1)\n",
        "dropout_p = 0.2"
      ],
      "metadata": {
        "id": "M_rYHmKxKhwj"
      },
      "id": "M_rYHmKxKhwj",
      "execution_count": 24,
      "outputs": []
    },
    {
      "cell_type": "code",
      "execution_count": 25,
      "id": "d05209e0-5358-40c0-b806-2e98367e9f1c",
      "metadata": {
        "colab": {
          "base_uri": "https://localhost:8080/"
        },
        "id": "d05209e0-5358-40c0-b806-2e98367e9f1c",
        "outputId": "a7dbd00a-f132-411f-e05d-49df6903f8d7"
      },
      "outputs": [
        {
          "output_type": "stream",
          "name": "stdout",
          "text": [
            "WARNING:tensorflow:Layer lstm will not use cuDNN kernels since it doesn't meet the criteria. It will use a generic GPU kernel as fallback when running on GPU.\n",
            "WARNING:tensorflow:Layer lstm_1 will not use cuDNN kernels since it doesn't meet the criteria. It will use a generic GPU kernel as fallback when running on GPU.\n"
          ]
        }
      ],
      "source": [
        "model = Sequential()\n",
        "model.add(Embedding(input_dim = vocab_size, output_dim = 64, input_length=max_sequence_len))\n",
        "model.add(LSTM(rnn_neurons_1, return_sequences = True, dropout=dropout_p, recurrent_dropout=dropout_p))\n",
        "model.add(LSTM(rnn_neurons_2,  dropout=dropout_p, recurrent_dropout=dropout_p))\n",
        "\n",
        "model.add(Dense(1))\n"
      ]
    },
    {
      "cell_type": "code",
      "execution_count": 26,
      "id": "237c1327-028f-4f70-bd29-ea94cd999686",
      "metadata": {
        "colab": {
          "base_uri": "https://localhost:8080/"
        },
        "id": "237c1327-028f-4f70-bd29-ea94cd999686",
        "outputId": "04dada99-edc8-46af-cde0-d84a44e3a7ba"
      },
      "outputs": [
        {
          "output_type": "stream",
          "name": "stdout",
          "text": [
            "Model: \"sequential\"\n",
            "_________________________________________________________________\n",
            " Layer (type)                Output Shape              Param #   \n",
            "=================================================================\n",
            " embedding (Embedding)       (None, 207, 64)           2496      \n",
            "                                                                 \n",
            " lstm (LSTM)                 (None, 207, 100)          66000     \n",
            "                                                                 \n",
            " lstm_1 (LSTM)               (None, 50)                30200     \n",
            "                                                                 \n",
            " dense (Dense)               (None, 1)                 51        \n",
            "                                                                 \n",
            "=================================================================\n",
            "Total params: 98,747\n",
            "Trainable params: 98,747\n",
            "Non-trainable params: 0\n",
            "_________________________________________________________________\n"
          ]
        }
      ],
      "source": [
        "model.summary()"
      ]
    },
    {
      "cell_type": "code",
      "execution_count": 29,
      "id": "62c3f792-f413-4150-8ebf-1f59c5fb986d",
      "metadata": {
        "id": "62c3f792-f413-4150-8ebf-1f59c5fb986d"
      },
      "outputs": [],
      "source": [
        "mcp = ModelCheckpoint('models_3/best_model_{epoch}', save_best_only=True, save_format=\"h5\")"
      ]
    },
    {
      "cell_type": "code",
      "execution_count": 27,
      "id": "9138b411-fc5d-41bd-8c8e-c12580cc5b14",
      "metadata": {
        "id": "9138b411-fc5d-41bd-8c8e-c12580cc5b14"
      },
      "outputs": [],
      "source": [
        "model.compile(optimizer=Adam(learning_rate=0.001), loss='mse', metrics=[R2])"
      ]
    },
    {
      "cell_type": "code",
      "source": [
        "history = model.fit(X_train, y_train, epochs=150, batch_size=128, validation_data=(X_test, y_test), callbacks=[mcp])"
      ],
      "metadata": {
        "colab": {
          "base_uri": "https://localhost:8080/"
        },
        "id": "pFlaY92778K4",
        "outputId": "b41c75bf-2e10-447b-bbe5-2c58a9d50c6f"
      },
      "id": "pFlaY92778K4",
      "execution_count": null,
      "outputs": [
        {
          "output_type": "stream",
          "name": "stdout",
          "text": [
            "Epoch 1/150\n",
            "32/32 [==============================] - ETA: 0s - loss: 12.9163 - R2: -3.5410INFO:tensorflow:Assets written to: models_3/best_model_1/assets\n"
          ]
        },
        {
          "output_type": "stream",
          "name": "stderr",
          "text": [
            "WARNING:absl:<keras.layers.recurrent.LSTMCell object at 0x7f420e83cf90> has the same name 'LSTMCell' as a built-in Keras object. Consider renaming <class 'keras.layers.recurrent.LSTMCell'> to avoid naming conflicts when loading with `tf.keras.models.load_model`. If renaming is not possible, pass the object in the `custom_objects` parameter of the load function.\n",
            "WARNING:absl:<keras.layers.recurrent.LSTMCell object at 0x7f420e910f10> has the same name 'LSTMCell' as a built-in Keras object. Consider renaming <class 'keras.layers.recurrent.LSTMCell'> to avoid naming conflicts when loading with `tf.keras.models.load_model`. If renaming is not possible, pass the object in the `custom_objects` parameter of the load function.\n"
          ]
        },
        {
          "output_type": "stream",
          "name": "stdout",
          "text": [
            "\b\b\b\b\b\b\b\b\b\b\b\b\b\b\b\b\b\b\b\b\b\b\b\b\b\b\b\b\b\b\b\b\b\b\b\b\b\b\b\b\b\b\b\b\b\b\b\b\b\b\b\b\b\b\b\b\b\b\b\b\b\b\b\b\b\b\b\b\b\b\b\b\b\b\b\b\b\b\r32/32 [==============================] - 157s 5s/step - loss: 12.9163 - R2: -3.5410 - val_loss: 3.2453 - val_R2: -0.1425\n",
            "Epoch 2/150\n",
            "32/32 [==============================] - ETA: 0s - loss: 2.8341 - R2: -0.0296INFO:tensorflow:Assets written to: models_3/best_model_2/assets\n"
          ]
        },
        {
          "output_type": "stream",
          "name": "stderr",
          "text": [
            "INFO:tensorflow:Assets written to: models_3/best_model_2/assets\n",
            "WARNING:absl:<keras.layers.recurrent.LSTMCell object at 0x7f420e83cf90> has the same name 'LSTMCell' as a built-in Keras object. Consider renaming <class 'keras.layers.recurrent.LSTMCell'> to avoid naming conflicts when loading with `tf.keras.models.load_model`. If renaming is not possible, pass the object in the `custom_objects` parameter of the load function.\n",
            "WARNING:absl:<keras.layers.recurrent.LSTMCell object at 0x7f420e910f10> has the same name 'LSTMCell' as a built-in Keras object. Consider renaming <class 'keras.layers.recurrent.LSTMCell'> to avoid naming conflicts when loading with `tf.keras.models.load_model`. If renaming is not possible, pass the object in the `custom_objects` parameter of the load function.\n"
          ]
        },
        {
          "output_type": "stream",
          "name": "stdout",
          "text": [
            "\b\b\b\b\b\b\b\b\b\b\b\b\b\b\b\b\b\b\b\b\b\b\b\b\b\b\b\b\b\b\b\b\b\b\b\b\b\b\b\b\b\b\b\b\b\b\b\b\b\b\b\b\b\b\b\b\b\b\b\b\b\b\b\b\b\b\b\b\b\b\b\b\b\b\b\b\b\r32/32 [==============================] - 100s 3s/step - loss: 2.8341 - R2: -0.0296 - val_loss: 2.8859 - val_R2: -0.0065\n",
            "Epoch 3/150\n",
            "32/32 [==============================] - ETA: 0s - loss: 2.7889 - R2: -0.0126INFO:tensorflow:Assets written to: models_3/best_model_3/assets\n"
          ]
        },
        {
          "output_type": "stream",
          "name": "stderr",
          "text": [
            "INFO:tensorflow:Assets written to: models_3/best_model_3/assets\n",
            "WARNING:absl:<keras.layers.recurrent.LSTMCell object at 0x7f420e83cf90> has the same name 'LSTMCell' as a built-in Keras object. Consider renaming <class 'keras.layers.recurrent.LSTMCell'> to avoid naming conflicts when loading with `tf.keras.models.load_model`. If renaming is not possible, pass the object in the `custom_objects` parameter of the load function.\n",
            "WARNING:absl:<keras.layers.recurrent.LSTMCell object at 0x7f420e910f10> has the same name 'LSTMCell' as a built-in Keras object. Consider renaming <class 'keras.layers.recurrent.LSTMCell'> to avoid naming conflicts when loading with `tf.keras.models.load_model`. If renaming is not possible, pass the object in the `custom_objects` parameter of the load function.\n"
          ]
        },
        {
          "output_type": "stream",
          "name": "stdout",
          "text": [
            "\b\b\b\b\b\b\b\b\b\b\b\b\b\b\b\b\b\b\b\b\b\b\b\b\b\b\b\b\b\b\b\b\b\b\b\b\b\b\b\b\b\b\b\b\b\b\b\b\b\b\b\b\b\b\b\b\b\b\b\b\b\b\b\b\b\b\b\b\b\b\b\b\b\b\b\b\b\r32/32 [==============================] - 101s 3s/step - loss: 2.7889 - R2: -0.0126 - val_loss: 2.8855 - val_R2: -0.0061\n",
            "Epoch 4/150\n",
            "32/32 [==============================] - ETA: 0s - loss: 2.8043 - R2: -0.0122INFO:tensorflow:Assets written to: models_3/best_model_4/assets\n"
          ]
        },
        {
          "output_type": "stream",
          "name": "stderr",
          "text": [
            "INFO:tensorflow:Assets written to: models_3/best_model_4/assets\n",
            "WARNING:absl:<keras.layers.recurrent.LSTMCell object at 0x7f420e83cf90> has the same name 'LSTMCell' as a built-in Keras object. Consider renaming <class 'keras.layers.recurrent.LSTMCell'> to avoid naming conflicts when loading with `tf.keras.models.load_model`. If renaming is not possible, pass the object in the `custom_objects` parameter of the load function.\n",
            "WARNING:absl:<keras.layers.recurrent.LSTMCell object at 0x7f420e910f10> has the same name 'LSTMCell' as a built-in Keras object. Consider renaming <class 'keras.layers.recurrent.LSTMCell'> to avoid naming conflicts when loading with `tf.keras.models.load_model`. If renaming is not possible, pass the object in the `custom_objects` parameter of the load function.\n"
          ]
        },
        {
          "output_type": "stream",
          "name": "stdout",
          "text": [
            "\b\b\b\b\b\b\b\b\b\b\b\b\b\b\b\b\b\b\b\b\b\b\b\b\b\b\b\b\b\b\b\b\b\b\b\b\b\b\b\b\b\b\b\b\b\b\b\b\b\b\b\b\b\b\b\b\b\b\b\b\b\b\b\b\b\b\b\b\b\b\b\b\b\b\b\b\b\r32/32 [==============================] - 99s 3s/step - loss: 2.8043 - R2: -0.0122 - val_loss: 2.8850 - val_R2: -0.0059\n",
            "Epoch 5/150\n",
            "32/32 [==============================] - 92s 3s/step - loss: 2.7905 - R2: -0.0114 - val_loss: 2.8905 - val_R2: -0.0087\n",
            "Epoch 6/150\n",
            "32/32 [==============================] - 95s 3s/step - loss: 2.7838 - R2: -0.0090 - val_loss: 2.8939 - val_R2: -0.0101\n",
            "Epoch 7/150\n",
            "32/32 [==============================] - ETA: 0s - loss: 2.7881 - R2: -0.0089INFO:tensorflow:Assets written to: models_3/best_model_7/assets\n"
          ]
        },
        {
          "output_type": "stream",
          "name": "stderr",
          "text": [
            "INFO:tensorflow:Assets written to: models_3/best_model_7/assets\n",
            "WARNING:absl:<keras.layers.recurrent.LSTMCell object at 0x7f420e83cf90> has the same name 'LSTMCell' as a built-in Keras object. Consider renaming <class 'keras.layers.recurrent.LSTMCell'> to avoid naming conflicts when loading with `tf.keras.models.load_model`. If renaming is not possible, pass the object in the `custom_objects` parameter of the load function.\n",
            "WARNING:absl:<keras.layers.recurrent.LSTMCell object at 0x7f420e910f10> has the same name 'LSTMCell' as a built-in Keras object. Consider renaming <class 'keras.layers.recurrent.LSTMCell'> to avoid naming conflicts when loading with `tf.keras.models.load_model`. If renaming is not possible, pass the object in the `custom_objects` parameter of the load function.\n"
          ]
        },
        {
          "output_type": "stream",
          "name": "stdout",
          "text": [
            "\b\b\b\b\b\b\b\b\b\b\b\b\b\b\b\b\b\b\b\b\b\b\b\b\b\b\b\b\b\b\b\b\b\b\b\b\b\b\b\b\b\b\b\b\b\b\b\b\b\b\b\b\b\b\b\b\b\b\b\b\b\b\b\b\b\b\b\b\b\b\b\b\b\b\b\b\b\r32/32 [==============================] - 99s 3s/step - loss: 2.7881 - R2: -0.0089 - val_loss: 2.8815 - val_R2: -0.0046\n",
            "Epoch 8/150\n",
            "32/32 [==============================] - 92s 3s/step - loss: 2.7963 - R2: -0.0107 - val_loss: 2.8951 - val_R2: -0.0107\n",
            "Epoch 9/150\n",
            "32/32 [==============================] - ETA: 0s - loss: 2.7805 - R2: -0.0035INFO:tensorflow:Assets written to: models_3/best_model_9/assets\n"
          ]
        },
        {
          "output_type": "stream",
          "name": "stderr",
          "text": [
            "INFO:tensorflow:Assets written to: models_3/best_model_9/assets\n",
            "WARNING:absl:<keras.layers.recurrent.LSTMCell object at 0x7f420e83cf90> has the same name 'LSTMCell' as a built-in Keras object. Consider renaming <class 'keras.layers.recurrent.LSTMCell'> to avoid naming conflicts when loading with `tf.keras.models.load_model`. If renaming is not possible, pass the object in the `custom_objects` parameter of the load function.\n",
            "WARNING:absl:<keras.layers.recurrent.LSTMCell object at 0x7f420e910f10> has the same name 'LSTMCell' as a built-in Keras object. Consider renaming <class 'keras.layers.recurrent.LSTMCell'> to avoid naming conflicts when loading with `tf.keras.models.load_model`. If renaming is not possible, pass the object in the `custom_objects` parameter of the load function.\n"
          ]
        },
        {
          "output_type": "stream",
          "name": "stdout",
          "text": [
            "\b\b\b\b\b\b\b\b\b\b\b\b\b\b\b\b\b\b\b\b\b\b\b\b\b\b\b\b\b\b\b\b\b\b\b\b\b\b\b\b\b\b\b\b\b\b\b\b\b\b\b\b\b\b\b\b\b\b\b\b\b\b\b\b\b\b\b\b\b\b\b\b\b\b\b\b\b\r32/32 [==============================] - 99s 3s/step - loss: 2.7805 - R2: -0.0035 - val_loss: 2.8767 - val_R2: -0.0032\n",
            "Epoch 10/150\n",
            "32/32 [==============================] - ETA: 0s - loss: 2.7882 - R2: -0.0094INFO:tensorflow:Assets written to: models_3/best_model_10/assets\n"
          ]
        },
        {
          "output_type": "stream",
          "name": "stderr",
          "text": [
            "INFO:tensorflow:Assets written to: models_3/best_model_10/assets\n",
            "WARNING:absl:<keras.layers.recurrent.LSTMCell object at 0x7f420e83cf90> has the same name 'LSTMCell' as a built-in Keras object. Consider renaming <class 'keras.layers.recurrent.LSTMCell'> to avoid naming conflicts when loading with `tf.keras.models.load_model`. If renaming is not possible, pass the object in the `custom_objects` parameter of the load function.\n",
            "WARNING:absl:<keras.layers.recurrent.LSTMCell object at 0x7f420e910f10> has the same name 'LSTMCell' as a built-in Keras object. Consider renaming <class 'keras.layers.recurrent.LSTMCell'> to avoid naming conflicts when loading with `tf.keras.models.load_model`. If renaming is not possible, pass the object in the `custom_objects` parameter of the load function.\n"
          ]
        },
        {
          "output_type": "stream",
          "name": "stdout",
          "text": [
            "\b\b\b\b\b\b\b\b\b\b\b\b\b\b\b\b\b\b\b\b\b\b\b\b\b\b\b\b\b\b\b\b\b\b\b\b\b\b\b\b\b\b\b\b\b\b\b\b\b\b\b\b\b\b\b\b\b\b\b\b\b\b\b\b\b\b\b\b\b\b\b\b\b\b\b\b\b\r32/32 [==============================] - 97s 3s/step - loss: 2.7882 - R2: -0.0094 - val_loss: 2.8741 - val_R2: -0.0016\n",
            "Epoch 11/150\n",
            "32/32 [==============================] - ETA: 0s - loss: 2.7847 - R2: -0.0090INFO:tensorflow:Assets written to: models_3/best_model_11/assets\n"
          ]
        },
        {
          "output_type": "stream",
          "name": "stderr",
          "text": [
            "INFO:tensorflow:Assets written to: models_3/best_model_11/assets\n",
            "WARNING:absl:<keras.layers.recurrent.LSTMCell object at 0x7f420e83cf90> has the same name 'LSTMCell' as a built-in Keras object. Consider renaming <class 'keras.layers.recurrent.LSTMCell'> to avoid naming conflicts when loading with `tf.keras.models.load_model`. If renaming is not possible, pass the object in the `custom_objects` parameter of the load function.\n",
            "WARNING:absl:<keras.layers.recurrent.LSTMCell object at 0x7f420e910f10> has the same name 'LSTMCell' as a built-in Keras object. Consider renaming <class 'keras.layers.recurrent.LSTMCell'> to avoid naming conflicts when loading with `tf.keras.models.load_model`. If renaming is not possible, pass the object in the `custom_objects` parameter of the load function.\n"
          ]
        },
        {
          "output_type": "stream",
          "name": "stdout",
          "text": [
            "\b\b\b\b\b\b\b\b\b\b\b\b\b\b\b\b\b\b\b\b\b\b\b\b\b\b\b\b\b\b\b\b\b\b\b\b\b\b\b\b\b\b\b\b\b\b\b\b\b\b\b\b\b\b\b\b\b\b\b\b\b\b\b\b\b\b\b\b\b\b\b\b\b\b\b\b\b\r32/32 [==============================] - 96s 3s/step - loss: 2.7847 - R2: -0.0090 - val_loss: 2.8635 - val_R2: 0.0019\n",
            "Epoch 12/150\n",
            "32/32 [==============================] - ETA: 0s - loss: 2.7652 - R2: -4.4465e-05INFO:tensorflow:Assets written to: models_3/best_model_12/assets\n"
          ]
        },
        {
          "output_type": "stream",
          "name": "stderr",
          "text": [
            "INFO:tensorflow:Assets written to: models_3/best_model_12/assets\n",
            "WARNING:absl:<keras.layers.recurrent.LSTMCell object at 0x7f420e83cf90> has the same name 'LSTMCell' as a built-in Keras object. Consider renaming <class 'keras.layers.recurrent.LSTMCell'> to avoid naming conflicts when loading with `tf.keras.models.load_model`. If renaming is not possible, pass the object in the `custom_objects` parameter of the load function.\n",
            "WARNING:absl:<keras.layers.recurrent.LSTMCell object at 0x7f420e910f10> has the same name 'LSTMCell' as a built-in Keras object. Consider renaming <class 'keras.layers.recurrent.LSTMCell'> to avoid naming conflicts when loading with `tf.keras.models.load_model`. If renaming is not possible, pass the object in the `custom_objects` parameter of the load function.\n"
          ]
        },
        {
          "output_type": "stream",
          "name": "stdout",
          "text": [
            "\b\b\b\b\b\b\b\b\b\b\b\b\b\b\b\b\b\b\b\b\b\b\b\b\b\b\b\b\b\b\b\b\b\b\b\b\b\b\b\b\b\b\b\b\b\b\b\b\b\b\b\b\b\b\b\b\b\b\b\b\b\b\b\b\b\b\b\b\b\b\b\b\b\b\b\b\b\b\b\b\b\r32/32 [==============================] - 96s 3s/step - loss: 2.7652 - R2: -4.4465e-05 - val_loss: 2.8511 - val_R2: 0.0065\n",
            "Epoch 13/150\n",
            "32/32 [==============================] - ETA: 0s - loss: 2.7606 - R2: 0.0013INFO:tensorflow:Assets written to: models_3/best_model_13/assets\n"
          ]
        },
        {
          "output_type": "stream",
          "name": "stderr",
          "text": [
            "INFO:tensorflow:Assets written to: models_3/best_model_13/assets\n",
            "WARNING:absl:<keras.layers.recurrent.LSTMCell object at 0x7f420e83cf90> has the same name 'LSTMCell' as a built-in Keras object. Consider renaming <class 'keras.layers.recurrent.LSTMCell'> to avoid naming conflicts when loading with `tf.keras.models.load_model`. If renaming is not possible, pass the object in the `custom_objects` parameter of the load function.\n",
            "WARNING:absl:<keras.layers.recurrent.LSTMCell object at 0x7f420e910f10> has the same name 'LSTMCell' as a built-in Keras object. Consider renaming <class 'keras.layers.recurrent.LSTMCell'> to avoid naming conflicts when loading with `tf.keras.models.load_model`. If renaming is not possible, pass the object in the `custom_objects` parameter of the load function.\n"
          ]
        },
        {
          "output_type": "stream",
          "name": "stdout",
          "text": [
            "\b\b\b\b\b\b\b\b\b\b\b\b\b\b\b\b\b\b\b\b\b\b\b\b\b\b\b\b\b\b\b\b\b\b\b\b\b\b\b\b\b\b\b\b\b\b\b\b\b\b\b\b\b\b\b\b\b\b\b\b\b\b\b\b\b\b\b\b\b\b\b\b\b\b\b\b\r32/32 [==============================] - 95s 3s/step - loss: 2.7606 - R2: 0.0013 - val_loss: 2.8376 - val_R2: 0.0106\n",
            "Epoch 14/150\n",
            "32/32 [==============================] - ETA: 0s - loss: 2.7500 - R2: 0.0053INFO:tensorflow:Assets written to: models_3/best_model_14/assets\n"
          ]
        },
        {
          "output_type": "stream",
          "name": "stderr",
          "text": [
            "INFO:tensorflow:Assets written to: models_3/best_model_14/assets\n",
            "WARNING:absl:<keras.layers.recurrent.LSTMCell object at 0x7f420e83cf90> has the same name 'LSTMCell' as a built-in Keras object. Consider renaming <class 'keras.layers.recurrent.LSTMCell'> to avoid naming conflicts when loading with `tf.keras.models.load_model`. If renaming is not possible, pass the object in the `custom_objects` parameter of the load function.\n",
            "WARNING:absl:<keras.layers.recurrent.LSTMCell object at 0x7f420e910f10> has the same name 'LSTMCell' as a built-in Keras object. Consider renaming <class 'keras.layers.recurrent.LSTMCell'> to avoid naming conflicts when loading with `tf.keras.models.load_model`. If renaming is not possible, pass the object in the `custom_objects` parameter of the load function.\n"
          ]
        },
        {
          "output_type": "stream",
          "name": "stdout",
          "text": [
            "\b\b\b\b\b\b\b\b\b\b\b\b\b\b\b\b\b\b\b\b\b\b\b\b\b\b\b\b\b\b\b\b\b\b\b\b\b\b\b\b\b\b\b\b\b\b\b\b\b\b\b\b\b\b\b\b\b\b\b\b\b\b\b\b\b\b\b\b\b\b\b\b\b\b\b\b\r32/32 [==============================] - 94s 3s/step - loss: 2.7500 - R2: 0.0053 - val_loss: 2.8166 - val_R2: 0.0196\n",
            "Epoch 15/150\n",
            "32/32 [==============================] - 88s 3s/step - loss: 2.7381 - R2: 0.0074 - val_loss: 2.8201 - val_R2: 0.0164\n",
            "Epoch 16/150\n",
            "32/32 [==============================] - ETA: 0s - loss: 2.7417 - R2: 0.0053INFO:tensorflow:Assets written to: models_3/best_model_16/assets\n"
          ]
        },
        {
          "output_type": "stream",
          "name": "stderr",
          "text": [
            "INFO:tensorflow:Assets written to: models_3/best_model_16/assets\n",
            "WARNING:absl:<keras.layers.recurrent.LSTMCell object at 0x7f420e83cf90> has the same name 'LSTMCell' as a built-in Keras object. Consider renaming <class 'keras.layers.recurrent.LSTMCell'> to avoid naming conflicts when loading with `tf.keras.models.load_model`. If renaming is not possible, pass the object in the `custom_objects` parameter of the load function.\n",
            "WARNING:absl:<keras.layers.recurrent.LSTMCell object at 0x7f420e910f10> has the same name 'LSTMCell' as a built-in Keras object. Consider renaming <class 'keras.layers.recurrent.LSTMCell'> to avoid naming conflicts when loading with `tf.keras.models.load_model`. If renaming is not possible, pass the object in the `custom_objects` parameter of the load function.\n"
          ]
        },
        {
          "output_type": "stream",
          "name": "stdout",
          "text": [
            "\b\b\b\b\b\b\b\b\b\b\b\b\b\b\b\b\b\b\b\b\b\b\b\b\b\b\b\b\b\b\b\b\b\b\b\b\b\b\b\b\b\b\b\b\b\b\b\b\b\b\b\b\b\b\b\b\b\b\b\b\b\b\b\b\b\b\b\b\b\b\b\b\b\b\b\b\r32/32 [==============================] - 95s 3s/step - loss: 2.7417 - R2: 0.0053 - val_loss: 2.8016 - val_R2: 0.0252\n",
            "Epoch 17/150\n",
            "32/32 [==============================] - ETA: 0s - loss: 2.7213 - R2: 0.0172INFO:tensorflow:Assets written to: models_3/best_model_17/assets\n"
          ]
        },
        {
          "output_type": "stream",
          "name": "stderr",
          "text": [
            "INFO:tensorflow:Assets written to: models_3/best_model_17/assets\n",
            "WARNING:absl:<keras.layers.recurrent.LSTMCell object at 0x7f420e83cf90> has the same name 'LSTMCell' as a built-in Keras object. Consider renaming <class 'keras.layers.recurrent.LSTMCell'> to avoid naming conflicts when loading with `tf.keras.models.load_model`. If renaming is not possible, pass the object in the `custom_objects` parameter of the load function.\n",
            "WARNING:absl:<keras.layers.recurrent.LSTMCell object at 0x7f420e910f10> has the same name 'LSTMCell' as a built-in Keras object. Consider renaming <class 'keras.layers.recurrent.LSTMCell'> to avoid naming conflicts when loading with `tf.keras.models.load_model`. If renaming is not possible, pass the object in the `custom_objects` parameter of the load function.\n"
          ]
        },
        {
          "output_type": "stream",
          "name": "stdout",
          "text": [
            "\b\b\b\b\b\b\b\b\b\b\b\b\b\b\b\b\b\b\b\b\b\b\b\b\b\b\b\b\b\b\b\b\b\b\b\b\b\b\b\b\b\b\b\b\b\b\b\b\b\b\b\b\b\b\b\b\b\b\b\b\b\b\b\b\b\b\b\b\b\b\b\b\b\b\b\b\r32/32 [==============================] - 95s 3s/step - loss: 2.7213 - R2: 0.0172 - val_loss: 2.7702 - val_R2: 0.0354\n",
            "Epoch 18/150\n",
            "32/32 [==============================] - ETA: 0s - loss: 2.7135 - R2: 0.0177INFO:tensorflow:Assets written to: models_3/best_model_18/assets\n"
          ]
        },
        {
          "output_type": "stream",
          "name": "stderr",
          "text": [
            "INFO:tensorflow:Assets written to: models_3/best_model_18/assets\n",
            "WARNING:absl:<keras.layers.recurrent.LSTMCell object at 0x7f420e83cf90> has the same name 'LSTMCell' as a built-in Keras object. Consider renaming <class 'keras.layers.recurrent.LSTMCell'> to avoid naming conflicts when loading with `tf.keras.models.load_model`. If renaming is not possible, pass the object in the `custom_objects` parameter of the load function.\n",
            "WARNING:absl:<keras.layers.recurrent.LSTMCell object at 0x7f420e910f10> has the same name 'LSTMCell' as a built-in Keras object. Consider renaming <class 'keras.layers.recurrent.LSTMCell'> to avoid naming conflicts when loading with `tf.keras.models.load_model`. If renaming is not possible, pass the object in the `custom_objects` parameter of the load function.\n"
          ]
        },
        {
          "output_type": "stream",
          "name": "stdout",
          "text": [
            "\b\b\b\b\b\b\b\b\b\b\b\b\b\b\b\b\b\b\b\b\b\b\b\b\b\b\b\b\b\b\b\b\b\b\b\b\b\b\b\b\b\b\b\b\b\b\b\b\b\b\b\b\b\b\b\b\b\b\b\b\b\b\b\b\b\b\b\b\b\b\b\b\b\b\b\b\r32/32 [==============================] - 94s 3s/step - loss: 2.7135 - R2: 0.0177 - val_loss: 2.7602 - val_R2: 0.0390\n",
            "Epoch 19/150\n",
            "32/32 [==============================] - ETA: 0s - loss: 2.7248 - R2: 0.0163INFO:tensorflow:Assets written to: models_3/best_model_19/assets\n"
          ]
        },
        {
          "output_type": "stream",
          "name": "stderr",
          "text": [
            "INFO:tensorflow:Assets written to: models_3/best_model_19/assets\n",
            "WARNING:absl:<keras.layers.recurrent.LSTMCell object at 0x7f420e83cf90> has the same name 'LSTMCell' as a built-in Keras object. Consider renaming <class 'keras.layers.recurrent.LSTMCell'> to avoid naming conflicts when loading with `tf.keras.models.load_model`. If renaming is not possible, pass the object in the `custom_objects` parameter of the load function.\n",
            "WARNING:absl:<keras.layers.recurrent.LSTMCell object at 0x7f420e910f10> has the same name 'LSTMCell' as a built-in Keras object. Consider renaming <class 'keras.layers.recurrent.LSTMCell'> to avoid naming conflicts when loading with `tf.keras.models.load_model`. If renaming is not possible, pass the object in the `custom_objects` parameter of the load function.\n"
          ]
        },
        {
          "output_type": "stream",
          "name": "stdout",
          "text": [
            "\b\b\b\b\b\b\b\b\b\b\b\b\b\b\b\b\b\b\b\b\b\b\b\b\b\b\b\b\b\b\b\b\b\b\b\b\b\b\b\b\b\b\b\b\b\b\b\b\b\b\b\b\b\b\b\b\b\b\b\b\b\b\b\b\b\b\b\b\b\b\b\b\b\b\b\b\r32/32 [==============================] - 94s 3s/step - loss: 2.7248 - R2: 0.0163 - val_loss: 2.7557 - val_R2: 0.0407\n",
            "Epoch 20/150\n",
            "32/32 [==============================] - 87s 3s/step - loss: 2.7317 - R2: 0.0143 - val_loss: 2.7576 - val_R2: 0.0398\n",
            "Epoch 21/150\n",
            "32/32 [==============================] - 87s 3s/step - loss: 2.7078 - R2: 0.0212 - val_loss: 2.7558 - val_R2: 0.0409\n",
            "Epoch 22/150\n",
            "32/32 [==============================] - 88s 3s/step - loss: 2.7033 - R2: 0.0227 - val_loss: 2.7918 - val_R2: 0.0259\n",
            "Epoch 23/150\n",
            "32/32 [==============================] - ETA: 0s - loss: 2.7052 - R2: 0.0209INFO:tensorflow:Assets written to: models_3/best_model_23/assets\n"
          ]
        },
        {
          "output_type": "stream",
          "name": "stderr",
          "text": [
            "INFO:tensorflow:Assets written to: models_3/best_model_23/assets\n",
            "WARNING:absl:<keras.layers.recurrent.LSTMCell object at 0x7f420e83cf90> has the same name 'LSTMCell' as a built-in Keras object. Consider renaming <class 'keras.layers.recurrent.LSTMCell'> to avoid naming conflicts when loading with `tf.keras.models.load_model`. If renaming is not possible, pass the object in the `custom_objects` parameter of the load function.\n",
            "WARNING:absl:<keras.layers.recurrent.LSTMCell object at 0x7f420e910f10> has the same name 'LSTMCell' as a built-in Keras object. Consider renaming <class 'keras.layers.recurrent.LSTMCell'> to avoid naming conflicts when loading with `tf.keras.models.load_model`. If renaming is not possible, pass the object in the `custom_objects` parameter of the load function.\n"
          ]
        },
        {
          "output_type": "stream",
          "name": "stdout",
          "text": [
            "\b\b\b\b\b\b\b\b\b\b\b\b\b\b\b\b\b\b\b\b\b\b\b\b\b\b\b\b\b\b\b\b\b\b\b\b\b\b\b\b\b\b\b\b\b\b\b\b\b\b\b\b\b\b\b\b\b\b\b\b\b\b\b\b\b\b\b\b\b\b\b\b\b\b\b\b\r32/32 [==============================] - 94s 3s/step - loss: 2.7052 - R2: 0.0209 - val_loss: 2.7413 - val_R2: 0.0453\n",
            "Epoch 24/150\n",
            "32/32 [==============================] - ETA: 0s - loss: 2.7050 - R2: 0.0218INFO:tensorflow:Assets written to: models_3/best_model_24/assets\n"
          ]
        },
        {
          "output_type": "stream",
          "name": "stderr",
          "text": [
            "INFO:tensorflow:Assets written to: models_3/best_model_24/assets\n",
            "WARNING:absl:<keras.layers.recurrent.LSTMCell object at 0x7f420e83cf90> has the same name 'LSTMCell' as a built-in Keras object. Consider renaming <class 'keras.layers.recurrent.LSTMCell'> to avoid naming conflicts when loading with `tf.keras.models.load_model`. If renaming is not possible, pass the object in the `custom_objects` parameter of the load function.\n",
            "WARNING:absl:<keras.layers.recurrent.LSTMCell object at 0x7f420e910f10> has the same name 'LSTMCell' as a built-in Keras object. Consider renaming <class 'keras.layers.recurrent.LSTMCell'> to avoid naming conflicts when loading with `tf.keras.models.load_model`. If renaming is not possible, pass the object in the `custom_objects` parameter of the load function.\n"
          ]
        },
        {
          "output_type": "stream",
          "name": "stdout",
          "text": [
            "\b\b\b\b\b\b\b\b\b\b\b\b\b\b\b\b\b\b\b\b\b\b\b\b\b\b\b\b\b\b\b\b\b\b\b\b\b\b\b\b\b\b\b\b\b\b\b\b\b\b\b\b\b\b\b\b\b\b\b\b\b\b\b\b\b\b\b\b\b\b\b\b\b\b\b\b\r32/32 [==============================] - 93s 3s/step - loss: 2.7050 - R2: 0.0218 - val_loss: 2.7363 - val_R2: 0.0475\n",
            "Epoch 25/150\n",
            "32/32 [==============================] - 88s 3s/step - loss: 2.6960 - R2: 0.0212 - val_loss: 2.7562 - val_R2: 0.0388\n",
            "Epoch 26/150\n",
            "32/32 [==============================] - ETA: 0s - loss: 2.6903 - R2: 0.0296INFO:tensorflow:Assets written to: models_3/best_model_26/assets\n"
          ]
        },
        {
          "output_type": "stream",
          "name": "stderr",
          "text": [
            "INFO:tensorflow:Assets written to: models_3/best_model_26/assets\n",
            "WARNING:absl:<keras.layers.recurrent.LSTMCell object at 0x7f420e83cf90> has the same name 'LSTMCell' as a built-in Keras object. Consider renaming <class 'keras.layers.recurrent.LSTMCell'> to avoid naming conflicts when loading with `tf.keras.models.load_model`. If renaming is not possible, pass the object in the `custom_objects` parameter of the load function.\n",
            "WARNING:absl:<keras.layers.recurrent.LSTMCell object at 0x7f420e910f10> has the same name 'LSTMCell' as a built-in Keras object. Consider renaming <class 'keras.layers.recurrent.LSTMCell'> to avoid naming conflicts when loading with `tf.keras.models.load_model`. If renaming is not possible, pass the object in the `custom_objects` parameter of the load function.\n"
          ]
        },
        {
          "output_type": "stream",
          "name": "stdout",
          "text": [
            "\b\b\b\b\b\b\b\b\b\b\b\b\b\b\b\b\b\b\b\b\b\b\b\b\b\b\b\b\b\b\b\b\b\b\b\b\b\b\b\b\b\b\b\b\b\b\b\b\b\b\b\b\b\b\b\b\b\b\b\b\b\b\b\b\b\b\b\b\b\b\b\b\b\b\b\b\r32/32 [==============================] - 94s 3s/step - loss: 2.6903 - R2: 0.0296 - val_loss: 2.7085 - val_R2: 0.0569\n",
            "Epoch 27/150\n",
            "32/32 [==============================] - ETA: 0s - loss: 2.6691 - R2: 0.0382INFO:tensorflow:Assets written to: models_3/best_model_27/assets\n"
          ]
        },
        {
          "output_type": "stream",
          "name": "stderr",
          "text": [
            "INFO:tensorflow:Assets written to: models_3/best_model_27/assets\n",
            "WARNING:absl:<keras.layers.recurrent.LSTMCell object at 0x7f420e83cf90> has the same name 'LSTMCell' as a built-in Keras object. Consider renaming <class 'keras.layers.recurrent.LSTMCell'> to avoid naming conflicts when loading with `tf.keras.models.load_model`. If renaming is not possible, pass the object in the `custom_objects` parameter of the load function.\n",
            "WARNING:absl:<keras.layers.recurrent.LSTMCell object at 0x7f420e910f10> has the same name 'LSTMCell' as a built-in Keras object. Consider renaming <class 'keras.layers.recurrent.LSTMCell'> to avoid naming conflicts when loading with `tf.keras.models.load_model`. If renaming is not possible, pass the object in the `custom_objects` parameter of the load function.\n"
          ]
        },
        {
          "output_type": "stream",
          "name": "stdout",
          "text": [
            "\b\b\b\b\b\b\b\b\b\b\b\b\b\b\b\b\b\b\b\b\b\b\b\b\b\b\b\b\b\b\b\b\b\b\b\b\b\b\b\b\b\b\b\b\b\b\b\b\b\b\b\b\b\b\b\b\b\b\b\b\b\b\b\b\b\b\b\b\b\b\b\b\b\b\b\b\r32/32 [==============================] - 95s 3s/step - loss: 2.6691 - R2: 0.0382 - val_loss: 2.6633 - val_R2: 0.0722\n",
            "Epoch 28/150\n",
            "32/32 [==============================] - 88s 3s/step - loss: 2.6397 - R2: 0.0453 - val_loss: 2.7402 - val_R2: 0.0456\n",
            "Epoch 29/150\n",
            "32/32 [==============================] - 87s 3s/step - loss: 2.6790 - R2: 0.0246 - val_loss: 2.6724 - val_R2: 0.0701\n",
            "Epoch 30/150\n",
            "32/32 [==============================] - 88s 3s/step - loss: 2.5938 - R2: 0.0618 - val_loss: 2.8579 - val_R2: 0.0046\n",
            "Epoch 31/150\n",
            "32/32 [==============================] - ETA: 0s - loss: 2.5623 - R2: 0.0725INFO:tensorflow:Assets written to: models_3/best_model_31/assets\n"
          ]
        },
        {
          "output_type": "stream",
          "name": "stderr",
          "text": [
            "INFO:tensorflow:Assets written to: models_3/best_model_31/assets\n",
            "WARNING:absl:<keras.layers.recurrent.LSTMCell object at 0x7f420e83cf90> has the same name 'LSTMCell' as a built-in Keras object. Consider renaming <class 'keras.layers.recurrent.LSTMCell'> to avoid naming conflicts when loading with `tf.keras.models.load_model`. If renaming is not possible, pass the object in the `custom_objects` parameter of the load function.\n",
            "WARNING:absl:<keras.layers.recurrent.LSTMCell object at 0x7f420e910f10> has the same name 'LSTMCell' as a built-in Keras object. Consider renaming <class 'keras.layers.recurrent.LSTMCell'> to avoid naming conflicts when loading with `tf.keras.models.load_model`. If renaming is not possible, pass the object in the `custom_objects` parameter of the load function.\n"
          ]
        },
        {
          "output_type": "stream",
          "name": "stdout",
          "text": [
            "\b\b\b\b\b\b\b\b\b\b\b\b\b\b\b\b\b\b\b\b\b\b\b\b\b\b\b\b\b\b\b\b\b\b\b\b\b\b\b\b\b\b\b\b\b\b\b\b\b\b\b\b\b\b\b\b\b\b\b\b\b\b\b\b\b\b\b\b\b\b\b\b\b\b\b\b\r32/32 [==============================] - 94s 3s/step - loss: 2.5623 - R2: 0.0725 - val_loss: 2.5798 - val_R2: 0.1011\n",
            "Epoch 32/150\n",
            "32/32 [==============================] - ETA: 0s - loss: 2.5062 - R2: 0.0946INFO:tensorflow:Assets written to: models_3/best_model_32/assets\n"
          ]
        },
        {
          "output_type": "stream",
          "name": "stderr",
          "text": [
            "INFO:tensorflow:Assets written to: models_3/best_model_32/assets\n",
            "WARNING:absl:<keras.layers.recurrent.LSTMCell object at 0x7f420e83cf90> has the same name 'LSTMCell' as a built-in Keras object. Consider renaming <class 'keras.layers.recurrent.LSTMCell'> to avoid naming conflicts when loading with `tf.keras.models.load_model`. If renaming is not possible, pass the object in the `custom_objects` parameter of the load function.\n",
            "WARNING:absl:<keras.layers.recurrent.LSTMCell object at 0x7f420e910f10> has the same name 'LSTMCell' as a built-in Keras object. Consider renaming <class 'keras.layers.recurrent.LSTMCell'> to avoid naming conflicts when loading with `tf.keras.models.load_model`. If renaming is not possible, pass the object in the `custom_objects` parameter of the load function.\n"
          ]
        },
        {
          "output_type": "stream",
          "name": "stdout",
          "text": [
            "\b\b\b\b\b\b\b\b\b\b\b\b\b\b\b\b\b\b\b\b\b\b\b\b\b\b\b\b\b\b\b\b\b\b\b\b\b\b\b\b\b\b\b\b\b\b\b\b\b\b\b\b\b\b\b\b\b\b\b\b\b\b\b\b\b\b\b\b\b\b\b\b\b\b\b\b\r32/32 [==============================] - 95s 3s/step - loss: 2.5062 - R2: 0.0946 - val_loss: 2.4859 - val_R2: 0.1353\n",
            "Epoch 33/150\n",
            "32/32 [==============================] - ETA: 0s - loss: 2.4425 - R2: 0.1168INFO:tensorflow:Assets written to: models_3/best_model_33/assets\n"
          ]
        },
        {
          "output_type": "stream",
          "name": "stderr",
          "text": [
            "INFO:tensorflow:Assets written to: models_3/best_model_33/assets\n",
            "WARNING:absl:<keras.layers.recurrent.LSTMCell object at 0x7f420e83cf90> has the same name 'LSTMCell' as a built-in Keras object. Consider renaming <class 'keras.layers.recurrent.LSTMCell'> to avoid naming conflicts when loading with `tf.keras.models.load_model`. If renaming is not possible, pass the object in the `custom_objects` parameter of the load function.\n",
            "WARNING:absl:<keras.layers.recurrent.LSTMCell object at 0x7f420e910f10> has the same name 'LSTMCell' as a built-in Keras object. Consider renaming <class 'keras.layers.recurrent.LSTMCell'> to avoid naming conflicts when loading with `tf.keras.models.load_model`. If renaming is not possible, pass the object in the `custom_objects` parameter of the load function.\n"
          ]
        },
        {
          "output_type": "stream",
          "name": "stdout",
          "text": [
            "\b\b\b\b\b\b\b\b\b\b\b\b\b\b\b\b\b\b\b\b\b\b\b\b\b\b\b\b\b\b\b\b\b\b\b\b\b\b\b\b\b\b\b\b\b\b\b\b\b\b\b\b\b\b\b\b\b\b\b\b\b\b\b\b\b\b\b\b\b\b\b\b\b\b\b\b\r32/32 [==============================] - 93s 3s/step - loss: 2.4425 - R2: 0.1168 - val_loss: 2.4640 - val_R2: 0.1424\n",
            "Epoch 34/150\n",
            "32/32 [==============================] - ETA: 0s - loss: 2.4262 - R2: 0.1184INFO:tensorflow:Assets written to: models_3/best_model_34/assets\n"
          ]
        },
        {
          "output_type": "stream",
          "name": "stderr",
          "text": [
            "INFO:tensorflow:Assets written to: models_3/best_model_34/assets\n",
            "WARNING:absl:<keras.layers.recurrent.LSTMCell object at 0x7f420e83cf90> has the same name 'LSTMCell' as a built-in Keras object. Consider renaming <class 'keras.layers.recurrent.LSTMCell'> to avoid naming conflicts when loading with `tf.keras.models.load_model`. If renaming is not possible, pass the object in the `custom_objects` parameter of the load function.\n",
            "WARNING:absl:<keras.layers.recurrent.LSTMCell object at 0x7f420e910f10> has the same name 'LSTMCell' as a built-in Keras object. Consider renaming <class 'keras.layers.recurrent.LSTMCell'> to avoid naming conflicts when loading with `tf.keras.models.load_model`. If renaming is not possible, pass the object in the `custom_objects` parameter of the load function.\n"
          ]
        },
        {
          "output_type": "stream",
          "name": "stdout",
          "text": [
            "\b\b\b\b\b\b\b\b\b\b\b\b\b\b\b\b\b\b\b\b\b\b\b\b\b\b\b\b\b\b\b\b\b\b\b\b\b\b\b\b\b\b\b\b\b\b\b\b\b\b\b\b\b\b\b\b\b\b\b\b\b\b\b\b\b\b\b\b\b\b\b\b\b\b\b\b\r32/32 [==============================] - 94s 3s/step - loss: 2.4262 - R2: 0.1184 - val_loss: 2.4292 - val_R2: 0.1559\n",
            "Epoch 35/150\n",
            "32/32 [==============================] - ETA: 0s - loss: 2.3572 - R2: 0.1448INFO:tensorflow:Assets written to: models_3/best_model_35/assets\n"
          ]
        },
        {
          "output_type": "stream",
          "name": "stderr",
          "text": [
            "INFO:tensorflow:Assets written to: models_3/best_model_35/assets\n",
            "WARNING:absl:<keras.layers.recurrent.LSTMCell object at 0x7f420e83cf90> has the same name 'LSTMCell' as a built-in Keras object. Consider renaming <class 'keras.layers.recurrent.LSTMCell'> to avoid naming conflicts when loading with `tf.keras.models.load_model`. If renaming is not possible, pass the object in the `custom_objects` parameter of the load function.\n",
            "WARNING:absl:<keras.layers.recurrent.LSTMCell object at 0x7f420e910f10> has the same name 'LSTMCell' as a built-in Keras object. Consider renaming <class 'keras.layers.recurrent.LSTMCell'> to avoid naming conflicts when loading with `tf.keras.models.load_model`. If renaming is not possible, pass the object in the `custom_objects` parameter of the load function.\n"
          ]
        },
        {
          "output_type": "stream",
          "name": "stdout",
          "text": [
            "\b\b\b\b\b\b\b\b\b\b\b\b\b\b\b\b\b\b\b\b\b\b\b\b\b\b\b\b\b\b\b\b\b\b\b\b\b\b\b\b\b\b\b\b\b\b\b\b\b\b\b\b\b\b\b\b\b\b\b\b\b\b\b\b\b\b\b\b\b\b\b\b\b\b\b\b\r32/32 [==============================] - 93s 3s/step - loss: 2.3572 - R2: 0.1448 - val_loss: 2.4225 - val_R2: 0.1576\n",
            "Epoch 36/150\n",
            "32/32 [==============================] - ETA: 0s - loss: 2.3395 - R2: 0.1558INFO:tensorflow:Assets written to: models_3/best_model_36/assets\n"
          ]
        },
        {
          "output_type": "stream",
          "name": "stderr",
          "text": [
            "INFO:tensorflow:Assets written to: models_3/best_model_36/assets\n",
            "WARNING:absl:<keras.layers.recurrent.LSTMCell object at 0x7f420e83cf90> has the same name 'LSTMCell' as a built-in Keras object. Consider renaming <class 'keras.layers.recurrent.LSTMCell'> to avoid naming conflicts when loading with `tf.keras.models.load_model`. If renaming is not possible, pass the object in the `custom_objects` parameter of the load function.\n",
            "WARNING:absl:<keras.layers.recurrent.LSTMCell object at 0x7f420e910f10> has the same name 'LSTMCell' as a built-in Keras object. Consider renaming <class 'keras.layers.recurrent.LSTMCell'> to avoid naming conflicts when loading with `tf.keras.models.load_model`. If renaming is not possible, pass the object in the `custom_objects` parameter of the load function.\n"
          ]
        },
        {
          "output_type": "stream",
          "name": "stdout",
          "text": [
            "\b\b\b\b\b\b\b\b\b\b\b\b\b\b\b\b\b\b\b\b\b\b\b\b\b\b\b\b\b\b\b\b\b\b\b\b\b\b\b\b\b\b\b\b\b\b\b\b\b\b\b\b\b\b\b\b\b\b\b\b\b\b\b\b\b\b\b\b\b\b\b\b\b\b\b\b\r32/32 [==============================] - 95s 3s/step - loss: 2.3395 - R2: 0.1558 - val_loss: 2.3718 - val_R2: 0.1765\n",
            "Epoch 37/150\n",
            "32/32 [==============================] - ETA: 0s - loss: 2.2716 - R2: 0.1801INFO:tensorflow:Assets written to: models_3/best_model_37/assets\n"
          ]
        },
        {
          "output_type": "stream",
          "name": "stderr",
          "text": [
            "INFO:tensorflow:Assets written to: models_3/best_model_37/assets\n",
            "WARNING:absl:<keras.layers.recurrent.LSTMCell object at 0x7f420e83cf90> has the same name 'LSTMCell' as a built-in Keras object. Consider renaming <class 'keras.layers.recurrent.LSTMCell'> to avoid naming conflicts when loading with `tf.keras.models.load_model`. If renaming is not possible, pass the object in the `custom_objects` parameter of the load function.\n",
            "WARNING:absl:<keras.layers.recurrent.LSTMCell object at 0x7f420e910f10> has the same name 'LSTMCell' as a built-in Keras object. Consider renaming <class 'keras.layers.recurrent.LSTMCell'> to avoid naming conflicts when loading with `tf.keras.models.load_model`. If renaming is not possible, pass the object in the `custom_objects` parameter of the load function.\n"
          ]
        },
        {
          "output_type": "stream",
          "name": "stdout",
          "text": [
            "\b\b\b\b\b\b\b\b\b\b\b\b\b\b\b\b\b\b\b\b\b\b\b\b\b\b\b\b\b\b\b\b\b\b\b\b\b\b\b\b\b\b\b\b\b\b\b\b\b\b\b\b\b\b\b\b\b\b\b\b\b\b\b\b\b\b\b\b\b\b\b\b\b\b\b\b\r32/32 [==============================] - 93s 3s/step - loss: 2.2716 - R2: 0.1801 - val_loss: 2.3602 - val_R2: 0.1793\n",
            "Epoch 38/150\n",
            "32/32 [==============================] - ETA: 0s - loss: 2.2806 - R2: 0.1772INFO:tensorflow:Assets written to: models_3/best_model_38/assets\n"
          ]
        },
        {
          "output_type": "stream",
          "name": "stderr",
          "text": [
            "INFO:tensorflow:Assets written to: models_3/best_model_38/assets\n",
            "WARNING:absl:<keras.layers.recurrent.LSTMCell object at 0x7f420e83cf90> has the same name 'LSTMCell' as a built-in Keras object. Consider renaming <class 'keras.layers.recurrent.LSTMCell'> to avoid naming conflicts when loading with `tf.keras.models.load_model`. If renaming is not possible, pass the object in the `custom_objects` parameter of the load function.\n",
            "WARNING:absl:<keras.layers.recurrent.LSTMCell object at 0x7f420e910f10> has the same name 'LSTMCell' as a built-in Keras object. Consider renaming <class 'keras.layers.recurrent.LSTMCell'> to avoid naming conflicts when loading with `tf.keras.models.load_model`. If renaming is not possible, pass the object in the `custom_objects` parameter of the load function.\n"
          ]
        },
        {
          "output_type": "stream",
          "name": "stdout",
          "text": [
            "\b\b\b\b\b\b\b\b\b\b\b\b\b\b\b\b\b\b\b\b\b\b\b\b\b\b\b\b\b\b\b\b\b\b\b\b\b\b\b\b\b\b\b\b\b\b\b\b\b\b\b\b\b\b\b\b\b\b\b\b\b\b\b\b\b\b\b\b\b\b\b\b\b\b\b\b\r32/32 [==============================] - 94s 3s/step - loss: 2.2806 - R2: 0.1772 - val_loss: 2.3007 - val_R2: 0.2000\n",
            "Epoch 39/150\n",
            "32/32 [==============================] - ETA: 0s - loss: 2.2292 - R2: 0.1960INFO:tensorflow:Assets written to: models_3/best_model_39/assets\n"
          ]
        },
        {
          "output_type": "stream",
          "name": "stderr",
          "text": [
            "INFO:tensorflow:Assets written to: models_3/best_model_39/assets\n",
            "WARNING:absl:<keras.layers.recurrent.LSTMCell object at 0x7f420e83cf90> has the same name 'LSTMCell' as a built-in Keras object. Consider renaming <class 'keras.layers.recurrent.LSTMCell'> to avoid naming conflicts when loading with `tf.keras.models.load_model`. If renaming is not possible, pass the object in the `custom_objects` parameter of the load function.\n",
            "WARNING:absl:<keras.layers.recurrent.LSTMCell object at 0x7f420e910f10> has the same name 'LSTMCell' as a built-in Keras object. Consider renaming <class 'keras.layers.recurrent.LSTMCell'> to avoid naming conflicts when loading with `tf.keras.models.load_model`. If renaming is not possible, pass the object in the `custom_objects` parameter of the load function.\n"
          ]
        },
        {
          "output_type": "stream",
          "name": "stdout",
          "text": [
            "\b\b\b\b\b\b\b\b\b\b\b\b\b\b\b\b\b\b\b\b\b\b\b\b\b\b\b\b\b\b\b\b\b\b\b\b\b\b\b\b\b\b\b\b\b\b\b\b\b\b\b\b\b\b\b\b\b\b\b\b\b\b\b\b\b\b\b\b\b\b\b\b\b\b\b\b\r32/32 [==============================] - 94s 3s/step - loss: 2.2292 - R2: 0.1960 - val_loss: 2.2807 - val_R2: 0.2066\n",
            "Epoch 40/150\n",
            "32/32 [==============================] - ETA: 0s - loss: 2.1619 - R2: 0.2199INFO:tensorflow:Assets written to: models_3/best_model_40/assets\n"
          ]
        },
        {
          "output_type": "stream",
          "name": "stderr",
          "text": [
            "INFO:tensorflow:Assets written to: models_3/best_model_40/assets\n",
            "WARNING:absl:<keras.layers.recurrent.LSTMCell object at 0x7f420e83cf90> has the same name 'LSTMCell' as a built-in Keras object. Consider renaming <class 'keras.layers.recurrent.LSTMCell'> to avoid naming conflicts when loading with `tf.keras.models.load_model`. If renaming is not possible, pass the object in the `custom_objects` parameter of the load function.\n",
            "WARNING:absl:<keras.layers.recurrent.LSTMCell object at 0x7f420e910f10> has the same name 'LSTMCell' as a built-in Keras object. Consider renaming <class 'keras.layers.recurrent.LSTMCell'> to avoid naming conflicts when loading with `tf.keras.models.load_model`. If renaming is not possible, pass the object in the `custom_objects` parameter of the load function.\n"
          ]
        },
        {
          "output_type": "stream",
          "name": "stdout",
          "text": [
            "\b\b\b\b\b\b\b\b\b\b\b\b\b\b\b\b\b\b\b\b\b\b\b\b\b\b\b\b\b\b\b\b\b\b\b\b\b\b\b\b\b\b\b\b\b\b\b\b\b\b\b\b\b\b\b\b\b\b\b\b\b\b\b\b\b\b\b\b\b\b\b\b\b\b\b\b\r32/32 [==============================] - 94s 3s/step - loss: 2.1619 - R2: 0.2199 - val_loss: 2.2078 - val_R2: 0.2326\n",
            "Epoch 41/150\n",
            "32/32 [==============================] - 88s 3s/step - loss: 2.1239 - R2: 0.2362 - val_loss: 2.2854 - val_R2: 0.2015\n",
            "Epoch 42/150\n",
            "32/32 [==============================] - ETA: 0s - loss: 2.0638 - R2: 0.2573INFO:tensorflow:Assets written to: models_3/best_model_42/assets\n"
          ]
        },
        {
          "output_type": "stream",
          "name": "stderr",
          "text": [
            "INFO:tensorflow:Assets written to: models_3/best_model_42/assets\n",
            "WARNING:absl:<keras.layers.recurrent.LSTMCell object at 0x7f420e83cf90> has the same name 'LSTMCell' as a built-in Keras object. Consider renaming <class 'keras.layers.recurrent.LSTMCell'> to avoid naming conflicts when loading with `tf.keras.models.load_model`. If renaming is not possible, pass the object in the `custom_objects` parameter of the load function.\n",
            "WARNING:absl:<keras.layers.recurrent.LSTMCell object at 0x7f420e910f10> has the same name 'LSTMCell' as a built-in Keras object. Consider renaming <class 'keras.layers.recurrent.LSTMCell'> to avoid naming conflicts when loading with `tf.keras.models.load_model`. If renaming is not possible, pass the object in the `custom_objects` parameter of the load function.\n"
          ]
        },
        {
          "output_type": "stream",
          "name": "stdout",
          "text": [
            "\b\b\b\b\b\b\b\b\b\b\b\b\b\b\b\b\b\b\b\b\b\b\b\b\b\b\b\b\b\b\b\b\b\b\b\b\b\b\b\b\b\b\b\b\b\b\b\b\b\b\b\b\b\b\b\b\b\b\b\b\b\b\b\b\b\b\b\b\b\b\b\b\b\b\b\b\r32/32 [==============================] - 94s 3s/step - loss: 2.0638 - R2: 0.2573 - val_loss: 2.1371 - val_R2: 0.2574\n",
            "Epoch 43/150\n",
            "32/32 [==============================] - ETA: 0s - loss: 2.0965 - R2: 0.2358INFO:tensorflow:Assets written to: models_3/best_model_43/assets\n"
          ]
        },
        {
          "output_type": "stream",
          "name": "stderr",
          "text": [
            "INFO:tensorflow:Assets written to: models_3/best_model_43/assets\n",
            "WARNING:absl:<keras.layers.recurrent.LSTMCell object at 0x7f420e83cf90> has the same name 'LSTMCell' as a built-in Keras object. Consider renaming <class 'keras.layers.recurrent.LSTMCell'> to avoid naming conflicts when loading with `tf.keras.models.load_model`. If renaming is not possible, pass the object in the `custom_objects` parameter of the load function.\n",
            "WARNING:absl:<keras.layers.recurrent.LSTMCell object at 0x7f420e910f10> has the same name 'LSTMCell' as a built-in Keras object. Consider renaming <class 'keras.layers.recurrent.LSTMCell'> to avoid naming conflicts when loading with `tf.keras.models.load_model`. If renaming is not possible, pass the object in the `custom_objects` parameter of the load function.\n"
          ]
        },
        {
          "output_type": "stream",
          "name": "stdout",
          "text": [
            "\b\b\b\b\b\b\b\b\b\b\b\b\b\b\b\b\b\b\b\b\b\b\b\b\b\b\b\b\b\b\b\b\b\b\b\b\b\b\b\b\b\b\b\b\b\b\b\b\b\b\b\b\b\b\b\b\b\b\b\b\b\b\b\b\b\b\b\b\b\b\b\b\b\b\b\b\r32/32 [==============================] - 94s 3s/step - loss: 2.0965 - R2: 0.2358 - val_loss: 2.1233 - val_R2: 0.2632\n",
            "Epoch 44/150\n",
            "32/32 [==============================] - ETA: 0s - loss: 1.9994 - R2: 0.2780INFO:tensorflow:Assets written to: models_3/best_model_44/assets\n"
          ]
        },
        {
          "output_type": "stream",
          "name": "stderr",
          "text": [
            "INFO:tensorflow:Assets written to: models_3/best_model_44/assets\n",
            "WARNING:absl:<keras.layers.recurrent.LSTMCell object at 0x7f420e83cf90> has the same name 'LSTMCell' as a built-in Keras object. Consider renaming <class 'keras.layers.recurrent.LSTMCell'> to avoid naming conflicts when loading with `tf.keras.models.load_model`. If renaming is not possible, pass the object in the `custom_objects` parameter of the load function.\n",
            "WARNING:absl:<keras.layers.recurrent.LSTMCell object at 0x7f420e910f10> has the same name 'LSTMCell' as a built-in Keras object. Consider renaming <class 'keras.layers.recurrent.LSTMCell'> to avoid naming conflicts when loading with `tf.keras.models.load_model`. If renaming is not possible, pass the object in the `custom_objects` parameter of the load function.\n"
          ]
        },
        {
          "output_type": "stream",
          "name": "stdout",
          "text": [
            "\b\b\b\b\b\b\b\b\b\b\b\b\b\b\b\b\b\b\b\b\b\b\b\b\b\b\b\b\b\b\b\b\b\b\b\b\b\b\b\b\b\b\b\b\b\b\b\b\b\b\b\b\b\b\b\b\b\b\b\b\b\b\b\b\b\b\b\b\b\b\b\b\b\b\b\b\r32/32 [==============================] - 94s 3s/step - loss: 1.9994 - R2: 0.2780 - val_loss: 2.0905 - val_R2: 0.2742\n",
            "Epoch 45/150\n",
            "32/32 [==============================] - 87s 3s/step - loss: 1.9988 - R2: 0.2732 - val_loss: 2.0974 - val_R2: 0.2720\n",
            "Epoch 46/150\n",
            "32/32 [==============================] - 87s 3s/step - loss: 1.9656 - R2: 0.2874 - val_loss: 2.1220 - val_R2: 0.2624\n",
            "Epoch 47/150\n",
            "32/32 [==============================] - ETA: 0s - loss: 1.9665 - R2: 0.2847INFO:tensorflow:Assets written to: models_3/best_model_47/assets\n"
          ]
        },
        {
          "output_type": "stream",
          "name": "stderr",
          "text": [
            "INFO:tensorflow:Assets written to: models_3/best_model_47/assets\n",
            "WARNING:absl:<keras.layers.recurrent.LSTMCell object at 0x7f420e83cf90> has the same name 'LSTMCell' as a built-in Keras object. Consider renaming <class 'keras.layers.recurrent.LSTMCell'> to avoid naming conflicts when loading with `tf.keras.models.load_model`. If renaming is not possible, pass the object in the `custom_objects` parameter of the load function.\n",
            "WARNING:absl:<keras.layers.recurrent.LSTMCell object at 0x7f420e910f10> has the same name 'LSTMCell' as a built-in Keras object. Consider renaming <class 'keras.layers.recurrent.LSTMCell'> to avoid naming conflicts when loading with `tf.keras.models.load_model`. If renaming is not possible, pass the object in the `custom_objects` parameter of the load function.\n"
          ]
        },
        {
          "output_type": "stream",
          "name": "stdout",
          "text": [
            "\b\b\b\b\b\b\b\b\b\b\b\b\b\b\b\b\b\b\b\b\b\b\b\b\b\b\b\b\b\b\b\b\b\b\b\b\b\b\b\b\b\b\b\b\b\b\b\b\b\b\b\b\b\b\b\b\b\b\b\b\b\b\b\b\b\b\b\b\b\b\b\b\b\b\b\b\r32/32 [==============================] - 95s 3s/step - loss: 1.9665 - R2: 0.2847 - val_loss: 2.0653 - val_R2: 0.2840\n",
            "Epoch 48/150\n",
            "32/32 [==============================] - 86s 3s/step - loss: 1.8924 - R2: 0.3142 - val_loss: 2.0973 - val_R2: 0.2712\n",
            "Epoch 49/150\n",
            "32/32 [==============================] - ETA: 0s - loss: 1.8755 - R2: 0.3261INFO:tensorflow:Assets written to: models_3/best_model_49/assets\n"
          ]
        },
        {
          "output_type": "stream",
          "name": "stderr",
          "text": [
            "INFO:tensorflow:Assets written to: models_3/best_model_49/assets\n",
            "WARNING:absl:<keras.layers.recurrent.LSTMCell object at 0x7f420e83cf90> has the same name 'LSTMCell' as a built-in Keras object. Consider renaming <class 'keras.layers.recurrent.LSTMCell'> to avoid naming conflicts when loading with `tf.keras.models.load_model`. If renaming is not possible, pass the object in the `custom_objects` parameter of the load function.\n",
            "WARNING:absl:<keras.layers.recurrent.LSTMCell object at 0x7f420e910f10> has the same name 'LSTMCell' as a built-in Keras object. Consider renaming <class 'keras.layers.recurrent.LSTMCell'> to avoid naming conflicts when loading with `tf.keras.models.load_model`. If renaming is not possible, pass the object in the `custom_objects` parameter of the load function.\n"
          ]
        },
        {
          "output_type": "stream",
          "name": "stdout",
          "text": [
            "\b\b\b\b\b\b\b\b\b\b\b\b\b\b\b\b\b\b\b\b\b\b\b\b\b\b\b\b\b\b\b\b\b\b\b\b\b\b\b\b\b\b\b\b\b\b\b\b\b\b\b\b\b\b\b\b\b\b\b\b\b\b\b\b\b\b\b\b\b\b\b\b\b\b\b\b\r32/32 [==============================] - 95s 3s/step - loss: 1.8755 - R2: 0.3261 - val_loss: 1.9568 - val_R2: 0.3219\n",
            "Epoch 50/150\n",
            "32/32 [==============================] - 87s 3s/step - loss: 1.8625 - R2: 0.3297 - val_loss: 2.0193 - val_R2: 0.2982\n",
            "Epoch 51/150\n",
            "32/32 [==============================] - ETA: 0s - loss: 1.8695 - R2: 0.3239INFO:tensorflow:Assets written to: models_3/best_model_51/assets\n"
          ]
        },
        {
          "output_type": "stream",
          "name": "stderr",
          "text": [
            "INFO:tensorflow:Assets written to: models_3/best_model_51/assets\n",
            "WARNING:absl:<keras.layers.recurrent.LSTMCell object at 0x7f420e83cf90> has the same name 'LSTMCell' as a built-in Keras object. Consider renaming <class 'keras.layers.recurrent.LSTMCell'> to avoid naming conflicts when loading with `tf.keras.models.load_model`. If renaming is not possible, pass the object in the `custom_objects` parameter of the load function.\n",
            "WARNING:absl:<keras.layers.recurrent.LSTMCell object at 0x7f420e910f10> has the same name 'LSTMCell' as a built-in Keras object. Consider renaming <class 'keras.layers.recurrent.LSTMCell'> to avoid naming conflicts when loading with `tf.keras.models.load_model`. If renaming is not possible, pass the object in the `custom_objects` parameter of the load function.\n"
          ]
        },
        {
          "output_type": "stream",
          "name": "stdout",
          "text": [
            "\b\b\b\b\b\b\b\b\b\b\b\b\b\b\b\b\b\b\b\b\b\b\b\b\b\b\b\b\b\b\b\b\b\b\b\b\b\b\b\b\b\b\b\b\b\b\b\b\b\b\b\b\b\b\b\b\b\b\b\b\b\b\b\b\b\b\b\b\b\b\b\b\b\b\b\b\r32/32 [==============================] - 93s 3s/step - loss: 1.8695 - R2: 0.3239 - val_loss: 1.9144 - val_R2: 0.3349\n",
            "Epoch 52/150\n",
            "32/32 [==============================] - 85s 3s/step - loss: 1.8216 - R2: 0.3400 - val_loss: 2.2901 - val_R2: 0.1755\n",
            "Epoch 53/150\n",
            "32/32 [==============================] - 85s 3s/step - loss: 1.8394 - R2: 0.3312 - val_loss: 1.9215 - val_R2: 0.3350\n",
            "Epoch 54/150\n",
            "32/32 [==============================] - 86s 3s/step - loss: 1.7836 - R2: 0.3469 - val_loss: 1.9236 - val_R2: 0.3307\n",
            "Epoch 55/150\n",
            "32/32 [==============================] - ETA: 0s - loss: 1.7445 - R2: 0.3544INFO:tensorflow:Assets written to: models_3/best_model_55/assets\n"
          ]
        },
        {
          "output_type": "stream",
          "name": "stderr",
          "text": [
            "INFO:tensorflow:Assets written to: models_3/best_model_55/assets\n",
            "WARNING:absl:<keras.layers.recurrent.LSTMCell object at 0x7f420e83cf90> has the same name 'LSTMCell' as a built-in Keras object. Consider renaming <class 'keras.layers.recurrent.LSTMCell'> to avoid naming conflicts when loading with `tf.keras.models.load_model`. If renaming is not possible, pass the object in the `custom_objects` parameter of the load function.\n",
            "WARNING:absl:<keras.layers.recurrent.LSTMCell object at 0x7f420e910f10> has the same name 'LSTMCell' as a built-in Keras object. Consider renaming <class 'keras.layers.recurrent.LSTMCell'> to avoid naming conflicts when loading with `tf.keras.models.load_model`. If renaming is not possible, pass the object in the `custom_objects` parameter of the load function.\n"
          ]
        },
        {
          "output_type": "stream",
          "name": "stdout",
          "text": [
            "\b\b\b\b\b\b\b\b\b\b\b\b\b\b\b\b\b\b\b\b\b\b\b\b\b\b\b\b\b\b\b\b\b\b\b\b\b\b\b\b\b\b\b\b\b\b\b\b\b\b\b\b\b\b\b\b\b\b\b\b\b\b\b\b\b\b\b\b\b\b\b\b\b\b\b\b\r32/32 [==============================] - 93s 3s/step - loss: 1.7445 - R2: 0.3544 - val_loss: 1.8260 - val_R2: 0.3607\n",
            "Epoch 56/150\n",
            "32/32 [==============================] - ETA: 0s - loss: 1.7359 - R2: 0.3660INFO:tensorflow:Assets written to: models_3/best_model_56/assets\n"
          ]
        },
        {
          "output_type": "stream",
          "name": "stderr",
          "text": [
            "INFO:tensorflow:Assets written to: models_3/best_model_56/assets\n",
            "WARNING:absl:<keras.layers.recurrent.LSTMCell object at 0x7f420e83cf90> has the same name 'LSTMCell' as a built-in Keras object. Consider renaming <class 'keras.layers.recurrent.LSTMCell'> to avoid naming conflicts when loading with `tf.keras.models.load_model`. If renaming is not possible, pass the object in the `custom_objects` parameter of the load function.\n",
            "WARNING:absl:<keras.layers.recurrent.LSTMCell object at 0x7f420e910f10> has the same name 'LSTMCell' as a built-in Keras object. Consider renaming <class 'keras.layers.recurrent.LSTMCell'> to avoid naming conflicts when loading with `tf.keras.models.load_model`. If renaming is not possible, pass the object in the `custom_objects` parameter of the load function.\n"
          ]
        },
        {
          "output_type": "stream",
          "name": "stdout",
          "text": [
            "\b\b\b\b\b\b\b\b\b\b\b\b\b\b\b\b\b\b\b\b\b\b\b\b\b\b\b\b\b\b\b\b\b\b\b\b\b\b\b\b\b\b\b\b\b\b\b\b\b\b\b\b\b\b\b\b\b\b\b\b\b\b\b\b\b\b\b\b\b\b\b\b\b\b\b\b\r32/32 [==============================] - 92s 3s/step - loss: 1.7359 - R2: 0.3660 - val_loss: 1.7446 - val_R2: 0.3857\n",
            "Epoch 57/150\n",
            "32/32 [==============================] - 85s 3s/step - loss: 1.7252 - R2: 0.3741 - val_loss: 1.9358 - val_R2: 0.3287\n",
            "Epoch 58/150\n",
            "32/32 [==============================] - 86s 3s/step - loss: 1.7031 - R2: 0.3789 - val_loss: 1.8605 - val_R2: 0.3490\n",
            "Epoch 59/150\n",
            "32/32 [==============================] - 96s 3s/step - loss: 1.6980 - R2: 0.3791 - val_loss: 1.7535 - val_R2: 0.3819\n",
            "Epoch 60/150\n",
            "32/32 [==============================] - ETA: 0s - loss: 1.6473 - R2: 0.3984INFO:tensorflow:Assets written to: models_3/best_model_60/assets\n"
          ]
        },
        {
          "output_type": "stream",
          "name": "stderr",
          "text": [
            "INFO:tensorflow:Assets written to: models_3/best_model_60/assets\n",
            "WARNING:absl:<keras.layers.recurrent.LSTMCell object at 0x7f420e83cf90> has the same name 'LSTMCell' as a built-in Keras object. Consider renaming <class 'keras.layers.recurrent.LSTMCell'> to avoid naming conflicts when loading with `tf.keras.models.load_model`. If renaming is not possible, pass the object in the `custom_objects` parameter of the load function.\n",
            "WARNING:absl:<keras.layers.recurrent.LSTMCell object at 0x7f420e910f10> has the same name 'LSTMCell' as a built-in Keras object. Consider renaming <class 'keras.layers.recurrent.LSTMCell'> to avoid naming conflicts when loading with `tf.keras.models.load_model`. If renaming is not possible, pass the object in the `custom_objects` parameter of the load function.\n"
          ]
        },
        {
          "output_type": "stream",
          "name": "stdout",
          "text": [
            "\b\b\b\b\b\b\b\b\b\b\b\b\b\b\b\b\b\b\b\b\b\b\b\b\b\b\b\b\b\b\b\b\b\b\b\b\b\b\b\b\b\b\b\b\b\b\b\b\b\b\b\b\b\b\b\b\b\b\b\b\b\b\b\b\b\b\b\b\b\b\b\b\b\b\b\b\r32/32 [==============================] - 99s 3s/step - loss: 1.6473 - R2: 0.3984 - val_loss: 1.6744 - val_R2: 0.4082\n",
            "Epoch 61/150\n",
            "32/32 [==============================] - 91s 3s/step - loss: 1.6293 - R2: 0.4058 - val_loss: 1.7678 - val_R2: 0.3723\n",
            "Epoch 62/150\n",
            "32/32 [==============================] - 90s 3s/step - loss: 1.7399 - R2: 0.3611 - val_loss: 1.7671 - val_R2: 0.3768\n",
            "Epoch 63/150\n",
            "32/32 [==============================] - 90s 3s/step - loss: 1.6688 - R2: 0.3879 - val_loss: 1.7996 - val_R2: 0.3559\n",
            "Epoch 64/150\n",
            "32/32 [==============================] - ETA: 0s - loss: 1.5931 - R2: 0.4174INFO:tensorflow:Assets written to: models_3/best_model_64/assets\n"
          ]
        },
        {
          "output_type": "stream",
          "name": "stderr",
          "text": [
            "INFO:tensorflow:Assets written to: models_3/best_model_64/assets\n",
            "WARNING:absl:<keras.layers.recurrent.LSTMCell object at 0x7f420e83cf90> has the same name 'LSTMCell' as a built-in Keras object. Consider renaming <class 'keras.layers.recurrent.LSTMCell'> to avoid naming conflicts when loading with `tf.keras.models.load_model`. If renaming is not possible, pass the object in the `custom_objects` parameter of the load function.\n",
            "WARNING:absl:<keras.layers.recurrent.LSTMCell object at 0x7f420e910f10> has the same name 'LSTMCell' as a built-in Keras object. Consider renaming <class 'keras.layers.recurrent.LSTMCell'> to avoid naming conflicts when loading with `tf.keras.models.load_model`. If renaming is not possible, pass the object in the `custom_objects` parameter of the load function.\n"
          ]
        },
        {
          "output_type": "stream",
          "name": "stdout",
          "text": [
            "\b\b\b\b\b\b\b\b\b\b\b\b\b\b\b\b\b\b\b\b\b\b\b\b\b\b\b\b\b\b\b\b\b\b\b\b\b\b\b\b\b\b\b\b\b\b\b\b\b\b\b\b\b\b\b\b\b\b\b\b\b\b\b\b\b\b\b\b\b\b\b\b\b\b\b\b\r32/32 [==============================] - 103s 3s/step - loss: 1.5931 - R2: 0.4174 - val_loss: 1.6473 - val_R2: 0.4161\n",
            "Epoch 65/150\n",
            "32/32 [==============================] - ETA: 0s - loss: 1.5622 - R2: 0.4283INFO:tensorflow:Assets written to: models_3/best_model_65/assets\n"
          ]
        },
        {
          "output_type": "stream",
          "name": "stderr",
          "text": [
            "INFO:tensorflow:Assets written to: models_3/best_model_65/assets\n",
            "WARNING:absl:<keras.layers.recurrent.LSTMCell object at 0x7f420e83cf90> has the same name 'LSTMCell' as a built-in Keras object. Consider renaming <class 'keras.layers.recurrent.LSTMCell'> to avoid naming conflicts when loading with `tf.keras.models.load_model`. If renaming is not possible, pass the object in the `custom_objects` parameter of the load function.\n",
            "WARNING:absl:<keras.layers.recurrent.LSTMCell object at 0x7f420e910f10> has the same name 'LSTMCell' as a built-in Keras object. Consider renaming <class 'keras.layers.recurrent.LSTMCell'> to avoid naming conflicts when loading with `tf.keras.models.load_model`. If renaming is not possible, pass the object in the `custom_objects` parameter of the load function.\n"
          ]
        },
        {
          "output_type": "stream",
          "name": "stdout",
          "text": [
            "\b\b\b\b\b\b\b\b\b\b\b\b\b\b\b\b\b\b\b\b\b\b\b\b\b\b\b\b\b\b\b\b\b\b\b\b\b\b\b\b\b\b\b\b\b\b\b\b\b\b\b\b\b\b\b\b\b\b\b\b\b\b\b\b\b\b\b\b\b\b\b\b\b\b\b\b\r32/32 [==============================] - 100s 3s/step - loss: 1.5622 - R2: 0.4283 - val_loss: 1.5502 - val_R2: 0.4468\n",
            "Epoch 66/150\n",
            "32/32 [==============================] - 94s 3s/step - loss: 1.5606 - R2: 0.4286 - val_loss: 1.5750 - val_R2: 0.4340\n",
            "Epoch 67/150\n",
            "32/32 [==============================] - 93s 3s/step - loss: 1.5025 - R2: 0.4480 - val_loss: 1.5659 - val_R2: 0.4442\n",
            "Epoch 68/150\n",
            "32/32 [==============================] - 92s 3s/step - loss: 1.4700 - R2: 0.4612 - val_loss: 1.5849 - val_R2: 0.4388\n",
            "Epoch 69/150\n",
            "32/32 [==============================] - ETA: 0s - loss: 1.5316 - R2: 0.4397INFO:tensorflow:Assets written to: models_3/best_model_69/assets\n"
          ]
        },
        {
          "output_type": "stream",
          "name": "stderr",
          "text": [
            "INFO:tensorflow:Assets written to: models_3/best_model_69/assets\n",
            "WARNING:absl:<keras.layers.recurrent.LSTMCell object at 0x7f420e83cf90> has the same name 'LSTMCell' as a built-in Keras object. Consider renaming <class 'keras.layers.recurrent.LSTMCell'> to avoid naming conflicts when loading with `tf.keras.models.load_model`. If renaming is not possible, pass the object in the `custom_objects` parameter of the load function.\n",
            "WARNING:absl:<keras.layers.recurrent.LSTMCell object at 0x7f420e910f10> has the same name 'LSTMCell' as a built-in Keras object. Consider renaming <class 'keras.layers.recurrent.LSTMCell'> to avoid naming conflicts when loading with `tf.keras.models.load_model`. If renaming is not possible, pass the object in the `custom_objects` parameter of the load function.\n"
          ]
        },
        {
          "output_type": "stream",
          "name": "stdout",
          "text": [
            "\b\b\b\b\b\b\b\b\b\b\b\b\b\b\b\b\b\b\b\b\b\b\b\b\b\b\b\b\b\b\b\b\b\b\b\b\b\b\b\b\b\b\b\b\b\b\b\b\b\b\b\b\b\b\b\b\b\b\b\b\b\b\b\b\b\b\b\b\b\b\b\b\b\b\b\b\r32/32 [==============================] - 98s 3s/step - loss: 1.5316 - R2: 0.4397 - val_loss: 1.4939 - val_R2: 0.4609\n",
            "Epoch 70/150\n",
            "11/32 [=========>....................] - ETA: 58s - loss: 1.5255 - R2: 0.4560 "
          ]
        }
      ]
    },
    {
      "cell_type": "code",
      "execution_count": null,
      "id": "0084fbb1-e83e-4808-99bf-1458f3ea3076",
      "metadata": {
        "id": "0084fbb1-e83e-4808-99bf-1458f3ea3076"
      },
      "outputs": [],
      "source": [
        "y_pred = model.predict(X_test)"
      ]
    },
    {
      "cell_type": "markdown",
      "id": "382979a3-f299-4762-8b6d-10a6ea4d3c70",
      "metadata": {
        "id": "382979a3-f299-4762-8b6d-10a6ea4d3c70"
      },
      "source": [
        "# Score"
      ]
    },
    {
      "cell_type": "code",
      "execution_count": null,
      "id": "f9fd5d60-841f-46c3-94b6-5755b4d548cd",
      "metadata": {
        "id": "f9fd5d60-841f-46c3-94b6-5755b4d548cd"
      },
      "outputs": [],
      "source": [
        "r2 = 1 - ((y_test.values - y_pred.reshape(-1)) ** 2).sum() / ((y_test - y_test.mean()) ** 2).sum()"
      ]
    },
    {
      "cell_type": "code",
      "source": [
        "r2\n",
        "#Dos capas lstm, una de 100 y otra de 50, 150 epochs con lr de 0.001, con una entrada de capa de embeddings, 0.2 de dropout\n"
      ],
      "metadata": {
        "id": "458G2sPHJQQq"
      },
      "id": "458G2sPHJQQq",
      "execution_count": null,
      "outputs": []
    },
    {
      "cell_type": "code",
      "source": [
        "r2\n",
        "#Dos bidirectional + dropout"
      ],
      "metadata": {
        "colab": {
          "base_uri": "https://localhost:8080/"
        },
        "id": "XI2s-hYqTCXJ",
        "outputId": "31e68e01-248b-40a1-fcec-4287fe868346"
      },
      "id": "XI2s-hYqTCXJ",
      "execution_count": null,
      "outputs": [
        {
          "output_type": "execute_result",
          "data": {
            "text/plain": [
              "0.574037072443409"
            ]
          },
          "metadata": {},
          "execution_count": 67
        }
      ]
    },
    {
      "cell_type": "code",
      "source": [
        "r2\n",
        "#Dos capas lstm, una de 100 y otra de 50, 180 epochs con lr de 0.001, con una entrada de capa de embeddings"
      ],
      "metadata": {
        "colab": {
          "base_uri": "https://localhost:8080/"
        },
        "id": "b7uX2JU20tJ9",
        "outputId": "df40b1a8-bacd-42d1-edb7-dc06d5d7ffce"
      },
      "id": "b7uX2JU20tJ9",
      "execution_count": null,
      "outputs": [
        {
          "output_type": "execute_result",
          "data": {
            "text/plain": [
              "0.6168082150145935"
            ]
          },
          "metadata": {},
          "execution_count": 45
        }
      ]
    },
    {
      "cell_type": "code",
      "source": [
        "r2\n",
        "#Dos capas lstm, una de 200 y otra de 100, 180 epochs con lr de 0.0001"
      ],
      "metadata": {
        "colab": {
          "base_uri": "https://localhost:8080/"
        },
        "id": "XJEEk0nwuh2G",
        "outputId": "ac670896-dc76-46f2-c61d-9a26f0e612b2"
      },
      "id": "XJEEk0nwuh2G",
      "execution_count": null,
      "outputs": [
        {
          "output_type": "execute_result",
          "data": {
            "text/plain": [
              "0.49641044754767494"
            ]
          },
          "metadata": {},
          "execution_count": 49
        }
      ]
    },
    {
      "cell_type": "code",
      "source": [
        "r2\n",
        "#Una capa lstm de 200 con lr 0.0001, 200 epochs"
      ],
      "metadata": {
        "colab": {
          "base_uri": "https://localhost:8080/"
        },
        "id": "v7zlg7g3nOB2",
        "outputId": "e97869b3-7b38-42b7-b786-24222bf82928"
      },
      "id": "v7zlg7g3nOB2",
      "execution_count": null,
      "outputs": [
        {
          "output_type": "execute_result",
          "data": {
            "text/plain": [
              "0.4434163336044199"
            ]
          },
          "metadata": {},
          "execution_count": 41
        }
      ]
    },
    {
      "cell_type": "code",
      "source": [
        "r2\n",
        "#dos capas lstm, una de 200 y otra de 100 con lr 0.001"
      ],
      "metadata": {
        "colab": {
          "base_uri": "https://localhost:8080/"
        },
        "id": "TYTfB_NpVS0N",
        "outputId": "f5df0564-c62c-46ea-c84d-08840d8e2788"
      },
      "id": "TYTfB_NpVS0N",
      "execution_count": null,
      "outputs": [
        {
          "output_type": "execute_result",
          "data": {
            "text/plain": [
              "0.37273287021805723"
            ]
          },
          "metadata": {},
          "execution_count": 36
        }
      ]
    },
    {
      "cell_type": "code",
      "execution_count": null,
      "id": "4d2bfabe-2e3e-40cf-a1e8-2d458ee7f328",
      "metadata": {
        "colab": {
          "base_uri": "https://localhost:8080/"
        },
        "id": "4d2bfabe-2e3e-40cf-a1e8-2d458ee7f328",
        "outputId": "16b5bd46-12a7-4ee0-dd56-a02ffbdd2156"
      },
      "outputs": [
        {
          "output_type": "execute_result",
          "data": {
            "text/plain": [
              "0.34841912001640674"
            ]
          },
          "metadata": {},
          "execution_count": 59
        }
      ],
      "source": [
        "r2\n",
        "# 0.4984533246797399\n",
        "#una sola capa lstm de 200 con lr de 0.001"
      ]
    },
    {
      "cell_type": "code",
      "execution_count": null,
      "id": "85262541-e04a-4ff2-b3e6-a47643db66f6",
      "metadata": {
        "id": "85262541-e04a-4ff2-b3e6-a47643db66f6"
      },
      "outputs": [],
      "source": [
        "model.save('models/embed_100_lstm_50_stacked.h5', )"
      ]
    },
    {
      "cell_type": "markdown",
      "id": "5f683e18-c876-4f7c-93ea-a33d495dcdaa",
      "metadata": {
        "id": "5f683e18-c876-4f7c-93ea-a33d495dcdaa"
      },
      "source": [
        "# Load model (solo si se grabo el modelo)"
      ]
    },
    {
      "cell_type": "code",
      "execution_count": null,
      "id": "285c8740-f0bb-4237-8593-ff9b815de0e3",
      "metadata": {
        "id": "285c8740-f0bb-4237-8593-ff9b815de0e3"
      },
      "outputs": [],
      "source": [
        "from tensorflow.keras.models import load_model"
      ]
    },
    {
      "cell_type": "code",
      "execution_count": null,
      "id": "2168984f-770c-436e-92da-c1344b1d3abc",
      "metadata": {
        "id": "2168984f-770c-436e-92da-c1344b1d3abc"
      },
      "outputs": [],
      "source": [
        "# model_loaded = load_model('models/embed_64_bi_lstm_100_dense_50_bn.h5', custom_objects={'R2': R2})"
      ]
    },
    {
      "cell_type": "code",
      "execution_count": null,
      "id": "13a9d7d8-41e0-44a0-a8b9-02157a11f8f2",
      "metadata": {
        "id": "13a9d7d8-41e0-44a0-a8b9-02157a11f8f2"
      },
      "outputs": [],
      "source": [
        "y_pred = model_loaded.predict(X_test)"
      ]
    },
    {
      "cell_type": "code",
      "execution_count": null,
      "id": "26c63493-3f25-4383-9654-58ee62aa3ae5",
      "metadata": {
        "id": "26c63493-3f25-4383-9654-58ee62aa3ae5"
      },
      "outputs": [],
      "source": [
        "r2 = 1 - ((y_test.values - y_pred.reshape(-1)) ** 2).sum() / ((y_test - y_test.mean()) ** 2).sum()\n",
        "r2"
      ]
    },
    {
      "cell_type": "markdown",
      "id": "c8ab60bf-7b98-4f46-b1dd-b08b5fbf8bed",
      "metadata": {
        "id": "c8ab60bf-7b98-4f46-b1dd-b08b5fbf8bed"
      },
      "source": [
        "¿Hasta que valores de r2 logró?"
      ]
    },
    {
      "cell_type": "markdown",
      "id": "cd252895-4430-4dd2-ae47-7f6a76cd2be6",
      "metadata": {
        "id": "cd252895-4430-4dd2-ae47-7f6a76cd2be6"
      },
      "source": [
        "0.6168082150145935\n",
        "\n",
        "```\n",
        "# Esto tiene formato de código\n",
        "```\n",
        "\n"
      ]
    },
    {
      "cell_type": "markdown",
      "id": "7f1a6260-e31f-4e5e-a923-ce67bf31152f",
      "metadata": {
        "id": "7f1a6260-e31f-4e5e-a923-ce67bf31152f"
      },
      "source": [
        "# Evaluación"
      ]
    },
    {
      "cell_type": "code",
      "execution_count": null,
      "id": "7dd9d7e6-2789-459e-b9dd-593e10847fc4",
      "metadata": {
        "colab": {
          "base_uri": "https://localhost:8080/",
          "height": 362
        },
        "id": "7dd9d7e6-2789-459e-b9dd-593e10847fc4",
        "outputId": "d11891f7-2e03-4190-97ec-0f858e351ec5"
      },
      "outputs": [
        {
          "output_type": "execute_result",
          "data": {
            "text/plain": [
              "<function matplotlib.pyplot.show>"
            ]
          },
          "metadata": {},
          "execution_count": 46
        },
        {
          "output_type": "display_data",
          "data": {
            "image/png": "[encoded data removed]",
            "text/plain": [
              "<Figure size 360x360 with 1 Axes>"
            ]
          },
          "metadata": {}
        }
      ],
      "source": [
        "import seaborn as sns\n",
        "import matplotlib.pyplot as plt\n",
        "\n",
        "sns.set(color_codes=True)\n",
        "sns.set_style(\"white\")\n",
        "\n",
        "ax = sns.regplot(x=y_test, y=y_pred, scatter_kws={'alpha':0.4})\n",
        "ax.set_xlabel('Experimental pIC50', fontsize='large', fontweight='bold')\n",
        "ax.set_ylabel('Predicted pIC50', fontsize='large', fontweight='bold')\n",
        "ax.set_xlim(0, 12)\n",
        "ax.set_ylim(0, 12)\n",
        "ax.figure.set_size_inches(5, 5)\n",
        "plt.show"
      ]
    },
    {
      "cell_type": "code",
      "source": [
        "import seaborn as sns\n",
        "import matplotlib.pyplot as plt\n",
        "\n",
        "sns.set(color_codes=True)\n",
        "sns.set_style(\"white\")\n",
        "\n",
        "ax = sns.regplot(x=y_test, y=y_pred, scatter_kws={'alpha':0.4})\n",
        "ax.set_xlabel('Experimental pIC50', fontsize='large', fontweight='bold')\n",
        "ax.set_ylabel('Predicted pIC50', fontsize='large', fontweight='bold')\n",
        "ax.set_xlim(0, 12)\n",
        "ax.set_ylim(0, 12)\n",
        "ax.figure.set_size_inches(5, 5)\n",
        "plt.show"
      ],
      "metadata": {
        "id": "Ypt6JWIz0v1i"
      },
      "id": "Ypt6JWIz0v1i",
      "execution_count": null,
      "outputs": []
    },
    {
      "cell_type": "code",
      "source": [
        ""
      ],
      "metadata": {
        "id": "v-C2SBTcVYKJ"
      },
      "id": "v-C2SBTcVYKJ",
      "execution_count": null,
      "outputs": []
    }
  ],
  "metadata": {
    "kernelspec": {
      "display_name": "Python 3",
      "language": "python",
      "name": "python3"
    },
    "language_info": {
      "codemirror_mode": {
        "name": "ipython",
        "version": 3
      },
      "file_extension": ".py",
      "mimetype": "text/x-python",
      "name": "python",
      "nbconvert_exporter": "python",
      "pygments_lexer": "ipython3",
      "version": "3.7.3"
    },
    "colab": {
      "name": "003_train_LSTM.ipynb",
      "provenance": [],
      "collapsed_sections": []
    },
    "accelerator": "GPU"
  },
  "nbformat": 4,
  "nbformat_minor": 5
}