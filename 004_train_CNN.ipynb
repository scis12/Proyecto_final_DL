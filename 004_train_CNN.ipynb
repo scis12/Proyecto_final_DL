{
  "cells": [
    {
      "cell_type": "code",
      "execution_count": 1,
      "id": "3ac13f6c-a061-4c24-a5fc-081ea6283a62",
      "metadata": {
        "id": "3ac13f6c-a061-4c24-a5fc-081ea6283a62"
      },
      "outputs": [],
      "source": [
        "%load_ext autoreload\n",
        "%autoreload 2"
      ]
    },
    {
      "cell_type": "markdown",
      "id": "9dab7de8-eb23-47d7-a771-28a2397d0a54",
      "metadata": {
        "id": "9dab7de8-eb23-47d7-a771-28a2397d0a54"
      },
      "source": [
        "# Modelo CNN con generador, embedings de smiles y data-augmentation"
      ]
    },
    {
      "cell_type": "code",
      "execution_count": 4,
      "id": "21bee0a3-79a7-43b2-9ac2-15cad5630e22",
      "metadata": {
        "id": "21bee0a3-79a7-43b2-9ac2-15cad5630e22"
      },
      "outputs": [],
      "source": [
        "import pandas as pd\n",
        "import numpy as np\n",
        "from datagen import smiles_dict, smiles_to_seq"
      ]
    },
    {
      "cell_type": "code",
      "source": [
        "!pip install rdkit-pypi"
      ],
      "metadata": {
        "colab": {
          "base_uri": "https://localhost:8080/"
        },
        "id": "Z8olKVWwc9NF",
        "outputId": "6870a61b-f0ae-4997-91e9-f0d834bbf05d"
      },
      "id": "Z8olKVWwc9NF",
      "execution_count": 2,
      "outputs": [
        {
          "output_type": "stream",
          "name": "stdout",
          "text": [
            "Collecting rdkit-pypi\n",
            "  Downloading rdkit_pypi-2021.9.4-cp37-cp37m-manylinux_2_17_x86_64.manylinux2014_x86_64.whl (20.6 MB)\n",
            "\u001b[K     |████████████████████████████████| 20.6 MB 1.7 MB/s \n",
            "\u001b[?25hRequirement already satisfied: numpy>=1.19 in /usr/local/lib/python3.7/dist-packages (from rdkit-pypi) (1.19.5)\n",
            "Requirement already satisfied: Pillow in /usr/local/lib/python3.7/dist-packages (from rdkit-pypi) (7.1.2)\n",
            "Installing collected packages: rdkit-pypi\n",
            "Successfully installed rdkit-pypi-2021.9.4\n"
          ]
        }
      ]
    },
    {
      "cell_type": "code",
      "source": [
        "from dataaug import SmilesEnumerator\n"
      ],
      "metadata": {
        "id": "85eC0GIAcgsY"
      },
      "id": "85eC0GIAcgsY",
      "execution_count": 5,
      "outputs": []
    },
    {
      "cell_type": "code",
      "source": [
        "SmilesEnumerator()"
      ],
      "metadata": {
        "colab": {
          "base_uri": "https://localhost:8080/"
        },
        "id": "yNC31jsdebvJ",
        "outputId": "16d2ffdf-7f24-4b9e-8d22-611d39b70b40"
      },
      "id": "yNC31jsdebvJ",
      "execution_count": 6,
      "outputs": [
        {
          "output_type": "execute_result",
          "data": {
            "text/plain": [
              "<dataaug.SmilesEnumerator at 0x7f506dda6090>"
            ]
          },
          "metadata": {},
          "execution_count": 6
        }
      ]
    },
    {
      "cell_type": "markdown",
      "id": "20aa799f-b75c-4d23-869b-fea6d041a6e9",
      "metadata": {
        "id": "20aa799f-b75c-4d23-869b-fea6d041a6e9"
      },
      "source": [
        "### smiles_dict"
      ]
    },
    {
      "cell_type": "code",
      "execution_count": 7,
      "id": "628a3149-eabe-4de3-8404-d86eb6ad3baf",
      "metadata": {
        "colab": {
          "base_uri": "https://localhost:8080/"
        },
        "id": "628a3149-eabe-4de3-8404-d86eb6ad3baf",
        "outputId": "2e27fd23-ded2-4f7d-a891-c09ad4638105"
      },
      "outputs": [
        {
          "output_type": "execute_result",
          "data": {
            "text/plain": [
              "42"
            ]
          },
          "metadata": {},
          "execution_count": 7
        }
      ],
      "source": [
        "len(smiles_dict)"
      ]
    },
    {
      "cell_type": "markdown",
      "id": "b9c9312c-4232-414c-b0ff-1e6fb6dba1a6",
      "metadata": {
        "id": "b9c9312c-4232-414c-b0ff-1e6fb6dba1a6"
      },
      "source": [
        "smiles_dict nos da un tokenizador para simplificar el problema. Puede ver como se construyó en la notebook **deep_chem**.\n",
        "Si al momento de correr el modelo con este diccionario encuentra problemas de key_error, puede agregar los faltantes al diccionario\n",
        "\n",
        "Mirar dentro de **datagen.py** como se usa este diccionario con la función **smiles_to_seq** para tokenizar. El código es muy sencillo"
      ]
    },
    {
      "cell_type": "code",
      "execution_count": 8,
      "id": "e29ef48f-4b67-42a4-83af-e7d0bb980c4b",
      "metadata": {
        "colab": {
          "base_uri": "https://localhost:8080/"
        },
        "id": "e29ef48f-4b67-42a4-83af-e7d0bb980c4b",
        "outputId": "3cba55a6-0af7-498f-fa93-df0dfe76c59d"
      },
      "outputs": [
        {
          "output_type": "stream",
          "name": "stdout",
          "text": [
            "{'#': 1, '(': 2, ')': 3, '+': 4, '-': 5, '/': 6, '1': 7, '2': 8, '3': 9, '4': 10, '5': 11, '6': 12, '7': 13, '8': 14, '=': 15, 'C': 16, 'F': 17, 'H': 18, 'I': 19, 'N': 20, 'O': 21, 'P': 22, 'S': 23, '[': 24, '\\\\': 25, ']': 26, '_': 27, 'c': 28, 'Cl': 29, 'Br': 30, 'n': 31, 'o': 32, 's': 33, '@': 34, '.': 35, 'a': 36, 'B': 37, 'e': 38, 'i': 39, '9': 40, '10': 41, '11': 42}\n"
          ]
        }
      ],
      "source": [
        "print(smiles_dict)"
      ]
    },
    {
      "cell_type": "markdown",
      "id": "b103a4e0-038d-406b-aab8-5c9452ede04e",
      "metadata": {
        "id": "b103a4e0-038d-406b-aab8-5c9452ede04e"
      },
      "source": [
        "# Carga de los datos"
      ]
    },
    {
      "cell_type": "code",
      "execution_count": 5,
      "id": "353a2d75-f0f4-4563-9842-c68d77118161",
      "metadata": {
        "id": "353a2d75-f0f4-4563-9842-c68d77118161"
      },
      "outputs": [],
      "source": [
        "df = pd.read_csv('acetylcholinesterase_02_bioactivity_data_preprocessed.csv')"
      ]
    },
    {
      "cell_type": "code",
      "execution_count": 6,
      "id": "4e7fcdcb-ad53-4ebf-bc17-a241c79269da",
      "metadata": {
        "id": "4e7fcdcb-ad53-4ebf-bc17-a241c79269da"
      },
      "outputs": [],
      "source": [
        "max_len_idx = df['canonical_smiles'].apply(len).argmax()\n",
        "min_len_idx = df['canonical_smiles'].apply(len).argmin()\n",
        "max_sequence_len = len(df['canonical_smiles'].iloc[max_len_idx]) + 20"
      ]
    },
    {
      "cell_type": "code",
      "execution_count": 7,
      "id": "d1554fa5-d9ee-456c-be20-80571e319fc6",
      "metadata": {
        "colab": {
          "base_uri": "https://localhost:8080/",
          "height": 206
        },
        "id": "d1554fa5-d9ee-456c-be20-80571e319fc6",
        "outputId": "a300bd92-1b24-47a5-aed5-69fdcf20edcb"
      },
      "outputs": [
        {
          "output_type": "execute_result",
          "data": {
            "text/html": [
              "\n",
              "  <div id=\"df-41203e23-4f70-43f9-b225-c2856c9f9e3c\">\n",
              "    <div class=\"colab-df-container\">\n",
              "      <div>\n",
              "<style scoped>\n",
              "    .dataframe tbody tr th:only-of-type {\n",
              "        vertical-align: middle;\n",
              "    }\n",
              "\n",
              "    .dataframe tbody tr th {\n",
              "        vertical-align: top;\n",
              "    }\n",
              "\n",
              "    .dataframe thead th {\n",
              "        text-align: right;\n",
              "    }\n",
              "</style>\n",
              "<table border=\"1\" class=\"dataframe\">\n",
              "  <thead>\n",
              "    <tr style=\"text-align: right;\">\n",
              "      <th></th>\n",
              "      <th>molecule_chembl_id</th>\n",
              "      <th>canonical_smiles</th>\n",
              "      <th>standard_value</th>\n",
              "      <th>standard_value_norm</th>\n",
              "      <th>pIC50</th>\n",
              "    </tr>\n",
              "  </thead>\n",
              "  <tbody>\n",
              "    <tr>\n",
              "      <th>0</th>\n",
              "      <td>CHEMBL133897</td>\n",
              "      <td>CCOc1nn(-c2cccc(OCc3ccccc3)c2)c(=O)o1</td>\n",
              "      <td>750.0</td>\n",
              "      <td>750.0</td>\n",
              "      <td>6.124939</td>\n",
              "    </tr>\n",
              "    <tr>\n",
              "      <th>1</th>\n",
              "      <td>CHEMBL336398</td>\n",
              "      <td>O=C(N1CCCCC1)n1nc(-c2ccc(Cl)cc2)nc1SCC1CC1</td>\n",
              "      <td>100.0</td>\n",
              "      <td>100.0</td>\n",
              "      <td>7.000000</td>\n",
              "    </tr>\n",
              "    <tr>\n",
              "      <th>2</th>\n",
              "      <td>CHEMBL131588</td>\n",
              "      <td>CN(C(=O)n1nc(-c2ccc(Cl)cc2)nc1SCC(F)(F)F)c1ccccc1</td>\n",
              "      <td>50000.0</td>\n",
              "      <td>50000.0</td>\n",
              "      <td>4.301030</td>\n",
              "    </tr>\n",
              "    <tr>\n",
              "      <th>3</th>\n",
              "      <td>CHEMBL130628</td>\n",
              "      <td>O=C(N1CCCCC1)n1nc(-c2ccc(Cl)cc2)nc1SCC(F)(F)F</td>\n",
              "      <td>300.0</td>\n",
              "      <td>300.0</td>\n",
              "      <td>6.522879</td>\n",
              "    </tr>\n",
              "    <tr>\n",
              "      <th>4</th>\n",
              "      <td>CHEMBL130478</td>\n",
              "      <td>CSc1nc(-c2ccc(OC(F)(F)F)cc2)nn1C(=O)N(C)C</td>\n",
              "      <td>800.0</td>\n",
              "      <td>800.0</td>\n",
              "      <td>6.096910</td>\n",
              "    </tr>\n",
              "  </tbody>\n",
              "</table>\n",
              "</div>\n",
              "      <button class=\"colab-df-convert\" onclick=\"convertToInteractive('df-41203e23-4f70-43f9-b225-c2856c9f9e3c')\"\n",
              "              title=\"Convert this dataframe to an interactive table.\"\n",
              "              style=\"display:none;\">\n",
              "        \n",
              "  <svg xmlns=\"http://www.w3.org/2000/svg\" height=\"24px\"viewBox=\"0 0 24 24\"\n",
              "       width=\"24px\">\n",
              "    <path d=\"M0 0h24v24H0V0z\" fill=\"none\"/>\n",
              "    <path d=\"M18.56 5.44l.94 2.06.94-2.06 2.06-.94-2.06-.94-.94-2.06-.94 2.06-2.06.94zm-11 1L8.5 8.5l.94-2.06 2.06-.94-2.06-.94L8.5 2.5l-.94 2.06-2.06.94zm10 10l.94 2.06.94-2.06 2.06-.94-2.06-.94-.94-2.06-.94 2.06-2.06.94z\"/><path d=\"M17.41 7.96l-1.37-1.37c-.4-.4-.92-.59-1.43-.59-.52 0-1.04.2-1.43.59L10.3 9.45l-7.72 7.72c-.78.78-.78 2.05 0 2.83L4 21.41c.39.39.9.59 1.41.59.51 0 1.02-.2 1.41-.59l7.78-7.78 2.81-2.81c.8-.78.8-2.07 0-2.86zM5.41 20L4 18.59l7.72-7.72 1.47 1.35L5.41 20z\"/>\n",
              "  </svg>\n",
              "      </button>\n",
              "      \n",
              "  <style>\n",
              "    .colab-df-container {\n",
              "      display:flex;\n",
              "      flex-wrap:wrap;\n",
              "      gap: 12px;\n",
              "    }\n",
              "\n",
              "    .colab-df-convert {\n",
              "      background-color: #E8F0FE;\n",
              "      border: none;\n",
              "      border-radius: 50%;\n",
              "      cursor: pointer;\n",
              "      display: none;\n",
              "      fill: #1967D2;\n",
              "      height: 32px;\n",
              "      padding: 0 0 0 0;\n",
              "      width: 32px;\n",
              "    }\n",
              "\n",
              "    .colab-df-convert:hover {\n",
              "      background-color: #E2EBFA;\n",
              "      box-shadow: 0px 1px 2px rgba(60, 64, 67, 0.3), 0px 1px 3px 1px rgba(60, 64, 67, 0.15);\n",
              "      fill: #174EA6;\n",
              "    }\n",
              "\n",
              "    [theme=dark] .colab-df-convert {\n",
              "      background-color: #3B4455;\n",
              "      fill: #D2E3FC;\n",
              "    }\n",
              "\n",
              "    [theme=dark] .colab-df-convert:hover {\n",
              "      background-color: #434B5C;\n",
              "      box-shadow: 0px 1px 3px 1px rgba(0, 0, 0, 0.15);\n",
              "      filter: drop-shadow(0px 1px 2px rgba(0, 0, 0, 0.3));\n",
              "      fill: #FFFFFF;\n",
              "    }\n",
              "  </style>\n",
              "\n",
              "      <script>\n",
              "        const buttonEl =\n",
              "          document.querySelector('#df-41203e23-4f70-43f9-b225-c2856c9f9e3c button.colab-df-convert');\n",
              "        buttonEl.style.display =\n",
              "          google.colab.kernel.accessAllowed ? 'block' : 'none';\n",
              "\n",
              "        async function convertToInteractive(key) {\n",
              "          const element = document.querySelector('#df-41203e23-4f70-43f9-b225-c2856c9f9e3c');\n",
              "          const dataTable =\n",
              "            await google.colab.kernel.invokeFunction('convertToInteractive',\n",
              "                                                     [key], {});\n",
              "          if (!dataTable) return;\n",
              "\n",
              "          const docLinkHtml = 'Like what you see? Visit the ' +\n",
              "            '<a target=\"_blank\" href=https://colab.research.google.com/notebooks/data_table.ipynb>data table notebook</a>'\n",
              "            + ' to learn more about interactive tables.';\n",
              "          element.innerHTML = '';\n",
              "          dataTable['output_type'] = 'display_data';\n",
              "          await google.colab.output.renderOutput(dataTable, element);\n",
              "          const docLink = document.createElement('div');\n",
              "          docLink.innerHTML = docLinkHtml;\n",
              "          element.appendChild(docLink);\n",
              "        }\n",
              "      </script>\n",
              "    </div>\n",
              "  </div>\n",
              "  "
            ],
            "text/plain": [
              "  molecule_chembl_id  ...     pIC50\n",
              "0       CHEMBL133897  ...  6.124939\n",
              "1       CHEMBL336398  ...  7.000000\n",
              "2       CHEMBL131588  ...  4.301030\n",
              "3       CHEMBL130628  ...  6.522879\n",
              "4       CHEMBL130478  ...  6.096910\n",
              "\n",
              "[5 rows x 5 columns]"
            ]
          },
          "metadata": {},
          "execution_count": 7
        }
      ],
      "source": [
        "df.head()"
      ]
    },
    {
      "cell_type": "code",
      "execution_count": 8,
      "id": "9675f7e8-a8e6-44ff-b1c5-b229cbbeb2e9",
      "metadata": {
        "id": "9675f7e8-a8e6-44ff-b1c5-b229cbbeb2e9"
      },
      "outputs": [],
      "source": [
        "X = df['canonical_smiles'].values\n",
        "y = df['pIC50'].values"
      ]
    },
    {
      "cell_type": "markdown",
      "id": "dd87900d-dca2-4f0e-a5c2-58fef4266a67",
      "metadata": {
        "id": "dd87900d-dca2-4f0e-a5c2-58fef4266a67"
      },
      "source": [
        "# Data augmentation:\n",
        "\n",
        "https://arxiv.org/pdf/1703.07076.pdf\n",
        "\n",
        "https://github.com/EBjerrum/molvecgen\n",
        "\n",
        "https://github.com/Ebjerrum/SMILES-enumeration"
      ]
    },
    {
      "cell_type": "markdown",
      "id": "605fb205-e7e7-45fb-99bd-2e6f490977a8",
      "metadata": {
        "id": "605fb205-e7e7-45fb-99bd-2e6f490977a8"
      },
      "source": [
        "En la publicación de arriba se describe una técnica de aumentación de datos para los smiles. Leerla si es de su interes (Opcional)\n",
        "\n",
        "En el módulo **dataug.py**, tomando como referencia los repositorios arriba citados se implementó la aumentación de datos"
      ]
    },
    {
      "cell_type": "code",
      "execution_count": 9,
      "id": "d4733af9-9c49-4c2f-bb1d-dc7f180cc66f",
      "metadata": {
        "colab": {
          "base_uri": "https://localhost:8080/"
        },
        "id": "d4733af9-9c49-4c2f-bb1d-dc7f180cc66f",
        "outputId": "827f5cfc-0dbc-42cf-894d-5133abf77322"
      },
      "outputs": [
        {
          "output_type": "stream",
          "name": "stdout",
          "text": [
            "c1c(OCc2ccccc2)cccc1-n1nc(OCC)oc1=O\n",
            "c1ccc(COc2cccc(-n3nc(OCC)oc3=O)c2)cc1\n",
            "c1c(-n2nc(OCC)oc2=O)cccc1OCc1ccccc1\n",
            "O=c1n(-c2cccc(OCc3ccccc3)c2)nc(OCC)o1\n",
            "c1cccc(COc2cccc(-n3c(=O)oc(OCC)n3)c2)c1\n",
            "c1cccc(COc2cccc(-n3c(=O)oc(OCC)n3)c2)c1\n",
            "n1n(-c2cccc(OCc3ccccc3)c2)c(=O)oc1OCC\n",
            "c1c(COc2cc(-n3nc(OCC)oc3=O)ccc2)cccc1\n",
            "c1c(-n2c(=O)oc(OCC)n2)cc(OCc2ccccc2)cc1\n",
            "O=c1n(-c2cc(OCc3ccccc3)ccc2)nc(OCC)o1\n"
          ]
        }
      ],
      "source": [
        "from dataaug import SmilesEnumerator\n",
        "sme = SmilesEnumerator()\n",
        "for i in range(10):\n",
        "    print(sme.randomize_smiles('CCOc1nn(-c2cccc(OCc3ccccc3)c2)c(=O)o1'))\n",
        "    "
      ]
    },
    {
      "cell_type": "markdown",
      "id": "7a1923d3-1df0-4df1-a43c-ec30eff6fe4d",
      "metadata": {
        "id": "7a1923d3-1df0-4df1-a43c-ec30eff6fe4d"
      },
      "source": [
        "# DataGenerator"
      ]
    },
    {
      "cell_type": "markdown",
      "id": "fc6a3c67-9f44-4052-9e93-9e274f08c1b5",
      "metadata": {
        "id": "fc6a3c67-9f44-4052-9e93-9e274f08c1b5"
      },
      "source": [
        "Construir un generador al que se le pase al instanciarlo:\n",
        "- X: smiles (formula química)\n",
        "- y: pIC50\n",
        "- batch_size\n",
        "- max_sequence_len (int): La máxima longitud de las secuencias (para hacer el padding)\n",
        "- data_augmentation (boolean): si quiero hacer o no data-augmentation. \n",
        "- shuffle (boolean)\n",
        "\n",
        "Guardarlo en el módulo **datagen.py** con el nombre de la clase **DataGenerator**\n",
        "\n",
        "Notar que el módulo **datagen.py** ya tiene una estructura para completar"
      ]
    },
    {
      "cell_type": "markdown",
      "id": "f602f3e4-24aa-41ee-9f83-89ec3acc96f1",
      "metadata": {
        "id": "f602f3e4-24aa-41ee-9f83-89ec3acc96f1"
      },
      "source": [
        "### Importamos el módulo y lo probamos"
      ]
    },
    {
      "cell_type": "code",
      "execution_count": 10,
      "id": "413bce05-2685-4c84-8a43-c3dd8ed74e11",
      "metadata": {
        "id": "413bce05-2685-4c84-8a43-c3dd8ed74e11"
      },
      "outputs": [],
      "source": [
        "from datagen import DataGenerator"
      ]
    },
    {
      "cell_type": "code",
      "execution_count": 11,
      "id": "52aa520a-a84b-4d8b-a22e-6b4a5cc7e65a",
      "metadata": {
        "id": "52aa520a-a84b-4d8b-a22e-6b4a5cc7e65a"
      },
      "outputs": [],
      "source": [
        "dgen = DataGenerator(X, y, max_sequence_len, batch_size=16)"
      ]
    },
    {
      "cell_type": "code",
      "execution_count": 12,
      "id": "b3212e31-dd2c-4ebc-b9a0-78ed4bb5d78d",
      "metadata": {
        "colab": {
          "base_uri": "https://localhost:8080/"
        },
        "id": "b3212e31-dd2c-4ebc-b9a0-78ed4bb5d78d",
        "outputId": "ab9dde34-e423-4da8-822f-2d7b92b32851"
      },
      "outputs": [
        {
          "output_type": "execute_result",
          "data": {
            "text/plain": [
              "5104"
            ]
          },
          "metadata": {},
          "execution_count": 12
        }
      ],
      "source": [
        "len(dgen) * dgen.batch_size"
      ]
    },
    {
      "cell_type": "code",
      "execution_count": 13,
      "id": "133033ed-a3b1-4572-aaaf-f4cb2a055724",
      "metadata": {
        "colab": {
          "base_uri": "https://localhost:8080/"
        },
        "id": "133033ed-a3b1-4572-aaaf-f4cb2a055724",
        "outputId": "979e2747-42b0-4d21-9ab3-3caf1c13715c"
      },
      "outputs": [
        {
          "output_type": "stream",
          "name": "stdout",
          "text": [
            ""
          ]
        }
      ],
      "source": [
        "for i, (X_b, y_b) in enumerate(dgen):\n",
        "    print(f'{i}\\r', end='')"
      ]
    },
    {
      "cell_type": "markdown",
      "id": "4233710d-9274-4dae-b22d-cf42b57ad862",
      "metadata": {
        "id": "4233710d-9274-4dae-b22d-cf42b57ad862"
      },
      "source": [
        "# Split"
      ]
    },
    {
      "cell_type": "code",
      "execution_count": 14,
      "id": "ce7a95e6-2486-42fb-97fb-865e3fd6a561",
      "metadata": {
        "id": "ce7a95e6-2486-42fb-97fb-865e3fd6a561"
      },
      "outputs": [],
      "source": [
        "from sklearn.model_selection import train_test_split"
      ]
    },
    {
      "cell_type": "code",
      "execution_count": 15,
      "id": "fcb9840f-2f41-45be-99a5-f05f3ab73ed8",
      "metadata": {
        "id": "fcb9840f-2f41-45be-99a5-f05f3ab73ed8"
      },
      "outputs": [],
      "source": [
        "X_train, X_test, y_train, y_test = train_test_split(X, y, test_size=0.2, random_state=42)"
      ]
    },
    {
      "cell_type": "code",
      "execution_count": 16,
      "id": "4ad17134-3e15-42d1-b8c9-0c793169e145",
      "metadata": {
        "colab": {
          "base_uri": "https://localhost:8080/"
        },
        "id": "4ad17134-3e15-42d1-b8c9-0c793169e145",
        "outputId": "b61abc20-7713-49ad-f4c6-d1a778ee6d81"
      },
      "outputs": [
        {
          "output_type": "execute_result",
          "data": {
            "text/plain": [
              "(4082, 4082, 1021)"
            ]
          },
          "metadata": {},
          "execution_count": 16
        }
      ],
      "source": [
        "len(X_train), len(y_train), len(X_test)"
      ]
    },
    {
      "cell_type": "code",
      "execution_count": 17,
      "id": "929de60c-7128-4e35-8efc-4b5f9ee9471c",
      "metadata": {
        "colab": {
          "base_uri": "https://localhost:8080/"
        },
        "id": "929de60c-7128-4e35-8efc-4b5f9ee9471c",
        "outputId": "8eff208d-dd9d-4850-9ed7-a737e864bd5a"
      },
      "outputs": [
        {
          "output_type": "execute_result",
          "data": {
            "text/plain": [
              "array(['COc1ccccc1C(=O)Nc1ccc2c(c1)CN(C(=O)c1cccc(Cl)c1)C(=O)C2',\n",
              "       'c1ccc2oc(CNCCCCCCCNc3c4c(nc5ccccc35)CCCC4)cc2c1',\n",
              "       'C=C1c2cc(Cl)ccc2N=C2CCCCCN12', ...,\n",
              "       'O=C(Cc1cc(=O)oc2cc(O)ccc12)N/N=C1\\\\SCC(=O)N1c1c2c(nc3ccccc13)CCCC2',\n",
              "       'O=C(NCCCCCc1ccccc1)Oc1ccc(-n2cc(COc3ccc4ccc(=O)oc4c3)nn2)cc1',\n",
              "       'CN(C)Cc1ccc(CSCCCCCCCCSCc2ccc(CN(C)C)o2)o1'], dtype=object)"
            ]
          },
          "metadata": {},
          "execution_count": 17
        }
      ],
      "source": [
        "X_train"
      ]
    },
    {
      "cell_type": "code",
      "execution_count": 18,
      "id": "dd72855a-8310-4a5e-b5c8-7fe181ea8edd",
      "metadata": {
        "id": "dd72855a-8310-4a5e-b5c8-7fe181ea8edd"
      },
      "outputs": [],
      "source": [
        "dgen_train = DataGenerator(X_train, y_train, seq_length=max_sequence_len, batch_size=128, data_augmentation=True)\n",
        "dgen_test = DataGenerator(X_test, y_test, seq_length=max_sequence_len, batch_size=128, data_augmentation=False)"
      ]
    },
    {
      "cell_type": "code",
      "execution_count": 19,
      "id": "1bf28e8f-b29e-4b60-b7a2-4f08ff5a547b",
      "metadata": {
        "colab": {
          "base_uri": "https://localhost:8080/"
        },
        "id": "1bf28e8f-b29e-4b60-b7a2-4f08ff5a547b",
        "outputId": "3281120d-be29-4326-97a8-9c649b84d37d"
      },
      "outputs": [
        {
          "output_type": "stream",
          "name": "stdout",
          "text": [
            "0\r1\r2\r3\r4\r5\r6\r7\r"
          ]
        }
      ],
      "source": [
        "for i, (X_b, y_b) in enumerate(dgen_test):\n",
        "    print(f'{i}\\r', end='')"
      ]
    },
    {
      "cell_type": "code",
      "execution_count": 20,
      "id": "222c7f1c-7f3e-40b4-9fb5-5b3ea340c3b0",
      "metadata": {
        "colab": {
          "base_uri": "https://localhost:8080/"
        },
        "id": "222c7f1c-7f3e-40b4-9fb5-5b3ea340c3b0",
        "outputId": "c1899b27-1b15-4aeb-aa06-678ca2d70018"
      },
      "outputs": [
        {
          "output_type": "execute_result",
          "data": {
            "text/plain": [
              "(125, 227)"
            ]
          },
          "metadata": {},
          "execution_count": 20
        }
      ],
      "source": [
        "X_b.shape"
      ]
    },
    {
      "cell_type": "code",
      "source": [
        "dgen_train\n"
      ],
      "metadata": {
        "colab": {
          "base_uri": "https://localhost:8080/"
        },
        "id": "88PsOo4GVtiC",
        "outputId": "120cd34b-aa39-4a7b-c3f1-b62c20fec3c2"
      },
      "id": "88PsOo4GVtiC",
      "execution_count": 21,
      "outputs": [
        {
          "output_type": "execute_result",
          "data": {
            "text/plain": [
              "<datagen.DataGenerator at 0x7f3674e3d910>"
            ]
          },
          "metadata": {},
          "execution_count": 21
        }
      ]
    },
    {
      "cell_type": "markdown",
      "id": "85941430-2534-4d7d-ba52-d934a31c1bf6",
      "metadata": {
        "id": "85941430-2534-4d7d-ba52-d934a31c1bf6"
      },
      "source": [
        "# Network Model"
      ]
    },
    {
      "cell_type": "code",
      "execution_count": 89,
      "id": "6bd5d1bf-4640-4cbc-acd3-72881ddcc07e",
      "metadata": {
        "id": "6bd5d1bf-4640-4cbc-acd3-72881ddcc07e"
      },
      "outputs": [],
      "source": [
        "from tensorflow.keras import Sequential\n",
        "from tensorflow.keras.layers import LSTM, Dense, Embedding, Bidirectional, Dropout, Activation, BatchNormalization, Conv1D, MaxPool1D, GlobalAveragePooling1D, Flatten, GlobalMaxPooling1D\n",
        "from tensorflow.keras.callbacks import ModelCheckpoint\n",
        "from tensorflow.keras.optimizers import Adam, RMSprop\n",
        "from tensorflow.keras import backend as K\n",
        "import tensorflow as tf\n",
        "from tensorflow.keras import layers as L"
      ]
    },
    {
      "cell_type": "code",
      "execution_count": null,
      "id": "8308048c-be62-473c-965a-4a11d0b613d7",
      "metadata": {
        "id": "8308048c-be62-473c-965a-4a11d0b613d7"
      },
      "outputs": [],
      "source": [
        ""
      ]
    },
    {
      "cell_type": "code",
      "execution_count": 146,
      "id": "98aa4201-cd4e-4d7f-b695-9e32b5dfe1c6",
      "metadata": {
        "id": "98aa4201-cd4e-4d7f-b695-9e32b5dfe1c6"
      },
      "outputs": [],
      "source": [
        "# Implementar modelo de TextCNN\n",
        "def text_cnn_1d(sequence_length, vocab_size, embedding_size, filter_sizes, num_filters, dropout):\n",
        "    # Recordar que estamos en la funcional model API y hay que entender que conectar con que.\n",
        "    input_x = L.Input(shape=(sequence_length,), name='input_x')\n",
        "    embedding = Embedding(input_dim= vocab_size, output_dim = embedding_size, input_length=sequence_length)(input_x)\n",
        "    pooled_outputs = []\n",
        "    for filter_size in filter_sizes:\n",
        "        conv = Conv1D(num_filters, kernel_size = filter_size, activation='relu', padding='same')(embedding)\n",
        "        max_p = GlobalMaxPooling1D()(conv)\n",
        "        pooled_outputs.append(max_p)\n",
        "        \n",
        "    h_pool = L.Concatenate(axis=1)(pooled_outputs)\n",
        "    dense = L.Flatten()(h_pool)\n",
        "    dense = Dense(300, activation = 'relu')(dense)\n",
        "    dense = Dropout(dropout)(dense)\n",
        "    dense = Dense(150, activation = 'relu')(dense)\n",
        "    dense = L.Dense(1)(dense) # Salida\n",
        "    model = tf.keras.models.Model(inputs= input_x, outputs = dense)\n",
        "    return model"
      ]
    },
    {
      "cell_type": "code",
      "execution_count": 147,
      "id": "d3db729c-1a80-40ad-b3e5-59329b172ee0",
      "metadata": {
        "id": "d3db729c-1a80-40ad-b3e5-59329b172ee0"
      },
      "outputs": [],
      "source": [
        "# Puede cambiar estos hiperparámtros. Son solo de referencia\n",
        "FILTER_SIZES = (2, 3,4)\n",
        "NUM_FILTERS = 128\n",
        "vocab_size = len(smiles_dict)\n",
        "embeddings_size = 64 # 2\n",
        "DROPOUT = 0.2"
      ]
    },
    {
      "cell_type": "code",
      "execution_count": 148,
      "id": "0e0903a5-9840-4994-9964-8e2d3e9eb326",
      "metadata": {
        "colab": {
          "base_uri": "https://localhost:8080/"
        },
        "id": "0e0903a5-9840-4994-9964-8e2d3e9eb326",
        "outputId": "e1749a62-fcbf-496f-f6ce-5c4d005ff2fe"
      },
      "outputs": [
        {
          "output_type": "stream",
          "name": "stdout",
          "text": [
            "Model: \"model_12\"\n",
            "__________________________________________________________________________________________________\n",
            " Layer (type)                   Output Shape         Param #     Connected to                     \n",
            "==================================================================================================\n",
            " input_x (InputLayer)           [(None, 227)]        0           []                               \n",
            "                                                                                                  \n",
            " embedding_19 (Embedding)       (None, 227, 64)      2688        ['input_x[0][0]']                \n",
            "                                                                                                  \n",
            " conv1d_55 (Conv1D)             (None, 227, 128)     16512       ['embedding_19[0][0]']           \n",
            "                                                                                                  \n",
            " conv1d_56 (Conv1D)             (None, 227, 128)     24704       ['embedding_19[0][0]']           \n",
            "                                                                                                  \n",
            " conv1d_57 (Conv1D)             (None, 227, 128)     32896       ['embedding_19[0][0]']           \n",
            "                                                                                                  \n",
            " global_max_pooling1d_15 (Globa  (None, 128)         0           ['conv1d_55[0][0]']              \n",
            " lMaxPooling1D)                                                                                   \n",
            "                                                                                                  \n",
            " global_max_pooling1d_16 (Globa  (None, 128)         0           ['conv1d_56[0][0]']              \n",
            " lMaxPooling1D)                                                                                   \n",
            "                                                                                                  \n",
            " global_max_pooling1d_17 (Globa  (None, 128)         0           ['conv1d_57[0][0]']              \n",
            " lMaxPooling1D)                                                                                   \n",
            "                                                                                                  \n",
            " concatenate_18 (Concatenate)   (None, 384)          0           ['global_max_pooling1d_15[0][0]',\n",
            "                                                                  'global_max_pooling1d_16[0][0]',\n",
            "                                                                  'global_max_pooling1d_17[0][0]']\n",
            "                                                                                                  \n",
            " flatten_15 (Flatten)           (None, 384)          0           ['concatenate_18[0][0]']         \n",
            "                                                                                                  \n",
            " dense_44 (Dense)               (None, 300)          115500      ['flatten_15[0][0]']             \n",
            "                                                                                                  \n",
            " dropout_2 (Dropout)            (None, 300)          0           ['dense_44[0][0]']               \n",
            "                                                                                                  \n",
            " dense_45 (Dense)               (None, 150)          45150       ['dropout_2[0][0]']              \n",
            "                                                                                                  \n",
            " dense_46 (Dense)               (None, 1)            151         ['dense_45[0][0]']               \n",
            "                                                                                                  \n",
            "==================================================================================================\n",
            "Total params: 237,601\n",
            "Trainable params: 237,601\n",
            "Non-trainable params: 0\n",
            "__________________________________________________________________________________________________\n"
          ]
        }
      ],
      "source": [
        "model = text_cnn_1d(max_sequence_len, vocab_size, embeddings_size, FILTER_SIZES, NUM_FILTERS, DROPOUT)\n",
        "model.summary()"
      ]
    },
    {
      "cell_type": "code",
      "execution_count": 149,
      "id": "4c4ab9a3-2878-483b-bc76-2627d64fb13e",
      "metadata": {
        "id": "4c4ab9a3-2878-483b-bc76-2627d64fb13e"
      },
      "outputs": [],
      "source": [
        "# model.summary()"
      ]
    },
    {
      "cell_type": "code",
      "execution_count": 150,
      "id": "4bf115a2-9f1b-42b8-9b62-59728f1da977",
      "metadata": {
        "id": "4bf115a2-9f1b-42b8-9b62-59728f1da977"
      },
      "outputs": [],
      "source": [
        "def R2(y_true, y_pred):\n",
        "    SS_res =  K.sum(K.square( y_true-y_pred ))\n",
        "    SS_tot = K.sum(K.square( y_true - K.mean(y_true) ) )\n",
        "    return ( 1 - SS_res/(SS_tot + K.epsilon()) )"
      ]
    },
    {
      "cell_type": "code",
      "execution_count": 151,
      "id": "9138b411-fc5d-41bd-8c8e-c12580cc5b14",
      "metadata": {
        "id": "9138b411-fc5d-41bd-8c8e-c12580cc5b14"
      },
      "outputs": [],
      "source": [
        "model.compile(optimizer=Adam(learning_rate=0.0001), loss='mse', metrics=[R2])"
      ]
    },
    {
      "cell_type": "code",
      "execution_count": 152,
      "id": "62c3f792-f413-4150-8ebf-1f59c5fb986d",
      "metadata": {
        "id": "62c3f792-f413-4150-8ebf-1f59c5fb986d"
      },
      "outputs": [],
      "source": [
        "mcp = ModelCheckpoint('models_2/best_model_{epoch}', save_best_only=True, save_format=\"h5\")"
      ]
    },
    {
      "cell_type": "code",
      "execution_count": 153,
      "id": "3f37ab4e-0e3a-44c6-a572-ba5c67930c61",
      "metadata": {
        "tags": [],
        "colab": {
          "base_uri": "https://localhost:8080/"
        },
        "id": "3f37ab4e-0e3a-44c6-a572-ba5c67930c61",
        "outputId": "3836f135-d12b-451e-ccf5-1c9eb3e52dd4"
      },
      "outputs": [
        {
          "output_type": "stream",
          "name": "stdout",
          "text": [
            "Epoch 1/500\n",
            "31/32 [============================>.] - ETA: 0s - loss: 32.3810 - R2: -11.1918INFO:tensorflow:Assets written to: models_2/best_model_1/assets\n",
            "32/32 [==============================] - 5s 125ms/step - loss: 32.1621 - R2: -11.1402 - val_loss: 26.5111 - val_R2: -8.7927\n",
            "Epoch 2/500\n",
            "31/32 [============================>.] - ETA: 0s - loss: 18.0401 - R2: -5.7399INFO:tensorflow:Assets written to: models_2/best_model_2/assets\n",
            "32/32 [==============================] - 4s 119ms/step - loss: 17.7410 - R2: -5.6523 - val_loss: 7.8371 - val_R2: -1.7985\n",
            "Epoch 3/500\n",
            "31/32 [============================>.] - ETA: 0s - loss: 3.7786 - R2: -0.3810INFO:tensorflow:Assets written to: models_2/best_model_3/assets\n",
            "32/32 [==============================] - 4s 125ms/step - loss: 3.7524 - R2: -0.3693 - val_loss: 2.8225 - val_R2: 0.0107\n",
            "Epoch 4/500\n",
            "32/32 [==============================] - ETA: 0s - loss: 2.7013 - R2: 0.0255INFO:tensorflow:Assets written to: models_2/best_model_4/assets\n",
            "32/32 [==============================] - 4s 116ms/step - loss: 2.7013 - R2: 0.0255 - val_loss: 2.6972 - val_R2: 0.0655\n",
            "Epoch 5/500\n",
            "31/32 [============================>.] - ETA: 0s - loss: 2.5763 - R2: 0.0482INFO:tensorflow:Assets written to: models_2/best_model_5/assets\n",
            "32/32 [==============================] - 4s 121ms/step - loss: 2.6347 - R2: 0.0468 - val_loss: 2.6394 - val_R2: 0.0736\n",
            "Epoch 6/500\n",
            "31/32 [============================>.] - ETA: 0s - loss: 2.6448 - R2: 0.0532INFO:tensorflow:Assets written to: models_2/best_model_6/assets\n",
            "32/32 [==============================] - 4s 128ms/step - loss: 2.6194 - R2: 0.0536 - val_loss: 2.5977 - val_R2: 0.0951\n",
            "Epoch 7/500\n",
            "32/32 [==============================] - ETA: 0s - loss: 2.5383 - R2: 0.0833INFO:tensorflow:Assets written to: models_2/best_model_7/assets\n",
            "32/32 [==============================] - 4s 119ms/step - loss: 2.5383 - R2: 0.0833 - val_loss: 2.5636 - val_R2: 0.1103\n",
            "Epoch 8/500\n",
            "32/32 [==============================] - ETA: 0s - loss: 2.5457 - R2: 0.0828INFO:tensorflow:Assets written to: models_2/best_model_8/assets\n",
            "32/32 [==============================] - 4s 120ms/step - loss: 2.5457 - R2: 0.0828 - val_loss: 2.5234 - val_R2: 0.1255\n",
            "Epoch 9/500\n",
            "31/32 [============================>.] - ETA: 0s - loss: 2.5198 - R2: 0.0879INFO:tensorflow:Assets written to: models_2/best_model_9/assets\n",
            "32/32 [==============================] - 4s 120ms/step - loss: 2.5167 - R2: 0.0881 - val_loss: 2.4959 - val_R2: 0.1237\n",
            "Epoch 10/500\n",
            "31/32 [============================>.] - ETA: 0s - loss: 2.4767 - R2: 0.1020INFO:tensorflow:Assets written to: models_2/best_model_10/assets\n",
            "32/32 [==============================] - 4s 126ms/step - loss: 2.4826 - R2: 0.1026 - val_loss: 2.4561 - val_R2: 0.1430\n",
            "Epoch 11/500\n",
            "31/32 [============================>.] - ETA: 0s - loss: 2.4802 - R2: 0.1004INFO:tensorflow:Assets written to: models_2/best_model_11/assets\n",
            "32/32 [==============================] - 4s 113ms/step - loss: 2.4856 - R2: 0.1005 - val_loss: 2.4350 - val_R2: 0.1463\n",
            "Epoch 12/500\n",
            "31/32 [============================>.] - ETA: 0s - loss: 2.4183 - R2: 0.1232INFO:tensorflow:Assets written to: models_2/best_model_12/assets\n",
            "32/32 [==============================] - 4s 118ms/step - loss: 2.4298 - R2: 0.1240 - val_loss: 2.3988 - val_R2: 0.1675\n",
            "Epoch 13/500\n",
            "32/32 [==============================] - ETA: 0s - loss: 2.4266 - R2: 0.1236INFO:tensorflow:Assets written to: models_2/best_model_13/assets\n",
            "32/32 [==============================] - 4s 124ms/step - loss: 2.4266 - R2: 0.1236 - val_loss: 2.3759 - val_R2: 0.1654\n",
            "Epoch 14/500\n",
            "31/32 [============================>.] - ETA: 0s - loss: 2.4224 - R2: 0.1280INFO:tensorflow:Assets written to: models_2/best_model_14/assets\n",
            "32/32 [==============================] - 4s 128ms/step - loss: 2.4093 - R2: 0.1281 - val_loss: 2.3499 - val_R2: 0.1859\n",
            "Epoch 15/500\n",
            "31/32 [============================>.] - ETA: 0s - loss: 2.3319 - R2: 0.1482INFO:tensorflow:Assets written to: models_2/best_model_15/assets\n",
            "32/32 [==============================] - 4s 117ms/step - loss: 2.3519 - R2: 0.1484 - val_loss: 2.3256 - val_R2: 0.1936\n",
            "Epoch 16/500\n",
            "32/32 [==============================] - ETA: 0s - loss: 2.3785 - R2: 0.1385INFO:tensorflow:Assets written to: models_2/best_model_16/assets\n",
            "32/32 [==============================] - 4s 120ms/step - loss: 2.3785 - R2: 0.1385 - val_loss: 2.3038 - val_R2: 0.1991\n",
            "Epoch 17/500\n",
            "31/32 [============================>.] - ETA: 0s - loss: 2.2979 - R2: 0.1561INFO:tensorflow:Assets written to: models_2/best_model_17/assets\n",
            "32/32 [==============================] - 4s 130ms/step - loss: 2.3246 - R2: 0.1563 - val_loss: 2.3025 - val_R2: 0.1984\n",
            "Epoch 18/500\n",
            "32/32 [==============================] - ETA: 0s - loss: 2.3057 - R2: 0.1661INFO:tensorflow:Assets written to: models_2/best_model_18/assets\n",
            "32/32 [==============================] - 4s 121ms/step - loss: 2.3057 - R2: 0.1661 - val_loss: 2.2722 - val_R2: 0.2101\n",
            "Epoch 19/500\n",
            "32/32 [==============================] - ETA: 0s - loss: 2.3024 - R2: 0.1679INFO:tensorflow:Assets written to: models_2/best_model_19/assets\n",
            "32/32 [==============================] - 4s 127ms/step - loss: 2.3024 - R2: 0.1679 - val_loss: 2.2452 - val_R2: 0.2188\n",
            "Epoch 20/500\n",
            "32/32 [==============================] - ETA: 0s - loss: 2.2567 - R2: 0.1840INFO:tensorflow:Assets written to: models_2/best_model_20/assets\n",
            "32/32 [==============================] - 4s 123ms/step - loss: 2.2567 - R2: 0.1840 - val_loss: 2.2311 - val_R2: 0.2241\n",
            "Epoch 21/500\n",
            "31/32 [============================>.] - ETA: 0s - loss: 2.2346 - R2: 0.1892INFO:tensorflow:Assets written to: models_2/best_model_21/assets\n",
            "32/32 [==============================] - 4s 135ms/step - loss: 2.2611 - R2: 0.1879 - val_loss: 2.2090 - val_R2: 0.2301\n",
            "Epoch 22/500\n",
            "32/32 [==============================] - ETA: 0s - loss: 2.2323 - R2: 0.1952INFO:tensorflow:Assets written to: models_2/best_model_22/assets\n",
            "32/32 [==============================] - 4s 123ms/step - loss: 2.2323 - R2: 0.1952 - val_loss: 2.1844 - val_R2: 0.2435\n",
            "Epoch 23/500\n",
            "31/32 [============================>.] - ETA: 0s - loss: 2.2264 - R2: 0.2030INFO:tensorflow:Assets written to: models_2/best_model_23/assets\n",
            "32/32 [==============================] - 4s 123ms/step - loss: 2.2130 - R2: 0.2006 - val_loss: 2.1622 - val_R2: 0.2484\n",
            "Epoch 24/500\n",
            "31/32 [============================>.] - ETA: 0s - loss: 2.1680 - R2: 0.2212INFO:tensorflow:Assets written to: models_2/best_model_24/assets\n",
            "32/32 [==============================] - 4s 119ms/step - loss: 2.1685 - R2: 0.2203 - val_loss: 2.1429 - val_R2: 0.2683\n",
            "Epoch 25/500\n",
            "32/32 [==============================] - ETA: 0s - loss: 2.1452 - R2: 0.2251INFO:tensorflow:Assets written to: models_2/best_model_25/assets\n",
            "32/32 [==============================] - 4s 132ms/step - loss: 2.1452 - R2: 0.2251 - val_loss: 2.1232 - val_R2: 0.2713\n",
            "Epoch 26/500\n",
            "31/32 [============================>.] - ETA: 0s - loss: 2.1581 - R2: 0.2223INFO:tensorflow:Assets written to: models_2/best_model_26/assets\n",
            "32/32 [==============================] - 4s 120ms/step - loss: 2.1576 - R2: 0.2183 - val_loss: 2.1114 - val_R2: 0.2733\n",
            "Epoch 27/500\n",
            "32/32 [==============================] - ETA: 0s - loss: 2.1182 - R2: 0.2379INFO:tensorflow:Assets written to: models_2/best_model_27/assets\n",
            "32/32 [==============================] - 4s 121ms/step - loss: 2.1182 - R2: 0.2379 - val_loss: 2.0894 - val_R2: 0.2742\n",
            "Epoch 28/500\n",
            "32/32 [==============================] - ETA: 0s - loss: 2.0743 - R2: 0.2557INFO:tensorflow:Assets written to: models_2/best_model_28/assets\n",
            "32/32 [==============================] - 4s 131ms/step - loss: 2.0743 - R2: 0.2557 - val_loss: 2.0609 - val_R2: 0.2882\n",
            "Epoch 29/500\n",
            "31/32 [============================>.] - ETA: 0s - loss: 2.0520 - R2: 0.2627INFO:tensorflow:Assets written to: models_2/best_model_29/assets\n",
            "32/32 [==============================] - 4s 124ms/step - loss: 2.0307 - R2: 0.2658 - val_loss: 2.0542 - val_R2: 0.2823\n",
            "Epoch 30/500\n",
            "32/32 [==============================] - ETA: 0s - loss: 2.0386 - R2: 0.2631INFO:tensorflow:Assets written to: models_2/best_model_30/assets\n",
            "32/32 [==============================] - 4s 119ms/step - loss: 2.0386 - R2: 0.2631 - val_loss: 2.0233 - val_R2: 0.2993\n",
            "Epoch 31/500\n",
            "31/32 [============================>.] - ETA: 0s - loss: 2.0545 - R2: 0.2645INFO:tensorflow:Assets written to: models_2/best_model_31/assets\n",
            "32/32 [==============================] - 4s 116ms/step - loss: 2.0395 - R2: 0.2646 - val_loss: 2.0037 - val_R2: 0.2996\n",
            "Epoch 32/500\n",
            "31/32 [============================>.] - ETA: 0s - loss: 1.9644 - R2: 0.2884INFO:tensorflow:Assets written to: models_2/best_model_32/assets\n",
            "32/32 [==============================] - 4s 130ms/step - loss: 1.9692 - R2: 0.2882 - val_loss: 1.9899 - val_R2: 0.3116\n",
            "Epoch 33/500\n",
            "31/32 [============================>.] - ETA: 0s - loss: 1.9754 - R2: 0.2847INFO:tensorflow:Assets written to: models_2/best_model_33/assets\n",
            "32/32 [==============================] - 4s 120ms/step - loss: 1.9621 - R2: 0.2866 - val_loss: 1.9665 - val_R2: 0.3093\n",
            "Epoch 34/500\n",
            "31/32 [============================>.] - ETA: 0s - loss: 1.9469 - R2: 0.2953INFO:tensorflow:Assets written to: models_2/best_model_34/assets\n",
            "32/32 [==============================] - 4s 123ms/step - loss: 1.9561 - R2: 0.2955 - val_loss: 1.9549 - val_R2: 0.3154\n",
            "Epoch 35/500\n",
            "32/32 [==============================] - 2s 75ms/step - loss: 1.9570 - R2: 0.2932 - val_loss: 1.9607 - val_R2: 0.3170\n",
            "Epoch 36/500\n",
            "31/32 [============================>.] - ETA: 0s - loss: 1.9256 - R2: 0.3036INFO:tensorflow:Assets written to: models_2/best_model_36/assets\n",
            "32/32 [==============================] - 4s 126ms/step - loss: 1.9146 - R2: 0.3067 - val_loss: 1.9267 - val_R2: 0.3363\n",
            "Epoch 37/500\n",
            "32/32 [==============================] - 2s 70ms/step - loss: 1.9217 - R2: 0.3007 - val_loss: 1.9727 - val_R2: 0.3248\n",
            "Epoch 38/500\n",
            "31/32 [============================>.] - ETA: 0s - loss: 1.9067 - R2: 0.3151INFO:tensorflow:Assets written to: models_2/best_model_38/assets\n",
            "32/32 [==============================] - 4s 130ms/step - loss: 1.8900 - R2: 0.3169 - val_loss: 1.9149 - val_R2: 0.3374\n",
            "Epoch 39/500\n",
            "31/32 [============================>.] - ETA: 0s - loss: 1.8867 - R2: 0.3200INFO:tensorflow:Assets written to: models_2/best_model_39/assets\n",
            "32/32 [==============================] - 4s 120ms/step - loss: 1.8849 - R2: 0.3186 - val_loss: 1.8844 - val_R2: 0.3453\n",
            "Epoch 40/500\n",
            "31/32 [============================>.] - ETA: 0s - loss: 1.8202 - R2: 0.3337INFO:tensorflow:Assets written to: models_2/best_model_40/assets\n",
            "32/32 [==============================] - 4s 119ms/step - loss: 1.8658 - R2: 0.3288 - val_loss: 1.8656 - val_R2: 0.3542\n",
            "Epoch 41/500\n",
            "32/32 [==============================] - 2s 69ms/step - loss: 1.8424 - R2: 0.3255 - val_loss: 1.9408 - val_R2: 0.3288\n",
            "Epoch 42/500\n",
            "31/32 [============================>.] - ETA: 0s - loss: 1.8625 - R2: 0.3314INFO:tensorflow:Assets written to: models_2/best_model_42/assets\n",
            "32/32 [==============================] - 4s 129ms/step - loss: 1.8614 - R2: 0.3302 - val_loss: 1.8435 - val_R2: 0.3685\n",
            "Epoch 43/500\n",
            "31/32 [============================>.] - ETA: 0s - loss: 1.8209 - R2: 0.3507INFO:tensorflow:Assets written to: models_2/best_model_43/assets\n",
            "32/32 [==============================] - 4s 121ms/step - loss: 1.8043 - R2: 0.3523 - val_loss: 1.8431 - val_R2: 0.3662\n",
            "Epoch 44/500\n",
            "31/32 [============================>.] - ETA: 0s - loss: 1.8420 - R2: 0.3406INFO:tensorflow:Assets written to: models_2/best_model_44/assets\n",
            "32/32 [==============================] - 4s 119ms/step - loss: 1.8297 - R2: 0.3420 - val_loss: 1.8281 - val_R2: 0.3713\n",
            "Epoch 45/500\n",
            "32/32 [==============================] - ETA: 0s - loss: 1.8134 - R2: 0.3486INFO:tensorflow:Assets written to: models_2/best_model_45/assets\n",
            "32/32 [==============================] - 4s 117ms/step - loss: 1.8134 - R2: 0.3486 - val_loss: 1.8222 - val_R2: 0.3597\n",
            "Epoch 46/500\n",
            "32/32 [==============================] - ETA: 0s - loss: 1.7855 - R2: 0.3556INFO:tensorflow:Assets written to: models_2/best_model_46/assets\n",
            "32/32 [==============================] - 4s 129ms/step - loss: 1.7855 - R2: 0.3556 - val_loss: 1.8212 - val_R2: 0.3684\n",
            "Epoch 47/500\n",
            "32/32 [==============================] - 2s 69ms/step - loss: 1.7559 - R2: 0.3680 - val_loss: 1.8312 - val_R2: 0.3600\n",
            "Epoch 48/500\n",
            "31/32 [============================>.] - ETA: 0s - loss: 1.7593 - R2: 0.3696INFO:tensorflow:Assets written to: models_2/best_model_48/assets\n",
            "32/32 [==============================] - 4s 119ms/step - loss: 1.7599 - R2: 0.3673 - val_loss: 1.7882 - val_R2: 0.3859\n",
            "Epoch 49/500\n",
            "31/32 [============================>.] - ETA: 0s - loss: 1.7483 - R2: 0.3704INFO:tensorflow:Assets written to: models_2/best_model_49/assets\n",
            "32/32 [==============================] - 4s 120ms/step - loss: 1.7466 - R2: 0.3706 - val_loss: 1.7806 - val_R2: 0.3894\n",
            "Epoch 50/500\n",
            "32/32 [==============================] - 2s 71ms/step - loss: 1.7275 - R2: 0.3770 - val_loss: 1.7993 - val_R2: 0.3703\n",
            "Epoch 51/500\n",
            "31/32 [============================>.] - ETA: 0s - loss: 1.7744 - R2: 0.3703INFO:tensorflow:Assets written to: models_2/best_model_51/assets\n",
            "32/32 [==============================] - 4s 127ms/step - loss: 1.7570 - R2: 0.3710 - val_loss: 1.7707 - val_R2: 0.3894\n",
            "Epoch 52/500\n",
            "32/32 [==============================] - ETA: 0s - loss: 1.7425 - R2: 0.3764INFO:tensorflow:Assets written to: models_2/best_model_52/assets\n",
            "32/32 [==============================] - 4s 121ms/step - loss: 1.7425 - R2: 0.3764 - val_loss: 1.7478 - val_R2: 0.3947\n",
            "Epoch 53/500\n",
            "32/32 [==============================] - 2s 69ms/step - loss: 1.7029 - R2: 0.3847 - val_loss: 1.7536 - val_R2: 0.3903\n",
            "Epoch 54/500\n",
            "32/32 [==============================] - ETA: 0s - loss: 1.6913 - R2: 0.3892INFO:tensorflow:Assets written to: models_2/best_model_54/assets\n",
            "32/32 [==============================] - 4s 120ms/step - loss: 1.6913 - R2: 0.3892 - val_loss: 1.7271 - val_R2: 0.4010\n",
            "Epoch 55/500\n",
            "32/32 [==============================] - ETA: 0s - loss: 1.6786 - R2: 0.3896INFO:tensorflow:Assets written to: models_2/best_model_55/assets\n",
            "32/32 [==============================] - 4s 119ms/step - loss: 1.6786 - R2: 0.3896 - val_loss: 1.7166 - val_R2: 0.4090\n",
            "Epoch 56/500\n",
            "32/32 [==============================] - 2s 71ms/step - loss: 1.7005 - R2: 0.3848 - val_loss: 1.7427 - val_R2: 0.3918\n",
            "Epoch 57/500\n",
            "32/32 [==============================] - 2s 72ms/step - loss: 1.6377 - R2: 0.4094 - val_loss: 1.7421 - val_R2: 0.4035\n",
            "Epoch 58/500\n",
            "31/32 [============================>.] - ETA: 0s - loss: 1.6678 - R2: 0.3985INFO:tensorflow:Assets written to: models_2/best_model_58/assets\n",
            "32/32 [==============================] - 4s 131ms/step - loss: 1.6712 - R2: 0.3972 - val_loss: 1.7054 - val_R2: 0.4165\n",
            "Epoch 59/500\n",
            "31/32 [============================>.] - ETA: 0s - loss: 1.6608 - R2: 0.4044INFO:tensorflow:Assets written to: models_2/best_model_59/assets\n",
            "32/32 [==============================] - 4s 123ms/step - loss: 1.6581 - R2: 0.4069 - val_loss: 1.6838 - val_R2: 0.4256\n",
            "Epoch 60/500\n",
            "31/32 [============================>.] - ETA: 0s - loss: 1.6361 - R2: 0.4113INFO:tensorflow:Assets written to: models_2/best_model_60/assets\n",
            "32/32 [==============================] - 4s 121ms/step - loss: 1.6277 - R2: 0.4101 - val_loss: 1.6819 - val_R2: 0.4205\n",
            "Epoch 61/500\n",
            "32/32 [==============================] - 2s 75ms/step - loss: 1.6217 - R2: 0.4162 - val_loss: 1.6983 - val_R2: 0.4003\n",
            "Epoch 62/500\n",
            "32/32 [==============================] - ETA: 0s - loss: 1.5826 - R2: 0.4327INFO:tensorflow:Assets written to: models_2/best_model_62/assets\n",
            "32/32 [==============================] - 4s 129ms/step - loss: 1.5826 - R2: 0.4327 - val_loss: 1.6587 - val_R2: 0.4235\n",
            "Epoch 63/500\n",
            "31/32 [============================>.] - ETA: 0s - loss: 1.5941 - R2: 0.4178INFO:tensorflow:Assets written to: models_2/best_model_63/assets\n",
            "32/32 [==============================] - 4s 130ms/step - loss: 1.6092 - R2: 0.4171 - val_loss: 1.6540 - val_R2: 0.4308\n",
            "Epoch 64/500\n",
            "31/32 [============================>.] - ETA: 0s - loss: 1.5994 - R2: 0.4243INFO:tensorflow:Assets written to: models_2/best_model_64/assets\n",
            "32/32 [==============================] - 4s 120ms/step - loss: 1.6002 - R2: 0.4229 - val_loss: 1.6539 - val_R2: 0.4260\n",
            "Epoch 65/500\n",
            "32/32 [==============================] - ETA: 0s - loss: 1.5442 - R2: 0.4517INFO:tensorflow:Assets written to: models_2/best_model_65/assets\n",
            "32/32 [==============================] - 4s 121ms/step - loss: 1.5442 - R2: 0.4517 - val_loss: 1.6358 - val_R2: 0.4318\n",
            "Epoch 66/500\n",
            "32/32 [==============================] - 2s 71ms/step - loss: 1.5630 - R2: 0.4377 - val_loss: 1.7052 - val_R2: 0.3991\n",
            "Epoch 67/500\n",
            "32/32 [==============================] - 2s 72ms/step - loss: 1.5611 - R2: 0.4377 - val_loss: 1.6492 - val_R2: 0.4307\n",
            "Epoch 68/500\n",
            "31/32 [============================>.] - ETA: 0s - loss: 1.5310 - R2: 0.4460INFO:tensorflow:Assets written to: models_2/best_model_68/assets\n",
            "32/32 [==============================] - 4s 129ms/step - loss: 1.5439 - R2: 0.4448 - val_loss: 1.6291 - val_R2: 0.4337\n",
            "Epoch 69/500\n",
            "32/32 [==============================] - 2s 71ms/step - loss: 1.5337 - R2: 0.4516 - val_loss: 1.6631 - val_R2: 0.4258\n",
            "Epoch 70/500\n",
            "31/32 [============================>.] - ETA: 0s - loss: 1.5630 - R2: 0.4356INFO:tensorflow:Assets written to: models_2/best_model_70/assets\n",
            "32/32 [==============================] - 4s 120ms/step - loss: 1.5558 - R2: 0.4356 - val_loss: 1.6005 - val_R2: 0.4472\n",
            "Epoch 71/500\n",
            "32/32 [==============================] - ETA: 0s - loss: 1.5139 - R2: 0.4547INFO:tensorflow:Assets written to: models_2/best_model_71/assets\n",
            "32/32 [==============================] - 4s 123ms/step - loss: 1.5139 - R2: 0.4547 - val_loss: 1.5933 - val_R2: 0.4469\n",
            "Epoch 72/500\n",
            "32/32 [==============================] - ETA: 0s - loss: 1.5120 - R2: 0.4582INFO:tensorflow:Assets written to: models_2/best_model_72/assets\n",
            "32/32 [==============================] - 4s 120ms/step - loss: 1.5120 - R2: 0.4582 - val_loss: 1.5899 - val_R2: 0.4470\n",
            "Epoch 73/500\n",
            "32/32 [==============================] - 2s 72ms/step - loss: 1.5062 - R2: 0.4569 - val_loss: 1.6322 - val_R2: 0.4356\n",
            "Epoch 74/500\n",
            "32/32 [==============================] - ETA: 0s - loss: 1.4617 - R2: 0.4759INFO:tensorflow:Assets written to: models_2/best_model_74/assets\n",
            "32/32 [==============================] - 4s 129ms/step - loss: 1.4617 - R2: 0.4759 - val_loss: 1.5712 - val_R2: 0.4628\n",
            "Epoch 75/500\n",
            "32/32 [==============================] - 2s 71ms/step - loss: 1.5044 - R2: 0.4600 - val_loss: 1.5821 - val_R2: 0.4528\n",
            "Epoch 76/500\n",
            "31/32 [============================>.] - ETA: 0s - loss: 1.4813 - R2: 0.4695INFO:tensorflow:Assets written to: models_2/best_model_76/assets\n",
            "32/32 [==============================] - 4s 123ms/step - loss: 1.4731 - R2: 0.4718 - val_loss: 1.5659 - val_R2: 0.4659\n",
            "Epoch 77/500\n",
            "32/32 [==============================] - ETA: 0s - loss: 1.4528 - R2: 0.4808INFO:tensorflow:Assets written to: models_2/best_model_77/assets\n",
            "32/32 [==============================] - 4s 122ms/step - loss: 1.4528 - R2: 0.4808 - val_loss: 1.5591 - val_R2: 0.4506\n",
            "Epoch 78/500\n",
            "32/32 [==============================] - 2s 74ms/step - loss: 1.5152 - R2: 0.4553 - val_loss: 1.5929 - val_R2: 0.4534\n",
            "Epoch 79/500\n",
            "32/32 [==============================] - ETA: 0s - loss: 1.4588 - R2: 0.4716INFO:tensorflow:Assets written to: models_2/best_model_79/assets\n",
            "32/32 [==============================] - 4s 124ms/step - loss: 1.4588 - R2: 0.4716 - val_loss: 1.5464 - val_R2: 0.4599\n",
            "Epoch 80/500\n",
            "32/32 [==============================] - 2s 74ms/step - loss: 1.4263 - R2: 0.4866 - val_loss: 1.5682 - val_R2: 0.4580\n",
            "Epoch 81/500\n",
            "31/32 [============================>.] - ETA: 0s - loss: 1.4513 - R2: 0.4674INFO:tensorflow:Assets written to: models_2/best_model_81/assets\n",
            "32/32 [==============================] - 4s 130ms/step - loss: 1.4532 - R2: 0.4702 - val_loss: 1.5393 - val_R2: 0.4649\n",
            "Epoch 82/500\n",
            "31/32 [============================>.] - ETA: 0s - loss: 1.4429 - R2: 0.4850INFO:tensorflow:Assets written to: models_2/best_model_82/assets\n",
            "32/32 [==============================] - 4s 121ms/step - loss: 1.4455 - R2: 0.4767 - val_loss: 1.5366 - val_R2: 0.4745\n",
            "Epoch 83/500\n",
            "31/32 [============================>.] - ETA: 0s - loss: 1.4443 - R2: 0.4819INFO:tensorflow:Assets written to: models_2/best_model_83/assets\n",
            "32/32 [==============================] - 4s 120ms/step - loss: 1.4310 - R2: 0.4820 - val_loss: 1.5267 - val_R2: 0.4727\n",
            "Epoch 84/500\n",
            "32/32 [==============================] - 2s 73ms/step - loss: 1.3815 - R2: 0.5025 - val_loss: 1.5426 - val_R2: 0.4661\n",
            "Epoch 85/500\n",
            "32/32 [==============================] - ETA: 0s - loss: 1.4391 - R2: 0.4808INFO:tensorflow:Assets written to: models_2/best_model_85/assets\n",
            "32/32 [==============================] - 4s 124ms/step - loss: 1.4391 - R2: 0.4808 - val_loss: 1.5194 - val_R2: 0.4734\n",
            "Epoch 86/500\n",
            "32/32 [==============================] - ETA: 0s - loss: 1.4058 - R2: 0.4971INFO:tensorflow:Assets written to: models_2/best_model_86/assets\n",
            "32/32 [==============================] - 4s 131ms/step - loss: 1.4058 - R2: 0.4971 - val_loss: 1.5176 - val_R2: 0.4656\n",
            "Epoch 87/500\n",
            "31/32 [============================>.] - ETA: 0s - loss: 1.3936 - R2: 0.4995INFO:tensorflow:Assets written to: models_2/best_model_87/assets\n",
            "32/32 [==============================] - 4s 121ms/step - loss: 1.3893 - R2: 0.4972 - val_loss: 1.5105 - val_R2: 0.4792\n",
            "Epoch 88/500\n",
            "32/32 [==============================] - 2s 72ms/step - loss: 1.3763 - R2: 0.5044 - val_loss: 1.5121 - val_R2: 0.4685\n",
            "Epoch 89/500\n",
            "32/32 [==============================] - ETA: 0s - loss: 1.3523 - R2: 0.5103INFO:tensorflow:Assets written to: models_2/best_model_89/assets\n",
            "32/32 [==============================] - 4s 125ms/step - loss: 1.3523 - R2: 0.5103 - val_loss: 1.5030 - val_R2: 0.4828\n",
            "Epoch 90/500\n",
            "32/32 [==============================] - 2s 72ms/step - loss: 1.4029 - R2: 0.4928 - val_loss: 1.5209 - val_R2: 0.4719\n",
            "Epoch 91/500\n",
            "31/32 [============================>.] - ETA: 0s - loss: 1.3477 - R2: 0.5143INFO:tensorflow:Assets written to: models_2/best_model_91/assets\n",
            "32/32 [==============================] - 4s 127ms/step - loss: 1.3727 - R2: 0.5107 - val_loss: 1.4888 - val_R2: 0.4704\n",
            "Epoch 92/500\n",
            "32/32 [==============================] - 2s 69ms/step - loss: 1.3438 - R2: 0.5187 - val_loss: 1.5095 - val_R2: 0.4824\n",
            "Epoch 93/500\n",
            "32/32 [==============================] - 2s 69ms/step - loss: 1.3713 - R2: 0.5046 - val_loss: 1.5175 - val_R2: 0.4870\n",
            "Epoch 94/500\n",
            "32/32 [==============================] - 2s 70ms/step - loss: 1.3285 - R2: 0.5212 - val_loss: 1.5041 - val_R2: 0.4756\n",
            "Epoch 95/500\n",
            "32/32 [==============================] - 2s 71ms/step - loss: 1.3153 - R2: 0.5243 - val_loss: 1.5107 - val_R2: 0.4709\n",
            "Epoch 96/500\n",
            "31/32 [============================>.] - ETA: 0s - loss: 1.3233 - R2: 0.5230INFO:tensorflow:Assets written to: models_2/best_model_96/assets\n",
            "32/32 [==============================] - 4s 120ms/step - loss: 1.3143 - R2: 0.5238 - val_loss: 1.4766 - val_R2: 0.4914\n",
            "Epoch 97/500\n",
            "32/32 [==============================] - 2s 74ms/step - loss: 1.3099 - R2: 0.5275 - val_loss: 1.5277 - val_R2: 0.4646\n",
            "Epoch 98/500\n",
            "32/32 [==============================] - ETA: 0s - loss: 1.3387 - R2: 0.5192INFO:tensorflow:Assets written to: models_2/best_model_98/assets\n",
            "32/32 [==============================] - 4s 129ms/step - loss: 1.3387 - R2: 0.5192 - val_loss: 1.4688 - val_R2: 0.4888\n",
            "Epoch 99/500\n",
            "32/32 [==============================] - ETA: 0s - loss: 1.3051 - R2: 0.5243INFO:tensorflow:Assets written to: models_2/best_model_99/assets\n",
            "32/32 [==============================] - 4s 124ms/step - loss: 1.3051 - R2: 0.5243 - val_loss: 1.4609 - val_R2: 0.5012\n",
            "Epoch 100/500\n",
            "32/32 [==============================] - 2s 70ms/step - loss: 1.3108 - R2: 0.5269 - val_loss: 1.5120 - val_R2: 0.4784\n",
            "Epoch 101/500\n",
            "32/32 [==============================] - ETA: 0s - loss: 1.3562 - R2: 0.5113INFO:tensorflow:Assets written to: models_2/best_model_101/assets\n",
            "32/32 [==============================] - 4s 133ms/step - loss: 1.3562 - R2: 0.5113 - val_loss: 1.4543 - val_R2: 0.5059\n",
            "Epoch 102/500\n",
            "32/32 [==============================] - 2s 73ms/step - loss: 1.2739 - R2: 0.5394 - val_loss: 1.4664 - val_R2: 0.5011\n",
            "Epoch 103/500\n",
            "31/32 [============================>.] - ETA: 0s - loss: 1.2929 - R2: 0.5262INFO:tensorflow:Assets written to: models_2/best_model_103/assets\n",
            "32/32 [==============================] - 4s 118ms/step - loss: 1.3035 - R2: 0.5254 - val_loss: 1.4485 - val_R2: 0.4998\n",
            "Epoch 104/500\n",
            "32/32 [==============================] - ETA: 0s - loss: 1.3114 - R2: 0.5240INFO:tensorflow:Assets written to: models_2/best_model_104/assets\n",
            "32/32 [==============================] - 4s 119ms/step - loss: 1.3114 - R2: 0.5240 - val_loss: 1.4442 - val_R2: 0.4911\n",
            "Epoch 105/500\n",
            "32/32 [==============================] - 2s 70ms/step - loss: 1.2948 - R2: 0.5297 - val_loss: 1.4500 - val_R2: 0.5033\n",
            "Epoch 106/500\n",
            "32/32 [==============================] - ETA: 0s - loss: 1.2704 - R2: 0.5443INFO:tensorflow:Assets written to: models_2/best_model_106/assets\n",
            "32/32 [==============================] - 4s 127ms/step - loss: 1.2704 - R2: 0.5443 - val_loss: 1.4429 - val_R2: 0.4966\n",
            "Epoch 107/500\n",
            "32/32 [==============================] - 2s 71ms/step - loss: 1.2642 - R2: 0.5451 - val_loss: 1.5306 - val_R2: 0.4668\n",
            "Epoch 108/500\n",
            "32/32 [==============================] - 2s 73ms/step - loss: 1.2604 - R2: 0.5443 - val_loss: 1.4646 - val_R2: 0.4992\n",
            "Epoch 109/500\n",
            "32/32 [==============================] - ETA: 0s - loss: 1.2749 - R2: 0.5352INFO:tensorflow:Assets written to: models_2/best_model_109/assets\n",
            "32/32 [==============================] - 4s 123ms/step - loss: 1.2749 - R2: 0.5352 - val_loss: 1.4255 - val_R2: 0.5063\n",
            "Epoch 110/500\n",
            "32/32 [==============================] - 2s 72ms/step - loss: 1.2676 - R2: 0.5381 - val_loss: 1.4380 - val_R2: 0.4986\n",
            "Epoch 111/500\n",
            "31/32 [============================>.] - ETA: 0s - loss: 1.2945 - R2: 0.5371INFO:tensorflow:Assets written to: models_2/best_model_111/assets\n",
            "32/32 [==============================] - 4s 121ms/step - loss: 1.2832 - R2: 0.5386 - val_loss: 1.4212 - val_R2: 0.5075\n",
            "Epoch 112/500\n",
            "32/32 [==============================] - 2s 72ms/step - loss: 1.2571 - R2: 0.5374 - val_loss: 1.4522 - val_R2: 0.4982\n",
            "Epoch 113/500\n",
            "32/32 [==============================] - 2s 73ms/step - loss: 1.2992 - R2: 0.5239 - val_loss: 1.4230 - val_R2: 0.5103\n",
            "Epoch 114/500\n",
            "32/32 [==============================] - 2s 73ms/step - loss: 1.2311 - R2: 0.5530 - val_loss: 1.4288 - val_R2: 0.5045\n",
            "Epoch 115/500\n",
            "32/32 [==============================] - 2s 72ms/step - loss: 1.2539 - R2: 0.5533 - val_loss: 1.4248 - val_R2: 0.5047\n",
            "Epoch 116/500\n",
            "32/32 [==============================] - 2s 72ms/step - loss: 1.2556 - R2: 0.5532 - val_loss: 1.4416 - val_R2: 0.4928\n",
            "Epoch 117/500\n",
            "32/32 [==============================] - ETA: 0s - loss: 1.2124 - R2: 0.5638INFO:tensorflow:Assets written to: models_2/best_model_117/assets\n",
            "32/32 [==============================] - 4s 126ms/step - loss: 1.2124 - R2: 0.5638 - val_loss: 1.4083 - val_R2: 0.5185\n",
            "Epoch 118/500\n",
            "31/32 [============================>.] - ETA: 0s - loss: 1.2289 - R2: 0.5566INFO:tensorflow:Assets written to: models_2/best_model_118/assets\n",
            "32/32 [==============================] - 4s 134ms/step - loss: 1.2389 - R2: 0.5561 - val_loss: 1.4058 - val_R2: 0.5224\n",
            "Epoch 119/500\n",
            "32/32 [==============================] - ETA: 0s - loss: 1.2313 - R2: 0.5535INFO:tensorflow:Assets written to: models_2/best_model_119/assets\n",
            "32/32 [==============================] - 4s 123ms/step - loss: 1.2313 - R2: 0.5535 - val_loss: 1.4038 - val_R2: 0.5223\n",
            "Epoch 120/500\n",
            "32/32 [==============================] - 2s 72ms/step - loss: 1.2132 - R2: 0.5582 - val_loss: 1.4054 - val_R2: 0.5019\n",
            "Epoch 121/500\n",
            "32/32 [==============================] - 2s 71ms/step - loss: 1.2365 - R2: 0.5512 - val_loss: 1.4608 - val_R2: 0.4767\n",
            "Epoch 122/500\n",
            "31/32 [============================>.] - ETA: 0s - loss: 1.1719 - R2: 0.5661INFO:tensorflow:Assets written to: models_2/best_model_122/assets\n",
            "32/32 [==============================] - 4s 117ms/step - loss: 1.2088 - R2: 0.5617 - val_loss: 1.3939 - val_R2: 0.5234\n",
            "Epoch 123/500\n",
            "31/32 [============================>.] - ETA: 0s - loss: 1.2108 - R2: 0.5633INFO:tensorflow:Assets written to: models_2/best_model_123/assets\n",
            "32/32 [==============================] - 4s 121ms/step - loss: 1.2045 - R2: 0.5658 - val_loss: 1.3917 - val_R2: 0.5145\n",
            "Epoch 124/500\n",
            "32/32 [==============================] - 2s 73ms/step - loss: 1.1868 - R2: 0.5713 - val_loss: 1.3985 - val_R2: 0.5178\n",
            "Epoch 125/500\n",
            "32/32 [==============================] - ETA: 0s - loss: 1.2078 - R2: 0.5619INFO:tensorflow:Assets written to: models_2/best_model_125/assets\n",
            "32/32 [==============================] - 4s 131ms/step - loss: 1.2078 - R2: 0.5619 - val_loss: 1.3846 - val_R2: 0.5348\n",
            "Epoch 126/500\n",
            "32/32 [==============================] - ETA: 0s - loss: 1.1795 - R2: 0.5721INFO:tensorflow:Assets written to: models_2/best_model_126/assets\n",
            "32/32 [==============================] - 4s 127ms/step - loss: 1.1795 - R2: 0.5721 - val_loss: 1.3827 - val_R2: 0.5258\n",
            "Epoch 127/500\n",
            "32/32 [==============================] - 2s 77ms/step - loss: 1.1994 - R2: 0.5649 - val_loss: 1.3849 - val_R2: 0.5185\n",
            "Epoch 128/500\n",
            "32/32 [==============================] - 2s 76ms/step - loss: 1.1582 - R2: 0.5823 - val_loss: 1.3928 - val_R2: 0.5103\n",
            "Epoch 129/500\n",
            "32/32 [==============================] - 2s 73ms/step - loss: 1.1773 - R2: 0.5770 - val_loss: 1.3950 - val_R2: 0.5228\n",
            "Epoch 130/500\n",
            "32/32 [==============================] - 2s 74ms/step - loss: 1.1950 - R2: 0.5718 - val_loss: 1.3828 - val_R2: 0.5299\n",
            "Epoch 131/500\n",
            "32/32 [==============================] - ETA: 0s - loss: 1.1643 - R2: 0.5829INFO:tensorflow:Assets written to: models_2/best_model_131/assets\n",
            "32/32 [==============================] - 4s 122ms/step - loss: 1.1643 - R2: 0.5829 - val_loss: 1.3797 - val_R2: 0.5252\n",
            "Epoch 132/500\n",
            "32/32 [==============================] - ETA: 0s - loss: 1.1577 - R2: 0.5828INFO:tensorflow:Assets written to: models_2/best_model_132/assets\n",
            "32/32 [==============================] - 4s 130ms/step - loss: 1.1577 - R2: 0.5828 - val_loss: 1.3772 - val_R2: 0.5308\n",
            "Epoch 133/500\n",
            "32/32 [==============================] - ETA: 0s - loss: 1.2022 - R2: 0.5592INFO:tensorflow:Assets written to: models_2/best_model_133/assets\n",
            "32/32 [==============================] - 4s 121ms/step - loss: 1.2022 - R2: 0.5592 - val_loss: 1.3684 - val_R2: 0.5268\n",
            "Epoch 134/500\n",
            "32/32 [==============================] - 2s 70ms/step - loss: 1.1729 - R2: 0.5767 - val_loss: 1.3734 - val_R2: 0.5281\n",
            "Epoch 135/500\n",
            "32/32 [==============================] - 2s 72ms/step - loss: 1.1608 - R2: 0.5823 - val_loss: 1.3949 - val_R2: 0.5144\n",
            "Epoch 136/500\n",
            "32/32 [==============================] - 2s 70ms/step - loss: 1.1632 - R2: 0.5782 - val_loss: 1.3727 - val_R2: 0.5347\n",
            "Epoch 137/500\n",
            "32/32 [==============================] - ETA: 0s - loss: 1.1342 - R2: 0.5935INFO:tensorflow:Assets written to: models_2/best_model_137/assets\n",
            "32/32 [==============================] - 4s 121ms/step - loss: 1.1342 - R2: 0.5935 - val_loss: 1.3652 - val_R2: 0.5263\n",
            "Epoch 138/500\n",
            "32/32 [==============================] - 2s 70ms/step - loss: 1.1281 - R2: 0.5929 - val_loss: 1.3759 - val_R2: 0.5228\n",
            "Epoch 139/500\n",
            "32/32 [==============================] - 2s 69ms/step - loss: 1.1611 - R2: 0.5820 - val_loss: 1.3773 - val_R2: 0.5323\n",
            "Epoch 140/500\n",
            "32/32 [==============================] - 2s 71ms/step - loss: 1.1556 - R2: 0.5803 - val_loss: 1.4039 - val_R2: 0.5148\n",
            "Epoch 141/500\n",
            "32/32 [==============================] - ETA: 0s - loss: 1.1469 - R2: 0.5859INFO:tensorflow:Assets written to: models_2/best_model_141/assets\n",
            "32/32 [==============================] - 4s 126ms/step - loss: 1.1469 - R2: 0.5859 - val_loss: 1.3625 - val_R2: 0.5360\n",
            "Epoch 142/500\n",
            "32/32 [==============================] - ETA: 0s - loss: 1.1662 - R2: 0.5812INFO:tensorflow:Assets written to: models_2/best_model_142/assets\n",
            "32/32 [==============================] - 4s 130ms/step - loss: 1.1662 - R2: 0.5812 - val_loss: 1.3573 - val_R2: 0.5263\n",
            "Epoch 143/500\n",
            "32/32 [==============================] - 2s 70ms/step - loss: 1.1582 - R2: 0.5785 - val_loss: 1.3989 - val_R2: 0.5029\n",
            "Epoch 144/500\n",
            "32/32 [==============================] - 2s 70ms/step - loss: 1.1447 - R2: 0.5849 - val_loss: 1.3621 - val_R2: 0.5273\n",
            "Epoch 145/500\n",
            "32/32 [==============================] - 2s 73ms/step - loss: 1.1378 - R2: 0.5923 - val_loss: 1.3903 - val_R2: 0.5152\n",
            "Epoch 146/500\n",
            "32/32 [==============================] - 2s 73ms/step - loss: 1.1198 - R2: 0.5953 - val_loss: 1.3582 - val_R2: 0.5243\n",
            "Epoch 147/500\n",
            "32/32 [==============================] - 2s 73ms/step - loss: 1.1059 - R2: 0.6046 - val_loss: 1.3577 - val_R2: 0.5293\n",
            "Epoch 148/500\n",
            "32/32 [==============================] - ETA: 0s - loss: 1.1332 - R2: 0.5927INFO:tensorflow:Assets written to: models_2/best_model_148/assets\n",
            "32/32 [==============================] - 4s 128ms/step - loss: 1.1332 - R2: 0.5927 - val_loss: 1.3534 - val_R2: 0.5330\n",
            "Epoch 149/500\n",
            "32/32 [==============================] - 2s 74ms/step - loss: 1.1281 - R2: 0.5942 - val_loss: 1.4131 - val_R2: 0.5124\n",
            "Epoch 150/500\n",
            "31/32 [============================>.] - ETA: 0s - loss: 1.1596 - R2: 0.5848INFO:tensorflow:Assets written to: models_2/best_model_150/assets\n",
            "32/32 [==============================] - 4s 122ms/step - loss: 1.1504 - R2: 0.5841 - val_loss: 1.3435 - val_R2: 0.5359\n",
            "Epoch 151/500\n",
            "32/32 [==============================] - ETA: 0s - loss: 1.1050 - R2: 0.6013INFO:tensorflow:Assets written to: models_2/best_model_151/assets\n",
            "32/32 [==============================] - 4s 124ms/step - loss: 1.1050 - R2: 0.6013 - val_loss: 1.3309 - val_R2: 0.5372\n",
            "Epoch 152/500\n",
            "32/32 [==============================] - 2s 70ms/step - loss: 1.1227 - R2: 0.5978 - val_loss: 1.3430 - val_R2: 0.5319\n",
            "Epoch 153/500\n",
            "32/32 [==============================] - 2s 72ms/step - loss: 1.0977 - R2: 0.6003 - val_loss: 1.3454 - val_R2: 0.5286\n",
            "Epoch 154/500\n",
            "32/32 [==============================] - 2s 71ms/step - loss: 1.1032 - R2: 0.6045 - val_loss: 1.3348 - val_R2: 0.5315\n",
            "Epoch 155/500\n",
            "32/32 [==============================] - 2s 69ms/step - loss: 1.1090 - R2: 0.6013 - val_loss: 1.3461 - val_R2: 0.5320\n",
            "Epoch 156/500\n",
            "32/32 [==============================] - 2s 69ms/step - loss: 1.1347 - R2: 0.5959 - val_loss: 1.3366 - val_R2: 0.5444\n",
            "Epoch 157/500\n",
            "32/32 [==============================] - 2s 71ms/step - loss: 1.0965 - R2: 0.6029 - val_loss: 1.3362 - val_R2: 0.5354\n",
            "Epoch 158/500\n",
            "32/32 [==============================] - 2s 68ms/step - loss: 1.0711 - R2: 0.6177 - val_loss: 1.3422 - val_R2: 0.5374\n",
            "Epoch 159/500\n",
            "32/32 [==============================] - 2s 68ms/step - loss: 1.0764 - R2: 0.6091 - val_loss: 1.3322 - val_R2: 0.5465\n",
            "Epoch 160/500\n",
            "31/32 [============================>.] - ETA: 0s - loss: 1.0704 - R2: 0.6175INFO:tensorflow:Assets written to: models_2/best_model_160/assets\n",
            "32/32 [==============================] - 4s 126ms/step - loss: 1.0594 - R2: 0.6197 - val_loss: 1.3261 - val_R2: 0.5418\n",
            "Epoch 161/500\n",
            "32/32 [==============================] - 2s 69ms/step - loss: 1.0984 - R2: 0.6027 - val_loss: 1.3720 - val_R2: 0.5280\n",
            "Epoch 162/500\n",
            "32/32 [==============================] - 2s 70ms/step - loss: 1.1319 - R2: 0.5916 - val_loss: 1.3288 - val_R2: 0.5372\n",
            "Epoch 163/500\n",
            "32/32 [==============================] - 2s 72ms/step - loss: 1.0915 - R2: 0.6040 - val_loss: 1.3439 - val_R2: 0.5190\n",
            "Epoch 164/500\n",
            "32/32 [==============================] - ETA: 0s - loss: 1.0931 - R2: 0.5984INFO:tensorflow:Assets written to: models_2/best_model_164/assets\n",
            "32/32 [==============================] - 4s 122ms/step - loss: 1.0931 - R2: 0.5984 - val_loss: 1.3220 - val_R2: 0.5443\n",
            "Epoch 165/500\n",
            "32/32 [==============================] - 2s 71ms/step - loss: 1.0841 - R2: 0.6092 - val_loss: 1.3284 - val_R2: 0.5393\n",
            "Epoch 166/500\n",
            "32/32 [==============================] - 2s 71ms/step - loss: 1.1048 - R2: 0.6014 - val_loss: 1.3446 - val_R2: 0.5374\n",
            "Epoch 167/500\n",
            "32/32 [==============================] - 2s 70ms/step - loss: 1.0992 - R2: 0.5957 - val_loss: 1.3279 - val_R2: 0.5408\n",
            "Epoch 168/500\n",
            "31/32 [============================>.] - ETA: 0s - loss: 1.0848 - R2: 0.6090INFO:tensorflow:Assets written to: models_2/best_model_168/assets\n",
            "32/32 [==============================] - 4s 118ms/step - loss: 1.0800 - R2: 0.6109 - val_loss: 1.3185 - val_R2: 0.5540\n",
            "Epoch 169/500\n",
            "32/32 [==============================] - ETA: 0s - loss: 1.0606 - R2: 0.6161INFO:tensorflow:Assets written to: models_2/best_model_169/assets\n",
            "32/32 [==============================] - 4s 134ms/step - loss: 1.0606 - R2: 0.6161 - val_loss: 1.3171 - val_R2: 0.5382\n",
            "Epoch 170/500\n",
            "32/32 [==============================] - 2s 77ms/step - loss: 1.0821 - R2: 0.6087 - val_loss: 1.3212 - val_R2: 0.5270\n",
            "Epoch 171/500\n",
            "31/32 [============================>.] - ETA: 0s - loss: 1.0493 - R2: 0.6158INFO:tensorflow:Assets written to: models_2/best_model_171/assets\n",
            "32/32 [==============================] - 4s 122ms/step - loss: 1.0727 - R2: 0.6120 - val_loss: 1.3132 - val_R2: 0.5495\n",
            "Epoch 172/500\n",
            "32/32 [==============================] - 2s 73ms/step - loss: 1.0677 - R2: 0.6114 - val_loss: 1.3583 - val_R2: 0.5213\n",
            "Epoch 173/500\n",
            "32/32 [==============================] - ETA: 0s - loss: 1.0564 - R2: 0.6202INFO:tensorflow:Assets written to: models_2/best_model_173/assets\n",
            "32/32 [==============================] - 4s 122ms/step - loss: 1.0564 - R2: 0.6202 - val_loss: 1.3084 - val_R2: 0.5511\n",
            "Epoch 174/500\n",
            "31/32 [============================>.] - ETA: 0s - loss: 1.0597 - R2: 0.6207INFO:tensorflow:Assets written to: models_2/best_model_174/assets\n",
            "32/32 [==============================] - 4s 122ms/step - loss: 1.0538 - R2: 0.6189 - val_loss: 1.2949 - val_R2: 0.5515\n",
            "Epoch 175/500\n",
            "32/32 [==============================] - 2s 71ms/step - loss: 1.0484 - R2: 0.6236 - val_loss: 1.3386 - val_R2: 0.5412\n",
            "Epoch 176/500\n",
            "32/32 [==============================] - 2s 75ms/step - loss: 1.0445 - R2: 0.6184 - val_loss: 1.2963 - val_R2: 0.5588\n",
            "Epoch 177/500\n",
            "32/32 [==============================] - 2s 74ms/step - loss: 1.0645 - R2: 0.6147 - val_loss: 1.3120 - val_R2: 0.5541\n",
            "Epoch 178/500\n",
            "32/32 [==============================] - 2s 72ms/step - loss: 1.0409 - R2: 0.6222 - val_loss: 1.3529 - val_R2: 0.5413\n",
            "Epoch 179/500\n",
            "32/32 [==============================] - 2s 70ms/step - loss: 1.0453 - R2: 0.6246 - val_loss: 1.2981 - val_R2: 0.5516\n",
            "Epoch 180/500\n",
            "32/32 [==============================] - ETA: 0s - loss: 1.0213 - R2: 0.6251INFO:tensorflow:Assets written to: models_2/best_model_180/assets\n",
            "32/32 [==============================] - 4s 130ms/step - loss: 1.0213 - R2: 0.6251 - val_loss: 1.2946 - val_R2: 0.5490\n",
            "Epoch 181/500\n",
            "32/32 [==============================] - 2s 72ms/step - loss: 1.0513 - R2: 0.6164 - val_loss: 1.3145 - val_R2: 0.5458\n",
            "Epoch 182/500\n",
            "32/32 [==============================] - ETA: 0s - loss: 1.0116 - R2: 0.6303INFO:tensorflow:Assets written to: models_2/best_model_182/assets\n",
            "32/32 [==============================] - 4s 119ms/step - loss: 1.0116 - R2: 0.6303 - val_loss: 1.2912 - val_R2: 0.5460\n",
            "Epoch 183/500\n",
            "32/32 [==============================] - 2s 76ms/step - loss: 1.0312 - R2: 0.6290 - val_loss: 1.3041 - val_R2: 0.5463\n",
            "Epoch 184/500\n",
            "32/32 [==============================] - 2s 75ms/step - loss: 1.0214 - R2: 0.6298 - val_loss: 1.2975 - val_R2: 0.5555\n",
            "Epoch 185/500\n",
            "32/32 [==============================] - 2s 73ms/step - loss: 1.0315 - R2: 0.6266 - val_loss: 1.2949 - val_R2: 0.5573\n",
            "Epoch 186/500\n",
            "32/32 [==============================] - 2s 72ms/step - loss: 1.0510 - R2: 0.6181 - val_loss: 1.2951 - val_R2: 0.5539\n",
            "Epoch 187/500\n",
            "32/32 [==============================] - 2s 74ms/step - loss: 1.0045 - R2: 0.6342 - val_loss: 1.3333 - val_R2: 0.5420\n",
            "Epoch 188/500\n",
            "31/32 [============================>.] - ETA: 0s - loss: 1.0343 - R2: 0.6303INFO:tensorflow:Assets written to: models_2/best_model_188/assets\n",
            "32/32 [==============================] - 4s 125ms/step - loss: 1.0339 - R2: 0.6291 - val_loss: 1.2831 - val_R2: 0.5583\n",
            "Epoch 189/500\n",
            "32/32 [==============================] - 2s 76ms/step - loss: 1.0320 - R2: 0.6238 - val_loss: 1.2867 - val_R2: 0.5577\n",
            "Epoch 190/500\n",
            "32/32 [==============================] - 2s 74ms/step - loss: 1.0132 - R2: 0.6351 - val_loss: 1.2880 - val_R2: 0.5448\n",
            "Epoch 191/500\n",
            "32/32 [==============================] - 2s 75ms/step - loss: 1.0029 - R2: 0.6320 - val_loss: 1.3338 - val_R2: 0.5336\n",
            "Epoch 192/500\n",
            "32/32 [==============================] - ETA: 0s - loss: 1.0007 - R2: 0.6355INFO:tensorflow:Assets written to: models_2/best_model_192/assets\n",
            "32/32 [==============================] - 4s 122ms/step - loss: 1.0007 - R2: 0.6355 - val_loss: 1.2798 - val_R2: 0.5566\n",
            "Epoch 193/500\n",
            "32/32 [==============================] - ETA: 0s - loss: 1.0477 - R2: 0.6188INFO:tensorflow:Assets written to: models_2/best_model_193/assets\n",
            "32/32 [==============================] - 4s 132ms/step - loss: 1.0477 - R2: 0.6188 - val_loss: 1.2732 - val_R2: 0.5557\n",
            "Epoch 194/500\n",
            "32/32 [==============================] - 2s 75ms/step - loss: 1.0061 - R2: 0.6338 - val_loss: 1.3037 - val_R2: 0.5423\n",
            "Epoch 195/500\n",
            "32/32 [==============================] - 2s 73ms/step - loss: 1.0048 - R2: 0.6374 - val_loss: 1.2826 - val_R2: 0.5444\n",
            "Epoch 196/500\n",
            "32/32 [==============================] - 2s 74ms/step - loss: 0.9919 - R2: 0.6407 - val_loss: 1.2816 - val_R2: 0.5493\n",
            "Epoch 197/500\n",
            "32/32 [==============================] - 2s 75ms/step - loss: 0.9988 - R2: 0.6346 - val_loss: 1.2854 - val_R2: 0.5621\n",
            "Epoch 198/500\n",
            "32/32 [==============================] - 2s 73ms/step - loss: 0.9967 - R2: 0.6340 - val_loss: 1.3562 - val_R2: 0.5279\n",
            "Epoch 199/500\n",
            "31/32 [============================>.] - ETA: 0s - loss: 1.0077 - R2: 0.6320INFO:tensorflow:Assets written to: models_2/best_model_199/assets\n",
            "32/32 [==============================] - 4s 124ms/step - loss: 1.0029 - R2: 0.6342 - val_loss: 1.2699 - val_R2: 0.5691\n",
            "Epoch 200/500\n",
            "32/32 [==============================] - 2s 74ms/step - loss: 1.0089 - R2: 0.6401 - val_loss: 1.2851 - val_R2: 0.5547\n",
            "Epoch 201/500\n",
            "31/32 [============================>.] - ETA: 0s - loss: 1.0239 - R2: 0.6347INFO:tensorflow:Assets written to: models_2/best_model_201/assets\n",
            "32/32 [==============================] - 4s 121ms/step - loss: 1.0203 - R2: 0.6322 - val_loss: 1.2658 - val_R2: 0.5621\n",
            "Epoch 202/500\n",
            "32/32 [==============================] - 2s 76ms/step - loss: 0.9848 - R2: 0.6452 - val_loss: 1.2744 - val_R2: 0.5595\n",
            "Epoch 203/500\n",
            "32/32 [==============================] - 2s 76ms/step - loss: 0.9772 - R2: 0.6454 - val_loss: 1.2707 - val_R2: 0.5392\n",
            "Epoch 204/500\n",
            "32/32 [==============================] - ETA: 0s - loss: 0.9926 - R2: 0.6385INFO:tensorflow:Assets written to: models_2/best_model_204/assets\n",
            "32/32 [==============================] - 4s 130ms/step - loss: 0.9926 - R2: 0.6385 - val_loss: 1.2653 - val_R2: 0.5626\n",
            "Epoch 205/500\n",
            "32/32 [==============================] - 2s 74ms/step - loss: 0.9788 - R2: 0.6474 - val_loss: 1.2751 - val_R2: 0.5570\n",
            "Epoch 206/500\n",
            "32/32 [==============================] - 2s 76ms/step - loss: 0.9834 - R2: 0.6386 - val_loss: 1.2703 - val_R2: 0.5649\n",
            "Epoch 207/500\n",
            "32/32 [==============================] - 2s 76ms/step - loss: 0.9799 - R2: 0.6430 - val_loss: 1.3121 - val_R2: 0.5435\n",
            "Epoch 208/500\n",
            "32/32 [==============================] - 2s 74ms/step - loss: 0.9685 - R2: 0.6478 - val_loss: 1.2741 - val_R2: 0.5554\n",
            "Epoch 209/500\n",
            "32/32 [==============================] - 2s 75ms/step - loss: 0.9986 - R2: 0.6366 - val_loss: 1.2723 - val_R2: 0.5604\n",
            "Epoch 210/500\n",
            "32/32 [==============================] - ETA: 0s - loss: 0.9727 - R2: 0.6460INFO:tensorflow:Assets written to: models_2/best_model_210/assets\n",
            "32/32 [==============================] - 4s 124ms/step - loss: 0.9727 - R2: 0.6460 - val_loss: 1.2583 - val_R2: 0.5681\n",
            "Epoch 211/500\n",
            "32/32 [==============================] - 2s 75ms/step - loss: 0.9906 - R2: 0.6453 - val_loss: 1.2616 - val_R2: 0.5648\n",
            "Epoch 212/500\n",
            "32/32 [==============================] - 2s 76ms/step - loss: 1.0024 - R2: 0.6368 - val_loss: 1.3025 - val_R2: 0.5296\n",
            "Epoch 213/500\n",
            "32/32 [==============================] - 2s 76ms/step - loss: 0.9640 - R2: 0.6469 - val_loss: 1.2908 - val_R2: 0.5545\n",
            "Epoch 214/500\n",
            "32/32 [==============================] - ETA: 0s - loss: 0.9453 - R2: 0.6567INFO:tensorflow:Assets written to: models_2/best_model_214/assets\n",
            "32/32 [==============================] - 4s 123ms/step - loss: 0.9453 - R2: 0.6567 - val_loss: 1.2480 - val_R2: 0.5708\n",
            "Epoch 215/500\n",
            "32/32 [==============================] - 2s 73ms/step - loss: 0.9665 - R2: 0.6524 - val_loss: 1.2615 - val_R2: 0.5674\n",
            "Epoch 216/500\n",
            "32/32 [==============================] - 2s 74ms/step - loss: 0.9714 - R2: 0.6497 - val_loss: 1.2678 - val_R2: 0.5654\n",
            "Epoch 217/500\n",
            "32/32 [==============================] - 2s 73ms/step - loss: 0.9544 - R2: 0.6531 - val_loss: 1.2806 - val_R2: 0.5584\n",
            "Epoch 218/500\n",
            "32/32 [==============================] - 2s 77ms/step - loss: 0.9956 - R2: 0.6424 - val_loss: 1.2715 - val_R2: 0.5624\n",
            "Epoch 219/500\n",
            "31/32 [============================>.] - ETA: 0s - loss: 0.9783 - R2: 0.6511INFO:tensorflow:Assets written to: models_2/best_model_219/assets\n",
            "32/32 [==============================] - 4s 126ms/step - loss: 0.9725 - R2: 0.6504 - val_loss: 1.2396 - val_R2: 0.5683\n",
            "Epoch 220/500\n",
            "32/32 [==============================] - 2s 75ms/step - loss: 0.9655 - R2: 0.6473 - val_loss: 1.2821 - val_R2: 0.5594\n",
            "Epoch 221/500\n",
            "32/32 [==============================] - ETA: 0s - loss: 0.9491 - R2: 0.6594INFO:tensorflow:Assets written to: models_2/best_model_221/assets\n",
            "32/32 [==============================] - 4s 135ms/step - loss: 0.9491 - R2: 0.6594 - val_loss: 1.2348 - val_R2: 0.5749\n",
            "Epoch 222/500\n",
            "32/32 [==============================] - 3s 80ms/step - loss: 0.9493 - R2: 0.6537 - val_loss: 1.2363 - val_R2: 0.5735\n",
            "Epoch 223/500\n",
            "32/32 [==============================] - ETA: 0s - loss: 0.9202 - R2: 0.6616INFO:tensorflow:Assets written to: models_2/best_model_223/assets\n",
            "32/32 [==============================] - 4s 125ms/step - loss: 0.9202 - R2: 0.6616 - val_loss: 1.2300 - val_R2: 0.5682\n",
            "Epoch 224/500\n",
            "32/32 [==============================] - 2s 74ms/step - loss: 0.9914 - R2: 0.6401 - val_loss: 1.2824 - val_R2: 0.5516\n",
            "Epoch 225/500\n",
            "32/32 [==============================] - 2s 74ms/step - loss: 0.9242 - R2: 0.6627 - val_loss: 1.2726 - val_R2: 0.5638\n",
            "Epoch 226/500\n",
            "32/32 [==============================] - 2s 74ms/step - loss: 0.9514 - R2: 0.6539 - val_loss: 1.2626 - val_R2: 0.5681\n",
            "Epoch 227/500\n",
            "32/32 [==============================] - 2s 75ms/step - loss: 0.9930 - R2: 0.6385 - val_loss: 1.2339 - val_R2: 0.5716\n",
            "Epoch 228/500\n",
            "32/32 [==============================] - 2s 74ms/step - loss: 0.9509 - R2: 0.6545 - val_loss: 1.2574 - val_R2: 0.5609\n",
            "Epoch 229/500\n",
            "32/32 [==============================] - ETA: 0s - loss: 0.9400 - R2: 0.6598INFO:tensorflow:Assets written to: models_2/best_model_229/assets\n",
            "32/32 [==============================] - 4s 122ms/step - loss: 0.9400 - R2: 0.6598 - val_loss: 1.2281 - val_R2: 0.5818\n",
            "Epoch 230/500\n",
            "32/32 [==============================] - 2s 73ms/step - loss: 0.9441 - R2: 0.6565 - val_loss: 1.2329 - val_R2: 0.5702\n",
            "Epoch 231/500\n",
            "32/32 [==============================] - 2s 74ms/step - loss: 0.9568 - R2: 0.6526 - val_loss: 1.2429 - val_R2: 0.5608\n",
            "Epoch 232/500\n",
            "32/32 [==============================] - 2s 74ms/step - loss: 0.9429 - R2: 0.6615 - val_loss: 1.2570 - val_R2: 0.5546\n",
            "Epoch 233/500\n",
            "32/32 [==============================] - 2s 74ms/step - loss: 0.9470 - R2: 0.6544 - val_loss: 1.2350 - val_R2: 0.5674\n",
            "Epoch 234/500\n",
            "32/32 [==============================] - ETA: 0s - loss: 0.9484 - R2: 0.6545INFO:tensorflow:Assets written to: models_2/best_model_234/assets\n",
            "32/32 [==============================] - 4s 123ms/step - loss: 0.9484 - R2: 0.6545 - val_loss: 1.2219 - val_R2: 0.5611\n",
            "Epoch 235/500\n",
            "32/32 [==============================] - ETA: 0s - loss: 0.9518 - R2: 0.6530INFO:tensorflow:Assets written to: models_2/best_model_235/assets\n",
            "32/32 [==============================] - 4s 128ms/step - loss: 0.9518 - R2: 0.6530 - val_loss: 1.2203 - val_R2: 0.5759\n",
            "Epoch 236/500\n",
            "32/32 [==============================] - ETA: 0s - loss: 0.9324 - R2: 0.6616INFO:tensorflow:Assets written to: models_2/best_model_236/assets\n",
            "32/32 [==============================] - 4s 119ms/step - loss: 0.9324 - R2: 0.6616 - val_loss: 1.2045 - val_R2: 0.5793\n",
            "Epoch 237/500\n",
            "32/32 [==============================] - 2s 70ms/step - loss: 0.9485 - R2: 0.6536 - val_loss: 1.2432 - val_R2: 0.5617\n",
            "Epoch 238/500\n",
            "32/32 [==============================] - 2s 74ms/step - loss: 0.9439 - R2: 0.6575 - val_loss: 1.2272 - val_R2: 0.5730\n",
            "Epoch 239/500\n",
            "32/32 [==============================] - 2s 73ms/step - loss: 0.9088 - R2: 0.6655 - val_loss: 1.2217 - val_R2: 0.5877\n",
            "Epoch 240/500\n",
            "32/32 [==============================] - 2s 74ms/step - loss: 0.9047 - R2: 0.6661 - val_loss: 1.2397 - val_R2: 0.5683\n",
            "Epoch 241/500\n",
            "32/32 [==============================] - 3s 78ms/step - loss: 0.9424 - R2: 0.6577 - val_loss: 1.2512 - val_R2: 0.5564\n",
            "Epoch 242/500\n",
            "32/32 [==============================] - 2s 77ms/step - loss: 0.9306 - R2: 0.6621 - val_loss: 1.2384 - val_R2: 0.5703\n",
            "Epoch 243/500\n",
            "32/32 [==============================] - 3s 79ms/step - loss: 0.9352 - R2: 0.6615 - val_loss: 1.2134 - val_R2: 0.5777\n",
            "Epoch 244/500\n",
            "32/32 [==============================] - 2s 76ms/step - loss: 0.9310 - R2: 0.6622 - val_loss: 1.2858 - val_R2: 0.5502\n",
            "Epoch 245/500\n",
            "32/32 [==============================] - 2s 76ms/step - loss: 0.9427 - R2: 0.6557 - val_loss: 1.2118 - val_R2: 0.5808\n",
            "Epoch 246/500\n",
            "32/32 [==============================] - 2s 75ms/step - loss: 0.9292 - R2: 0.6610 - val_loss: 1.2547 - val_R2: 0.5581\n",
            "Epoch 247/500\n",
            "32/32 [==============================] - 2s 73ms/step - loss: 0.8955 - R2: 0.6723 - val_loss: 1.2480 - val_R2: 0.5579\n",
            "Epoch 248/500\n",
            "32/32 [==============================] - 2s 72ms/step - loss: 0.9067 - R2: 0.6711 - val_loss: 1.2560 - val_R2: 0.5603\n",
            "Epoch 249/500\n",
            "32/32 [==============================] - 2s 73ms/step - loss: 0.9200 - R2: 0.6620 - val_loss: 1.2073 - val_R2: 0.5733\n",
            "Epoch 250/500\n",
            "32/32 [==============================] - 2s 72ms/step - loss: 0.8993 - R2: 0.6728 - val_loss: 1.2147 - val_R2: 0.5857\n",
            "Epoch 251/500\n",
            "32/32 [==============================] - 2s 72ms/step - loss: 0.8950 - R2: 0.6758 - val_loss: 1.2081 - val_R2: 0.5696\n",
            "Epoch 252/500\n",
            "32/32 [==============================] - 2s 71ms/step - loss: 0.8992 - R2: 0.6716 - val_loss: 1.2109 - val_R2: 0.5608\n",
            "Epoch 253/500\n",
            "32/32 [==============================] - 2s 73ms/step - loss: 0.9229 - R2: 0.6649 - val_loss: 1.2223 - val_R2: 0.5737\n",
            "Epoch 254/500\n",
            "32/32 [==============================] - 2s 74ms/step - loss: 0.9185 - R2: 0.6608 - val_loss: 1.2097 - val_R2: 0.5831\n",
            "Epoch 255/500\n",
            "32/32 [==============================] - 2s 74ms/step - loss: 0.9146 - R2: 0.6660 - val_loss: 1.2575 - val_R2: 0.5587\n",
            "Epoch 256/500\n",
            "32/32 [==============================] - 2s 76ms/step - loss: 0.8978 - R2: 0.6716 - val_loss: 1.2158 - val_R2: 0.5781\n",
            "Epoch 257/500\n",
            "31/32 [============================>.] - ETA: 0s - loss: 0.8569 - R2: 0.6831INFO:tensorflow:Assets written to: models_2/best_model_257/assets\n",
            "32/32 [==============================] - 4s 122ms/step - loss: 0.8678 - R2: 0.6837 - val_loss: 1.1970 - val_R2: 0.5790\n",
            "Epoch 258/500\n",
            "32/32 [==============================] - 2s 71ms/step - loss: 0.9135 - R2: 0.6676 - val_loss: 1.2124 - val_R2: 0.5787\n",
            "Epoch 259/500\n",
            "32/32 [==============================] - 2s 74ms/step - loss: 0.9017 - R2: 0.6687 - val_loss: 1.2243 - val_R2: 0.5644\n",
            "Epoch 260/500\n",
            "32/32 [==============================] - 2s 72ms/step - loss: 0.8867 - R2: 0.6775 - val_loss: 1.2499 - val_R2: 0.5636\n",
            "Epoch 261/500\n",
            "32/32 [==============================] - 2s 72ms/step - loss: 0.8665 - R2: 0.6862 - val_loss: 1.2161 - val_R2: 0.5814\n",
            "Epoch 262/500\n",
            "32/32 [==============================] - 2s 74ms/step - loss: 0.8788 - R2: 0.6803 - val_loss: 1.2162 - val_R2: 0.5677\n",
            "Epoch 263/500\n",
            "31/32 [============================>.] - ETA: 0s - loss: 0.8808 - R2: 0.6814INFO:tensorflow:Assets written to: models_2/best_model_263/assets\n",
            "32/32 [==============================] - 4s 132ms/step - loss: 0.8808 - R2: 0.6804 - val_loss: 1.1942 - val_R2: 0.5894\n",
            "Epoch 264/500\n",
            "32/32 [==============================] - 2s 74ms/step - loss: 0.8772 - R2: 0.6777 - val_loss: 1.2324 - val_R2: 0.5695\n",
            "Epoch 265/500\n",
            "32/32 [==============================] - ETA: 0s - loss: 0.8870 - R2: 0.6809INFO:tensorflow:Assets written to: models_2/best_model_265/assets\n",
            "32/32 [==============================] - 4s 121ms/step - loss: 0.8870 - R2: 0.6809 - val_loss: 1.1906 - val_R2: 0.5962\n",
            "Epoch 266/500\n",
            "32/32 [==============================] - 2s 72ms/step - loss: 0.8653 - R2: 0.6855 - val_loss: 1.2036 - val_R2: 0.5849\n",
            "Epoch 267/500\n",
            "32/32 [==============================] - 2s 73ms/step - loss: 0.8975 - R2: 0.6722 - val_loss: 1.3027 - val_R2: 0.5473\n",
            "Epoch 268/500\n",
            "32/32 [==============================] - 2s 74ms/step - loss: 0.9020 - R2: 0.6716 - val_loss: 1.2050 - val_R2: 0.5724\n",
            "Epoch 269/500\n",
            "32/32 [==============================] - 2s 75ms/step - loss: 0.8956 - R2: 0.6768 - val_loss: 1.1931 - val_R2: 0.5933\n",
            "Epoch 270/500\n",
            "32/32 [==============================] - 2s 72ms/step - loss: 0.8684 - R2: 0.6812 - val_loss: 1.1964 - val_R2: 0.5871\n",
            "Epoch 271/500\n",
            "32/32 [==============================] - 2s 73ms/step - loss: 0.8924 - R2: 0.6767 - val_loss: 1.2502 - val_R2: 0.5632\n",
            "Epoch 272/500\n",
            "32/32 [==============================] - 2s 74ms/step - loss: 0.8737 - R2: 0.6827 - val_loss: 1.2176 - val_R2: 0.5727\n",
            "Epoch 273/500\n",
            "32/32 [==============================] - 2s 72ms/step - loss: 0.8697 - R2: 0.6859 - val_loss: 1.2033 - val_R2: 0.5807\n",
            "Epoch 274/500\n",
            "32/32 [==============================] - 2s 72ms/step - loss: 0.8712 - R2: 0.6851 - val_loss: 1.2049 - val_R2: 0.5683\n",
            "Epoch 275/500\n",
            "32/32 [==============================] - 2s 73ms/step - loss: 0.8895 - R2: 0.6750 - val_loss: 1.1993 - val_R2: 0.5825\n",
            "Epoch 276/500\n",
            "32/32 [==============================] - 2s 75ms/step - loss: 0.8788 - R2: 0.6783 - val_loss: 1.1910 - val_R2: 0.5792\n",
            "Epoch 277/500\n",
            "32/32 [==============================] - 2s 75ms/step - loss: 0.8705 - R2: 0.6838 - val_loss: 1.2044 - val_R2: 0.5717\n",
            "Epoch 278/500\n",
            "32/32 [==============================] - ETA: 0s - loss: 0.8685 - R2: 0.6853INFO:tensorflow:Assets written to: models_2/best_model_278/assets\n",
            "32/32 [==============================] - 4s 129ms/step - loss: 0.8685 - R2: 0.6853 - val_loss: 1.1874 - val_R2: 0.5887\n",
            "Epoch 279/500\n",
            "32/32 [==============================] - 2s 75ms/step - loss: 0.8509 - R2: 0.6914 - val_loss: 1.2198 - val_R2: 0.5596\n",
            "Epoch 280/500\n",
            "32/32 [==============================] - 2s 75ms/step - loss: 0.8840 - R2: 0.6798 - val_loss: 1.1920 - val_R2: 0.5848\n",
            "Epoch 281/500\n",
            "32/32 [==============================] - 2s 74ms/step - loss: 0.9049 - R2: 0.6652 - val_loss: 1.1883 - val_R2: 0.5845\n",
            "Epoch 282/500\n",
            "31/32 [============================>.] - ETA: 0s - loss: 0.8651 - R2: 0.6860INFO:tensorflow:Assets written to: models_2/best_model_282/assets\n",
            "32/32 [==============================] - 4s 124ms/step - loss: 0.8627 - R2: 0.6867 - val_loss: 1.1839 - val_R2: 0.5801\n",
            "Epoch 283/500\n",
            "32/32 [==============================] - 3s 78ms/step - loss: 0.8672 - R2: 0.6795 - val_loss: 1.1846 - val_R2: 0.5896\n",
            "Epoch 284/500\n",
            "32/32 [==============================] - 2s 75ms/step - loss: 0.8675 - R2: 0.6843 - val_loss: 1.1870 - val_R2: 0.5869\n",
            "Epoch 285/500\n",
            "32/32 [==============================] - 2s 75ms/step - loss: 0.8888 - R2: 0.6744 - val_loss: 1.1940 - val_R2: 0.5892\n",
            "Epoch 286/500\n",
            "32/32 [==============================] - ETA: 0s - loss: 0.8598 - R2: 0.6839INFO:tensorflow:Assets written to: models_2/best_model_286/assets\n",
            "32/32 [==============================] - 4s 133ms/step - loss: 0.8598 - R2: 0.6839 - val_loss: 1.1760 - val_R2: 0.5776\n",
            "Epoch 287/500\n",
            "32/32 [==============================] - 2s 77ms/step - loss: 0.8384 - R2: 0.6958 - val_loss: 1.1931 - val_R2: 0.5820\n",
            "Epoch 288/500\n",
            "32/32 [==============================] - 2s 76ms/step - loss: 0.8472 - R2: 0.6952 - val_loss: 1.1874 - val_R2: 0.5891\n",
            "Epoch 289/500\n",
            "32/32 [==============================] - 2s 75ms/step - loss: 0.8431 - R2: 0.6887 - val_loss: 1.1828 - val_R2: 0.5936\n",
            "Epoch 290/500\n",
            "32/32 [==============================] - 2s 73ms/step - loss: 0.8475 - R2: 0.6921 - val_loss: 1.1760 - val_R2: 0.5913\n",
            "Epoch 291/500\n",
            "32/32 [==============================] - 2s 71ms/step - loss: 0.8421 - R2: 0.6910 - val_loss: 1.1827 - val_R2: 0.5871\n",
            "Epoch 292/500\n",
            "32/32 [==============================] - 2s 72ms/step - loss: 0.8370 - R2: 0.6965 - val_loss: 1.1808 - val_R2: 0.5852\n",
            "Epoch 293/500\n",
            "32/32 [==============================] - 2s 73ms/step - loss: 0.8415 - R2: 0.6938 - val_loss: 1.2051 - val_R2: 0.5753\n",
            "Epoch 294/500\n",
            "32/32 [==============================] - 3s 78ms/step - loss: 0.8665 - R2: 0.6819 - val_loss: 1.1888 - val_R2: 0.5787\n",
            "Epoch 295/500\n",
            "31/32 [============================>.] - ETA: 0s - loss: 0.8239 - R2: 0.7002INFO:tensorflow:Assets written to: models_2/best_model_295/assets\n",
            "32/32 [==============================] - 4s 123ms/step - loss: 0.8158 - R2: 0.7015 - val_loss: 1.1677 - val_R2: 0.5984\n",
            "Epoch 296/500\n",
            "32/32 [==============================] - 2s 73ms/step - loss: 0.8187 - R2: 0.6958 - val_loss: 1.1965 - val_R2: 0.5641\n",
            "Epoch 297/500\n",
            "32/32 [==============================] - 2s 74ms/step - loss: 0.8137 - R2: 0.6989 - val_loss: 1.1824 - val_R2: 0.5862\n",
            "Epoch 298/500\n",
            "32/32 [==============================] - 2s 72ms/step - loss: 0.8393 - R2: 0.6915 - val_loss: 1.1922 - val_R2: 0.5756\n",
            "Epoch 299/500\n",
            "32/32 [==============================] - 2s 75ms/step - loss: 0.8494 - R2: 0.6915 - val_loss: 1.1746 - val_R2: 0.5930\n",
            "Epoch 300/500\n",
            "32/32 [==============================] - 2s 75ms/step - loss: 0.8484 - R2: 0.6880 - val_loss: 1.1726 - val_R2: 0.5791\n",
            "Epoch 301/500\n",
            "32/32 [==============================] - 2s 72ms/step - loss: 0.8266 - R2: 0.6960 - val_loss: 1.1881 - val_R2: 0.5819\n",
            "Epoch 302/500\n",
            "32/32 [==============================] - 2s 73ms/step - loss: 0.8241 - R2: 0.6959 - val_loss: 1.1910 - val_R2: 0.5790\n",
            "Epoch 303/500\n",
            "32/32 [==============================] - 2s 72ms/step - loss: 0.8370 - R2: 0.6963 - val_loss: 1.1691 - val_R2: 0.5825\n",
            "Epoch 304/500\n",
            "32/32 [==============================] - 2s 73ms/step - loss: 0.8584 - R2: 0.6915 - val_loss: 1.1744 - val_R2: 0.6006\n",
            "Epoch 305/500\n",
            "32/32 [==============================] - 2s 74ms/step - loss: 0.8353 - R2: 0.6928 - val_loss: 1.1748 - val_R2: 0.5907\n",
            "Epoch 306/500\n",
            "32/32 [==============================] - 2s 74ms/step - loss: 0.8222 - R2: 0.7016 - val_loss: 1.1827 - val_R2: 0.5773\n",
            "Epoch 307/500\n",
            "32/32 [==============================] - 2s 73ms/step - loss: 0.8640 - R2: 0.6829 - val_loss: 1.2803 - val_R2: 0.5527\n",
            "Epoch 308/500\n",
            "32/32 [==============================] - ETA: 0s - loss: 0.8536 - R2: 0.6934INFO:tensorflow:Assets written to: models_2/best_model_308/assets\n",
            "32/32 [==============================] - 4s 123ms/step - loss: 0.8536 - R2: 0.6934 - val_loss: 1.1669 - val_R2: 0.5889\n",
            "Epoch 309/500\n",
            "32/32 [==============================] - 2s 74ms/step - loss: 0.8323 - R2: 0.6938 - val_loss: 1.1793 - val_R2: 0.5822\n",
            "Epoch 310/500\n",
            "31/32 [============================>.] - ETA: 0s - loss: 0.8241 - R2: 0.6984INFO:tensorflow:Assets written to: models_2/best_model_310/assets\n",
            "32/32 [==============================] - 4s 117ms/step - loss: 0.8203 - R2: 0.6993 - val_loss: 1.1602 - val_R2: 0.6009\n",
            "Epoch 311/500\n",
            "32/32 [==============================] - 2s 72ms/step - loss: 0.8041 - R2: 0.7085 - val_loss: 1.1646 - val_R2: 0.5901\n",
            "Epoch 312/500\n",
            "32/32 [==============================] - 2s 72ms/step - loss: 0.8347 - R2: 0.6951 - val_loss: 1.2272 - val_R2: 0.5708\n",
            "Epoch 313/500\n",
            "32/32 [==============================] - 2s 74ms/step - loss: 0.8442 - R2: 0.6891 - val_loss: 1.1618 - val_R2: 0.5861\n",
            "Epoch 314/500\n",
            "32/32 [==============================] - 2s 74ms/step - loss: 0.8056 - R2: 0.7048 - val_loss: 1.1693 - val_R2: 0.5840\n",
            "Epoch 315/500\n",
            "32/32 [==============================] - 2s 74ms/step - loss: 0.7965 - R2: 0.7100 - val_loss: 1.1893 - val_R2: 0.5802\n",
            "Epoch 316/500\n",
            "32/32 [==============================] - ETA: 0s - loss: 0.8046 - R2: 0.7010INFO:tensorflow:Assets written to: models_2/best_model_316/assets\n",
            "32/32 [==============================] - 4s 133ms/step - loss: 0.8046 - R2: 0.7010 - val_loss: 1.1524 - val_R2: 0.6015\n",
            "Epoch 317/500\n",
            "32/32 [==============================] - 2s 74ms/step - loss: 0.8269 - R2: 0.6940 - val_loss: 1.2145 - val_R2: 0.5743\n",
            "Epoch 318/500\n",
            "32/32 [==============================] - 2s 72ms/step - loss: 0.8024 - R2: 0.7057 - val_loss: 1.1644 - val_R2: 0.5963\n",
            "Epoch 319/500\n",
            "32/32 [==============================] - 2s 71ms/step - loss: 0.8274 - R2: 0.6947 - val_loss: 1.1777 - val_R2: 0.5784\n",
            "Epoch 320/500\n",
            "32/32 [==============================] - 2s 74ms/step - loss: 0.8320 - R2: 0.6944 - val_loss: 1.1734 - val_R2: 0.5969\n",
            "Epoch 321/500\n",
            "32/32 [==============================] - 2s 77ms/step - loss: 0.7988 - R2: 0.7109 - val_loss: 1.1659 - val_R2: 0.5951\n",
            "Epoch 322/500\n",
            "31/32 [============================>.] - ETA: 0s - loss: 0.8090 - R2: 0.7082INFO:tensorflow:Assets written to: models_2/best_model_322/assets\n",
            "32/32 [==============================] - 4s 129ms/step - loss: 0.8038 - R2: 0.7102 - val_loss: 1.1515 - val_R2: 0.5991\n",
            "Epoch 323/500\n",
            "32/32 [==============================] - 3s 78ms/step - loss: 0.8077 - R2: 0.7005 - val_loss: 1.1977 - val_R2: 0.5712\n",
            "Epoch 324/500\n",
            "32/32 [==============================] - 2s 72ms/step - loss: 0.8098 - R2: 0.7020 - val_loss: 1.1521 - val_R2: 0.5970\n",
            "Epoch 325/500\n",
            "32/32 [==============================] - 2s 72ms/step - loss: 0.7987 - R2: 0.7081 - val_loss: 1.1949 - val_R2: 0.5660\n",
            "Epoch 326/500\n",
            "32/32 [==============================] - 2s 73ms/step - loss: 0.7931 - R2: 0.7140 - val_loss: 1.1666 - val_R2: 0.5957\n",
            "Epoch 327/500\n",
            "32/32 [==============================] - 2s 74ms/step - loss: 0.7946 - R2: 0.7090 - val_loss: 1.1665 - val_R2: 0.5899\n",
            "Epoch 328/500\n",
            "32/32 [==============================] - 2s 73ms/step - loss: 0.8205 - R2: 0.6954 - val_loss: 1.1636 - val_R2: 0.6006\n",
            "Epoch 329/500\n",
            "32/32 [==============================] - 2s 73ms/step - loss: 0.8231 - R2: 0.6960 - val_loss: 1.1521 - val_R2: 0.6014\n",
            "Epoch 330/500\n",
            "32/32 [==============================] - 2s 73ms/step - loss: 0.8208 - R2: 0.6946 - val_loss: 1.1986 - val_R2: 0.5744\n",
            "Epoch 331/500\n",
            "32/32 [==============================] - 2s 72ms/step - loss: 0.7916 - R2: 0.7130 - val_loss: 1.2053 - val_R2: 0.5855\n",
            "Epoch 332/500\n",
            "32/32 [==============================] - ETA: 0s - loss: 0.8558 - R2: 0.6831INFO:tensorflow:Assets written to: models_2/best_model_332/assets\n",
            "32/32 [==============================] - 4s 121ms/step - loss: 0.8558 - R2: 0.6831 - val_loss: 1.1509 - val_R2: 0.5987\n",
            "Epoch 333/500\n",
            "32/32 [==============================] - 2s 72ms/step - loss: 0.8202 - R2: 0.6981 - val_loss: 1.1554 - val_R2: 0.5690\n",
            "Epoch 334/500\n",
            "32/32 [==============================] - 2s 74ms/step - loss: 0.7836 - R2: 0.7167 - val_loss: 1.1530 - val_R2: 0.5956\n",
            "Epoch 335/500\n",
            "32/32 [==============================] - 2s 73ms/step - loss: 0.7718 - R2: 0.7192 - val_loss: 1.1511 - val_R2: 0.5897\n",
            "Epoch 336/500\n",
            "32/32 [==============================] - 2s 71ms/step - loss: 0.8326 - R2: 0.6952 - val_loss: 1.1717 - val_R2: 0.5854\n",
            "Epoch 337/500\n",
            "32/32 [==============================] - 2s 74ms/step - loss: 0.7861 - R2: 0.7138 - val_loss: 1.1959 - val_R2: 0.5888\n",
            "Epoch 338/500\n",
            "32/32 [==============================] - ETA: 0s - loss: 0.7767 - R2: 0.7200INFO:tensorflow:Assets written to: models_2/best_model_338/assets\n",
            "32/32 [==============================] - 4s 121ms/step - loss: 0.7767 - R2: 0.7200 - val_loss: 1.1466 - val_R2: 0.5929\n",
            "Epoch 339/500\n",
            "32/32 [==============================] - ETA: 0s - loss: 0.8197 - R2: 0.7012INFO:tensorflow:Assets written to: models_2/best_model_339/assets\n",
            "32/32 [==============================] - 4s 127ms/step - loss: 0.8197 - R2: 0.7012 - val_loss: 1.1448 - val_R2: 0.6040\n",
            "Epoch 340/500\n",
            "32/32 [==============================] - ETA: 0s - loss: 0.7753 - R2: 0.7148INFO:tensorflow:Assets written to: models_2/best_model_340/assets\n",
            "32/32 [==============================] - 4s 123ms/step - loss: 0.7753 - R2: 0.7148 - val_loss: 1.1352 - val_R2: 0.6040\n",
            "Epoch 341/500\n",
            "32/32 [==============================] - ETA: 0s - loss: 0.7864 - R2: 0.7057INFO:tensorflow:Assets written to: models_2/best_model_341/assets\n",
            "32/32 [==============================] - 4s 120ms/step - loss: 0.7864 - R2: 0.7057 - val_loss: 1.1284 - val_R2: 0.6089\n",
            "Epoch 342/500\n",
            "32/32 [==============================] - 3s 78ms/step - loss: 0.7897 - R2: 0.7093 - val_loss: 1.1311 - val_R2: 0.6061\n",
            "Epoch 343/500\n",
            "32/32 [==============================] - 2s 75ms/step - loss: 0.7876 - R2: 0.7112 - val_loss: 1.1524 - val_R2: 0.6064\n",
            "Epoch 344/500\n",
            "32/32 [==============================] - 2s 73ms/step - loss: 0.7697 - R2: 0.7138 - val_loss: 1.1772 - val_R2: 0.5837\n",
            "Epoch 345/500\n",
            "32/32 [==============================] - 2s 73ms/step - loss: 0.7966 - R2: 0.7051 - val_loss: 1.1370 - val_R2: 0.6042\n",
            "Epoch 346/500\n",
            "32/32 [==============================] - 2s 73ms/step - loss: 0.7767 - R2: 0.7140 - val_loss: 1.1431 - val_R2: 0.5963\n",
            "Epoch 347/500\n",
            "32/32 [==============================] - 2s 71ms/step - loss: 0.7822 - R2: 0.7094 - val_loss: 1.1369 - val_R2: 0.5900\n",
            "Epoch 348/500\n",
            "32/32 [==============================] - 2s 71ms/step - loss: 0.7675 - R2: 0.7145 - val_loss: 1.1466 - val_R2: 0.5940\n",
            "Epoch 349/500\n",
            "32/32 [==============================] - 2s 71ms/step - loss: 0.7787 - R2: 0.7130 - val_loss: 1.1370 - val_R2: 0.6120\n",
            "Epoch 350/500\n",
            "32/32 [==============================] - 2s 72ms/step - loss: 0.7820 - R2: 0.7131 - val_loss: 1.1426 - val_R2: 0.5988\n",
            "Epoch 351/500\n",
            "32/32 [==============================] - 2s 71ms/step - loss: 0.7659 - R2: 0.7146 - val_loss: 1.1414 - val_R2: 0.5994\n",
            "Epoch 352/500\n",
            "32/32 [==============================] - 2s 71ms/step - loss: 0.7534 - R2: 0.7230 - val_loss: 1.1483 - val_R2: 0.5939\n",
            "Epoch 353/500\n",
            "32/32 [==============================] - 2s 74ms/step - loss: 0.7977 - R2: 0.7064 - val_loss: 1.1386 - val_R2: 0.6059\n",
            "Epoch 354/500\n",
            "32/32 [==============================] - 2s 74ms/step - loss: 0.7770 - R2: 0.7160 - val_loss: 1.1481 - val_R2: 0.6032\n",
            "Epoch 355/500\n",
            "32/32 [==============================] - 2s 72ms/step - loss: 0.7711 - R2: 0.7197 - val_loss: 1.1355 - val_R2: 0.5961\n",
            "Epoch 356/500\n",
            "32/32 [==============================] - 2s 76ms/step - loss: 0.7730 - R2: 0.7176 - val_loss: 1.1514 - val_R2: 0.6004\n",
            "Epoch 357/500\n",
            "32/32 [==============================] - ETA: 0s - loss: 0.7694 - R2: 0.7192INFO:tensorflow:Assets written to: models_2/best_model_357/assets\n",
            "32/32 [==============================] - 4s 133ms/step - loss: 0.7694 - R2: 0.7192 - val_loss: 1.1247 - val_R2: 0.6001\n",
            "Epoch 358/500\n",
            "32/32 [==============================] - 3s 77ms/step - loss: 0.7725 - R2: 0.7144 - val_loss: 1.1258 - val_R2: 0.6050\n",
            "Epoch 359/500\n",
            "32/32 [==============================] - 3s 77ms/step - loss: 0.8146 - R2: 0.6997 - val_loss: 1.1304 - val_R2: 0.6097\n",
            "Epoch 360/500\n",
            "32/32 [==============================] - 3s 77ms/step - loss: 0.7953 - R2: 0.7106 - val_loss: 1.1446 - val_R2: 0.6051\n",
            "Epoch 361/500\n",
            "32/32 [==============================] - 2s 75ms/step - loss: 0.7627 - R2: 0.7179 - val_loss: 1.1562 - val_R2: 0.5893\n",
            "Epoch 362/500\n",
            "32/32 [==============================] - 2s 72ms/step - loss: 0.7938 - R2: 0.7099 - val_loss: 1.1446 - val_R2: 0.6043\n",
            "Epoch 363/500\n",
            "32/32 [==============================] - 2s 73ms/step - loss: 0.7632 - R2: 0.7240 - val_loss: 1.1671 - val_R2: 0.5920\n",
            "Epoch 364/500\n",
            "32/32 [==============================] - 2s 73ms/step - loss: 0.7455 - R2: 0.7266 - val_loss: 1.1582 - val_R2: 0.6020\n",
            "Epoch 365/500\n",
            "32/32 [==============================] - 2s 72ms/step - loss: 0.7716 - R2: 0.7170 - val_loss: 1.1675 - val_R2: 0.5948\n",
            "Epoch 366/500\n",
            "32/32 [==============================] - 2s 76ms/step - loss: 0.7803 - R2: 0.7110 - val_loss: 1.1362 - val_R2: 0.6007\n",
            "Epoch 367/500\n",
            "32/32 [==============================] - 3s 78ms/step - loss: 0.7442 - R2: 0.7278 - val_loss: 1.1462 - val_R2: 0.6011\n",
            "Epoch 368/500\n",
            "32/32 [==============================] - ETA: 0s - loss: 0.7611 - R2: 0.7228INFO:tensorflow:Assets written to: models_2/best_model_368/assets\n",
            "32/32 [==============================] - 4s 131ms/step - loss: 0.7611 - R2: 0.7228 - val_loss: 1.1226 - val_R2: 0.6077\n",
            "Epoch 369/500\n",
            "32/32 [==============================] - 2s 77ms/step - loss: 0.7475 - R2: 0.7258 - val_loss: 1.1483 - val_R2: 0.5907\n",
            "Epoch 370/500\n",
            "32/32 [==============================] - 2s 74ms/step - loss: 0.7356 - R2: 0.7267 - val_loss: 1.1520 - val_R2: 0.5897\n",
            "Epoch 371/500\n",
            "32/32 [==============================] - 2s 76ms/step - loss: 0.7668 - R2: 0.7154 - val_loss: 1.1403 - val_R2: 0.6011\n",
            "Epoch 372/500\n",
            "32/32 [==============================] - 2s 74ms/step - loss: 0.7681 - R2: 0.7153 - val_loss: 1.1576 - val_R2: 0.5829\n",
            "Epoch 373/500\n",
            "32/32 [==============================] - 2s 75ms/step - loss: 0.7570 - R2: 0.7210 - val_loss: 1.1591 - val_R2: 0.5889\n",
            "Epoch 374/500\n",
            "32/32 [==============================] - 2s 76ms/step - loss: 0.7781 - R2: 0.7156 - val_loss: 1.1342 - val_R2: 0.6080\n",
            "Epoch 375/500\n",
            "32/32 [==============================] - 2s 75ms/step - loss: 0.7788 - R2: 0.7173 - val_loss: 1.1296 - val_R2: 0.6124\n",
            "Epoch 376/500\n",
            "32/32 [==============================] - 2s 76ms/step - loss: 0.7560 - R2: 0.7218 - val_loss: 1.1413 - val_R2: 0.5948\n",
            "Epoch 377/500\n",
            "32/32 [==============================] - 2s 76ms/step - loss: 0.7457 - R2: 0.7277 - val_loss: 1.1381 - val_R2: 0.6038\n",
            "Epoch 378/500\n",
            "32/32 [==============================] - 2s 75ms/step - loss: 0.7956 - R2: 0.7079 - val_loss: 1.1621 - val_R2: 0.5839\n",
            "Epoch 379/500\n",
            "32/32 [==============================] - 2s 75ms/step - loss: 0.7434 - R2: 0.7229 - val_loss: 1.1362 - val_R2: 0.5983\n",
            "Epoch 380/500\n",
            "32/32 [==============================] - 2s 74ms/step - loss: 0.7551 - R2: 0.7227 - val_loss: 1.1271 - val_R2: 0.6126\n",
            "Epoch 381/500\n",
            "32/32 [==============================] - 2s 73ms/step - loss: 0.7408 - R2: 0.7276 - val_loss: 1.1297 - val_R2: 0.6052\n",
            "Epoch 382/500\n",
            "32/32 [==============================] - 3s 78ms/step - loss: 0.7463 - R2: 0.7287 - val_loss: 1.1292 - val_R2: 0.5894\n",
            "Epoch 383/500\n",
            "32/32 [==============================] - 2s 74ms/step - loss: 0.7440 - R2: 0.7263 - val_loss: 1.1243 - val_R2: 0.6086\n",
            "Epoch 384/500\n",
            "32/32 [==============================] - 2s 74ms/step - loss: 0.7284 - R2: 0.7307 - val_loss: 1.1601 - val_R2: 0.5884\n",
            "Epoch 385/500\n",
            "32/32 [==============================] - 2s 73ms/step - loss: 0.7479 - R2: 0.7272 - val_loss: 1.1282 - val_R2: 0.6021\n",
            "Epoch 386/500\n",
            "32/32 [==============================] - 2s 72ms/step - loss: 0.7420 - R2: 0.7296 - val_loss: 1.1784 - val_R2: 0.5874\n",
            "Epoch 387/500\n",
            "32/32 [==============================] - ETA: 0s - loss: 0.7504 - R2: 0.7237INFO:tensorflow:Assets written to: models_2/best_model_387/assets\n",
            "32/32 [==============================] - 4s 123ms/step - loss: 0.7504 - R2: 0.7237 - val_loss: 1.1196 - val_R2: 0.6095\n",
            "Epoch 388/500\n",
            "32/32 [==============================] - 2s 77ms/step - loss: 0.7419 - R2: 0.7274 - val_loss: 1.1593 - val_R2: 0.5992\n",
            "Epoch 389/500\n",
            "32/32 [==============================] - 2s 76ms/step - loss: 0.7710 - R2: 0.7176 - val_loss: 1.1303 - val_R2: 0.6101\n",
            "Epoch 390/500\n",
            "32/32 [==============================] - 2s 74ms/step - loss: 0.7219 - R2: 0.7332 - val_loss: 1.1344 - val_R2: 0.6042\n",
            "Epoch 391/500\n",
            "32/32 [==============================] - 2s 71ms/step - loss: 0.7459 - R2: 0.7273 - val_loss: 1.1398 - val_R2: 0.6068\n",
            "Epoch 392/500\n",
            "32/32 [==============================] - 2s 75ms/step - loss: 0.7292 - R2: 0.7315 - val_loss: 1.1307 - val_R2: 0.5940\n",
            "Epoch 393/500\n",
            "32/32 [==============================] - 2s 76ms/step - loss: 0.7358 - R2: 0.7306 - val_loss: 1.1437 - val_R2: 0.5987\n",
            "Epoch 394/500\n",
            "32/32 [==============================] - 2s 75ms/step - loss: 0.7481 - R2: 0.7210 - val_loss: 1.1411 - val_R2: 0.5756\n",
            "Epoch 395/500\n",
            "32/32 [==============================] - 2s 72ms/step - loss: 0.7313 - R2: 0.7322 - val_loss: 1.1301 - val_R2: 0.5967\n",
            "Epoch 396/500\n",
            "32/32 [==============================] - 2s 74ms/step - loss: 0.7493 - R2: 0.7257 - val_loss: 1.1504 - val_R2: 0.6014\n",
            "Epoch 397/500\n",
            "32/32 [==============================] - 2s 71ms/step - loss: 0.7143 - R2: 0.7354 - val_loss: 1.1240 - val_R2: 0.6134\n",
            "Epoch 398/500\n",
            "32/32 [==============================] - 2s 75ms/step - loss: 0.7467 - R2: 0.7249 - val_loss: 1.1308 - val_R2: 0.6065\n",
            "Epoch 399/500\n",
            "32/32 [==============================] - 2s 77ms/step - loss: 0.7468 - R2: 0.7278 - val_loss: 1.1259 - val_R2: 0.6018\n",
            "Epoch 400/500\n",
            "31/32 [============================>.] - ETA: 0s - loss: 0.7603 - R2: 0.7211INFO:tensorflow:Assets written to: models_2/best_model_400/assets\n",
            "32/32 [==============================] - 4s 131ms/step - loss: 0.7599 - R2: 0.7221 - val_loss: 1.1171 - val_R2: 0.6077\n",
            "Epoch 401/500\n",
            "32/32 [==============================] - ETA: 0s - loss: 0.7662 - R2: 0.7188INFO:tensorflow:Assets written to: models_2/best_model_401/assets\n",
            "32/32 [==============================] - 4s 140ms/step - loss: 0.7662 - R2: 0.7188 - val_loss: 1.1159 - val_R2: 0.6136\n",
            "Epoch 402/500\n",
            "32/32 [==============================] - 3s 79ms/step - loss: 0.7504 - R2: 0.7231 - val_loss: 1.1290 - val_R2: 0.6020\n",
            "Epoch 403/500\n",
            "32/32 [==============================] - 2s 77ms/step - loss: 0.7322 - R2: 0.7298 - val_loss: 1.1385 - val_R2: 0.6027\n",
            "Epoch 404/500\n",
            "32/32 [==============================] - 2s 77ms/step - loss: 0.7345 - R2: 0.7299 - val_loss: 1.1300 - val_R2: 0.6163\n",
            "Epoch 405/500\n",
            "32/32 [==============================] - 3s 78ms/step - loss: 0.7274 - R2: 0.7330 - val_loss: 1.1362 - val_R2: 0.5904\n",
            "Epoch 406/500\n",
            "32/32 [==============================] - 2s 75ms/step - loss: 0.7380 - R2: 0.7272 - val_loss: 1.1395 - val_R2: 0.6039\n",
            "Epoch 407/500\n",
            "32/32 [==============================] - 2s 75ms/step - loss: 0.7109 - R2: 0.7385 - val_loss: 1.1386 - val_R2: 0.6101\n",
            "Epoch 408/500\n",
            "31/32 [============================>.] - ETA: 0s - loss: 0.7201 - R2: 0.7368INFO:tensorflow:Assets written to: models_2/best_model_408/assets\n",
            "32/32 [==============================] - 4s 122ms/step - loss: 0.7185 - R2: 0.7368 - val_loss: 1.1155 - val_R2: 0.6057\n",
            "Epoch 409/500\n",
            "32/32 [==============================] - 2s 77ms/step - loss: 0.7143 - R2: 0.7391 - val_loss: 1.1433 - val_R2: 0.5991\n",
            "Epoch 410/500\n",
            "32/32 [==============================] - ETA: 0s - loss: 0.7563 - R2: 0.7251INFO:tensorflow:Assets written to: models_2/best_model_410/assets\n",
            "32/32 [==============================] - 4s 121ms/step - loss: 0.7563 - R2: 0.7251 - val_loss: 1.1100 - val_R2: 0.6111\n",
            "Epoch 411/500\n",
            "31/32 [============================>.] - ETA: 0s - loss: 0.7233 - R2: 0.7336INFO:tensorflow:Assets written to: models_2/best_model_411/assets\n",
            "32/32 [==============================] - 4s 133ms/step - loss: 0.7220 - R2: 0.7358 - val_loss: 1.1083 - val_R2: 0.6028\n",
            "Epoch 412/500\n",
            "32/32 [==============================] - 2s 75ms/step - loss: 0.7486 - R2: 0.7239 - val_loss: 1.1887 - val_R2: 0.5661\n",
            "Epoch 413/500\n",
            "32/32 [==============================] - ETA: 0s - loss: 0.7308 - R2: 0.7315INFO:tensorflow:Assets written to: models_2/best_model_413/assets\n",
            "32/32 [==============================] - 4s 122ms/step - loss: 0.7308 - R2: 0.7315 - val_loss: 1.1074 - val_R2: 0.6174\n",
            "Epoch 414/500\n",
            "32/32 [==============================] - 2s 74ms/step - loss: 0.7393 - R2: 0.7266 - val_loss: 1.1145 - val_R2: 0.5964\n",
            "Epoch 415/500\n",
            "32/32 [==============================] - 2s 74ms/step - loss: 0.7362 - R2: 0.7270 - val_loss: 1.1094 - val_R2: 0.6047\n",
            "Epoch 416/500\n",
            "32/32 [==============================] - 2s 74ms/step - loss: 0.7436 - R2: 0.7295 - val_loss: 1.1329 - val_R2: 0.6042\n",
            "Epoch 417/500\n",
            "32/32 [==============================] - 2s 74ms/step - loss: 0.7416 - R2: 0.7252 - val_loss: 1.1105 - val_R2: 0.6206\n",
            "Epoch 418/500\n",
            "32/32 [==============================] - 2s 74ms/step - loss: 0.7151 - R2: 0.7370 - val_loss: 1.1197 - val_R2: 0.6108\n",
            "Epoch 419/500\n",
            "32/32 [==============================] - 2s 77ms/step - loss: 0.6965 - R2: 0.7410 - val_loss: 1.1230 - val_R2: 0.6079\n",
            "Epoch 420/500\n",
            "32/32 [==============================] - 2s 77ms/step - loss: 0.7153 - R2: 0.7342 - val_loss: 1.1205 - val_R2: 0.6026\n",
            "Epoch 421/500\n",
            "32/32 [==============================] - 2s 73ms/step - loss: 0.7270 - R2: 0.7350 - val_loss: 1.1156 - val_R2: 0.6048\n",
            "Epoch 422/500\n",
            "32/32 [==============================] - ETA: 0s - loss: 0.7104 - R2: 0.7406INFO:tensorflow:Assets written to: models_2/best_model_422/assets\n",
            "32/32 [==============================] - 4s 123ms/step - loss: 0.7104 - R2: 0.7406 - val_loss: 1.1027 - val_R2: 0.6100\n",
            "Epoch 423/500\n",
            "32/32 [==============================] - 2s 75ms/step - loss: 0.6995 - R2: 0.7401 - val_loss: 1.1106 - val_R2: 0.6184\n",
            "Epoch 424/500\n",
            "32/32 [==============================] - 3s 79ms/step - loss: 0.7180 - R2: 0.7366 - val_loss: 1.1267 - val_R2: 0.6012\n",
            "Epoch 425/500\n",
            "32/32 [==============================] - 2s 76ms/step - loss: 0.7290 - R2: 0.7289 - val_loss: 1.1150 - val_R2: 0.6047\n",
            "Epoch 426/500\n",
            "32/32 [==============================] - 2s 75ms/step - loss: 0.7123 - R2: 0.7359 - val_loss: 1.1468 - val_R2: 0.6015\n",
            "Epoch 427/500\n",
            "32/32 [==============================] - 2s 77ms/step - loss: 0.7572 - R2: 0.7229 - val_loss: 1.1240 - val_R2: 0.6040\n",
            "Epoch 428/500\n",
            "32/32 [==============================] - 3s 79ms/step - loss: 0.7009 - R2: 0.7375 - val_loss: 1.1140 - val_R2: 0.6053\n",
            "Epoch 429/500\n",
            "32/32 [==============================] - 2s 74ms/step - loss: 0.7150 - R2: 0.7381 - val_loss: 1.1232 - val_R2: 0.5948\n",
            "Epoch 430/500\n",
            "32/32 [==============================] - 2s 76ms/step - loss: 0.6936 - R2: 0.7440 - val_loss: 1.1317 - val_R2: 0.6098\n",
            "Epoch 431/500\n",
            "32/32 [==============================] - 3s 81ms/step - loss: 0.7136 - R2: 0.7369 - val_loss: 1.1283 - val_R2: 0.6075\n",
            "Epoch 432/500\n",
            "32/32 [==============================] - 3s 78ms/step - loss: 0.7150 - R2: 0.7365 - val_loss: 1.1177 - val_R2: 0.6032\n",
            "Epoch 433/500\n",
            "32/32 [==============================] - 3s 80ms/step - loss: 0.6913 - R2: 0.7443 - val_loss: 1.1110 - val_R2: 0.6010\n",
            "Epoch 434/500\n",
            "32/32 [==============================] - 2s 75ms/step - loss: 0.6929 - R2: 0.7504 - val_loss: 1.1169 - val_R2: 0.6053\n",
            "Epoch 435/500\n",
            "32/32 [==============================] - 2s 74ms/step - loss: 0.7203 - R2: 0.7344 - val_loss: 1.1103 - val_R2: 0.6079\n",
            "Epoch 436/500\n",
            "32/32 [==============================] - 2s 73ms/step - loss: 0.7324 - R2: 0.7359 - val_loss: 1.1945 - val_R2: 0.5896\n",
            "Epoch 437/500\n",
            "32/32 [==============================] - 2s 77ms/step - loss: 0.7251 - R2: 0.7330 - val_loss: 1.1170 - val_R2: 0.6125\n",
            "Epoch 438/500\n",
            "32/32 [==============================] - 2s 74ms/step - loss: 0.7078 - R2: 0.7347 - val_loss: 1.1600 - val_R2: 0.5961\n",
            "Epoch 439/500\n",
            "32/32 [==============================] - 2s 75ms/step - loss: 0.7119 - R2: 0.7398 - val_loss: 1.1212 - val_R2: 0.6128\n",
            "Epoch 440/500\n",
            "32/32 [==============================] - 2s 74ms/step - loss: 0.7297 - R2: 0.7288 - val_loss: 1.1079 - val_R2: 0.6192\n",
            "Epoch 441/500\n",
            "32/32 [==============================] - ETA: 0s - loss: 0.7102 - R2: 0.7398INFO:tensorflow:Assets written to: models_2/best_model_441/assets\n",
            "32/32 [==============================] - 4s 119ms/step - loss: 0.7102 - R2: 0.7398 - val_loss: 1.0974 - val_R2: 0.6076\n",
            "Epoch 442/500\n",
            "32/32 [==============================] - 2s 78ms/step - loss: 0.6914 - R2: 0.7467 - val_loss: 1.1699 - val_R2: 0.5842\n",
            "Epoch 443/500\n",
            "32/32 [==============================] - 2s 72ms/step - loss: 0.7195 - R2: 0.7363 - val_loss: 1.1019 - val_R2: 0.6032\n",
            "Epoch 444/500\n",
            "32/32 [==============================] - 2s 75ms/step - loss: 0.6685 - R2: 0.7540 - val_loss: 1.1080 - val_R2: 0.6156\n",
            "Epoch 445/500\n",
            "32/32 [==============================] - 2s 76ms/step - loss: 0.7045 - R2: 0.7441 - val_loss: 1.1799 - val_R2: 0.5881\n",
            "Epoch 446/500\n",
            "32/32 [==============================] - 2s 72ms/step - loss: 0.7331 - R2: 0.7290 - val_loss: 1.1254 - val_R2: 0.6024\n",
            "Epoch 447/500\n",
            "32/32 [==============================] - 2s 75ms/step - loss: 0.7076 - R2: 0.7374 - val_loss: 1.1118 - val_R2: 0.6109\n",
            "Epoch 448/500\n",
            "32/32 [==============================] - 2s 72ms/step - loss: 0.6986 - R2: 0.7408 - val_loss: 1.1065 - val_R2: 0.6180\n",
            "Epoch 449/500\n",
            "32/32 [==============================] - 2s 74ms/step - loss: 0.6800 - R2: 0.7510 - val_loss: 1.1397 - val_R2: 0.5875\n",
            "Epoch 450/500\n",
            "32/32 [==============================] - 2s 74ms/step - loss: 0.7283 - R2: 0.7314 - val_loss: 1.1981 - val_R2: 0.5759\n",
            "Epoch 451/500\n",
            "32/32 [==============================] - 2s 74ms/step - loss: 0.7155 - R2: 0.7351 - val_loss: 1.1187 - val_R2: 0.6090\n",
            "Epoch 452/500\n",
            "32/32 [==============================] - 2s 76ms/step - loss: 0.6946 - R2: 0.7474 - val_loss: 1.1168 - val_R2: 0.6081\n",
            "Epoch 453/500\n",
            "32/32 [==============================] - 2s 77ms/step - loss: 0.6942 - R2: 0.7447 - val_loss: 1.1176 - val_R2: 0.6152\n",
            "Epoch 454/500\n",
            "32/32 [==============================] - 2s 77ms/step - loss: 0.7036 - R2: 0.7385 - val_loss: 1.1537 - val_R2: 0.5916\n",
            "Epoch 455/500\n",
            "32/32 [==============================] - 3s 78ms/step - loss: 0.6761 - R2: 0.7494 - val_loss: 1.1219 - val_R2: 0.5931\n",
            "Epoch 456/500\n",
            "32/32 [==============================] - 2s 77ms/step - loss: 0.6933 - R2: 0.7444 - val_loss: 1.1161 - val_R2: 0.6046\n",
            "Epoch 457/500\n",
            "32/32 [==============================] - 2s 77ms/step - loss: 0.6829 - R2: 0.7504 - val_loss: 1.1260 - val_R2: 0.5946\n",
            "Epoch 458/500\n",
            "32/32 [==============================] - 3s 79ms/step - loss: 0.7277 - R2: 0.7327 - val_loss: 1.1046 - val_R2: 0.6102\n",
            "Epoch 459/500\n",
            "32/32 [==============================] - 2s 72ms/step - loss: 0.6627 - R2: 0.7559 - val_loss: 1.1058 - val_R2: 0.6183\n",
            "Epoch 460/500\n",
            "32/32 [==============================] - 2s 74ms/step - loss: 0.6814 - R2: 0.7477 - val_loss: 1.1210 - val_R2: 0.5962\n",
            "Epoch 461/500\n",
            "32/32 [==============================] - 2s 75ms/step - loss: 0.6909 - R2: 0.7473 - val_loss: 1.1292 - val_R2: 0.6086\n",
            "Epoch 462/500\n",
            "32/32 [==============================] - 2s 73ms/step - loss: 0.6679 - R2: 0.7557 - val_loss: 1.1043 - val_R2: 0.6131\n",
            "Epoch 463/500\n",
            "32/32 [==============================] - 2s 72ms/step - loss: 0.6854 - R2: 0.7487 - val_loss: 1.1275 - val_R2: 0.6046\n",
            "Epoch 464/500\n",
            "32/32 [==============================] - 2s 71ms/step - loss: 0.6865 - R2: 0.7497 - val_loss: 1.1221 - val_R2: 0.6107\n",
            "Epoch 465/500\n",
            "32/32 [==============================] - 2s 72ms/step - loss: 0.6958 - R2: 0.7461 - val_loss: 1.1415 - val_R2: 0.6034\n",
            "Epoch 466/500\n",
            "32/32 [==============================] - 2s 72ms/step - loss: 0.6802 - R2: 0.7496 - val_loss: 1.1044 - val_R2: 0.6205\n",
            "Epoch 467/500\n",
            "32/32 [==============================] - 2s 73ms/step - loss: 0.7070 - R2: 0.7392 - val_loss: 1.1207 - val_R2: 0.6142\n",
            "Epoch 468/500\n",
            "31/32 [============================>.] - ETA: 0s - loss: 0.7040 - R2: 0.7448INFO:tensorflow:Assets written to: models_2/best_model_468/assets\n",
            "32/32 [==============================] - 4s 130ms/step - loss: 0.7006 - R2: 0.7439 - val_loss: 1.0857 - val_R2: 0.6211\n",
            "Epoch 469/500\n",
            "32/32 [==============================] - 2s 75ms/step - loss: 0.6921 - R2: 0.7447 - val_loss: 1.1128 - val_R2: 0.6130\n",
            "Epoch 470/500\n",
            "32/32 [==============================] - 2s 76ms/step - loss: 0.6871 - R2: 0.7419 - val_loss: 1.1052 - val_R2: 0.6176\n",
            "Epoch 471/500\n",
            "32/32 [==============================] - 2s 75ms/step - loss: 0.6788 - R2: 0.7464 - val_loss: 1.1153 - val_R2: 0.6118\n",
            "Epoch 472/500\n",
            "32/32 [==============================] - 2s 74ms/step - loss: 0.6863 - R2: 0.7458 - val_loss: 1.1234 - val_R2: 0.6120\n",
            "Epoch 473/500\n",
            "32/32 [==============================] - 2s 75ms/step - loss: 0.6952 - R2: 0.7435 - val_loss: 1.1105 - val_R2: 0.6057\n",
            "Epoch 474/500\n",
            "32/32 [==============================] - 2s 75ms/step - loss: 0.6763 - R2: 0.7540 - val_loss: 1.0962 - val_R2: 0.6097\n",
            "Epoch 475/500\n",
            "32/32 [==============================] - 2s 77ms/step - loss: 0.7117 - R2: 0.7379 - val_loss: 1.1283 - val_R2: 0.5996\n",
            "Epoch 476/500\n",
            "32/32 [==============================] - 2s 75ms/step - loss: 0.6901 - R2: 0.7494 - val_loss: 1.1058 - val_R2: 0.6106\n",
            "Epoch 477/500\n",
            "32/32 [==============================] - 3s 80ms/step - loss: 0.6723 - R2: 0.7528 - val_loss: 1.0962 - val_R2: 0.6093\n",
            "Epoch 478/500\n",
            "32/32 [==============================] - 3s 81ms/step - loss: 0.6924 - R2: 0.7466 - val_loss: 1.1618 - val_R2: 0.5869\n",
            "Epoch 479/500\n",
            "32/32 [==============================] - 3s 80ms/step - loss: 0.7149 - R2: 0.7360 - val_loss: 1.1231 - val_R2: 0.6056\n",
            "Epoch 480/500\n",
            "32/32 [==============================] - 3s 80ms/step - loss: 0.6727 - R2: 0.7525 - val_loss: 1.0998 - val_R2: 0.6267\n",
            "Epoch 481/500\n",
            "32/32 [==============================] - 3s 78ms/step - loss: 0.6845 - R2: 0.7530 - val_loss: 1.0987 - val_R2: 0.6092\n",
            "Epoch 482/500\n",
            "32/32 [==============================] - 2s 76ms/step - loss: 0.6689 - R2: 0.7545 - val_loss: 1.0977 - val_R2: 0.6232\n",
            "Epoch 483/500\n",
            "32/32 [==============================] - 3s 80ms/step - loss: 0.6619 - R2: 0.7591 - val_loss: 1.1026 - val_R2: 0.6248\n",
            "Epoch 484/500\n",
            "32/32 [==============================] - 2s 77ms/step - loss: 0.6772 - R2: 0.7477 - val_loss: 1.0919 - val_R2: 0.6164\n",
            "Epoch 485/500\n",
            "32/32 [==============================] - 2s 76ms/step - loss: 0.6670 - R2: 0.7573 - val_loss: 1.0933 - val_R2: 0.6141\n",
            "Epoch 486/500\n",
            "32/32 [==============================] - 2s 76ms/step - loss: 0.6530 - R2: 0.7608 - val_loss: 1.0939 - val_R2: 0.6182\n",
            "Epoch 487/500\n",
            "32/32 [==============================] - 2s 74ms/step - loss: 0.6997 - R2: 0.7410 - val_loss: 1.0875 - val_R2: 0.6171\n",
            "Epoch 488/500\n",
            "32/32 [==============================] - ETA: 0s - loss: 0.6755 - R2: 0.7563INFO:tensorflow:Assets written to: models_2/best_model_488/assets\n",
            "32/32 [==============================] - 4s 124ms/step - loss: 0.6755 - R2: 0.7563 - val_loss: 1.0794 - val_R2: 0.6218\n",
            "Epoch 489/500\n",
            "32/32 [==============================] - 2s 76ms/step - loss: 0.6594 - R2: 0.7562 - val_loss: 1.0905 - val_R2: 0.6173\n",
            "Epoch 490/500\n",
            "32/32 [==============================] - 3s 78ms/step - loss: 0.6809 - R2: 0.7507 - val_loss: 1.0956 - val_R2: 0.6129\n",
            "Epoch 491/500\n",
            "32/32 [==============================] - 2s 77ms/step - loss: 0.6899 - R2: 0.7479 - val_loss: 1.1320 - val_R2: 0.5823\n",
            "Epoch 492/500\n",
            "32/32 [==============================] - 2s 77ms/step - loss: 0.6743 - R2: 0.7533 - val_loss: 1.0803 - val_R2: 0.6221\n",
            "Epoch 493/500\n",
            "32/32 [==============================] - 2s 75ms/step - loss: 0.6420 - R2: 0.7617 - val_loss: 1.0976 - val_R2: 0.6093\n",
            "Epoch 494/500\n",
            "32/32 [==============================] - 2s 76ms/step - loss: 0.7043 - R2: 0.7386 - val_loss: 1.0900 - val_R2: 0.6297\n",
            "Epoch 495/500\n",
            "32/32 [==============================] - 2s 73ms/step - loss: 0.6950 - R2: 0.7437 - val_loss: 1.1504 - val_R2: 0.5906\n",
            "Epoch 496/500\n",
            "32/32 [==============================] - 2s 75ms/step - loss: 0.6736 - R2: 0.7478 - val_loss: 1.0984 - val_R2: 0.6255\n",
            "Epoch 497/500\n",
            "32/32 [==============================] - 2s 75ms/step - loss: 0.6623 - R2: 0.7599 - val_loss: 1.1040 - val_R2: 0.6048\n",
            "Epoch 498/500\n",
            "32/32 [==============================] - 3s 78ms/step - loss: 0.6816 - R2: 0.7493 - val_loss: 1.0848 - val_R2: 0.5988\n",
            "Epoch 499/500\n",
            "32/32 [==============================] - 3s 78ms/step - loss: 0.6563 - R2: 0.7561 - val_loss: 1.1258 - val_R2: 0.5990\n",
            "Epoch 500/500\n",
            "32/32 [==============================] - 3s 78ms/step - loss: 0.6949 - R2: 0.7433 - val_loss: 1.0882 - val_R2: 0.6072\n"
          ]
        }
      ],
      "source": [
        "history = model.fit(dgen_train, epochs=500, validation_data=dgen_test, callbacks=[mcp])"
      ]
    },
    {
      "cell_type": "code",
      "execution_count": 154,
      "id": "a0242588-eede-4e85-8b83-f207ea8ab757",
      "metadata": {
        "id": "a0242588-eede-4e85-8b83-f207ea8ab757"
      },
      "outputs": [],
      "source": [
        "X_test_eval = []\n",
        "y_t_eval = []\n",
        "for X_t, y_t in dgen_test:\n",
        "    X_test_eval = X_test_eval + [list(t) for t in X_t]\n",
        "    y_t_eval = y_t_eval + list(y_t)\n",
        "X_test_eval = np.array(X_test_eval)\n",
        "y_test = np.array(y_t_eval)"
      ]
    },
    {
      "cell_type": "code",
      "execution_count": 155,
      "id": "a1437cbf-fe44-4999-a44b-05cea765f22b",
      "metadata": {
        "colab": {
          "base_uri": "https://localhost:8080/"
        },
        "id": "a1437cbf-fe44-4999-a44b-05cea765f22b",
        "outputId": "2ae24e05-f75e-465c-8947-87c4e4a0d939"
      },
      "outputs": [
        {
          "output_type": "execute_result",
          "data": {
            "text/plain": [
              "((1021, 227), (1021,))"
            ]
          },
          "metadata": {},
          "execution_count": 155
        }
      ],
      "source": [
        "X_test_eval.shape, y_test.shape"
      ]
    },
    {
      "cell_type": "code",
      "execution_count": 156,
      "id": "0084fbb1-e83e-4808-99bf-1458f3ea3076",
      "metadata": {
        "id": "0084fbb1-e83e-4808-99bf-1458f3ea3076"
      },
      "outputs": [],
      "source": [
        "y_pred = model.predict(X_test_eval)"
      ]
    },
    {
      "cell_type": "markdown",
      "id": "382979a3-f299-4762-8b6d-10a6ea4d3c70",
      "metadata": {
        "id": "382979a3-f299-4762-8b6d-10a6ea4d3c70"
      },
      "source": [
        "# Score"
      ]
    },
    {
      "cell_type": "code",
      "execution_count": 157,
      "id": "f9fd5d60-841f-46c3-94b6-5755b4d548cd",
      "metadata": {
        "id": "f9fd5d60-841f-46c3-94b6-5755b4d548cd"
      },
      "outputs": [],
      "source": [
        "r2 = 1 - ((y_test - y_pred.reshape(-1)) ** 2).sum() / ((y_test - y_test.mean()) ** 2).sum()"
      ]
    },
    {
      "cell_type": "code",
      "source": [
        "r2\n",
        "#Con dropout"
      ],
      "metadata": {
        "colab": {
          "base_uri": "https://localhost:8080/"
        },
        "id": "v_etKhxstwlo",
        "outputId": "a015ba5f-be86-429b-b44a-9931437db7be"
      },
      "id": "v_etKhxstwlo",
      "execution_count": 158,
      "outputs": [
        {
          "output_type": "execute_result",
          "data": {
            "text/plain": [
              "0.6230000494775074"
            ]
          },
          "metadata": {},
          "execution_count": 158
        }
      ]
    },
    {
      "cell_type": "code",
      "execution_count": 131,
      "id": "4d2bfabe-2e3e-40cf-a1e8-2d458ee7f328",
      "metadata": {
        "colab": {
          "base_uri": "https://localhost:8080/"
        },
        "id": "4d2bfabe-2e3e-40cf-a1e8-2d458ee7f328",
        "outputId": "01948497-b5ea-435f-b684-3bbed7ab6127"
      },
      "outputs": [
        {
          "output_type": "execute_result",
          "data": {
            "text/plain": [
              "0.6132065674374705"
            ]
          },
          "metadata": {},
          "execution_count": 131
        }
      ],
      "source": [
        "r2\n",
        "#Sin dropout\n"
      ]
    },
    {
      "cell_type": "code",
      "execution_count": 159,
      "id": "85262541-e04a-4ff2-b3e6-a47643db66f6",
      "metadata": {
        "id": "85262541-e04a-4ff2-b3e6-a47643db66f6"
      },
      "outputs": [],
      "source": [
        "filename = 'models/embed_128_text_cnn_aug_100x100_0.0001_drop.h5'\n",
        "model.save(filename)"
      ]
    },
    {
      "cell_type": "code",
      "execution_count": 160,
      "id": "67cf753c-a7f6-4b8a-abe3-3253986cc53a",
      "metadata": {
        "colab": {
          "base_uri": "https://localhost:8080/"
        },
        "id": "67cf753c-a7f6-4b8a-abe3-3253986cc53a",
        "outputId": "026ef39e-bac7-43e4-fd20-e1e0d2a523ce"
      },
      "outputs": [
        {
          "output_type": "stream",
          "name": "stdout",
          "text": [
            "Model: \"model_12\"\n",
            "__________________________________________________________________________________________________\n",
            " Layer (type)                   Output Shape         Param #     Connected to                     \n",
            "==================================================================================================\n",
            " input_x (InputLayer)           [(None, 227)]        0           []                               \n",
            "                                                                                                  \n",
            " embedding_19 (Embedding)       (None, 227, 64)      2688        ['input_x[0][0]']                \n",
            "                                                                                                  \n",
            " conv1d_55 (Conv1D)             (None, 227, 128)     16512       ['embedding_19[0][0]']           \n",
            "                                                                                                  \n",
            " conv1d_56 (Conv1D)             (None, 227, 128)     24704       ['embedding_19[0][0]']           \n",
            "                                                                                                  \n",
            " conv1d_57 (Conv1D)             (None, 227, 128)     32896       ['embedding_19[0][0]']           \n",
            "                                                                                                  \n",
            " global_max_pooling1d_15 (Globa  (None, 128)         0           ['conv1d_55[0][0]']              \n",
            " lMaxPooling1D)                                                                                   \n",
            "                                                                                                  \n",
            " global_max_pooling1d_16 (Globa  (None, 128)         0           ['conv1d_56[0][0]']              \n",
            " lMaxPooling1D)                                                                                   \n",
            "                                                                                                  \n",
            " global_max_pooling1d_17 (Globa  (None, 128)         0           ['conv1d_57[0][0]']              \n",
            " lMaxPooling1D)                                                                                   \n",
            "                                                                                                  \n",
            " concatenate_18 (Concatenate)   (None, 384)          0           ['global_max_pooling1d_15[0][0]',\n",
            "                                                                  'global_max_pooling1d_16[0][0]',\n",
            "                                                                  'global_max_pooling1d_17[0][0]']\n",
            "                                                                                                  \n",
            " flatten_15 (Flatten)           (None, 384)          0           ['concatenate_18[0][0]']         \n",
            "                                                                                                  \n",
            " dense_44 (Dense)               (None, 300)          115500      ['flatten_15[0][0]']             \n",
            "                                                                                                  \n",
            " dropout_2 (Dropout)            (None, 300)          0           ['dense_44[0][0]']               \n",
            "                                                                                                  \n",
            " dense_45 (Dense)               (None, 150)          45150       ['dropout_2[0][0]']              \n",
            "                                                                                                  \n",
            " dense_46 (Dense)               (None, 1)            151         ['dense_45[0][0]']               \n",
            "                                                                                                  \n",
            "==================================================================================================\n",
            "Total params: 237,601\n",
            "Trainable params: 237,601\n",
            "Non-trainable params: 0\n",
            "__________________________________________________________________________________________________\n"
          ]
        }
      ],
      "source": [
        "model.summary()"
      ]
    },
    {
      "cell_type": "markdown",
      "id": "5f683e18-c876-4f7c-93ea-a33d495dcdaa",
      "metadata": {
        "id": "5f683e18-c876-4f7c-93ea-a33d495dcdaa"
      },
      "source": [
        "# Load model (solo si se grabo el modelo)"
      ]
    },
    {
      "cell_type": "code",
      "execution_count": null,
      "id": "285c8740-f0bb-4237-8593-ff9b815de0e3",
      "metadata": {
        "id": "285c8740-f0bb-4237-8593-ff9b815de0e3"
      },
      "outputs": [],
      "source": [
        "from tensorflow.keras.models import load_model"
      ]
    },
    {
      "cell_type": "code",
      "execution_count": null,
      "id": "2168984f-770c-436e-92da-c1344b1d3abc",
      "metadata": {
        "id": "2168984f-770c-436e-92da-c1344b1d3abc"
      },
      "outputs": [],
      "source": [
        "model_loaded = load_model(filename, custom_objects={'R2': R2})"
      ]
    },
    {
      "cell_type": "code",
      "execution_count": null,
      "id": "13a9d7d8-41e0-44a0-a8b9-02157a11f8f2",
      "metadata": {
        "id": "13a9d7d8-41e0-44a0-a8b9-02157a11f8f2"
      },
      "outputs": [],
      "source": [
        "y_pred = model_loaded.predict(X_test_eval)"
      ]
    },
    {
      "cell_type": "code",
      "execution_count": null,
      "id": "26c63493-3f25-4383-9654-58ee62aa3ae5",
      "metadata": {
        "id": "26c63493-3f25-4383-9654-58ee62aa3ae5"
      },
      "outputs": [],
      "source": [
        "r2 = 1 - ((y_test - y_pred.reshape(-1)) ** 2).sum() / ((y_test - y_test.mean()) ** 2).sum()\n",
        "r2"
      ]
    },
    {
      "cell_type": "markdown",
      "id": "7f1a6260-e31f-4e5e-a923-ce67bf31152f",
      "metadata": {
        "id": "7f1a6260-e31f-4e5e-a923-ce67bf31152f"
      },
      "source": [
        "# Evaluación"
      ]
    },
    {
      "cell_type": "code",
      "execution_count": 161,
      "id": "7dd9d7e6-2789-459e-b9dd-593e10847fc4",
      "metadata": {
        "colab": {
          "base_uri": "https://localhost:8080/",
          "height": 362
        },
        "id": "7dd9d7e6-2789-459e-b9dd-593e10847fc4",
        "outputId": "6ca0096b-9e2f-4eee-bb82-9acd5bf9b1a6"
      },
      "outputs": [
        {
          "output_type": "execute_result",
          "data": {
            "text/plain": [
              "<function matplotlib.pyplot.show>"
            ]
          },
          "metadata": {},
          "execution_count": 161
        },
        {
          "output_type": "display_data",
          "data": {
            "image/png": "[encoded data removed]",
            "text/plain": [
              "<Figure size 360x360 with 1 Axes>"
            ]
          },
          "metadata": {}
        }
      ],
      "source": [
        "import seaborn as sns\n",
        "import matplotlib.pyplot as plt\n",
        "\n",
        "sns.set(color_codes=True)\n",
        "sns.set_style(\"white\")\n",
        "\n",
        "ax = sns.regplot(x=y_test, y=y_pred, scatter_kws={'alpha':0.4})\n",
        "ax.set_xlabel('Experimental pIC50', fontsize='large', fontweight='bold')\n",
        "ax.set_ylabel('Predicted pIC50', fontsize='large', fontweight='bold')\n",
        "ax.set_xlim(0, 12)\n",
        "ax.set_ylim(0, 12)\n",
        "ax.figure.set_size_inches(5, 5)\n",
        "plt.show"
      ]
    },
    {
      "cell_type": "code",
      "execution_count": null,
      "id": "3f9f2cc6-8687-4676-b1aa-437914379f12",
      "metadata": {
        "id": "3f9f2cc6-8687-4676-b1aa-437914379f12"
      },
      "outputs": [],
      "source": [
        ""
      ]
    }
  ],
  "metadata": {
    "kernelspec": {
      "display_name": "Python 3",
      "language": "python",
      "name": "python3"
    },
    "language_info": {
      "codemirror_mode": {
        "name": "ipython",
        "version": 3
      },
      "file_extension": ".py",
      "mimetype": "text/x-python",
      "name": "python",
      "nbconvert_exporter": "python",
      "pygments_lexer": "ipython3",
      "version": "3.7.3"
    },
    "colab": {
      "name": "004_train_CNN.ipynb",
      "provenance": [],
      "collapsed_sections": []
    },
    "accelerator": "GPU"
  },
  "nbformat": 4,
  "nbformat_minor": 5
}