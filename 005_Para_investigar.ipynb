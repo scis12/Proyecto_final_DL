{
  "cells": [
    {
      "cell_type": "markdown",
      "id": "afc92861-86dc-44ad-b27c-b5ffd044472a",
      "metadata": {
        "id": "afc92861-86dc-44ad-b27c-b5ffd044472a"
      },
      "source": [
        "# ¿Que más se podría hacer?"
      ]
    },
    {
      "cell_type": "markdown",
      "id": "704dd533-a652-4bbf-97b9-e2923e11d78d",
      "metadata": {
        "id": "704dd533-a652-4bbf-97b9-e2923e11d78d"
      },
      "source": [
        "- Test con data augmentation y la LSTM\n",
        "- Usar los tokenizadores usados en los transformers para ver como funcionan\n",
        "- TSNE de embeddings y analizar si hay interpretación\n",
        "- Probar con otras encimas o proteinas\n",
        "- Usar los embeddings entrenados para analizar resultados de proteinas o encimas con menos data\n",
        "- Entrenar una red neuronal con los features (fingerprints por ejemplo) y comparar los resultados con los embeddings\n"
      ]
    },
    {
      "cell_type": "markdown",
      "id": "2085f015-56fa-4364-958d-b7a0786372af",
      "metadata": {
        "id": "2085f015-56fa-4364-958d-b7a0786372af"
      },
      "source": [
        "# Tome cualquiera de estas propuestas o alguna suya y desarrolle"
      ]
    },
    {
      "cell_type": "markdown",
      "source": [
        "## Armo un TSNE para entender si los embeddings entrenados por el modelo CNN tienen una interpretacion"
      ],
      "metadata": {
        "id": "kIof6AQJNhvV"
      },
      "id": "kIof6AQJNhvV"
    },
    {
      "cell_type": "code",
      "execution_count": 1,
      "id": "3bda68d7-f66c-4457-a876-9a8808961880",
      "metadata": {
        "id": "3bda68d7-f66c-4457-a876-9a8808961880"
      },
      "outputs": [],
      "source": [
        "from tensorflow.keras.models import load_model\n",
        "from sklearn.decomposition import TruncatedSVD\n",
        "from sklearn.manifold import TSNE"
      ]
    },
    {
      "cell_type": "code",
      "source": [
        "def R2(y_true, y_pred):\n",
        "    SS_res =  K.sum(K.square( y_true-y_pred ))\n",
        "    SS_tot = K.sum(K.square( y_true - K.mean(y_true) ) )\n",
        "    return ( 1 - SS_res/(SS_tot + K.epsilon()) )"
      ],
      "metadata": {
        "id": "yt2-ioxOH-1O"
      },
      "id": "yt2-ioxOH-1O",
      "execution_count": 2,
      "outputs": []
    },
    {
      "cell_type": "code",
      "source": [
        ""
      ],
      "metadata": {
        "id": "JgQ8OrX2NsiI"
      },
      "id": "JgQ8OrX2NsiI",
      "execution_count": null,
      "outputs": []
    },
    {
      "cell_type": "markdown",
      "source": [
        "Importo el modelo"
      ],
      "metadata": {
        "id": "12tTN8tDNtRT"
      },
      "id": "12tTN8tDNtRT"
    },
    {
      "cell_type": "code",
      "source": [
        "model_loaded = load_model('embed_128_text_2_cnn_gmp_aug_100x100_0.0001_drop.h5', custom_objects={'R2': R2})"
      ],
      "metadata": {
        "id": "5smzbJW_IGXy"
      },
      "id": "5smzbJW_IGXy",
      "execution_count": 4,
      "outputs": []
    },
    {
      "cell_type": "markdown",
      "source": [
        "Saco los pesos de los embeddings"
      ],
      "metadata": {
        "id": "cKpJFPJ0NxAo"
      },
      "id": "cKpJFPJ0NxAo"
    },
    {
      "cell_type": "code",
      "source": [
        "embeddings = model_loaded.layers[1].get_weights()[0]"
      ],
      "metadata": {
        "id": "b6wjX4WbIQNz"
      },
      "id": "b6wjX4WbIQNz",
      "execution_count": 5,
      "outputs": []
    },
    {
      "cell_type": "markdown",
      "source": [
        "Instancio un TSNE de dos dimensiones para graficar y lo entreno con los embeddings"
      ],
      "metadata": {
        "id": "zUxn6UeRN0FP"
      },
      "id": "zUxn6UeRN0FP"
    },
    {
      "cell_type": "code",
      "source": [
        "tsne = TSNE(2, verbose=1)"
      ],
      "metadata": {
        "id": "2UtQFlx3IZCF"
      },
      "id": "2UtQFlx3IZCF",
      "execution_count": 6,
      "outputs": []
    },
    {
      "cell_type": "code",
      "source": [
        "embed_2d = tsne.fit_transform(embeddings)"
      ],
      "metadata": {
        "colab": {
          "base_uri": "https://localhost:8080/"
        },
        "id": "WfV9n_SVJKB-",
        "outputId": "e3dd6774-acc4-4311-b954-b4ff9b862c20"
      },
      "id": "WfV9n_SVJKB-",
      "execution_count": 7,
      "outputs": [
        {
          "output_type": "stream",
          "name": "stderr",
          "text": [
            "/usr/local/lib/python3.7/dist-packages/sklearn/manifold/_t_sne.py:783: FutureWarning: The default initialization in TSNE will change from 'random' to 'pca' in 1.2.\n",
            "  FutureWarning,\n",
            "/usr/local/lib/python3.7/dist-packages/sklearn/manifold/_t_sne.py:793: FutureWarning: The default learning rate in TSNE will change from 200.0 to 'auto' in 1.2.\n",
            "  FutureWarning,\n"
          ]
        },
        {
          "output_type": "stream",
          "name": "stdout",
          "text": [
            "[t-SNE] Computing 41 nearest neighbors...\n",
            "[t-SNE] Indexed 42 samples in 0.000s...\n",
            "[t-SNE] Computed neighbors for 42 samples in 0.008s...\n",
            "[t-SNE] Computed conditional probabilities for sample 42 / 42\n",
            "[t-SNE] Mean sigma: 0.342147\n",
            "[t-SNE] KL divergence after 250 iterations with early exaggeration: 60.442413\n",
            "[t-SNE] KL divergence after 1000 iterations: 0.442442\n"
          ]
        }
      ]
    },
    {
      "cell_type": "markdown",
      "source": [
        "Me traigo el diccionario de smiles y armo un reverse index del mismo"
      ],
      "metadata": {
        "id": "tlzskGfsOBDn"
      },
      "id": "tlzskGfsOBDn"
    },
    {
      "cell_type": "code",
      "source": [
        "from datagen import smiles_dict"
      ],
      "metadata": {
        "id": "xBQosbTjJtKO"
      },
      "id": "xBQosbTjJtKO",
      "execution_count": 11,
      "outputs": []
    },
    {
      "cell_type": "code",
      "source": [
        "smiles_dict"
      ],
      "metadata": {
        "colab": {
          "base_uri": "https://localhost:8080/"
        },
        "id": "GgNnoXH-Os4S",
        "outputId": "d2a507cf-83a2-46ef-f00c-c593e44662a3"
      },
      "id": "GgNnoXH-Os4S",
      "execution_count": 12,
      "outputs": [
        {
          "output_type": "execute_result",
          "data": {
            "text/plain": [
              "{'#': 1,\n",
              " '(': 2,\n",
              " ')': 3,\n",
              " '+': 4,\n",
              " '-': 5,\n",
              " '.': 35,\n",
              " '/': 6,\n",
              " '1': 7,\n",
              " '10': 41,\n",
              " '11': 42,\n",
              " '2': 8,\n",
              " '3': 9,\n",
              " '4': 10,\n",
              " '5': 11,\n",
              " '6': 12,\n",
              " '7': 13,\n",
              " '8': 14,\n",
              " '9': 40,\n",
              " '=': 15,\n",
              " '@': 34,\n",
              " 'B': 37,\n",
              " 'Br': 30,\n",
              " 'C': 16,\n",
              " 'Cl': 29,\n",
              " 'F': 17,\n",
              " 'H': 18,\n",
              " 'I': 19,\n",
              " 'N': 20,\n",
              " 'O': 21,\n",
              " 'P': 22,\n",
              " 'S': 23,\n",
              " '[': 24,\n",
              " '\\\\': 25,\n",
              " ']': 26,\n",
              " '_': 27,\n",
              " 'a': 36,\n",
              " 'c': 28,\n",
              " 'e': 38,\n",
              " 'i': 39,\n",
              " 'n': 31,\n",
              " 'o': 32,\n",
              " 's': 33}"
            ]
          },
          "metadata": {},
          "execution_count": 12
        }
      ]
    },
    {
      "cell_type": "code",
      "source": [
        "reverse_index = dict([(value, key) for (key, value) in smiles_dict.items()])"
      ],
      "metadata": {
        "id": "k1K5e_7dMp97"
      },
      "id": "k1K5e_7dMp97",
      "execution_count": 13,
      "outputs": []
    },
    {
      "cell_type": "markdown",
      "source": [
        "Grafico"
      ],
      "metadata": {
        "id": "p0zAIw5vOF8L"
      },
      "id": "p0zAIw5vOF8L"
    },
    {
      "cell_type": "code",
      "source": [
        "from matplotlib import pyplot as plt"
      ],
      "metadata": {
        "id": "oku0FdIPJNGl"
      },
      "id": "oku0FdIPJNGl",
      "execution_count": 14,
      "outputs": []
    },
    {
      "cell_type": "code",
      "source": [
        "plt.figure(figsize=(16,10))\n",
        "plt.scatter(embed_2d[:,0], embed_2d[:,1], s = 0.5)\n",
        "for smile in smiles_dict.keys():\n",
        "  plt.text(embed_2d[smiles_dict[smile]-1][0], embed_2d[smiles_dict[smile]-1][1],reverse_index[smiles_dict[smile]])\n",
        "plt.show()"
      ],
      "metadata": {
        "colab": {
          "base_uri": "https://localhost:8080/",
          "height": 592
        },
        "id": "E07IUcZQJkVr",
        "outputId": "1c546f8f-c768-45df-ba4c-3030fdcfdaf6"
      },
      "id": "E07IUcZQJkVr",
      "execution_count": 15,
      "outputs": [
        {
          "output_type": "display_data",
          "data": {
            "image/png": "[encoded data removed]",
            "text/plain": [
              "<Figure size 1152x720 with 1 Axes>"
            ]
          },
          "metadata": {
            "needs_background": "light"
          }
        }
      ]
    },
    {
      "cell_type": "markdown",
      "source": [
        "A pesar de tener un conocimiento extremadamente básico de química, puedo observar que, por ejemplo, la C y la H se encuentran muy próximas, algo esperable dado que los enlaces carbono e hidrógeno son muy comunes."
      ],
      "metadata": {
        "id": "dO9eytE8OMSs"
      },
      "id": "dO9eytE8OMSs"
    },
    {
      "cell_type": "markdown",
      "source": [
        "Por otro lado, los números tienden a encontrarse juntos (en la parte central del gráfico)"
      ],
      "metadata": {
        "id": "l2UfXDXTOh91"
      },
      "id": "l2UfXDXTOh91"
    },
    {
      "cell_type": "markdown",
      "source": [
        "Además, las cadenas de enlaces dobles (=) y triples (#) se encuentran próximas y cerca de elementos como cloro, nitrogeno y F, por lo que deben ser elementos que presentan ese tipo de enlaces, o deben estar presentes en moléculas complejas que presentan enlaces de ese tipo."
      ],
      "metadata": {
        "id": "TJwTRwoC47oQ"
      },
      "id": "TJwTRwoC47oQ"
    },
    {
      "cell_type": "code",
      "source": [
        ""
      ],
      "metadata": {
        "id": "--y_x-vLOgJI"
      },
      "id": "--y_x-vLOgJI",
      "execution_count": null,
      "outputs": []
    },
    {
      "cell_type": "code",
      "source": [
        ""
      ],
      "metadata": {
        "id": "Sk9K4E7QLNyd"
      },
      "id": "Sk9K4E7QLNyd",
      "execution_count": null,
      "outputs": []
    }
  ],
  "metadata": {
    "kernelspec": {
      "display_name": "Python 3",
      "language": "python",
      "name": "python3"
    },
    "language_info": {
      "codemirror_mode": {
        "name": "ipython",
        "version": 3
      },
      "file_extension": ".py",
      "mimetype": "text/x-python",
      "name": "python",
      "nbconvert_exporter": "python",
      "pygments_lexer": "ipython3",
      "version": "3.7.3"
    },
    "colab": {
      "name": "005_Para_investigar.ipynb",
      "provenance": [],
      "collapsed_sections": []
    }
  },
  "nbformat": 4,
  "nbformat_minor": 5
}