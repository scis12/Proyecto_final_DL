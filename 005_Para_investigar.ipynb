{
 "cells": [
  {
   "cell_type": "markdown",
   "id": "afc92861-86dc-44ad-b27c-b5ffd044472a",
   "metadata": {},
   "source": [
    "# ¿Que más se podría hacer?"
   ]
  },
  {
   "cell_type": "markdown",
   "id": "704dd533-a652-4bbf-97b9-e2923e11d78d",
   "metadata": {},
   "source": [
    "- Test con data augmentation y la LSTM\n",
    "- Usar los tokenizadores usados en los transformers para ver como funcionan\n",
    "- TSNE de embeddings y analizar si hay interpretación\n",
    "- Probar con otras encimas o proteinas\n",
    "- Usar los embeddings entrenados para analizar resultados de proteinas o encimas con menos data\n",
    "- Entrenar una red neuronal con los features (fingerprints por ejemplo) y comparar los resultados con los embeddings\n"
   ]
  },
  {
   "cell_type": "markdown",
   "id": "2085f015-56fa-4364-958d-b7a0786372af",
   "metadata": {},
   "source": [
    "# Tome cualquiera de estas propuestas o alguna suya y desarrolle"
   ]
  },
  {
   "cell_type": "code",
   "execution_count": null,
   "id": "3bda68d7-f66c-4457-a876-9a8808961880",
   "metadata": {},
   "outputs": [],
   "source": []
  }
 ],
 "metadata": {
  "kernelspec": {
   "display_name": "Python 3",
   "language": "python",
   "name": "python3"
  },
  "language_info": {
   "codemirror_mode": {
    "name": "ipython",
    "version": 3
   },
   "file_extension": ".py",
   "mimetype": "text/x-python",
   "name": "python",
   "nbconvert_exporter": "python",
   "pygments_lexer": "ipython3",
   "version": "3.7.3"
  }
 },
 "nbformat": 4,
 "nbformat_minor": 5
}
