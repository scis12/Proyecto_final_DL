{
 "cells": [
  {
   "cell_type": "code",
   "execution_count": 1,
   "id": "4d51cf97-2013-4d44-a625-46c72bf85dfd",
   "metadata": {},
   "outputs": [],
   "source": [
    "import pandas as pd"
   ]
  },
  {
   "cell_type": "code",
   "execution_count": 2,
   "id": "6fbb2723-7583-4cb6-a7e5-4294d8140530",
   "metadata": {},
   "outputs": [],
   "source": [
    "import deepchem as dc"
   ]
  },
  {
   "cell_type": "markdown",
   "id": "606b84ac-193a-4a45-94ef-63038fa1091c",
   "metadata": {},
   "source": [
    "# Cargo dataset"
   ]
  },
  {
   "cell_type": "code",
   "execution_count": 3,
   "id": "f2e4e0e3-4c6a-43f6-8b46-f2aa3edb3dbc",
   "metadata": {},
   "outputs": [],
   "source": [
    "df = pd.read_csv('data/acetylcholinesterase_02_bioactivity_data_preprocessed.csv')"
   ]
  },
  {
   "cell_type": "code",
   "execution_count": 4,
   "id": "3aed68a2-b156-4f9a-95d1-6d06e70a3447",
   "metadata": {},
   "outputs": [
    {
     "data": {
      "text/html": [
       "<div>\n",
       "<style scoped>\n",
       "    .dataframe tbody tr th:only-of-type {\n",
       "        vertical-align: middle;\n",
       "    }\n",
       "\n",
       "    .dataframe tbody tr th {\n",
       "        vertical-align: top;\n",
       "    }\n",
       "\n",
       "    .dataframe thead th {\n",
       "        text-align: right;\n",
       "    }\n",
       "</style>\n",
       "<table border=\"1\" class=\"dataframe\">\n",
       "  <thead>\n",
       "    <tr style=\"text-align: right;\">\n",
       "      <th></th>\n",
       "      <th>molecule_chembl_id</th>\n",
       "      <th>canonical_smiles</th>\n",
       "      <th>standard_value</th>\n",
       "      <th>standard_value_norm</th>\n",
       "      <th>pIC50</th>\n",
       "    </tr>\n",
       "  </thead>\n",
       "  <tbody>\n",
       "    <tr>\n",
       "      <th>0</th>\n",
       "      <td>CHEMBL133897</td>\n",
       "      <td>CCOc1nn(-c2cccc(OCc3ccccc3)c2)c(=O)o1</td>\n",
       "      <td>750.0</td>\n",
       "      <td>750.0</td>\n",
       "      <td>6.124939</td>\n",
       "    </tr>\n",
       "    <tr>\n",
       "      <th>1</th>\n",
       "      <td>CHEMBL336398</td>\n",
       "      <td>O=C(N1CCCCC1)n1nc(-c2ccc(Cl)cc2)nc1SCC1CC1</td>\n",
       "      <td>100.0</td>\n",
       "      <td>100.0</td>\n",
       "      <td>7.000000</td>\n",
       "    </tr>\n",
       "    <tr>\n",
       "      <th>2</th>\n",
       "      <td>CHEMBL131588</td>\n",
       "      <td>CN(C(=O)n1nc(-c2ccc(Cl)cc2)nc1SCC(F)(F)F)c1ccccc1</td>\n",
       "      <td>50000.0</td>\n",
       "      <td>50000.0</td>\n",
       "      <td>4.301030</td>\n",
       "    </tr>\n",
       "    <tr>\n",
       "      <th>3</th>\n",
       "      <td>CHEMBL130628</td>\n",
       "      <td>O=C(N1CCCCC1)n1nc(-c2ccc(Cl)cc2)nc1SCC(F)(F)F</td>\n",
       "      <td>300.0</td>\n",
       "      <td>300.0</td>\n",
       "      <td>6.522879</td>\n",
       "    </tr>\n",
       "    <tr>\n",
       "      <th>4</th>\n",
       "      <td>CHEMBL130478</td>\n",
       "      <td>CSc1nc(-c2ccc(OC(F)(F)F)cc2)nn1C(=O)N(C)C</td>\n",
       "      <td>800.0</td>\n",
       "      <td>800.0</td>\n",
       "      <td>6.096910</td>\n",
       "    </tr>\n",
       "    <tr>\n",
       "      <th>...</th>\n",
       "      <td>...</td>\n",
       "      <td>...</td>\n",
       "      <td>...</td>\n",
       "      <td>...</td>\n",
       "      <td>...</td>\n",
       "    </tr>\n",
       "    <tr>\n",
       "      <th>5038</th>\n",
       "      <td>CHEMBL4554172</td>\n",
       "      <td>Cc1ccc(-c2nc(NC(=O)C3CCN(Cc4cccc(F)c4)CC3)sc2-...</td>\n",
       "      <td>10000.0</td>\n",
       "      <td>10000.0</td>\n",
       "      <td>5.000000</td>\n",
       "    </tr>\n",
       "    <tr>\n",
       "      <th>5039</th>\n",
       "      <td>CHEMBL4533844</td>\n",
       "      <td>Cc1ccc(-c2nc(NC(=O)C3CCN(Cc4ccccc4C(F)(F)F)CC3...</td>\n",
       "      <td>7570.0</td>\n",
       "      <td>7570.0</td>\n",
       "      <td>5.120904</td>\n",
       "    </tr>\n",
       "    <tr>\n",
       "      <th>5040</th>\n",
       "      <td>CHEMBL4570655</td>\n",
       "      <td>Cc1ccc(-c2nc(NC(=O)C3CCN(Cc4ccccc4C)CC3)sc2-c2...</td>\n",
       "      <td>10000.0</td>\n",
       "      <td>10000.0</td>\n",
       "      <td>5.000000</td>\n",
       "    </tr>\n",
       "    <tr>\n",
       "      <th>5041</th>\n",
       "      <td>CHEMBL4571704</td>\n",
       "      <td>COc1cc(O)c2c(c1)C1=C(c3c(O)c(O)cc(C)c3-c3cc(OC...</td>\n",
       "      <td>15500.0</td>\n",
       "      <td>15500.0</td>\n",
       "      <td>4.809668</td>\n",
       "    </tr>\n",
       "    <tr>\n",
       "      <th>5042</th>\n",
       "      <td>CHEMBL4556664</td>\n",
       "      <td>COc1cc(O)c(C(C)=O)c(-c2c(C)cc(O)c3oc4c(O)cc(C)...</td>\n",
       "      <td>68300.0</td>\n",
       "      <td>68300.0</td>\n",
       "      <td>4.165579</td>\n",
       "    </tr>\n",
       "  </tbody>\n",
       "</table>\n",
       "<p>5043 rows × 5 columns</p>\n",
       "</div>"
      ],
      "text/plain": [
       "     molecule_chembl_id                                   canonical_smiles  \\\n",
       "0          CHEMBL133897              CCOc1nn(-c2cccc(OCc3ccccc3)c2)c(=O)o1   \n",
       "1          CHEMBL336398         O=C(N1CCCCC1)n1nc(-c2ccc(Cl)cc2)nc1SCC1CC1   \n",
       "2          CHEMBL131588  CN(C(=O)n1nc(-c2ccc(Cl)cc2)nc1SCC(F)(F)F)c1ccccc1   \n",
       "3          CHEMBL130628      O=C(N1CCCCC1)n1nc(-c2ccc(Cl)cc2)nc1SCC(F)(F)F   \n",
       "4          CHEMBL130478          CSc1nc(-c2ccc(OC(F)(F)F)cc2)nn1C(=O)N(C)C   \n",
       "...                 ...                                                ...   \n",
       "5038      CHEMBL4554172  Cc1ccc(-c2nc(NC(=O)C3CCN(Cc4cccc(F)c4)CC3)sc2-...   \n",
       "5039      CHEMBL4533844  Cc1ccc(-c2nc(NC(=O)C3CCN(Cc4ccccc4C(F)(F)F)CC3...   \n",
       "5040      CHEMBL4570655  Cc1ccc(-c2nc(NC(=O)C3CCN(Cc4ccccc4C)CC3)sc2-c2...   \n",
       "5041      CHEMBL4571704  COc1cc(O)c2c(c1)C1=C(c3c(O)c(O)cc(C)c3-c3cc(OC...   \n",
       "5042      CHEMBL4556664  COc1cc(O)c(C(C)=O)c(-c2c(C)cc(O)c3oc4c(O)cc(C)...   \n",
       "\n",
       "      standard_value  standard_value_norm     pIC50  \n",
       "0              750.0                750.0  6.124939  \n",
       "1              100.0                100.0  7.000000  \n",
       "2            50000.0              50000.0  4.301030  \n",
       "3              300.0                300.0  6.522879  \n",
       "4              800.0                800.0  6.096910  \n",
       "...              ...                  ...       ...  \n",
       "5038         10000.0              10000.0  5.000000  \n",
       "5039          7570.0               7570.0  5.120904  \n",
       "5040         10000.0              10000.0  5.000000  \n",
       "5041         15500.0              15500.0  4.809668  \n",
       "5042         68300.0              68300.0  4.165579  \n",
       "\n",
       "[5043 rows x 5 columns]"
      ]
     },
     "execution_count": 4,
     "metadata": {},
     "output_type": "execute_result"
    }
   ],
   "source": [
    "df"
   ]
  },
  {
   "cell_type": "markdown",
   "id": "f86f0c1c-2b49-4f8a-927b-f1e1d0de0511",
   "metadata": {},
   "source": [
    "# Pongo el dataset en el formato que deepchem necesita\n",
    "Quizas aca se podía bajar directo en el formato"
   ]
  },
  {
   "cell_type": "code",
   "execution_count": 5,
   "id": "aabb264c-28d1-4457-add6-59ab0063f961",
   "metadata": {},
   "outputs": [],
   "source": [
    "dataset = dc.data.NumpyDataset(X=df['canonical_smiles'].values, y=df['pIC50'].values, ids=df['canonical_smiles'].values)"
   ]
  },
  {
   "cell_type": "markdown",
   "id": "29f715d2-43cd-48a7-8a83-5f5a31e0a7e5",
   "metadata": {},
   "source": [
    "# Divido en train y test\n",
    "Faltaría validación estrictametne"
   ]
  },
  {
   "cell_type": "code",
   "execution_count": 6,
   "id": "7fb0977e-8077-4855-8877-f7cff12d00a7",
   "metadata": {},
   "outputs": [],
   "source": [
    "splitter = dc.splits.RandomSplitter()"
   ]
  },
  {
   "cell_type": "code",
   "execution_count": 7,
   "id": "c699ac34-8ec5-427d-90ad-a9fe84269914",
   "metadata": {},
   "outputs": [],
   "source": [
    "train, test = splitter.train_test_split(dataset)"
   ]
  },
  {
   "cell_type": "markdown",
   "id": "4c4f3eb9-1d7b-4135-9d48-83e5a7bc6e5a",
   "metadata": {},
   "source": [
    "# Genero el diccionario de smiles que necesita el modelo para contruir el embedding"
   ]
  },
  {
   "cell_type": "code",
   "execution_count": 8,
   "id": "5ef22116-02a5-4744-a003-dbf42dce1326",
   "metadata": {},
   "outputs": [],
   "source": [
    "smiles_dict, lenght = dc.models.TextCNNModel.build_char_dict(dataset)"
   ]
  },
  {
   "cell_type": "code",
   "execution_count": 9,
   "id": "ec8e8868-8ff1-494d-ba44-0b092d79030f",
   "metadata": {},
   "outputs": [
    {
     "data": {
      "text/plain": [
       "{'#': 1,\n",
       " '(': 2,\n",
       " ')': 3,\n",
       " '+': 4,\n",
       " '-': 5,\n",
       " '/': 6,\n",
       " '1': 7,\n",
       " '2': 8,\n",
       " '3': 9,\n",
       " '4': 10,\n",
       " '5': 11,\n",
       " '6': 12,\n",
       " '7': 13,\n",
       " '8': 14,\n",
       " '=': 15,\n",
       " 'C': 16,\n",
       " 'F': 17,\n",
       " 'H': 18,\n",
       " 'I': 19,\n",
       " 'N': 20,\n",
       " 'O': 21,\n",
       " 'P': 22,\n",
       " 'S': 23,\n",
       " '[': 24,\n",
       " '\\\\': 25,\n",
       " ']': 26,\n",
       " '_': 27,\n",
       " 'c': 28,\n",
       " 'Cl': 29,\n",
       " 'Br': 30,\n",
       " 'n': 31,\n",
       " 'o': 32,\n",
       " 's': 33,\n",
       " '@': 34,\n",
       " '.': 35,\n",
       " 'a': 36,\n",
       " 'B': 37,\n",
       " 'e': 38,\n",
       " 'i': 39}"
      ]
     },
     "execution_count": 9,
     "metadata": {},
     "output_type": "execute_result"
    }
   ],
   "source": [
    "smiles_dict"
   ]
  },
  {
   "cell_type": "markdown",
   "id": "30945da2-37eb-4781-a52a-60c6c20618d5",
   "metadata": {},
   "source": [
    "# Instancio el modelo"
   ]
  },
  {
   "cell_type": "code",
   "execution_count": 10,
   "id": "4daaf2d0-681b-41c6-85d6-9ab6ea63fb32",
   "metadata": {},
   "outputs": [],
   "source": [
    "model = dc.models.TextCNNModel(\n",
    "    1, smiles_dict, lenght, mode='regression', n_embedding=128, kernel_sizes=[3, 4, 5], num_filters=[128, 128, 128], dropout=0., \n",
    "    log_frequency=5, batch_size=128, optimizer=dc.models.optimizers.Adam()\n",
    ")"
   ]
  },
  {
   "cell_type": "code",
   "execution_count": 11,
   "id": "bba7fe09-7d35-4ff0-8581-af16998770b2",
   "metadata": {},
   "outputs": [
    {
     "name": "stdout",
     "output_type": "stream",
     "text": [
      "Model: \"model\"\n",
      "__________________________________________________________________________________________________\n",
      "Layer (type)                    Output Shape         Param #     Connected to                     \n",
      "==================================================================================================\n",
      "input_1 (InputLayer)            [(None, 248)]        0                                            \n",
      "__________________________________________________________________________________________________\n",
      "dtnn_embedding (DTNNEmbedding)  (None, 248, 128)     5120        input_1[0][0]                    \n",
      "__________________________________________________________________________________________________\n",
      "conv1d (Conv1D)                 (None, 246, 128)     49280       dtnn_embedding[0][0]             \n",
      "__________________________________________________________________________________________________\n",
      "conv1d_1 (Conv1D)               (None, 245, 128)     65664       dtnn_embedding[0][0]             \n",
      "__________________________________________________________________________________________________\n",
      "conv1d_2 (Conv1D)               (None, 244, 128)     82048       dtnn_embedding[0][0]             \n",
      "__________________________________________________________________________________________________\n",
      "lambda (Lambda)                 (None, 128)          0           conv1d[0][0]                     \n",
      "__________________________________________________________________________________________________\n",
      "lambda_1 (Lambda)               (None, 128)          0           conv1d_1[0][0]                   \n",
      "__________________________________________________________________________________________________\n",
      "lambda_2 (Lambda)               (None, 128)          0           conv1d_2[0][0]                   \n",
      "__________________________________________________________________________________________________\n",
      "concatenate (Concatenate)       (None, 384)          0           lambda[0][0]                     \n",
      "                                                                 lambda_1[0][0]                   \n",
      "                                                                 lambda_2[0][0]                   \n",
      "__________________________________________________________________________________________________\n",
      "dropout (Dropout)               (None, 384)          0           concatenate[0][0]                \n",
      "__________________________________________________________________________________________________\n",
      "dense (Dense)                   (None, 200)          77000       dropout[0][0]                    \n",
      "__________________________________________________________________________________________________\n",
      "highway (Highway)               (None, 200)          80400       dense[0][0]                      \n",
      "__________________________________________________________________________________________________\n",
      "dense_1 (Dense)                 (None, 1)            201         highway[0][0]                    \n",
      "__________________________________________________________________________________________________\n",
      "reshape (Reshape)               (None, 1, 1)         0           dense_1[0][0]                    \n",
      "==================================================================================================\n",
      "Total params: 359,713\n",
      "Trainable params: 359,713\n",
      "Non-trainable params: 0\n",
      "__________________________________________________________________________________________________\n"
     ]
    }
   ],
   "source": [
    "model.model.summary()"
   ]
  },
  {
   "cell_type": "code",
   "execution_count": 12,
   "id": "902f4e29-2b30-4bb9-9485-ef7bc24f48eb",
   "metadata": {},
   "outputs": [],
   "source": [
    "# Es necesario para ver resultados mientras entrana\n",
    "vc = dc.models.ValidationCallback(test, 20, dc.metrics.r2_score)"
   ]
  },
  {
   "cell_type": "markdown",
   "id": "c58bc3fd-6cee-4441-97eb-2c812ac55d55",
   "metadata": {},
   "source": [
    "# Entreno"
   ]
  },
  {
   "cell_type": "code",
   "execution_count": 183,
   "id": "fbebae78-32a4-4c46-a0d2-0d543c672bd4",
   "metadata": {
    "tags": []
   },
   "outputs": [
    {
     "name": "stdout",
     "output_type": "stream",
     "text": [
      "Step 20 validation: metric-1=-0.106052\n",
      "Step 40 validation: metric-1=0.213509\n",
      "Step 60 validation: metric-1=0.270936\n",
      "Step 80 validation: metric-1=0.302676\n",
      "Step 100 validation: metric-1=0.332069\n",
      "Step 120 validation: metric-1=0.348674\n",
      "Step 140 validation: metric-1=0.39992\n",
      "Step 160 validation: metric-1=0.433392\n",
      "Step 180 validation: metric-1=0.457629\n",
      "Step 200 validation: metric-1=0.468889\n",
      "Step 220 validation: metric-1=0.507943\n",
      "Step 240 validation: metric-1=0.526728\n",
      "Step 260 validation: metric-1=0.519358\n",
      "Step 280 validation: metric-1=0.53856\n",
      "Step 300 validation: metric-1=0.568068\n",
      "Step 320 validation: metric-1=0.483881\n",
      "Step 340 validation: metric-1=0.535976\n",
      "Step 360 validation: metric-1=0.587307\n",
      "Step 380 validation: metric-1=0.604389\n",
      "Step 400 validation: metric-1=0.583606\n",
      "Step 420 validation: metric-1=0.577483\n",
      "Step 440 validation: metric-1=0.550915\n",
      "Step 460 validation: metric-1=0.603084\n",
      "Step 480 validation: metric-1=0.583663\n",
      "Step 500 validation: metric-1=0.609059\n",
      "Step 520 validation: metric-1=0.601465\n",
      "Step 540 validation: metric-1=0.547759\n",
      "Step 560 validation: metric-1=0.619773\n",
      "Step 580 validation: metric-1=0.620447\n",
      "Step 600 validation: metric-1=0.636939\n",
      "Step 620 validation: metric-1=0.625044\n",
      "Step 640 validation: metric-1=0.617146\n",
      "Step 660 validation: metric-1=0.632242\n",
      "Step 680 validation: metric-1=0.63375\n",
      "Step 700 validation: metric-1=0.610247\n",
      "Step 720 validation: metric-1=0.5687\n",
      "Step 740 validation: metric-1=0.591355\n",
      "Step 760 validation: metric-1=0.630555\n",
      "Step 780 validation: metric-1=0.643501\n",
      "Step 800 validation: metric-1=0.616751\n",
      "Step 820 validation: metric-1=0.633221\n",
      "Step 840 validation: metric-1=0.450624\n",
      "Step 860 validation: metric-1=0.642073\n",
      "Step 880 validation: metric-1=0.558387\n",
      "Step 900 validation: metric-1=0.651524\n",
      "Step 920 validation: metric-1=0.637569\n",
      "Step 940 validation: metric-1=0.62716\n",
      "Step 960 validation: metric-1=0.629922\n",
      "Step 980 validation: metric-1=0.582546\n",
      "Step 1000 validation: metric-1=0.615101\n",
      "Step 1020 validation: metric-1=0.582932\n",
      "Step 1040 validation: metric-1=0.603893\n",
      "Step 1060 validation: metric-1=0.624383\n",
      "Step 1080 validation: metric-1=0.639237\n",
      "Step 1100 validation: metric-1=0.64309\n",
      "Step 1120 validation: metric-1=0.585383\n",
      "Step 1140 validation: metric-1=0.605043\n",
      "Step 1160 validation: metric-1=0.648947\n",
      "Step 1180 validation: metric-1=0.623442\n",
      "Step 1200 validation: metric-1=0.645914\n",
      "Step 1220 validation: metric-1=0.633799\n",
      "Step 1240 validation: metric-1=0.614786\n",
      "Step 1260 validation: metric-1=0.630978\n",
      "Step 1280 validation: metric-1=0.638629\n",
      "Step 1300 validation: metric-1=0.566531\n",
      "Step 1320 validation: metric-1=0.636511\n",
      "Step 1340 validation: metric-1=0.632636\n",
      "Step 1360 validation: metric-1=0.631676\n",
      "Step 1380 validation: metric-1=0.642116\n",
      "Step 1400 validation: metric-1=0.640411\n",
      "Step 1420 validation: metric-1=0.621689\n",
      "Step 1440 validation: metric-1=0.639965\n",
      "Step 1460 validation: metric-1=0.59717\n",
      "Step 1480 validation: metric-1=0.598499\n",
      "Step 1500 validation: metric-1=0.645689\n",
      "Step 1520 validation: metric-1=0.574608\n",
      "Step 1540 validation: metric-1=0.618617\n",
      "Step 1560 validation: metric-1=0.628467\n",
      "Step 1580 validation: metric-1=0.635207\n",
      "Step 1600 validation: metric-1=0.645732\n",
      "Step 1620 validation: metric-1=0.631401\n",
      "Step 1640 validation: metric-1=0.614528\n",
      "Step 1660 validation: metric-1=0.624569\n",
      "Step 1680 validation: metric-1=0.633125\n",
      "Step 1700 validation: metric-1=0.641335\n",
      "Step 1720 validation: metric-1=0.601512\n",
      "Step 1740 validation: metric-1=0.628934\n",
      "Step 1760 validation: metric-1=0.642548\n",
      "Step 1780 validation: metric-1=0.618919\n",
      "Step 1800 validation: metric-1=0.652213\n",
      "Step 1820 validation: metric-1=0.633101\n",
      "Step 1840 validation: metric-1=0.62505\n",
      "Step 1860 validation: metric-1=0.640829\n",
      "Step 1880 validation: metric-1=0.638559\n",
      "Step 1900 validation: metric-1=0.626311\n",
      "Step 1920 validation: metric-1=0.607072\n",
      "Step 1940 validation: metric-1=0.591712\n",
      "Step 1960 validation: metric-1=0.611911\n",
      "Step 1980 validation: metric-1=0.637068\n",
      "Step 2000 validation: metric-1=0.624515\n",
      "Step 2020 validation: metric-1=0.574189\n",
      "Step 2040 validation: metric-1=0.602309\n",
      "Step 2060 validation: metric-1=0.560741\n",
      "Step 2080 validation: metric-1=0.567255\n",
      "Step 2100 validation: metric-1=0.623709\n",
      "Step 2120 validation: metric-1=0.633235\n",
      "Step 2140 validation: metric-1=0.634272\n",
      "Step 2160 validation: metric-1=0.635422\n",
      "Step 2180 validation: metric-1=0.615598\n",
      "Step 2200 validation: metric-1=0.641183\n",
      "Step 2220 validation: metric-1=0.638921\n",
      "Step 2240 validation: metric-1=0.581422\n",
      "Step 2260 validation: metric-1=0.637526\n",
      "Step 2280 validation: metric-1=0.617231\n",
      "Step 2300 validation: metric-1=0.641104\n",
      "Step 2320 validation: metric-1=0.624231\n",
      "Step 2340 validation: metric-1=0.636028\n",
      "Step 2360 validation: metric-1=0.619438\n",
      "Step 2380 validation: metric-1=0.634403\n",
      "Step 2400 validation: metric-1=0.639607\n",
      "Step 2420 validation: metric-1=0.626479\n",
      "Step 2440 validation: metric-1=0.603469\n",
      "Step 2460 validation: metric-1=0.630799\n",
      "Step 2480 validation: metric-1=0.626155\n",
      "Step 2500 validation: metric-1=0.638037\n",
      "Step 2520 validation: metric-1=0.632682\n",
      "Step 2540 validation: metric-1=0.624912\n",
      "Step 2560 validation: metric-1=0.623177\n",
      "Step 2580 validation: metric-1=0.637873\n",
      "Step 2600 validation: metric-1=0.633693\n",
      "Step 2620 validation: metric-1=0.629942\n",
      "Step 2640 validation: metric-1=0.630609\n",
      "Step 2660 validation: metric-1=0.568325\n",
      "Step 2680 validation: metric-1=0.619138\n",
      "Step 2700 validation: metric-1=0.624616\n",
      "Step 2720 validation: metric-1=0.533024\n",
      "Step 2740 validation: metric-1=0.637867\n",
      "Step 2760 validation: metric-1=0.586768\n",
      "Step 2780 validation: metric-1=0.637791\n",
      "Step 2800 validation: metric-1=0.635208\n",
      "Step 2820 validation: metric-1=0.639248\n",
      "Step 2840 validation: metric-1=0.616277\n",
      "Step 2860 validation: metric-1=0.633405\n",
      "Step 2880 validation: metric-1=0.616325\n",
      "Step 2900 validation: metric-1=0.625449\n",
      "Step 2920 validation: metric-1=0.633314\n",
      "Step 2940 validation: metric-1=0.634619\n",
      "Step 2960 validation: metric-1=0.60221\n",
      "Step 2980 validation: metric-1=0.609149\n",
      "Step 3000 validation: metric-1=0.628474\n",
      "Step 3020 validation: metric-1=0.629288\n",
      "Step 3040 validation: metric-1=0.622209\n",
      "Step 3060 validation: metric-1=0.636686\n",
      "Step 3080 validation: metric-1=0.613442\n",
      "Step 3100 validation: metric-1=0.626\n",
      "Step 3120 validation: metric-1=0.622725\n",
      "Step 3140 validation: metric-1=0.6319\n",
      "Step 3160 validation: metric-1=0.628911\n",
      "Step 3180 validation: metric-1=0.633875\n",
      "Step 3200 validation: metric-1=0.617018\n"
     ]
    },
    {
     "data": {
      "text/plain": [
       "0.17212021350860596"
      ]
     },
     "execution_count": 183,
     "metadata": {},
     "output_type": "execute_result"
    }
   ],
   "source": [
    "model.fit(train, 100, callbacks=[vc])"
   ]
  },
  {
   "cell_type": "markdown",
   "id": "f0c63f7a-12dc-4e08-8313-762c38341ff1",
   "metadata": {},
   "source": [
    "# Evaluó"
   ]
  },
  {
   "cell_type": "code",
   "execution_count": 184,
   "id": "e5396dd0-6e26-4394-8622-2f763bbb6070",
   "metadata": {},
   "outputs": [
    {
     "data": {
      "text/plain": [
       "{'metric-1': 0.9373599628309585}"
      ]
     },
     "execution_count": 184,
     "metadata": {},
     "output_type": "execute_result"
    }
   ],
   "source": [
    "model.evaluate(train, dc.metrics.r2_score)"
   ]
  },
  {
   "cell_type": "code",
   "execution_count": 185,
   "id": "d742002f-c864-478c-9e58-cd3a525273dc",
   "metadata": {},
   "outputs": [
    {
     "data": {
      "text/plain": [
       "{'metric-1': 0.6170177792298378}"
      ]
     },
     "execution_count": 185,
     "metadata": {},
     "output_type": "execute_result"
    }
   ],
   "source": [
    "model.evaluate(test, dc.metrics.r2_score)"
   ]
  },
  {
   "cell_type": "code",
   "execution_count": null,
   "id": "50bcd3a1-e412-4f74-884f-00ccbb056adb",
   "metadata": {},
   "outputs": [],
   "source": []
  }
 ],
 "metadata": {
  "kernelspec": {
   "display_name": "Python 3",
   "language": "python",
   "name": "python3"
  },
  "language_info": {
   "codemirror_mode": {
    "name": "ipython",
    "version": 3
   },
   "file_extension": ".py",
   "mimetype": "text/x-python",
   "name": "python",
   "nbconvert_exporter": "python",
   "pygments_lexer": "ipython3",
   "version": "3.7.3"
  }
 },
 "nbformat": 4,
 "nbformat_minor": 5
}
