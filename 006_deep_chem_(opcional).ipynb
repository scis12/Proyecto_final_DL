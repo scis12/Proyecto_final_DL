{
  "cells": [
    {
      "cell_type": "code",
      "execution_count": 1,
      "id": "4d51cf97-2013-4d44-a625-46c72bf85dfd",
      "metadata": {
        "id": "4d51cf97-2013-4d44-a625-46c72bf85dfd"
      },
      "outputs": [],
      "source": [
        "import pandas as pd"
      ]
    },
    {
      "cell_type": "code",
      "source": [
        "!pip install deepchem"
      ],
      "metadata": {
        "colab": {
          "base_uri": "https://localhost:8080/"
        },
        "id": "wMYjUGNiqF0L",
        "outputId": "e4718391-67c0-46c5-f178-c793cf5985a0"
      },
      "id": "wMYjUGNiqF0L",
      "execution_count": 3,
      "outputs": [
        {
          "output_type": "stream",
          "name": "stdout",
          "text": [
            "Requirement already satisfied: deepchem in /usr/local/lib/python3.7/dist-packages (2.6.1)\n",
            "Requirement already satisfied: numpy>=1.21 in /usr/local/lib/python3.7/dist-packages (from deepchem) (1.21.5)\n",
            "Requirement already satisfied: joblib in /usr/local/lib/python3.7/dist-packages (from deepchem) (1.1.0)\n",
            "Requirement already satisfied: scikit-learn in /usr/local/lib/python3.7/dist-packages (from deepchem) (1.0.2)\n",
            "Requirement already satisfied: pandas in /usr/local/lib/python3.7/dist-packages (from deepchem) (1.3.5)\n",
            "Requirement already satisfied: rdkit-pypi in /usr/local/lib/python3.7/dist-packages (from deepchem) (2021.9.4)\n",
            "Requirement already satisfied: scipy in /usr/local/lib/python3.7/dist-packages (from deepchem) (1.4.1)\n",
            "Requirement already satisfied: python-dateutil>=2.7.3 in /usr/local/lib/python3.7/dist-packages (from pandas->deepchem) (2.8.2)\n",
            "Requirement already satisfied: pytz>=2017.3 in /usr/local/lib/python3.7/dist-packages (from pandas->deepchem) (2018.9)\n",
            "Requirement already satisfied: six>=1.5 in /usr/local/lib/python3.7/dist-packages (from python-dateutil>=2.7.3->pandas->deepchem) (1.15.0)\n",
            "Requirement already satisfied: Pillow in /usr/local/lib/python3.7/dist-packages (from rdkit-pypi->deepchem) (7.1.2)\n",
            "Requirement already satisfied: threadpoolctl>=2.0.0 in /usr/local/lib/python3.7/dist-packages (from scikit-learn->deepchem) (3.1.0)\n"
          ]
        }
      ]
    },
    {
      "cell_type": "code",
      "execution_count": 4,
      "id": "6fbb2723-7583-4cb6-a7e5-4294d8140530",
      "metadata": {
        "id": "6fbb2723-7583-4cb6-a7e5-4294d8140530"
      },
      "outputs": [],
      "source": [
        "import deepchem as dc"
      ]
    },
    {
      "cell_type": "markdown",
      "id": "606b84ac-193a-4a45-94ef-63038fa1091c",
      "metadata": {
        "id": "606b84ac-193a-4a45-94ef-63038fa1091c"
      },
      "source": [
        "# Cargo dataset"
      ]
    },
    {
      "cell_type": "code",
      "execution_count": 5,
      "id": "f2e4e0e3-4c6a-43f6-8b46-f2aa3edb3dbc",
      "metadata": {
        "id": "f2e4e0e3-4c6a-43f6-8b46-f2aa3edb3dbc"
      },
      "outputs": [],
      "source": [
        "df = pd.read_csv('acetylcholinesterase_02_bioactivity_data_preprocessed.csv')"
      ]
    },
    {
      "cell_type": "code",
      "execution_count": 6,
      "id": "3aed68a2-b156-4f9a-95d1-6d06e70a3447",
      "metadata": {
        "colab": {
          "base_uri": "https://localhost:8080/",
          "height": 487
        },
        "id": "3aed68a2-b156-4f9a-95d1-6d06e70a3447",
        "outputId": "3ae0a2eb-6962-4031-d74d-81b7c3b931e1"
      },
      "outputs": [
        {
          "output_type": "execute_result",
          "data": {
            "text/html": [
              "\n",
              "  <div id=\"df-7981c493-cc91-4748-a1c6-e2b629749d5c\">\n",
              "    <div class=\"colab-df-container\">\n",
              "      <div>\n",
              "<style scoped>\n",
              "    .dataframe tbody tr th:only-of-type {\n",
              "        vertical-align: middle;\n",
              "    }\n",
              "\n",
              "    .dataframe tbody tr th {\n",
              "        vertical-align: top;\n",
              "    }\n",
              "\n",
              "    .dataframe thead th {\n",
              "        text-align: right;\n",
              "    }\n",
              "</style>\n",
              "<table border=\"1\" class=\"dataframe\">\n",
              "  <thead>\n",
              "    <tr style=\"text-align: right;\">\n",
              "      <th></th>\n",
              "      <th>molecule_chembl_id</th>\n",
              "      <th>canonical_smiles</th>\n",
              "      <th>standard_value</th>\n",
              "      <th>standard_value_norm</th>\n",
              "      <th>pIC50</th>\n",
              "    </tr>\n",
              "  </thead>\n",
              "  <tbody>\n",
              "    <tr>\n",
              "      <th>0</th>\n",
              "      <td>CHEMBL133897</td>\n",
              "      <td>CCOc1nn(-c2cccc(OCc3ccccc3)c2)c(=O)o1</td>\n",
              "      <td>750.0</td>\n",
              "      <td>750.0</td>\n",
              "      <td>6.124939</td>\n",
              "    </tr>\n",
              "    <tr>\n",
              "      <th>1</th>\n",
              "      <td>CHEMBL336398</td>\n",
              "      <td>O=C(N1CCCCC1)n1nc(-c2ccc(Cl)cc2)nc1SCC1CC1</td>\n",
              "      <td>100.0</td>\n",
              "      <td>100.0</td>\n",
              "      <td>7.000000</td>\n",
              "    </tr>\n",
              "    <tr>\n",
              "      <th>2</th>\n",
              "      <td>CHEMBL131588</td>\n",
              "      <td>CN(C(=O)n1nc(-c2ccc(Cl)cc2)nc1SCC(F)(F)F)c1ccccc1</td>\n",
              "      <td>50000.0</td>\n",
              "      <td>50000.0</td>\n",
              "      <td>4.301030</td>\n",
              "    </tr>\n",
              "    <tr>\n",
              "      <th>3</th>\n",
              "      <td>CHEMBL130628</td>\n",
              "      <td>O=C(N1CCCCC1)n1nc(-c2ccc(Cl)cc2)nc1SCC(F)(F)F</td>\n",
              "      <td>300.0</td>\n",
              "      <td>300.0</td>\n",
              "      <td>6.522879</td>\n",
              "    </tr>\n",
              "    <tr>\n",
              "      <th>4</th>\n",
              "      <td>CHEMBL130478</td>\n",
              "      <td>CSc1nc(-c2ccc(OC(F)(F)F)cc2)nn1C(=O)N(C)C</td>\n",
              "      <td>800.0</td>\n",
              "      <td>800.0</td>\n",
              "      <td>6.096910</td>\n",
              "    </tr>\n",
              "    <tr>\n",
              "      <th>...</th>\n",
              "      <td>...</td>\n",
              "      <td>...</td>\n",
              "      <td>...</td>\n",
              "      <td>...</td>\n",
              "      <td>...</td>\n",
              "    </tr>\n",
              "    <tr>\n",
              "      <th>5098</th>\n",
              "      <td>CHEMBL4645476</td>\n",
              "      <td>CN(C)C(=O)Oc1ccc(C(O)CNC2CCCCC2)cc1.Cl</td>\n",
              "      <td>266000.0</td>\n",
              "      <td>266000.0</td>\n",
              "      <td>3.575118</td>\n",
              "    </tr>\n",
              "    <tr>\n",
              "      <th>5099</th>\n",
              "      <td>CHEMBL4645659</td>\n",
              "      <td>COc1ccc(CCC(=O)Nc2nc(-c3cc4ccccc4oc3=O)cs2)cc1OC</td>\n",
              "      <td>740.0</td>\n",
              "      <td>740.0</td>\n",
              "      <td>6.130768</td>\n",
              "    </tr>\n",
              "    <tr>\n",
              "      <th>5100</th>\n",
              "      <td>CHEMBL513063</td>\n",
              "      <td>COc1ccc(-c2csc(NC(=O)CCN3CCCC3)n2)cc1</td>\n",
              "      <td>510.0</td>\n",
              "      <td>510.0</td>\n",
              "      <td>6.292430</td>\n",
              "    </tr>\n",
              "    <tr>\n",
              "      <th>5101</th>\n",
              "      <td>CHEMBL4640608</td>\n",
              "      <td>COc1cc(C2C3=C(CCCC3=O)NC3=C2C(=O)CCC3)ccc1OCc1...</td>\n",
              "      <td>125000.0</td>\n",
              "      <td>125000.0</td>\n",
              "      <td>3.903090</td>\n",
              "    </tr>\n",
              "    <tr>\n",
              "      <th>5102</th>\n",
              "      <td>CHEMBL4173961</td>\n",
              "      <td>O=C1CCCC2=C1C(c1ccc(OCc3cccc(F)c3)c(Br)c1)C1=C...</td>\n",
              "      <td>100000.0</td>\n",
              "      <td>100000.0</td>\n",
              "      <td>4.000000</td>\n",
              "    </tr>\n",
              "  </tbody>\n",
              "</table>\n",
              "<p>5103 rows × 5 columns</p>\n",
              "</div>\n",
              "      <button class=\"colab-df-convert\" onclick=\"convertToInteractive('df-7981c493-cc91-4748-a1c6-e2b629749d5c')\"\n",
              "              title=\"Convert this dataframe to an interactive table.\"\n",
              "              style=\"display:none;\">\n",
              "        \n",
              "  <svg xmlns=\"http://www.w3.org/2000/svg\" height=\"24px\"viewBox=\"0 0 24 24\"\n",
              "       width=\"24px\">\n",
              "    <path d=\"M0 0h24v24H0V0z\" fill=\"none\"/>\n",
              "    <path d=\"M18.56 5.44l.94 2.06.94-2.06 2.06-.94-2.06-.94-.94-2.06-.94 2.06-2.06.94zm-11 1L8.5 8.5l.94-2.06 2.06-.94-2.06-.94L8.5 2.5l-.94 2.06-2.06.94zm10 10l.94 2.06.94-2.06 2.06-.94-2.06-.94-.94-2.06-.94 2.06-2.06.94z\"/><path d=\"M17.41 7.96l-1.37-1.37c-.4-.4-.92-.59-1.43-.59-.52 0-1.04.2-1.43.59L10.3 9.45l-7.72 7.72c-.78.78-.78 2.05 0 2.83L4 21.41c.39.39.9.59 1.41.59.51 0 1.02-.2 1.41-.59l7.78-7.78 2.81-2.81c.8-.78.8-2.07 0-2.86zM5.41 20L4 18.59l7.72-7.72 1.47 1.35L5.41 20z\"/>\n",
              "  </svg>\n",
              "      </button>\n",
              "      \n",
              "  <style>\n",
              "    .colab-df-container {\n",
              "      display:flex;\n",
              "      flex-wrap:wrap;\n",
              "      gap: 12px;\n",
              "    }\n",
              "\n",
              "    .colab-df-convert {\n",
              "      background-color: #E8F0FE;\n",
              "      border: none;\n",
              "      border-radius: 50%;\n",
              "      cursor: pointer;\n",
              "      display: none;\n",
              "      fill: #1967D2;\n",
              "      height: 32px;\n",
              "      padding: 0 0 0 0;\n",
              "      width: 32px;\n",
              "    }\n",
              "\n",
              "    .colab-df-convert:hover {\n",
              "      background-color: #E2EBFA;\n",
              "      box-shadow: 0px 1px 2px rgba(60, 64, 67, 0.3), 0px 1px 3px 1px rgba(60, 64, 67, 0.15);\n",
              "      fill: #174EA6;\n",
              "    }\n",
              "\n",
              "    [theme=dark] .colab-df-convert {\n",
              "      background-color: #3B4455;\n",
              "      fill: #D2E3FC;\n",
              "    }\n",
              "\n",
              "    [theme=dark] .colab-df-convert:hover {\n",
              "      background-color: #434B5C;\n",
              "      box-shadow: 0px 1px 3px 1px rgba(0, 0, 0, 0.15);\n",
              "      filter: drop-shadow(0px 1px 2px rgba(0, 0, 0, 0.3));\n",
              "      fill: #FFFFFF;\n",
              "    }\n",
              "  </style>\n",
              "\n",
              "      <script>\n",
              "        const buttonEl =\n",
              "          document.querySelector('#df-7981c493-cc91-4748-a1c6-e2b629749d5c button.colab-df-convert');\n",
              "        buttonEl.style.display =\n",
              "          google.colab.kernel.accessAllowed ? 'block' : 'none';\n",
              "\n",
              "        async function convertToInteractive(key) {\n",
              "          const element = document.querySelector('#df-7981c493-cc91-4748-a1c6-e2b629749d5c');\n",
              "          const dataTable =\n",
              "            await google.colab.kernel.invokeFunction('convertToInteractive',\n",
              "                                                     [key], {});\n",
              "          if (!dataTable) return;\n",
              "\n",
              "          const docLinkHtml = 'Like what you see? Visit the ' +\n",
              "            '<a target=\"_blank\" href=https://colab.research.google.com/notebooks/data_table.ipynb>data table notebook</a>'\n",
              "            + ' to learn more about interactive tables.';\n",
              "          element.innerHTML = '';\n",
              "          dataTable['output_type'] = 'display_data';\n",
              "          await google.colab.output.renderOutput(dataTable, element);\n",
              "          const docLink = document.createElement('div');\n",
              "          docLink.innerHTML = docLinkHtml;\n",
              "          element.appendChild(docLink);\n",
              "        }\n",
              "      </script>\n",
              "    </div>\n",
              "  </div>\n",
              "  "
            ],
            "text/plain": [
              "     molecule_chembl_id  ...     pIC50\n",
              "0          CHEMBL133897  ...  6.124939\n",
              "1          CHEMBL336398  ...  7.000000\n",
              "2          CHEMBL131588  ...  4.301030\n",
              "3          CHEMBL130628  ...  6.522879\n",
              "4          CHEMBL130478  ...  6.096910\n",
              "...                 ...  ...       ...\n",
              "5098      CHEMBL4645476  ...  3.575118\n",
              "5099      CHEMBL4645659  ...  6.130768\n",
              "5100       CHEMBL513063  ...  6.292430\n",
              "5101      CHEMBL4640608  ...  3.903090\n",
              "5102      CHEMBL4173961  ...  4.000000\n",
              "\n",
              "[5103 rows x 5 columns]"
            ]
          },
          "metadata": {},
          "execution_count": 6
        }
      ],
      "source": [
        "df"
      ]
    },
    {
      "cell_type": "markdown",
      "id": "f86f0c1c-2b49-4f8a-927b-f1e1d0de0511",
      "metadata": {
        "id": "f86f0c1c-2b49-4f8a-927b-f1e1d0de0511"
      },
      "source": [
        "# Pongo el dataset en el formato que deepchem necesita\n",
        "Quizas aca se podía bajar directo en el formato"
      ]
    },
    {
      "cell_type": "code",
      "execution_count": 7,
      "id": "aabb264c-28d1-4457-add6-59ab0063f961",
      "metadata": {
        "id": "aabb264c-28d1-4457-add6-59ab0063f961"
      },
      "outputs": [],
      "source": [
        "dataset = dc.data.NumpyDataset(X=df['canonical_smiles'].values, y=df['pIC50'].values, ids=df['canonical_smiles'].values)"
      ]
    },
    {
      "cell_type": "markdown",
      "id": "29f715d2-43cd-48a7-8a83-5f5a31e0a7e5",
      "metadata": {
        "id": "29f715d2-43cd-48a7-8a83-5f5a31e0a7e5"
      },
      "source": [
        "# Divido en train y test\n",
        "Faltaría validación estrictametne"
      ]
    },
    {
      "cell_type": "code",
      "execution_count": 8,
      "id": "7fb0977e-8077-4855-8877-f7cff12d00a7",
      "metadata": {
        "id": "7fb0977e-8077-4855-8877-f7cff12d00a7"
      },
      "outputs": [],
      "source": [
        "splitter = dc.splits.RandomSplitter()"
      ]
    },
    {
      "cell_type": "code",
      "execution_count": 9,
      "id": "c699ac34-8ec5-427d-90ad-a9fe84269914",
      "metadata": {
        "id": "c699ac34-8ec5-427d-90ad-a9fe84269914"
      },
      "outputs": [],
      "source": [
        "train, test = splitter.train_test_split(dataset)"
      ]
    },
    {
      "cell_type": "markdown",
      "id": "4c4f3eb9-1d7b-4135-9d48-83e5a7bc6e5a",
      "metadata": {
        "id": "4c4f3eb9-1d7b-4135-9d48-83e5a7bc6e5a"
      },
      "source": [
        "# Genero el diccionario de smiles que necesita el modelo para contruir el embedding"
      ]
    },
    {
      "cell_type": "code",
      "execution_count": 10,
      "id": "5ef22116-02a5-4744-a003-dbf42dce1326",
      "metadata": {
        "id": "5ef22116-02a5-4744-a003-dbf42dce1326"
      },
      "outputs": [],
      "source": [
        "smiles_dict, lenght = dc.models.TextCNNModel.build_char_dict(dataset)"
      ]
    },
    {
      "cell_type": "code",
      "execution_count": 11,
      "id": "ec8e8868-8ff1-494d-ba44-0b092d79030f",
      "metadata": {
        "colab": {
          "base_uri": "https://localhost:8080/"
        },
        "id": "ec8e8868-8ff1-494d-ba44-0b092d79030f",
        "outputId": "cc045a3f-5d8b-45f9-a03a-cfb7647ff5c0"
      },
      "outputs": [
        {
          "output_type": "execute_result",
          "data": {
            "text/plain": [
              "{'#': 1,\n",
              " '(': 2,\n",
              " ')': 3,\n",
              " '+': 4,\n",
              " '-': 5,\n",
              " '.': 35,\n",
              " '/': 6,\n",
              " '1': 7,\n",
              " '2': 8,\n",
              " '3': 9,\n",
              " '4': 10,\n",
              " '5': 11,\n",
              " '6': 12,\n",
              " '7': 13,\n",
              " '8': 14,\n",
              " '=': 15,\n",
              " '@': 34,\n",
              " 'B': 37,\n",
              " 'Br': 30,\n",
              " 'C': 16,\n",
              " 'Cl': 29,\n",
              " 'F': 17,\n",
              " 'H': 18,\n",
              " 'I': 19,\n",
              " 'N': 20,\n",
              " 'O': 21,\n",
              " 'P': 22,\n",
              " 'S': 23,\n",
              " '[': 24,\n",
              " '\\\\': 25,\n",
              " ']': 26,\n",
              " '_': 27,\n",
              " 'a': 36,\n",
              " 'c': 28,\n",
              " 'e': 38,\n",
              " 'i': 39,\n",
              " 'n': 31,\n",
              " 'o': 32,\n",
              " 's': 33}"
            ]
          },
          "metadata": {},
          "execution_count": 11
        }
      ],
      "source": [
        "smiles_dict"
      ]
    },
    {
      "cell_type": "markdown",
      "id": "30945da2-37eb-4781-a52a-60c6c20618d5",
      "metadata": {
        "id": "30945da2-37eb-4781-a52a-60c6c20618d5"
      },
      "source": [
        "# Instancio el modelo"
      ]
    },
    {
      "cell_type": "code",
      "execution_count": 12,
      "id": "4daaf2d0-681b-41c6-85d6-9ab6ea63fb32",
      "metadata": {
        "id": "4daaf2d0-681b-41c6-85d6-9ab6ea63fb32"
      },
      "outputs": [],
      "source": [
        "model = dc.models.TextCNNModel(\n",
        "    1, smiles_dict, lenght, mode='regression', n_embedding=128, kernel_sizes=[3, 4, 5], num_filters=[128, 128, 128], dropout=0.2, \n",
        "    log_frequency=5, batch_size=128, optimizer=dc.models.optimizers.Adam()\n",
        ")"
      ]
    },
    {
      "cell_type": "code",
      "execution_count": 13,
      "id": "bba7fe09-7d35-4ff0-8581-af16998770b2",
      "metadata": {
        "colab": {
          "base_uri": "https://localhost:8080/"
        },
        "id": "bba7fe09-7d35-4ff0-8581-af16998770b2",
        "outputId": "a199d161-c148-44e0-dd1a-4d81f0dd5456"
      },
      "outputs": [
        {
          "output_type": "stream",
          "name": "stdout",
          "text": [
            "Model: \"model\"\n",
            "__________________________________________________________________________________________________\n",
            " Layer (type)                   Output Shape         Param #     Connected to                     \n",
            "==================================================================================================\n",
            " input_1 (InputLayer)           [(None, 248)]        0           []                               \n",
            "                                                                                                  \n",
            " dtnn_embedding (DTNNEmbedding)  (None, 248, 128)    5120        ['input_1[0][0]']                \n",
            "                                                                                                  \n",
            " conv1d (Conv1D)                (None, 246, 128)     49280       ['dtnn_embedding[0][0]']         \n",
            "                                                                                                  \n",
            " conv1d_1 (Conv1D)              (None, 245, 128)     65664       ['dtnn_embedding[0][0]']         \n",
            "                                                                                                  \n",
            " conv1d_2 (Conv1D)              (None, 244, 128)     82048       ['dtnn_embedding[0][0]']         \n",
            "                                                                                                  \n",
            " lambda (Lambda)                (None, 128)          0           ['conv1d[0][0]']                 \n",
            "                                                                                                  \n",
            " lambda_1 (Lambda)              (None, 128)          0           ['conv1d_1[0][0]']               \n",
            "                                                                                                  \n",
            " lambda_2 (Lambda)              (None, 128)          0           ['conv1d_2[0][0]']               \n",
            "                                                                                                  \n",
            " concatenate (Concatenate)      (None, 384)          0           ['lambda[0][0]',                 \n",
            "                                                                  'lambda_1[0][0]',               \n",
            "                                                                  'lambda_2[0][0]']               \n",
            "                                                                                                  \n",
            " dropout (Dropout)              (None, 384)          0           ['concatenate[0][0]']            \n",
            "                                                                                                  \n",
            " dense (Dense)                  (None, 200)          77000       ['dropout[0][0]']                \n",
            "                                                                                                  \n",
            " highway (Highway)              (None, 200)          80400       ['dense[0][0]']                  \n",
            "                                                                                                  \n",
            " dense_1 (Dense)                (None, 1)            201         ['highway[0][0]']                \n",
            "                                                                                                  \n",
            " reshape (Reshape)              (None, 1, 1)         0           ['dense_1[0][0]']                \n",
            "                                                                                                  \n",
            "==================================================================================================\n",
            "Total params: 359,713\n",
            "Trainable params: 359,713\n",
            "Non-trainable params: 0\n",
            "__________________________________________________________________________________________________\n"
          ]
        }
      ],
      "source": [
        "model.model.summary()"
      ]
    },
    {
      "cell_type": "code",
      "execution_count": 14,
      "id": "902f4e29-2b30-4bb9-9485-ef7bc24f48eb",
      "metadata": {
        "id": "902f4e29-2b30-4bb9-9485-ef7bc24f48eb"
      },
      "outputs": [],
      "source": [
        "# Es necesario para ver resultados mientras entrana\n",
        "vc = dc.models.ValidationCallback(test, 20, dc.metrics.r2_score)"
      ]
    },
    {
      "cell_type": "markdown",
      "id": "c58bc3fd-6cee-4441-97eb-2c812ac55d55",
      "metadata": {
        "id": "c58bc3fd-6cee-4441-97eb-2c812ac55d55"
      },
      "source": [
        "# Entreno"
      ]
    },
    {
      "cell_type": "code",
      "execution_count": 15,
      "id": "fbebae78-32a4-4c46-a0d2-0d543c672bd4",
      "metadata": {
        "tags": [],
        "colab": {
          "base_uri": "https://localhost:8080/"
        },
        "id": "fbebae78-32a4-4c46-a0d2-0d543c672bd4",
        "outputId": "51fbcfed-890f-450a-fc52-ffc4a039edc3"
      },
      "outputs": [
        {
          "output_type": "stream",
          "name": "stdout",
          "text": [
            "Step 20 validation: metric-1=-0.0290072\n",
            "Step 40 validation: metric-1=0.210064\n",
            "Step 60 validation: metric-1=0.255251\n",
            "Step 80 validation: metric-1=0.29329\n",
            "Step 100 validation: metric-1=0.323311\n",
            "Step 120 validation: metric-1=0.34371\n",
            "Step 140 validation: metric-1=0.382677\n",
            "Step 160 validation: metric-1=0.399332\n",
            "Step 180 validation: metric-1=0.436383\n",
            "Step 200 validation: metric-1=0.397876\n",
            "Step 220 validation: metric-1=0.471501\n",
            "Step 240 validation: metric-1=0.477155\n",
            "Step 260 validation: metric-1=0.508932\n",
            "Step 280 validation: metric-1=0.464444\n",
            "Step 300 validation: metric-1=0.524124\n",
            "Step 320 validation: metric-1=0.538384\n",
            "Step 340 validation: metric-1=0.533819\n",
            "Step 360 validation: metric-1=0.552984\n",
            "Step 380 validation: metric-1=0.56597\n",
            "Step 400 validation: metric-1=0.57486\n",
            "Step 420 validation: metric-1=0.569059\n",
            "Step 440 validation: metric-1=0.58903\n",
            "Step 460 validation: metric-1=0.592498\n",
            "Step 480 validation: metric-1=0.608907\n",
            "Step 500 validation: metric-1=0.6015\n",
            "Step 520 validation: metric-1=0.507654\n",
            "Step 540 validation: metric-1=0.594098\n",
            "Step 560 validation: metric-1=0.639047\n",
            "Step 580 validation: metric-1=0.655194\n",
            "Step 600 validation: metric-1=0.63543\n",
            "Step 620 validation: metric-1=0.659692\n",
            "Step 640 validation: metric-1=0.660432\n",
            "Step 660 validation: metric-1=0.676456\n",
            "Step 680 validation: metric-1=0.671342\n",
            "Step 700 validation: metric-1=0.69372\n",
            "Step 720 validation: metric-1=0.696277\n",
            "Step 740 validation: metric-1=0.658035\n",
            "Step 760 validation: metric-1=0.690994\n",
            "Step 780 validation: metric-1=0.693669\n",
            "Step 800 validation: metric-1=0.664243\n",
            "Step 820 validation: metric-1=0.672112\n",
            "Step 840 validation: metric-1=0.665727\n",
            "Step 860 validation: metric-1=0.691296\n",
            "Step 880 validation: metric-1=0.716693\n",
            "Step 900 validation: metric-1=0.706853\n",
            "Step 920 validation: metric-1=0.700584\n",
            "Step 940 validation: metric-1=0.690359\n",
            "Step 960 validation: metric-1=0.694523\n",
            "Step 980 validation: metric-1=0.707034\n",
            "Step 1000 validation: metric-1=0.711888\n",
            "Step 1020 validation: metric-1=0.683506\n",
            "Step 1040 validation: metric-1=0.712391\n",
            "Step 1060 validation: metric-1=0.667472\n",
            "Step 1080 validation: metric-1=0.687134\n",
            "Step 1100 validation: metric-1=0.715984\n",
            "Step 1120 validation: metric-1=0.689513\n",
            "Step 1140 validation: metric-1=0.678351\n",
            "Step 1160 validation: metric-1=0.6937\n",
            "Step 1180 validation: metric-1=0.718329\n",
            "Step 1200 validation: metric-1=0.71328\n",
            "Step 1220 validation: metric-1=0.724494\n",
            "Step 1240 validation: metric-1=0.717897\n",
            "Step 1260 validation: metric-1=0.724925\n",
            "Step 1280 validation: metric-1=0.695172\n",
            "Step 1300 validation: metric-1=0.726611\n",
            "Step 1320 validation: metric-1=0.725395\n",
            "Step 1340 validation: metric-1=0.704151\n",
            "Step 1360 validation: metric-1=0.72407\n",
            "Step 1380 validation: metric-1=0.720505\n",
            "Step 1400 validation: metric-1=0.705417\n",
            "Step 1420 validation: metric-1=0.724678\n",
            "Step 1440 validation: metric-1=0.725373\n",
            "Step 1460 validation: metric-1=0.728131\n",
            "Step 1480 validation: metric-1=0.728441\n",
            "Step 1500 validation: metric-1=0.723922\n",
            "Step 1520 validation: metric-1=0.74003\n",
            "Step 1540 validation: metric-1=0.734877\n",
            "Step 1560 validation: metric-1=0.727513\n",
            "Step 1580 validation: metric-1=0.72825\n",
            "Step 1600 validation: metric-1=0.736064\n",
            "Step 1620 validation: metric-1=0.741898\n",
            "Step 1640 validation: metric-1=0.719901\n",
            "Step 1660 validation: metric-1=0.733901\n",
            "Step 1680 validation: metric-1=0.738458\n",
            "Step 1700 validation: metric-1=0.722601\n",
            "Step 1720 validation: metric-1=0.72264\n",
            "Step 1740 validation: metric-1=0.711898\n",
            "Step 1760 validation: metric-1=0.729922\n",
            "Step 1780 validation: metric-1=0.728938\n",
            "Step 1800 validation: metric-1=0.742599\n",
            "Step 1820 validation: metric-1=0.729094\n",
            "Step 1840 validation: metric-1=0.713965\n",
            "Step 1860 validation: metric-1=0.709485\n",
            "Step 1880 validation: metric-1=0.730843\n",
            "Step 1900 validation: metric-1=0.740259\n",
            "Step 1920 validation: metric-1=0.735943\n",
            "Step 1940 validation: metric-1=0.718324\n",
            "Step 1960 validation: metric-1=0.71876\n",
            "Step 1980 validation: metric-1=0.74351\n",
            "Step 2000 validation: metric-1=0.689977\n",
            "Step 2020 validation: metric-1=0.727896\n",
            "Step 2040 validation: metric-1=0.72782\n",
            "Step 2060 validation: metric-1=0.725133\n",
            "Step 2080 validation: metric-1=0.747195\n",
            "Step 2100 validation: metric-1=0.736411\n",
            "Step 2120 validation: metric-1=0.74197\n",
            "Step 2140 validation: metric-1=0.730881\n",
            "Step 2160 validation: metric-1=0.711942\n",
            "Step 2180 validation: metric-1=0.723096\n",
            "Step 2200 validation: metric-1=0.718088\n",
            "Step 2220 validation: metric-1=0.74554\n",
            "Step 2240 validation: metric-1=0.740862\n",
            "Step 2260 validation: metric-1=0.737378\n",
            "Step 2280 validation: metric-1=0.735113\n",
            "Step 2300 validation: metric-1=0.733598\n",
            "Step 2320 validation: metric-1=0.738745\n",
            "Step 2340 validation: metric-1=0.717577\n",
            "Step 2360 validation: metric-1=0.74227\n",
            "Step 2380 validation: metric-1=0.74081\n",
            "Step 2400 validation: metric-1=0.739026\n",
            "Step 2420 validation: metric-1=0.748465\n",
            "Step 2440 validation: metric-1=0.727243\n",
            "Step 2460 validation: metric-1=0.745447\n",
            "Step 2480 validation: metric-1=0.73511\n",
            "Step 2500 validation: metric-1=0.744407\n",
            "Step 2520 validation: metric-1=0.739371\n",
            "Step 2540 validation: metric-1=0.74696\n",
            "Step 2560 validation: metric-1=0.738299\n",
            "Step 2580 validation: metric-1=0.740887\n",
            "Step 2600 validation: metric-1=0.727703\n",
            "Step 2620 validation: metric-1=0.743635\n",
            "Step 2640 validation: metric-1=0.729472\n",
            "Step 2660 validation: metric-1=0.742278\n",
            "Step 2680 validation: metric-1=0.748829\n",
            "Step 2700 validation: metric-1=0.752083\n",
            "Step 2720 validation: metric-1=0.743569\n",
            "Step 2740 validation: metric-1=0.741222\n",
            "Step 2760 validation: metric-1=0.751838\n",
            "Step 2780 validation: metric-1=0.74621\n",
            "Step 2800 validation: metric-1=0.749984\n",
            "Step 2820 validation: metric-1=0.735987\n",
            "Step 2840 validation: metric-1=0.753003\n",
            "Step 2860 validation: metric-1=0.730622\n",
            "Step 2880 validation: metric-1=0.733259\n",
            "Step 2900 validation: metric-1=0.742357\n",
            "Step 2920 validation: metric-1=0.748872\n",
            "Step 2940 validation: metric-1=0.743694\n",
            "Step 2960 validation: metric-1=0.748934\n",
            "Step 2980 validation: metric-1=0.741504\n",
            "Step 3000 validation: metric-1=0.755654\n",
            "Step 3020 validation: metric-1=0.747488\n",
            "Step 3040 validation: metric-1=0.756194\n",
            "Step 3060 validation: metric-1=0.748063\n",
            "Step 3080 validation: metric-1=0.719805\n",
            "Step 3100 validation: metric-1=0.752642\n",
            "Step 3120 validation: metric-1=0.757866\n",
            "Step 3140 validation: metric-1=0.751453\n",
            "Step 3160 validation: metric-1=0.754053\n",
            "Step 3180 validation: metric-1=0.741493\n",
            "Step 3200 validation: metric-1=0.744485\n"
          ]
        },
        {
          "output_type": "execute_result",
          "data": {
            "text/plain": [
              "0.5190311431884765"
            ]
          },
          "metadata": {},
          "execution_count": 15
        }
      ],
      "source": [
        "model.fit(train, 100, callbacks=[vc])"
      ]
    },
    {
      "cell_type": "markdown",
      "id": "f0c63f7a-12dc-4e08-8313-762c38341ff1",
      "metadata": {
        "id": "f0c63f7a-12dc-4e08-8313-762c38341ff1"
      },
      "source": [
        "# Evaluó"
      ]
    },
    {
      "cell_type": "code",
      "execution_count": 16,
      "id": "e5396dd0-6e26-4394-8622-2f763bbb6070",
      "metadata": {
        "colab": {
          "base_uri": "https://localhost:8080/"
        },
        "id": "e5396dd0-6e26-4394-8622-2f763bbb6070",
        "outputId": "7da4caa1-1c84-4de9-b139-a62ac369f47c"
      },
      "outputs": [
        {
          "output_type": "execute_result",
          "data": {
            "text/plain": [
              "{'metric-1': 0.9128155119779295}"
            ]
          },
          "metadata": {},
          "execution_count": 16
        }
      ],
      "source": [
        "model.evaluate(train, dc.metrics.r2_score)"
      ]
    },
    {
      "cell_type": "code",
      "execution_count": 17,
      "id": "d742002f-c864-478c-9e58-cd3a525273dc",
      "metadata": {
        "colab": {
          "base_uri": "https://localhost:8080/"
        },
        "id": "d742002f-c864-478c-9e58-cd3a525273dc",
        "outputId": "7afc1353-0a61-4267-ae70-8feed1b86161"
      },
      "outputs": [
        {
          "output_type": "execute_result",
          "data": {
            "text/plain": [
              "{'metric-1': 0.7444848328922132}"
            ]
          },
          "metadata": {},
          "execution_count": 17
        }
      ],
      "source": [
        "model.evaluate(test, dc.metrics.r2_score)"
      ]
    },
    {
      "cell_type": "code",
      "execution_count": null,
      "id": "50bcd3a1-e412-4f74-884f-00ccbb056adb",
      "metadata": {
        "id": "50bcd3a1-e412-4f74-884f-00ccbb056adb"
      },
      "outputs": [],
      "source": [
        ""
      ]
    }
  ],
  "metadata": {
    "kernelspec": {
      "display_name": "Python 3",
      "language": "python",
      "name": "python3"
    },
    "language_info": {
      "codemirror_mode": {
        "name": "ipython",
        "version": 3
      },
      "file_extension": ".py",
      "mimetype": "text/x-python",
      "name": "python",
      "nbconvert_exporter": "python",
      "pygments_lexer": "ipython3",
      "version": "3.7.3"
    },
    "colab": {
      "name": "006_deep_chem (opcional).ipynb",
      "provenance": []
    },
    "accelerator": "GPU"
  },
  "nbformat": 4,
  "nbformat_minor": 5
}